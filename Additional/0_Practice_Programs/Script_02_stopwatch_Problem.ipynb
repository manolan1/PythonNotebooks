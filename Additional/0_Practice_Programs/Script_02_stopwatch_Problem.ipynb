{
 "cells": [
  {
   "cell_type": "markdown",
   "metadata": {},
   "source": [
    "# Practice Program 1: stopwatch.py\n",
    "\n",
    "NOTE: Jupyter notebooks do not work correctly with `try: except:` block. You can write the program here. It will most likely not work correctly unless run from the command line."
   ]
  },
  {
   "cell_type": "code",
   "execution_count": null,
   "metadata": {},
   "outputs": [],
   "source": [
    "%%writefile stopwatch.py\n",
    "\n",
    "\"\"\"\n",
    "    Script Name: stopwatch.py\n",
    "       Function: This script mimics a stopwatch with a lap timer\n",
    "                 The directions are given below. \n",
    "                 Make sure you print the directions.\n",
    "                 Make sure you display start when the stopwatch start.\n",
    "                 Be sure that for a lap time you give the lap number\n",
    "                 the total time and the lap time. \n",
    "                 Use a <Ctrl-c> to exit from the script cleanly.\n",
    "                 remember that a try: except: block will\n",
    "                 capture a <Ctrl-c>\n",
    "\"\"\"\n",
    "\n",
    "\n",
    "directions = \\\n",
    "\"\"\"\n",
    "   Press ENTER to begin. \n",
    "   Afterwards, press ENTER to get lap time. \n",
    "   Press Ctrl-C to quit.\n",
    "   \n",
    "\"\"\""
   ]
  },
  {
   "cell_type": "markdown",
   "metadata": {},
   "source": [
    "# End of Notebook"
   ]
  }
 ],
 "metadata": {
  "kernelspec": {
   "display_name": "Python 3 (ipykernel)",
   "language": "python",
   "name": "python3"
  },
  "language_info": {
   "codemirror_mode": {
    "name": "ipython",
    "version": 3
   },
   "file_extension": ".py",
   "mimetype": "text/x-python",
   "name": "python",
   "nbconvert_exporter": "python",
   "pygments_lexer": "ipython3",
   "version": "3.8.11"
  },
  "toc": {
   "base_numbering": 1,
   "nav_menu": {},
   "number_sections": true,
   "sideBar": true,
   "skip_h1_title": true,
   "title_cell": "Table of Contents",
   "title_sidebar": "Contents",
   "toc_cell": false,
   "toc_position": {},
   "toc_section_display": true,
   "toc_window_display": true
  }
 },
 "nbformat": 4,
 "nbformat_minor": 2
}
