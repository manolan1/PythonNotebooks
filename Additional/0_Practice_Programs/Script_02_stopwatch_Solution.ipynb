{
 "cells": [
  {
   "cell_type": "markdown",
   "metadata": {},
   "source": [
    "# Practice Program 1: stopwatch.py\n",
    "\n",
    "NOTE: Jupyter notebooks do not work correctly with `KeyboardInterrupt`. You can write the program here. It will most likely not work correctly unless run from the command line. As an alternative, try accepting 'q' to end the loop."
   ]
  },
  {
   "cell_type": "code",
   "execution_count": null,
   "metadata": {},
   "outputs": [],
   "source": [
    "# %load Solutions/stopwatch.py\n",
    "#! /usr/bin/env python\n",
    "\n",
    "\"\"\"\n",
    "    Script Name: stopwatch.py\n",
    "       Function: This script mimics a stopwatch with a lap timer\n",
    "                 The directions are given below. \n",
    "                 Make sure you print the directions.\n",
    "                 Make sure you display start when the stopwatch start.\n",
    "                 Be sure that for a lap time you give the lap number\n",
    "                 the total time and the lap time. \n",
    "                 Use a <Ctrl-c> to exit from the script cleanly.\n",
    "                 remember that a try: except: block will\n",
    "                 capture a <Ctrl-c>\n",
    "\"\"\"\n",
    "import time\n",
    "\n",
    "directions = \\\n",
    "\"\"\"\n",
    "   Press ENTER to begin. \n",
    "   Afterwards, press ENTER to get lap time. \n",
    "   Press Ctrl-C to quit.\n",
    "   \n",
    "\"\"\"\n",
    "print(directions)\n",
    "\n",
    "input('Press ENTER to Start')\n",
    "print('Started.')\n",
    "startTime = time.time()\n",
    "lastTime = startTime\n",
    "lapNum = 1\n",
    "\n",
    "try:\n",
    "    while True:\n",
    "        input('Press ENTER to get lap time')\n",
    "        lapStopTime = time.time()\n",
    "        lapTime = round(lapStopTime - lastTime, 2)\n",
    "        totalTime = round(lapStopTime - startTime, 2)\n",
    "        print('Lap #%s: %ss (%ss)' % (lapNum, totalTime, lapTime))\n",
    "        lapNum += 1\n",
    "        lastTime = lapStopTime \n",
    "except KeyboardInterrupt:\n",
    "    print('\\nEnd of stopwatch')\n"
   ]
  },
  {
   "cell_type": "markdown",
   "metadata": {},
   "source": [
    "**NOTE** I had to execute Kernel -> restart to exit from the running progam"
   ]
  },
  {
   "cell_type": "markdown",
   "metadata": {},
   "source": [
    "Alternative way to run from file:"
   ]
  },
  {
   "cell_type": "code",
   "execution_count": null,
   "metadata": {},
   "outputs": [],
   "source": [
    "%run Solutions/stopwatch.py"
   ]
  },
  {
   "cell_type": "markdown",
   "metadata": {},
   "source": [
    "The version below will allow you to enter 'q' to end the loop. This approach is more suited to a notebook."
   ]
  },
  {
   "cell_type": "code",
   "execution_count": null,
   "metadata": {},
   "outputs": [],
   "source": [
    "\"\"\"\n",
    "    Script Name: stopwatch.py\n",
    "       Function: This script mimics a stopwatch with a lap timer\n",
    "                 The directions are given below. \n",
    "                 Make sure you print the directions.\n",
    "                 Make sure you display start when the stopwatch start.\n",
    "                 Be sure that for a lap time you give the lap number\n",
    "                 the total time and the lap time. \n",
    "                 Use a 'q' to exit from the script cleanly.\n",
    "\"\"\"\n",
    "import time\n",
    "\n",
    "directions = \\\n",
    "\"\"\"\n",
    "   Press ENTER to begin. \n",
    "   Afterwards, press ENTER to get lap time. \n",
    "   Press q to quit.\n",
    "   \n",
    "\"\"\"\n",
    "print(directions)\n",
    "\n",
    "input('Press ENTER to Start')\n",
    "print('Started.')\n",
    "startTime = time.time()\n",
    "lastTime = startTime\n",
    "lapNum = 1\n",
    "\n",
    "while True:\n",
    "    response = input('Press ENTER to get lap time, q-ENTER to end')\n",
    "    if response == 'q':\n",
    "        break\n",
    "    lapStopTime = time.time()\n",
    "    lapTime = round(lapStopTime - lastTime, 2)\n",
    "    totalTime = round(lapStopTime - startTime, 2)\n",
    "    print('Lap #%s: %ss (%ss)' % (lapNum, totalTime, lapTime))\n",
    "    lapNum += 1\n",
    "    lastTime = lapStopTime \n",
    "\n",
    "print('\\nEnd of stopwatch')\n"
   ]
  },
  {
   "cell_type": "markdown",
   "metadata": {},
   "source": [
    "# End of Notebook"
   ]
  }
 ],
 "metadata": {
  "kernelspec": {
   "display_name": "Python 3 (ipykernel)",
   "language": "python",
   "name": "python3"
  },
  "language_info": {
   "codemirror_mode": {
    "name": "ipython",
    "version": 3
   },
   "file_extension": ".py",
   "mimetype": "text/x-python",
   "name": "python",
   "nbconvert_exporter": "python",
   "pygments_lexer": "ipython3",
   "version": "3.8.11"
  },
  "toc": {
   "base_numbering": 1,
   "nav_menu": {},
   "number_sections": true,
   "sideBar": true,
   "skip_h1_title": true,
   "title_cell": "Table of Contents",
   "title_sidebar": "Contents",
   "toc_cell": false,
   "toc_position": {},
   "toc_section_display": true,
   "toc_window_display": true
  }
 },
 "nbformat": 4,
 "nbformat_minor": 2
}
