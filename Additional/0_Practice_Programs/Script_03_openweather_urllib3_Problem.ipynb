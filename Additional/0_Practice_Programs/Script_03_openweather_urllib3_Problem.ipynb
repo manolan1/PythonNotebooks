{
 "cells": [
  {
   "cell_type": "markdown",
   "metadata": {},
   "source": [
    "# openweather_urllib3\n",
    "\n",
    "**You will need to**\n",
    "\n",
    "1. Read about `urllib3` which is a replacement for `requests`<br>\n",
    "   a. The documentation is hard - look for a simple tutorial there are several available.<br>\n",
    "   b. `requests` is still heavily used even though it is not an official Python module\n",
    "2. Read about json to see how to convert a json string to a dictionary.\n",
    "3. Read about openweather at openweathermap.org - some free most option very expensive\n",
    "4. Use your personal email and sign up for a free account, observe the limits.\n",
    "5. `https://openweathermap.org/current#current_JSON` for return data definition\n",
    "6. The time values are UTC and in seconds from Epoch. \n",
    "7. The `time` module will show you how to convert to an date string.\n",
    "8. The response data is in bytes, not ascii. You will need to do a UTF-8 conversion.\n"
   ]
  },
  {
   "cell_type": "code",
   "execution_count": null,
   "metadata": {},
   "outputs": [],
   "source": [
    "%%writefile openweather_urllib3.py\n",
    "\n",
    "\"\"\"\n",
    "    Script_name: openweather_urllib3.py\n",
    "       Function: From input city (asked for) returns current temperature,\n",
    "                 minimum_temperature, maximum_temperature, humidity,\n",
    "                 current UTC, sunrise UTC, sunset UTC, weather description,\n",
    "                 and city name.\n",
    "\"\"\"\n",
    "\n",
    "import urllib3 \n",
    "import json \n",
    "import time\n",
    "\n",
    "http = urllib3.PoolManager()\n",
    "\n",
    "api_key = '[Put your API key here]'\n",
    "\n",
    "base_url = 'http://api.openweathermap.org/data/2.5/weather?'\n",
    "\n",
    "city_name = input('Enter city name: ') \n",
    "\n",
    "complete_url = base_url + 'appid=' + api_key + '&q=' + city_name \n"
   ]
  },
  {
   "cell_type": "code",
   "execution_count": null,
   "metadata": {},
   "outputs": [],
   "source": [
    "%run openweather_urllib3.py"
   ]
  }
 ],
 "metadata": {
  "kernelspec": {
   "display_name": "Python 3 (ipykernel)",
   "language": "python",
   "name": "python3"
  },
  "language_info": {
   "codemirror_mode": {
    "name": "ipython",
    "version": 3
   },
   "file_extension": ".py",
   "mimetype": "text/x-python",
   "name": "python",
   "nbconvert_exporter": "python",
   "pygments_lexer": "ipython3",
   "version": "3.8.11"
  },
  "toc": {
   "base_numbering": 1,
   "nav_menu": {},
   "number_sections": true,
   "sideBar": true,
   "skip_h1_title": true,
   "title_cell": "Table of Contents",
   "title_sidebar": "Contents",
   "toc_cell": false,
   "toc_position": {},
   "toc_section_display": true,
   "toc_window_display": true
  }
 },
 "nbformat": 4,
 "nbformat_minor": 2
}
