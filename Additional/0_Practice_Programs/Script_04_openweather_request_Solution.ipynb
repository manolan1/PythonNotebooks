{
 "cells": [
  {
   "cell_type": "markdown",
   "metadata": {},
   "source": [
    "# openweather_requests\n",
    "\n",
    "**You will need to**\n",
    "\n",
    "1. Read about `requests`<br>\n",
    "   a. The documentation is hard - look for a simple tutorial there are several available.<br>\n",
    "   b. `requests` is still heavily used even though it is not an official Python module\n",
    "2. Make sure you know how to convert a json string to a dictionary using `requests`.\n",
    "3. Read about openweather at openweathermap.org - some free most option very expensive\n",
    "4. Use your personal email and sign up for a free account, observe the limits.\n",
    "5. `https://openweathermap.org/current#current_JSON` for return data definition\n",
    "6. The time values are UTC and in seconds from Epoch. \n",
    "7. The `time` module will show you how to convert to an date string.\n"
   ]
  },
  {
   "cell_type": "code",
   "execution_count": null,
   "metadata": {},
   "outputs": [],
   "source": [
    "%%writefile Solutions/openweather_requests.py\n",
    "\n",
    "\"\"\"\n",
    "    Script_name: openweather_requests.py\n",
    "       Function: From input city (asked for) returns current temperature,\n",
    "                 minimum_temperature, maximum_temperature, humidity,\n",
    "                 current UTC, sunrise UTC, sunset UTC, weather description,\n",
    "                 and city name.\n",
    "\"\"\"\n",
    "\n",
    "import requests \n",
    "import json\n",
    "import time\n",
    "\n",
    "api_key = '[Put your API key here]'\n",
    "\n",
    "base_url = 'http://api.openweathermap.org/data/2.5/weather?'\n",
    "\n",
    "city_name = input('Enter city name: ') \n",
    "\n",
    "complete_url = base_url + 'appid=' + api_key + '&q=' + city_name \n",
    "\n",
    "response = requests.get(complete_url) \n",
    "\n",
    "data_dictionary = response.json() \n",
    "\n",
    "CITY_NOT_FOUND = '404'\n",
    "\n",
    "if data_dictionary['cod'] != CITY_NOT_FOUND: \n",
    "    current_temp = data_dictionary['main']['temp'] \n",
    "    minimum_temp = data_dictionary['main']['temp_min'] \n",
    "    maximum_temp = data_dictionary['main']['temp_max'] \n",
    "    humidity = data_dictionary['main']['humidity']\n",
    "\n",
    "    current_date_utc = time.asctime(time.gmtime(data_dictionary['dt']))\n",
    "    sunrise_utc = time.asctime(time.gmtime(data_dictionary['sys']['sunrise']))\n",
    "    sunset_utc = time.asctime(time.gmtime(data_dictionary['sys']['sunset']))\n",
    "\n",
    "    weather_description = data_dictionary['weather'][0]['description'] \n",
    "\n",
    "    print('                                 City:', city_name)\n",
    "    print(' Current Temperature (in Kelvin unit):', current_temp)\n",
    "    print(' Minimum Temperature (in Kelvin unit):', minimum_temp)\n",
    "    print(' Maximum Temperature (in Kelvin unit):', maximum_temp)\n",
    "    print()\n",
    "    print('                   Current Date (UTC):', current_date_utc)\n",
    "    print('                        Sunrise (UTC):', sunrise_utc)\n",
    "    print('                         Sunset (UTC):', sunset_utc)\n",
    "    print()\n",
    "    print('                  Weather Description:', weather_description)\n",
    "else: \n",
    "    print(' City Not Found ') \n"
   ]
  },
  {
   "cell_type": "code",
   "execution_count": null,
   "metadata": {},
   "outputs": [],
   "source": [
    "%run Solutions/openweather_requests.py"
   ]
  }
 ],
 "metadata": {
  "kernelspec": {
   "display_name": "Python 3 (ipykernel)",
   "language": "python",
   "name": "python3"
  },
  "language_info": {
   "codemirror_mode": {
    "name": "ipython",
    "version": 3
   },
   "file_extension": ".py",
   "mimetype": "text/x-python",
   "name": "python",
   "nbconvert_exporter": "python",
   "pygments_lexer": "ipython3",
   "version": "3.8.11"
  },
  "toc": {
   "base_numbering": 1,
   "nav_menu": {},
   "number_sections": true,
   "sideBar": true,
   "skip_h1_title": true,
   "title_cell": "Table of Contents",
   "title_sidebar": "Contents",
   "toc_cell": false,
   "toc_position": {},
   "toc_section_display": true,
   "toc_window_display": true
  }
 },
 "nbformat": 4,
 "nbformat_minor": 2
}
