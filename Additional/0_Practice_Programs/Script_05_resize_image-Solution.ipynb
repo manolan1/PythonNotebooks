{
 "cells": [
  {
   "cell_type": "code",
   "execution_count": null,
   "metadata": {},
   "outputs": [],
   "source": [
    "%cd Resize_image"
   ]
  },
  {
   "cell_type": "code",
   "execution_count": null,
   "metadata": {},
   "outputs": [],
   "source": [
    "%%writefile resize_image.py\n",
    "\n",
    "\"\"\"\n",
    "    Script Name: resize_image.py\n",
    "       Function: Resizes images to NEW_SIZE which is set on line 13.\n",
    "                 of all images (png or jpg) in the current directory \n",
    "                 and places the new images in a new directory called\n",
    "                 Thumbs.\n",
    "                 The module Image from PIL will do all of the manipulation\n",
    "                 necessary open, save, return the size of the image, and\n",
    "                 resize the image.\n",
    "                 The function new_size when passed the image and the \n",
    "                 SQUARE_FIT_SIZE will return the new width and height.\n",
    "\"\"\"\n",
    "\n",
    "#! python\n",
    "# resizeAndAddLogo.py - Resizes all images in current working directory to fit\n",
    "# in a 300x300 square, \n",
    "\n",
    "import os\n",
    "from PIL import Image\n",
    "\n",
    "NEW_SIZE = 300\n",
    "\n",
    "def new_size(im, SQUARE_FIT_SIZE):\n",
    "    width, height = im.size\n",
    "    if width > SQUARE_FIT_SIZE or height > SQUARE_FIT_SIZE:\n",
    "        # Calculate the new width and height to resize to.\n",
    "        if width > height:\n",
    "            height = int((SQUARE_FIT_SIZE / width) * height)\n",
    "            width = SQUARE_FIT_SIZE\n",
    "        else:\n",
    "            width = int((SQUARE_FIT_SIZE / height) * width)\n",
    "            height = SQUARE_FIT_SIZE\n",
    "    return (width, height)\n",
    "\n",
    "new_subdirectory = 'Thumbs'\n",
    "\n",
    "os.makedirs(new_subdirectory, exist_ok=True)\n",
    "\n",
    "# Loop over all files in the working directory.\n",
    "for filename in os.listdir('.'):\n",
    "    # continue if not the correct type of image   \n",
    "    if not (filename.lower().endswith('.png') or \n",
    "            filename.lower().endswith('.jpg')): \n",
    "        continue \n",
    "\n",
    "    # get the image \n",
    "    image = Image.open(filename)\n",
    "\n",
    "    # Calculate the new width and height\n",
    "    width, height = new_size(image, NEW_SIZE)\n",
    "\n",
    "    # Resize the image.\n",
    "    print('Resizing %s...' % (filename))\n",
    "    image = image.resize((width, height))\n",
    "\n",
    "    # Save changes to new subdirectory\n",
    "    image.save(os.path.join(new_subdirectory, filename))\n"
   ]
  },
  {
   "cell_type": "code",
   "execution_count": null,
   "metadata": {},
   "outputs": [],
   "source": [
    "%run resize_image.py"
   ]
  },
  {
   "cell_type": "markdown",
   "metadata": {},
   "source": [
    "# End of Notebook"
   ]
  }
 ],
 "metadata": {
  "kernelspec": {
   "display_name": "Python 3 (ipykernel)",
   "language": "python",
   "name": "python3"
  },
  "language_info": {
   "codemirror_mode": {
    "name": "ipython",
    "version": 3
   },
   "file_extension": ".py",
   "mimetype": "text/x-python",
   "name": "python",
   "nbconvert_exporter": "python",
   "pygments_lexer": "ipython3",
   "version": "3.8.11"
  },
  "toc": {
   "base_numbering": 1,
   "nav_menu": {},
   "number_sections": true,
   "sideBar": true,
   "skip_h1_title": true,
   "title_cell": "Table of Contents",
   "title_sidebar": "Contents",
   "toc_cell": false,
   "toc_position": {},
   "toc_section_display": true,
   "toc_window_display": true
  }
 },
 "nbformat": 4,
 "nbformat_minor": 2
}
