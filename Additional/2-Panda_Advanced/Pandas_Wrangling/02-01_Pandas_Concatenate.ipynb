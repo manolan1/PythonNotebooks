{
 "cells": [
  {
   "cell_type": "markdown",
   "metadata": {},
   "source": [
    "# Pandas `merge`, `join`, `concatenate`, and `reshaping` <a class=\"tocSkip\">"
   ]
  },
  {
   "cell_type": "code",
   "execution_count": null,
   "metadata": {},
   "outputs": [],
   "source": [
    "from pandas import DataFrame\n",
    "from pandas import Series\n",
    "import pandas as pd\n",
    "from numpy.random import randint\n",
    "from numpy.random import randn\n",
    "from numpy.random import randint\n",
    "import numpy as np"
   ]
  },
  {
   "cell_type": "markdown",
   "metadata": {},
   "source": [
    "## Merging Data\n",
    "\n",
    "This is basically a join operation on Pandas DataFrames."
   ]
  },
  {
   "cell_type": "markdown",
   "metadata": {},
   "source": [
    "- The working DataFrame"
   ]
  },
  {
   "cell_type": "code",
   "execution_count": null,
   "metadata": {},
   "outputs": [],
   "source": [
    "df1 = DataFrame({'key1': list('bacaab'), \n",
    "                 'data1': randint(1, 11, 6)})\n",
    "print(df1)\n",
    "df2 = DataFrame({'key1': list('acd'), \n",
    "                 'data2': randint(1, 11, 3)})\n",
    "print(df2)"
   ]
  },
  {
   "cell_type": "markdown",
   "metadata": {},
   "source": [
    "- `merge` with inner join"
   ]
  },
  {
   "cell_type": "code",
   "execution_count": null,
   "metadata": {},
   "outputs": [],
   "source": [
    "df_inner1 = pd.merge(df1, df2, on = 'key1', how = 'inner')\n",
    "df_inner1"
   ]
  },
  {
   "cell_type": "markdown",
   "metadata": {},
   "source": [
    "- `merge` with outer join"
   ]
  },
  {
   "cell_type": "code",
   "execution_count": null,
   "metadata": {},
   "outputs": [],
   "source": [
    "df_outer1 = pd.merge(df1, df2, on = 'key1', how = 'outer')\n",
    "df_outer1"
   ]
  },
  {
   "cell_type": "markdown",
   "metadata": {},
   "source": [
    "- `merge` with left join"
   ]
  },
  {
   "cell_type": "code",
   "execution_count": null,
   "metadata": {},
   "outputs": [],
   "source": [
    "df_left1 = pd.merge(df1, df2, on = 'key1', how = 'left')\n",
    "df_left1"
   ]
  },
  {
   "cell_type": "markdown",
   "metadata": {},
   "source": [
    "- `merge` with right join"
   ]
  },
  {
   "cell_type": "code",
   "execution_count": null,
   "metadata": {},
   "outputs": [],
   "source": [
    "df_right1 = pd.merge(df1, df2, on = 'key1', how = 'right')\n",
    "df_right1"
   ]
  },
  {
   "cell_type": "markdown",
   "metadata": {},
   "source": [
    "- `merge` with multiple keys\n",
    "\n",
    "- You may want to change the names of the keys "
   ]
  },
  {
   "cell_type": "code",
   "execution_count": null,
   "metadata": {},
   "outputs": [],
   "source": [
    "df4 = DataFrame({'key4': list('bacaab'), \n",
    "                 'data4': randint(1, 11, 6)})\n",
    "print(df1)\n",
    "df5 = DataFrame({'key5': list('acd'), \n",
    "                 'data5': randint(1, 11, 3)})\n",
    "print(df2)"
   ]
  },
  {
   "cell_type": "code",
   "execution_count": null,
   "metadata": {},
   "outputs": [],
   "source": [
    "df6 = pd.merge(df4, df5, left_on = 'key4', right_on = 'key5', how = 'outer')\n",
    "print(df6)"
   ]
  },
  {
   "cell_type": "markdown",
   "metadata": {},
   "source": [
    "- Many to many join\n",
    "    - Many to many means the same key multiple times on both DataFrames\n",
    "    - This creates a Cartesian product\n",
    "   "
   ]
  },
  {
   "cell_type": "code",
   "execution_count": null,
   "metadata": {},
   "outputs": [],
   "source": [
    "df7 = DataFrame({'key1': list('baccaab'), 'data1': randint(1, 11, 7)})\n",
    "print(df7)\n",
    "df8 = DataFrame({'key1': list('acdac'), 'data2': randint(1, 11, 5)})\n",
    "print(df8)"
   ]
  },
  {
   "cell_type": "code",
   "execution_count": null,
   "metadata": {},
   "outputs": [],
   "source": [
    "df9 = pd.merge(df7, df8, on = 'key1', how = 'outer')\n",
    "print(df9)\n",
    "print('\\nTo see non-duplicates')\n",
    "print(df9.drop_duplicates())"
   ]
  },
  {
   "cell_type": "markdown",
   "metadata": {},
   "source": [
    "- **NOTICE:** There are six entries for `a` and four for `c` just as there should be for a Cartesian product"
   ]
  },
  {
   "cell_type": "markdown",
   "metadata": {},
   "source": [
    "## Merging on Index"
   ]
  },
  {
   "cell_type": "markdown",
   "metadata": {},
   "source": [
    "- The index can be used as the key by adding `left_index` and `right_index`"
   ]
  },
  {
   "cell_type": "code",
   "execution_count": null,
   "metadata": {},
   "outputs": [],
   "source": [
    "df10 = DataFrame({'key1': list('baccaab'), 'data1': randint(1, 11, 7)})\n",
    "print(df10)\n",
    "df11 = DataFrame({'group_data': randint(1, 11, 2)}, index = list('ab'))\n",
    "print(df11)"
   ]
  },
  {
   "cell_type": "code",
   "execution_count": null,
   "metadata": {},
   "outputs": [],
   "source": [
    "df12 = pd.merge(df10, df11, left_on = 'key1', right_index = True)\n",
    "print(df12)"
   ]
  },
  {
   "cell_type": "markdown",
   "metadata": {},
   "source": [
    "### Concatenating Along an Axis"
   ]
  },
  {
   "cell_type": "markdown",
   "metadata": {},
   "source": [
    "#### Series No Overlap"
   ]
  },
  {
   "cell_type": "code",
   "execution_count": null,
   "metadata": {},
   "outputs": [],
   "source": [
    "s1 = Series([1, 2], index = list('ab'))\n",
    "s2 = Series([3, 4, 5], index = list('cde'))\n",
    "s3 = Series([6, 7], index = list('fg'))\n",
    "\n",
    "s4 = pd.concat([s1, s2, s3], axis = 0)\n",
    "\n",
    "print(s1, s2, s3, s4, sep = '\\n')"
   ]
  },
  {
   "cell_type": "code",
   "execution_count": null,
   "metadata": {},
   "outputs": [],
   "source": [
    "df13 = pd.concat([s1, s2, s3], axis = 1, join = 'outer')\n",
    "print(df13)"
   ]
  },
  {
   "cell_type": "markdown",
   "metadata": {},
   "source": [
    "- With `axis = 1` the concatenation is down the columns\n",
    "- The Series are converted to (1,x) DataFrames \n",
    "- The DataFrames are expanded to have the same column with NaN for missing data\n",
    "- The DataFrames are concatenated\n",
    "- The `join=outer` is the default"
   ]
  },
  {
   "cell_type": "markdown",
   "metadata": {},
   "source": [
    "#### Specifying Column Headers"
   ]
  },
  {
   "cell_type": "code",
   "execution_count": null,
   "metadata": {},
   "outputs": [],
   "source": [
    "df14 = pd.concat([s1,s2,s3], axis = 1, join = 'outer', keys = ['one', 'two', 'three'])\n",
    "print(df14)"
   ]
  },
  {
   "cell_type": "markdown",
   "metadata": {},
   "source": [
    "#### Series Inner Join"
   ]
  },
  {
   "cell_type": "code",
   "execution_count": null,
   "metadata": {},
   "outputs": [],
   "source": [
    "s4 = pd.concat([s1, s3])"
   ]
  },
  {
   "cell_type": "code",
   "execution_count": null,
   "metadata": {},
   "outputs": [],
   "source": [
    "print(s4)"
   ]
  },
  {
   "cell_type": "code",
   "execution_count": null,
   "metadata": {},
   "outputs": [],
   "source": [
    "print(s1)"
   ]
  },
  {
   "cell_type": "code",
   "execution_count": null,
   "metadata": {},
   "outputs": [],
   "source": [
    "df15 = pd.concat([s4, s1], axis = 1, join = 'inner')\n",
    "print(df15)"
   ]
  },
  {
   "cell_type": "markdown",
   "metadata": {},
   "source": [
    "- `left` and `right` are not viable in `concat` for Series\n",
    "- You used to be able to do this with `join_axes`\n",
    "- Below is a \"left\" join\n",
    "```\n",
    "df16 = pd.concat([s4, s1], axis = 1, join_axes = [['a', 'b', 'f', 'g']])\n",
    "print(df16)\n",
    "```\n",
    "- However, `join_axes` is now deprecated. Use `.reindex()` or `.reindex_like()` instead."
   ]
  },
  {
   "cell_type": "code",
   "execution_count": null,
   "metadata": {},
   "outputs": [],
   "source": [
    "s5 = s1.reindex_like(s4)\n",
    "print(s5)\n",
    "df16 = pd.concat([s4, s5], axis = 1, join = 'inner')\n",
    "print(df16)"
   ]
  },
  {
   "cell_type": "markdown",
   "metadata": {},
   "source": [
    "#### DataFrame Example"
   ]
  },
  {
   "cell_type": "code",
   "execution_count": null,
   "metadata": {},
   "outputs": [],
   "source": [
    "df17 = DataFrame(randint(1, 11,(3, 2)), index = list('abc'), columns = ['one', 'two'])\n",
    "print(df17)\n",
    "df18 = DataFrame(randint(1, 11,(2, 2)), index = list('ac'), columns = ['three', 'four'])\n",
    "print(df18)\n",
    "df19 = pd.concat([df17, df18], axis = 1)\n",
    "print(df19)"
   ]
  },
  {
   "cell_type": "code",
   "execution_count": null,
   "metadata": {},
   "outputs": [],
   "source": [
    "df20 = pd.concat([df17, df18], axis = 0)\n",
    "print(df20)"
   ]
  },
  {
   "cell_type": "markdown",
   "metadata": {},
   "source": [
    "## Data Transformation"
   ]
  },
  {
   "cell_type": "markdown",
   "metadata": {},
   "source": [
    "### Removing Duplicates"
   ]
  },
  {
   "cell_type": "code",
   "execution_count": null,
   "metadata": {},
   "outputs": [],
   "source": [
    "df9 = pd.merge(df7, df8, on = 'key1', how = 'outer')\n",
    "print(df9)"
   ]
  },
  {
   "cell_type": "code",
   "execution_count": null,
   "metadata": {},
   "outputs": [],
   "source": [
    "print('\\nTo see non-duplicates')\n",
    "print(df9.drop_duplicates())"
   ]
  },
  {
   "cell_type": "markdown",
   "metadata": {},
   "source": [
    "### Using a Function Mapping\n",
    "\n",
    "- Transform DataFrame, Series based on data in DataFrame, Series and outside data"
   ]
  },
  {
   "cell_type": "code",
   "execution_count": null,
   "metadata": {},
   "outputs": [],
   "source": [
    "food_intake = DataFrame({'food': ['bacon', 'Bacon', 'pastrami', 'Pastrami'], \n",
    "                         'ounces': [2, 4, 3, 6]})\n",
    "print(food_intake)"
   ]
  },
  {
   "cell_type": "code",
   "execution_count": null,
   "metadata": {},
   "outputs": [],
   "source": [
    "#animal_meat = {'bacon': 'pig', 'pastrami':'cow'}\n",
    "animal_meat = {'pastrami': 'cow', 'bacon': 'pig'}\n",
    "print(animal_meat)"
   ]
  },
  {
   "cell_type": "markdown",
   "metadata": {},
   "source": [
    "#### Method One"
   ]
  },
  {
   "cell_type": "code",
   "execution_count": null,
   "metadata": {},
   "outputs": [],
   "source": [
    "print(food_intake['food'].map(str.lower))"
   ]
  },
  {
   "cell_type": "code",
   "execution_count": null,
   "metadata": {},
   "outputs": [],
   "source": [
    "print(food_intake['food'].map(str.lower).map(animal_meat))"
   ]
  },
  {
   "cell_type": "code",
   "execution_count": null,
   "metadata": {},
   "outputs": [],
   "source": [
    "food_intake['animal'] = food_intake['food'].map(str.lower).map(animal_meat)\n",
    "print(food_intake)"
   ]
  },
  {
   "cell_type": "markdown",
   "metadata": {},
   "source": [
    "#### Method Two with Lambda"
   ]
  },
  {
   "cell_type": "code",
   "execution_count": null,
   "metadata": {},
   "outputs": [],
   "source": [
    "food_intake['animal'] = food_intake['food'].map(lambda x: animal_meat[x.lower()])\n",
    "print(food_intake)"
   ]
  },
  {
   "cell_type": "markdown",
   "metadata": {},
   "source": [
    "### Replacing Values"
   ]
  },
  {
   "cell_type": "code",
   "execution_count": null,
   "metadata": {},
   "outputs": [],
   "source": [
    "df21 = DataFrame({'A': [np.nan, 10, 20, np.nan], 'B': [1, 2, np.nan, 4]},)\n",
    "print(df21)"
   ]
  },
  {
   "cell_type": "code",
   "execution_count": null,
   "metadata": {},
   "outputs": [],
   "source": [
    "df22 = df21.replace(np.nan, 0)\n",
    "print(df22)"
   ]
  },
  {
   "cell_type": "markdown",
   "metadata": {},
   "source": [
    "### Renaming Axis Indexes"
   ]
  },
  {
   "cell_type": "code",
   "execution_count": null,
   "metadata": {},
   "outputs": [],
   "source": [
    "columns = [ x for x in 'dollars pounds lek guilder peso'.split()]\n",
    "columns"
   ]
  },
  {
   "cell_type": "code",
   "execution_count": null,
   "metadata": {},
   "outputs": [],
   "source": [
    "df23 = DataFrame(randint(1, 10, (4, 5)), index = 'one two three four'.split(), \n",
    "                  columns = 'dollars pounds lek guilder peso'.split())\n",
    "print(df23)"
   ]
  },
  {
   "cell_type": "code",
   "execution_count": null,
   "metadata": {},
   "outputs": [],
   "source": [
    "df24 = df23.index.map(str.upper)\n",
    "print(df24)"
   ]
  },
  {
   "cell_type": "code",
   "execution_count": null,
   "metadata": {},
   "outputs": [],
   "source": [
    "df25 = df23.rename(columns = str.title)\n",
    "print(df25)"
   ]
  },
  {
   "cell_type": "code",
   "execution_count": null,
   "metadata": {},
   "outputs": [],
   "source": [
    "df23.rename(columns = str.title, inplace = True)\n",
    "print(df23)"
   ]
  },
  {
   "cell_type": "markdown",
   "metadata": {},
   "source": [
    "## Binning\n",
    "\n",
    "- Statistical data binning is a way to group a number of more or less continuous values into a smaller number of \"bins\""
   ]
  },
  {
   "cell_type": "code",
   "execution_count": null,
   "metadata": {},
   "outputs": [],
   "source": [
    "ages = np.array([x for x in randint(13, 77, 20000000)], dtype = np.int32)\n",
    "print(ages[0:10])\n",
    "print(ages[-11:-1])"
   ]
  },
  {
   "cell_type": "code",
   "execution_count": null,
   "metadata": {},
   "outputs": [],
   "source": [
    "bin_points = [18, 25, 35, 50, 65, 77]\n",
    "bins = pd.cut(ages, bin_points)\n",
    "bins"
   ]
  },
  {
   "cell_type": "markdown",
   "metadata": {},
   "source": [
    "Note the ISO standard representation of an interval: \\[...\\] denote an inclusive interval, (...) denote an exclusive interval. "
   ]
  },
  {
   "cell_type": "code",
   "execution_count": null,
   "metadata": {},
   "outputs": [],
   "source": [
    "pd.value_counts(bins)"
   ]
  },
  {
   "cell_type": "code",
   "execution_count": null,
   "metadata": {},
   "outputs": [],
   "source": [
    "group_names = 'too_young some_what_old old very_old too_old'.split()\n",
    "print(group_names)"
   ]
  },
  {
   "cell_type": "code",
   "execution_count": null,
   "metadata": {},
   "outputs": [],
   "source": [
    "bin_with_names = pd.cut(ages, bin_points, labels = group_names)\n",
    "print(bin_with_names)"
   ]
  },
  {
   "cell_type": "code",
   "execution_count": null,
   "metadata": {},
   "outputs": [],
   "source": [
    "pd.value_counts(bin_with_names)"
   ]
  },
  {
   "cell_type": "markdown",
   "metadata": {},
   "source": [
    "# End of Notebook <a class=\"tocSkip\">"
   ]
  }
 ],
 "metadata": {
  "kernelspec": {
   "display_name": "Python 3",
   "language": "python",
   "name": "python3"
  },
  "language_info": {
   "codemirror_mode": {
    "name": "ipython",
    "version": 3
   },
   "file_extension": ".py",
   "mimetype": "text/x-python",
   "name": "python",
   "nbconvert_exporter": "python",
   "pygments_lexer": "ipython3",
   "version": "3.7.4"
  },
  "toc": {
   "base_numbering": 1,
   "nav_menu": {},
   "number_sections": true,
   "sideBar": true,
   "skip_h1_title": true,
   "title_cell": "Table of Contents",
   "title_sidebar": "Contents",
   "toc_cell": false,
   "toc_position": {
    "height": "calc(100% - 180px)",
    "left": "10px",
    "top": "150px",
    "width": "305.391px"
   },
   "toc_section_display": true,
   "toc_window_display": false
  }
 },
 "nbformat": 4,
 "nbformat_minor": 2
}
