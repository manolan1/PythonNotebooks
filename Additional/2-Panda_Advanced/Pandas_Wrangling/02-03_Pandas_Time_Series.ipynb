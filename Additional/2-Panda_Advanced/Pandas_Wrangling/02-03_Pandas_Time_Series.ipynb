{
 "cells": [
  {
   "cell_type": "markdown",
   "metadata": {},
   "source": [
    "# Pandas Time Series"
   ]
  },
  {
   "cell_type": "code",
   "execution_count": null,
   "metadata": {},
   "outputs": [],
   "source": [
    "from pandas import DataFrame\n",
    "from pandas import Series\n",
    "from numpy.random import randint\n",
    "from numpy.random import randn\n",
    "import numpy as np\n",
    "import pandas as pd\n",
    "import copy"
   ]
  },
  {
   "cell_type": "markdown",
   "metadata": {},
   "source": [
    "## Background"
   ]
  },
  {
   "cell_type": "markdown",
   "metadata": {},
   "source": [
    "I find Pandas handling of time much easier to work with than time in standard Python 3.x.\n",
    "\n",
    "Pandas captures four general time-related concepts:\n",
    "\n",
    "1. Date times: A specific date and time with timezone support. Similar to datetime.datetime from the standard library.\n",
    "2. Time deltas: An absolute time duration. Similar to datetime.timedelta from the standard library.\n",
    "3. Time spans: A span of time defined by a point in time and its associated frequency.\n",
    "4. Date offsets: A relative time duration that respects calendar arithmetic. Similar to dateutil.relativedelta.relativedelta from the dateutil package."
   ]
  },
  {
   "cell_type": "markdown",
   "metadata": {},
   "source": [
    "![concepts](pandas_time_concepts.png) "
   ]
  },
  {
   "cell_type": "markdown",
   "metadata": {},
   "source": [
    "## Create `Series` with `D`ay Frequency"
   ]
  },
  {
   "cell_type": "code",
   "execution_count": null,
   "metadata": {},
   "outputs": [],
   "source": [
    "time_index = pd.Series(pd.period_range('2019-3', freq = 'D', periods=10))\n",
    "print(time_index)\n",
    "print(type(time_index))\n",
    "print(type(time_index[0]))"
   ]
  },
  {
   "cell_type": "markdown",
   "metadata": {},
   "source": [
    "## Create `DataFrame` Using `time_index`"
   ]
  },
  {
   "cell_type": "code",
   "execution_count": null,
   "metadata": {},
   "outputs": [],
   "source": [
    "df_time1 = DataFrame(randint(1, 11, (10,4)), index=time_index, columns=list('ABCD'))\n",
    "print(df_time1)\n",
    "df_time_hold = copy.deepcopy(df_time1)"
   ]
  },
  {
   "cell_type": "markdown",
   "metadata": {},
   "source": [
    "### Metadata About `DataFrame` "
   ]
  },
  {
   "cell_type": "code",
   "execution_count": null,
   "metadata": {},
   "outputs": [],
   "source": [
    "print(type(df_time1))\n",
    "print(type(df_time1.iloc[0,0]))\n",
    "print(type(df_time1.index))\n",
    "print(type(df_time1.index.values[0]))"
   ]
  },
  {
   "cell_type": "markdown",
   "metadata": {},
   "source": [
    "## Converting Periodic Index to String Values \n",
    "- Needed for plot with Bokeh\n",
    "- `date_str` is of type period"
   ]
  },
  {
   "cell_type": "code",
   "execution_count": null,
   "metadata": {},
   "outputs": [],
   "source": [
    "# Create new column with index values\n",
    "\n",
    "#df_time1['date_str'] = df_time1.index.values\n",
    "df_time1['date_str'] = df_time1.index\n",
    "print(df_time1)\n",
    "print(type(df_time1['date_str']))\n",
    "print(type(df_time1.iloc[0, 4]))"
   ]
  },
  {
   "cell_type": "code",
   "execution_count": null,
   "metadata": {},
   "outputs": [],
   "source": [
    "# Convert column from Period type to timestamp type\n",
    "\n",
    "df_time1['date_str'] = df_time1['date_str'].apply(lambda x : x.to_timestamp())"
   ]
  },
  {
   "cell_type": "code",
   "execution_count": null,
   "metadata": {},
   "outputs": [],
   "source": [
    "df_time1['date_str']"
   ]
  },
  {
   "cell_type": "code",
   "execution_count": null,
   "metadata": {},
   "outputs": [],
   "source": [
    "# The next statement does not work because the row is now a series and \n",
    "# not a <class 'pandas.core.indexes.period.PeriodIndex'>\n",
    "#df_time1['date_str'] = df_time1['date_str'].to_timestamp()\n",
    "print(df_time1)\n",
    "print(type(df_time1['date_str']))\n",
    "print(type(df_time1.iloc[0, 4]))"
   ]
  },
  {
   "cell_type": "code",
   "execution_count": null,
   "metadata": {},
   "outputs": [],
   "source": [
    "# Convert from timestamp to string\n",
    "\n",
    "df_time1['date_str'] = df_time1['date_str'].dt.strftime('%Y-%m-%d')\n",
    "print(df_time1)\n",
    "print(type(df_time1['date_str']))\n",
    "print(type(df_time1.iloc[0, 4]))"
   ]
  },
  {
   "cell_type": "markdown",
   "metadata": {},
   "source": [
    "### In One Statement"
   ]
  },
  {
   "cell_type": "code",
   "execution_count": null,
   "metadata": {},
   "outputs": [],
   "source": [
    "df_time1.drop('date_str', axis=1, inplace=True)\n",
    "\n",
    "# this works as df_time1.index is a <class 'pandas.core.indexes.period.PeriodIndex'> \n",
    "# so .to_timestamp() can be applied. \n",
    "\n",
    "# This is still a DatetimeIdex and .dt.strftime('%Y-%m-%d') is \n",
    "# not implemented - it works on Series. And the DatetimeIndex is not converted \n",
    "# to a Series until the assignment happens. \n",
    "\n",
    "# The values of the DatetimeIndex can be turned into strings by using the .astype('str') \n",
    "# function which is a little odd but it works.\n",
    "\n",
    "df_time1['date_str'] = df_time1.index.to_timestamp().astype('str')\n",
    "print(df_time1)\n",
    "print(type(df_time1['date_str']))\n",
    "print(type(df_time1.iloc[0,4]))"
   ]
  },
  {
   "cell_type": "markdown",
   "metadata": {},
   "source": [
    "### Writing to CSV File"
   ]
  },
  {
   "cell_type": "code",
   "execution_count": null,
   "metadata": {},
   "outputs": [],
   "source": [
    "df_time1.drop('date_str', axis = 1, inplace = True)\n",
    "print(df_time1)"
   ]
  },
  {
   "cell_type": "code",
   "execution_count": null,
   "metadata": {},
   "outputs": [],
   "source": [
    "# Write out csv file\n",
    "\n",
    "df_time1.to_csv('./time_index.csv')"
   ]
  },
  {
   "cell_type": "code",
   "execution_count": null,
   "metadata": {},
   "outputs": [],
   "source": [
    "!cat time_index.csv"
   ]
  },
  {
   "cell_type": "markdown",
   "metadata": {},
   "source": [
    "## From CSV String to Index with Period\n",
    "- Data in CSV stored as string "
   ]
  },
  {
   "cell_type": "code",
   "execution_count": null,
   "metadata": {},
   "outputs": [],
   "source": [
    "# Reading from csv file\n",
    "\n",
    "df_str = pd.read_csv('./time_index.csv', index_col = None, header = None)\n",
    "print(df_str)"
   ]
  },
  {
   "cell_type": "markdown",
   "metadata": {},
   "source": [
    "- **NOTICE:** The real index is column 0 "
   ]
  },
  {
   "cell_type": "code",
   "execution_count": null,
   "metadata": {},
   "outputs": [],
   "source": [
    "# Getting the basic DataFrame\n",
    "\n",
    "df_time2 = DataFrame(df_str.iloc[1:, 1:].astype(np.int64))\n",
    "print(df_time2)"
   ]
  },
  {
   "cell_type": "markdown",
   "metadata": {},
   "source": [
    "- The `.astype(np.int64)` is just good programming practice"
   ]
  },
  {
   "cell_type": "code",
   "execution_count": null,
   "metadata": {},
   "outputs": [],
   "source": [
    "# Setting up to change the index to datetime object\n",
    "# Taking the name out makes it easier to see what was happening\n",
    "\n",
    "date_time = pd.to_datetime(df_str.iloc[1:, 0])\n",
    "date_time.name = None\n",
    "print(date_time)"
   ]
  },
  {
   "cell_type": "code",
   "execution_count": null,
   "metadata": {},
   "outputs": [],
   "source": [
    "# Change the index to datetime64 type\n",
    "\n",
    "df_time2.set_index(date_time, inplace = True)\n",
    "print(df_time2)\n",
    "print(df_time2.index)"
   ]
  },
  {
   "cell_type": "code",
   "execution_count": null,
   "metadata": {},
   "outputs": [],
   "source": [
    "# Just to show me what the column labels are\n",
    "\n",
    "df_str.iloc[0, 1:]"
   ]
  },
  {
   "cell_type": "code",
   "execution_count": null,
   "metadata": {},
   "outputs": [],
   "source": [
    "# Column labels did not work correctly from a Series; thus the value\n",
    "\n",
    "df_time2.columns = df_str.iloc[0, 1:].values\n",
    "print(df_time2)\n",
    "print(df_time2.index)"
   ]
  },
  {
   "cell_type": "code",
   "execution_count": null,
   "metadata": {},
   "outputs": [],
   "source": [
    "# This converts the datetime64 to a type of period[D] \n",
    "\n",
    "df_time2.set_index(df_time2.index.to_period('D'), inplace = True)\n",
    "print(df_time2)\n",
    "print(df_time2.index)"
   ]
  },
  {
   "cell_type": "markdown",
   "metadata": {},
   "source": [
    "## Dates Through Pandas"
   ]
  },
  {
   "cell_type": "markdown",
   "metadata": {},
   "source": [
    "### Single Time State"
   ]
  },
  {
   "cell_type": "code",
   "execution_count": null,
   "metadata": {},
   "outputs": [],
   "source": [
    "# Create a single date stamp\n",
    "d1 = pd.to_datetime('2017-03-08 13:34')\n",
    "print(type(d1))\n",
    "print(d1)"
   ]
  },
  {
   "cell_type": "markdown",
   "metadata": {},
   "source": [
    "### Current Instance Timestamp"
   ]
  },
  {
   "cell_type": "code",
   "execution_count": null,
   "metadata": {},
   "outputs": [],
   "source": [
    "now = pd.Timestamp.now()\n",
    "print(now)\n",
    "now"
   ]
  },
  {
   "cell_type": "markdown",
   "metadata": {},
   "source": [
    "### `DatetimeIndex` Data Type"
   ]
  },
  {
   "cell_type": "code",
   "execution_count": null,
   "metadata": {},
   "outputs": [],
   "source": [
    "time_list = ['2019-03-01', '2019-03-02', '2019-03-03', '2019-03-04',\n",
    "               '2019-03-05', '2019-03-06', '2019-03-07', '2019-03-08',\n",
    "               '2019-03-09', '2019-03-10']\n",
    "\n",
    "time_stamp_array = pd.to_datetime(time_list)\n",
    "print(time_stamp_array)"
   ]
  },
  {
   "cell_type": "markdown",
   "metadata": {},
   "source": [
    "## Time Math"
   ]
  },
  {
   "cell_type": "markdown",
   "metadata": {},
   "source": [
    "### Time Deltas\n"
   ]
  },
  {
   "cell_type": "code",
   "execution_count": null,
   "metadata": {},
   "outputs": [],
   "source": [
    "pd.Timedelta( \"1D\")"
   ]
  },
  {
   "cell_type": "code",
   "execution_count": null,
   "metadata": {},
   "outputs": [],
   "source": [
    "pd.Timedelta( \"1M\")"
   ]
  },
  {
   "cell_type": "code",
   "execution_count": null,
   "metadata": {},
   "outputs": [],
   "source": [
    "pd.Timedelta( \"1H\")"
   ]
  },
  {
   "cell_type": "markdown",
   "metadata": {},
   "source": [
    "### Date Addition and Subtraction"
   ]
  },
  {
   "cell_type": "code",
   "execution_count": null,
   "metadata": {},
   "outputs": [],
   "source": [
    "d1 = pd.to_datetime('2017-03-08')\n",
    "d2 = pd.to_datetime('2018-03-08')\n",
    "one_hour = pd.Timedelta('1h')"
   ]
  },
  {
   "cell_type": "code",
   "execution_count": null,
   "metadata": {},
   "outputs": [],
   "source": [
    "print(d1 + one_hour)\n",
    "print(d1 - one_hour)"
   ]
  },
  {
   "cell_type": "code",
   "execution_count": null,
   "metadata": {},
   "outputs": [],
   "source": [
    "print('d2 - d1', d2 - d1)\n",
    "print('d1 - d2', d1 - d2)"
   ]
  },
  {
   "cell_type": "markdown",
   "metadata": {},
   "source": [
    "### Date Division"
   ]
  },
  {
   "cell_type": "code",
   "execution_count": null,
   "metadata": {},
   "outputs": [],
   "source": [
    "(d2 - d1) / one_hour"
   ]
  },
  {
   "cell_type": "markdown",
   "metadata": {},
   "source": [
    "## Time Periods and Period Arithmetic"
   ]
  },
  {
   "cell_type": "code",
   "execution_count": null,
   "metadata": {},
   "outputs": [],
   "source": [
    "yp = pd.Period('2019', freq = 'A-DEC')\n",
    "\n",
    "print(repr(yp))\n",
    "\n",
    "print(yp.start_time)\n",
    "print(yp.end_time)"
   ]
  },
  {
   "cell_type": "markdown",
   "metadata": {},
   "source": [
    "- The `freq` is annual (`A`) ending in December (`DEC`)"
   ]
  },
  {
   "cell_type": "code",
   "execution_count": null,
   "metadata": {},
   "outputs": [],
   "source": [
    "yp2 = pd.Period('2019', freq = 'A-JAN')\n",
    "\n",
    "print(repr(yp2))\n",
    "\n",
    "print(yp2.start_time)\n",
    "print(yp2.end_time)"
   ]
  },
  {
   "cell_type": "code",
   "execution_count": null,
   "metadata": {},
   "outputs": [],
   "source": [
    "# Quarterly Frequency\n",
    "\n",
    "q1 = pd.Period('2019Q1', freq = 'Q-DEC')\n",
    "\n",
    "print(repr(q1))\n",
    "\n",
    "print(q1.start_time)\n",
    "print(q1.end_time)"
   ]
  },
  {
   "cell_type": "markdown",
   "metadata": {},
   "source": [
    "- The `freq` is quarterly (`Q`) for the year with the year ending in December `DEC`"
   ]
  },
  {
   "cell_type": "markdown",
   "metadata": {},
   "source": [
    "- **Different Time Span**\n",
    "\n",
    "    `M` is month<br>\n",
    "    `D` is day<br>\n",
    "    `H` is hours<br>\n",
    "    `T` is minute<br>\n",
    "    `S` is seconds"
   ]
  },
  {
   "cell_type": "markdown",
   "metadata": {},
   "source": [
    "### Changing Frequency"
   ]
  },
  {
   "cell_type": "code",
   "execution_count": null,
   "metadata": {},
   "outputs": [],
   "source": [
    "print(repr(yp2))\n",
    "\n",
    "ym2 = yp2.asfreq('M', how = 'start')\n",
    "\n",
    "print(repr(ym2))"
   ]
  },
  {
   "cell_type": "markdown",
   "metadata": {},
   "source": [
    "- To see all frequencies go to http://pandas.pydata.org/pandas-docs/stable/timeseries.html#period\n",
    "\n"
   ]
  },
  {
   "cell_type": "markdown",
   "metadata": {},
   "source": [
    "## Addition, Subtraction \n"
   ]
  },
  {
   "cell_type": "markdown",
   "metadata": {},
   "source": [
    "### Addition"
   ]
  },
  {
   "cell_type": "code",
   "execution_count": null,
   "metadata": {},
   "outputs": [],
   "source": [
    "day = pd.Period('2020-02-28', freq = 'D')\n",
    "\n",
    "print(day.is_leap_year)\n",
    "\n",
    "print(day + 1)"
   ]
  },
  {
   "cell_type": "markdown",
   "metadata": {},
   "source": [
    "- **NOTICE:** `Period` understands the calendar"
   ]
  },
  {
   "cell_type": "markdown",
   "metadata": {},
   "source": [
    "## Time Offsets"
   ]
  },
  {
   "cell_type": "code",
   "execution_count": null,
   "metadata": {},
   "outputs": [],
   "source": [
    "hours = pd.Period('2020-02-28 01:00:00', freq = 'H')\n",
    "print(repr(hours))\n",
    "\n",
    "hours3 = pd.offsets.Hour(3)\n",
    "print(repr(hours3))\n",
    "\n",
    "sometime_tomorrow = hours + 12 * hours3\n",
    "print(sometime_tomorrow)\n"
   ]
  },
  {
   "cell_type": "markdown",
   "metadata": {},
   "source": [
    "- **NOTICE:** `hours` uses a 24-hour clock"
   ]
  },
  {
   "cell_type": "markdown",
   "metadata": {},
   "source": [
    "### Subtraction\n",
    "\n",
    "- Subtraction works as you would expect it to"
   ]
  },
  {
   "cell_type": "markdown",
   "metadata": {},
   "source": [
    "## Period Indexes"
   ]
  },
  {
   "cell_type": "code",
   "execution_count": null,
   "metadata": {},
   "outputs": [],
   "source": [
    "idx = pd.period_range('2014', '2019', freq = 'Q-DEC')\n",
    "print(idx)"
   ]
  },
  {
   "cell_type": "code",
   "execution_count": null,
   "metadata": {},
   "outputs": [],
   "source": [
    "idx2 = pd.period_range('2014', periods = 21, freq = 'Q-DEC')\n",
    "print(idx)"
   ]
  },
  {
   "cell_type": "code",
   "execution_count": null,
   "metadata": {},
   "outputs": [],
   "source": [
    "print(idx2[20].start_time)\n",
    "print(idx2[20].end_time)"
   ]
  },
  {
   "cell_type": "markdown",
   "metadata": {},
   "source": [
    "### Converting to `DatetimeIndex`"
   ]
  },
  {
   "cell_type": "code",
   "execution_count": null,
   "metadata": {},
   "outputs": [],
   "source": [
    "idx3 = idx2.to_timestamp()\n",
    "\n",
    "print(idx3)"
   ]
  },
  {
   "cell_type": "markdown",
   "metadata": {},
   "source": [
    "- `.to_datetime()` has been deprecated"
   ]
  },
  {
   "cell_type": "markdown",
   "metadata": {},
   "source": [
    "### Converting to `PeriodIndex`"
   ]
  },
  {
   "cell_type": "code",
   "execution_count": null,
   "metadata": {},
   "outputs": [],
   "source": [
    "idx4 = idx3.to_period()\n",
    "print(idx4)"
   ]
  },
  {
   "cell_type": "markdown",
   "metadata": {},
   "source": [
    "## Resampling\n",
    "- Aggregating higher frequency data to lower frequency is called downsampling\n",
    "- Converting lower frequency to higher frequency is called upsampling"
   ]
  },
  {
   "cell_type": "markdown",
   "metadata": {},
   "source": [
    "### Downsampling Example"
   ]
  },
  {
   "cell_type": "code",
   "execution_count": null,
   "metadata": {},
   "outputs": [],
   "source": [
    "day_data = pd.date_range('1/1/2014', periods = 1826, freq = 'D')\n",
    "\n",
    "print(day_data[0:11])\n",
    "\n",
    "print(day_data[-11:-1])"
   ]
  },
  {
   "cell_type": "code",
   "execution_count": null,
   "metadata": {},
   "outputs": [],
   "source": [
    "ts = Series(randn(len(day_data)), index = day_data)\n",
    "print(ts.head())\n",
    "print(ts.tail())"
   ]
  },
  {
   "cell_type": "code",
   "execution_count": null,
   "metadata": {},
   "outputs": [],
   "source": [
    "#ts_week = ts.resample('W', how='mean', kind='period')\n",
    "ts_week = ts.resample('W').mean()\n",
    "print(ts_week.head())\n",
    "print(ts_week.tail())"
   ]
  },
  {
   "cell_type": "markdown",
   "metadata": {},
   "source": [
    "# End of Notebook"
   ]
  }
 ],
 "metadata": {
  "kernelspec": {
   "display_name": "Python 3",
   "language": "python",
   "name": "python3"
  },
  "language_info": {
   "codemirror_mode": {
    "name": "ipython",
    "version": 3
   },
   "file_extension": ".py",
   "mimetype": "text/x-python",
   "name": "python",
   "nbconvert_exporter": "python",
   "pygments_lexer": "ipython3",
   "version": "3.7.4"
  },
  "toc": {
   "base_numbering": 1,
   "nav_menu": {},
   "number_sections": true,
   "sideBar": true,
   "skip_h1_title": true,
   "title_cell": "Table of Contents",
   "title_sidebar": "Contents",
   "toc_cell": false,
   "toc_position": {
    "height": "309px",
    "left": "122px",
    "top": "110px",
    "width": "332.188px"
   },
   "toc_section_display": true,
   "toc_window_display": false
  }
 },
 "nbformat": 4,
 "nbformat_minor": 2
}
