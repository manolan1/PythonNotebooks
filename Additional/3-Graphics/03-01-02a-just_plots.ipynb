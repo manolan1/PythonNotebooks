{
 "cells": [
  {
   "cell_type": "markdown",
   "metadata": {},
   "source": [
    "# Figure and plot Setup"
   ]
  },
  {
   "cell_type": "markdown",
   "metadata": {},
   "source": [
    "## Set Up Backend "
   ]
  },
  {
   "cell_type": "code",
   "execution_count": null,
   "metadata": {},
   "outputs": [],
   "source": [
    "# This must be done before any other imports for matplotlib\n",
    "# This sets up ipython to use the inline interpeter\n",
    "\n",
    "%matplotlib notebook"
   ]
  },
  {
   "cell_type": "markdown",
   "metadata": {},
   "source": [
    "## Import the Rest of the Tools"
   ]
  },
  {
   "cell_type": "code",
   "execution_count": null,
   "metadata": {},
   "outputs": [],
   "source": [
    "from pandas import DataFrame\n",
    "from pandas import Series\n",
    "import matplotlib.pyplot as plt\n",
    "import pandas as pd\n",
    "import numpy as np\n",
    "import matplotlib as mpl"
   ]
  },
  {
   "cell_type": "markdown",
   "metadata": {},
   "source": [
    "## Canvas Setup"
   ]
  },
  {
   "cell_type": "code",
   "execution_count": null,
   "metadata": {},
   "outputs": [],
   "source": [
    "fig = plt.figure('Canvas with Multiple Subplots', \n",
    "                 figsize = (4, 4),\n",
    "                 facecolor = 'lightblue',\n",
    "                 edgecolor = 'black',\n",
    "                 dpi = 200)"
   ]
  },
  {
   "cell_type": "markdown",
   "metadata": {},
   "source": [
    "- The size of the canvas should be 4 inches width by 5 inches height with<br>\n",
    "  inches a float. It has never worked that way for me inside a jupyter notebook\n",
    "- `clear` in a program clears out the canvas. Problems with Jupyter notebooks<br>\n",
    "  have just another copy of the canvas show up.\n",
    "- I have not gotten the edgeface to work inside of a notebook\n",
    "- `dpi` is dots per inch - a measure of quality of the graphic\n",
    "   * 200 is the minimum I would use and above 600 usually requires specialized<br>\n",
    "     hardware\n",
    "  "
   ]
  },
  {
   "cell_type": "markdown",
   "metadata": {},
   "source": [
    "## Subplots Setup\n",
    "\n",
    "`ax1 = plt.subplot2grid((<number of rows>, <number of column>),\n",
    "                        (<row location>, <column location>),\n",
    "                        colspan = <columns to span>,\n",
    "                        rowspan = <rows to span>)`\n",
    "                        \n",
    "- `ax1` is the handle for the plot on the canvas\n",
    "- `(<number of rows>, <number of columns>)` says how many rows and columns<br>\n",
    "  there are on the canvas this plot is being added to\n",
    "- `colspan` states the number of columns this plot covers\n",
    "- `rowspan` states the number of rows this plot covers"
   ]
  },
  {
   "cell_type": "code",
   "execution_count": null,
   "metadata": {},
   "outputs": [],
   "source": [
    "ax1 = plt.subplot2grid((4, 3), (0, 0), colspan = 3)\n",
    "\n",
    "ax1.text(0.05, 0.1, 'ax1', va = 'center', ha = 'center')\n",
    "\n",
    "ax1.tick_params(axis = 'both', which = 'both', length = 0)\n",
    "\n",
    "for tl in ax1.get_xticklabels() + ax1.get_yticklabels():\n",
    "    tl.set_visible(False)"
   ]
  },
  {
   "cell_type": "markdown",
   "metadata": {},
   "source": [
    "### `ax1.tick_params`\n",
    "\n",
    "- The `axis` is `x` or `y` or `both`\n",
    "- The `which` is `minor` or `major` or `both`\n",
    "- The `length` is the length of the ticks in points"
   ]
  },
  {
   "cell_type": "code",
   "execution_count": null,
   "metadata": {},
   "outputs": [],
   "source": [
    "ax2 = plt.subplot2grid((4, 3), (1, 0), colspan = 2)\n",
    "\n",
    "ax2.text(0.08, 0.85, 'ax2', va = 'center', ha = 'center')\n",
    "\n",
    "ax2.tick_params(axis = 'both', which = 'both', length = 0)\n",
    "\n",
    "for tl in ax2.get_xticklabels() + ax2.get_yticklabels():\n",
    "    tl.set_visible(False)"
   ]
  },
  {
   "cell_type": "code",
   "execution_count": null,
   "metadata": {},
   "outputs": [],
   "source": [
    "ax3 = plt.subplot2grid((4, 3), (1, 2), rowspan = 2)\n",
    "\n",
    "ax3.text(0.82, 0.92, 'ax3', va = 'center', ha = 'center')\n",
    "\n",
    "ax3.tick_params(axis = 'both', which = 'both', length = 0)\n",
    "\n",
    "for tl in ax3.get_xticklabels() + ax3.get_yticklabels():\n",
    "    tl.set_visible(False)"
   ]
  },
  {
   "cell_type": "code",
   "execution_count": null,
   "metadata": {},
   "outputs": [],
   "source": [
    "ax4 = plt.subplot2grid((4, 3), (2, 0))\n",
    "\n",
    "ax4.text(0.17, 0.85, 'ax4', va = 'center', ha = 'center')\n",
    "\n",
    "ax4.tick_params(axis = 'both', which = 'both', length = 0)\n",
    "\n",
    "for tl in ax4.get_xticklabels() + ax4.get_yticklabels():\n",
    "    tl.set_visible(False)"
   ]
  },
  {
   "cell_type": "code",
   "execution_count": null,
   "metadata": {},
   "outputs": [],
   "source": [
    "ax5 = plt.subplot2grid((4, 3), (2, 1))\n",
    "\n",
    "ax5.text(0.5, 0.5, 'ax5', va = 'center', ha = 'center')\n",
    "\n",
    "ax5.tick_params(axis = 'both', which = 'both', length = 0)\n",
    "\n",
    "for tl in ax5.get_xticklabels() + ax5.get_yticklabels():\n",
    "    tl.set_visible(False)"
   ]
  },
  {
   "cell_type": "markdown",
   "metadata": {},
   "source": [
    "## Things to Try\n",
    "\n",
    "1. Change the visibility of ax1 to `True`\n",
    "2. Change the figure size to `(3, 2)`\n",
    "3. Change the column span of `ax2` to `3`\n",
    "4. Add a new cell above this cell and enter in \n",
    "   `ax2.set_visible(False)`"
   ]
  },
  {
   "cell_type": "markdown",
   "metadata": {},
   "source": [
    "# End of Notebook"
   ]
  }
 ],
 "metadata": {
  "kernelspec": {
   "display_name": "Python 3",
   "language": "python",
   "name": "python3"
  },
  "language_info": {
   "codemirror_mode": {
    "name": "ipython",
    "version": 3
   },
   "file_extension": ".py",
   "mimetype": "text/x-python",
   "name": "python",
   "nbconvert_exporter": "python",
   "pygments_lexer": "ipython3",
   "version": "3.7.4"
  },
  "toc": {
   "base_numbering": 1,
   "nav_menu": {},
   "number_sections": true,
   "sideBar": true,
   "skip_h1_title": true,
   "title_cell": "Table of Contents",
   "title_sidebar": "Contents",
   "toc_cell": false,
   "toc_position": {
    "height": "calc(100% - 180px)",
    "left": "10px",
    "top": "150px",
    "width": "326.594px"
   },
   "toc_section_display": true,
   "toc_window_display": true
  }
 },
 "nbformat": 4,
 "nbformat_minor": 2
}
