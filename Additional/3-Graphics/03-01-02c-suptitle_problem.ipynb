{
 "cells": [
  {
   "cell_type": "markdown",
   "metadata": {},
   "source": [
    "# Figure and plot Setup"
   ]
  },
  {
   "cell_type": "markdown",
   "metadata": {},
   "source": [
    "## Set Up Backend "
   ]
  },
  {
   "cell_type": "code",
   "execution_count": null,
   "metadata": {},
   "outputs": [],
   "source": [
    "%matplotlib notebook"
   ]
  },
  {
   "cell_type": "markdown",
   "metadata": {},
   "source": [
    "## Import the Rest of the Tools"
   ]
  },
  {
   "cell_type": "code",
   "execution_count": null,
   "metadata": {},
   "outputs": [],
   "source": [
    "from pandas import DataFrame\n",
    "from pandas import Series\n",
    "import matplotlib.pyplot as plt\n",
    "import pandas as pd\n",
    "import numpy as np\n",
    "import matplotlib as mpl"
   ]
  },
  {
   "cell_type": "markdown",
   "metadata": {},
   "source": [
    "## Canvas Setup"
   ]
  },
  {
   "cell_type": "code",
   "execution_count": null,
   "metadata": {},
   "outputs": [],
   "source": [
    "fig = plt.figure('Canvas with Multiple Subplots', \n",
    "                 figsize = (4, 5),\n",
    "                 facecolor = 'lightblue',\n",
    "                 edgecolor = 'black',\n",
    "                 dpi = 200)"
   ]
  },
  {
   "cell_type": "code",
   "execution_count": null,
   "metadata": {},
   "outputs": [],
   "source": [
    "plt.suptitle('subplot2grid', y = 0.85, fontsize = 18)"
   ]
  },
  {
   "cell_type": "markdown",
   "metadata": {},
   "source": [
    "### Creating a title for the collection of plots\n",
    "\n",
    "`plt.suptitle(<string to use for title>, y=<relative location of text baseline>,<br>\n",
    "              fontsize=<points allocated to font>`\n",
    "- `y = 0.85` is the location of the baseline. The bottom on the plot is 0 and the<br>\n",
    "   top of the plt is 1.0. The default is 0.98 for the baseline\n",
    "-  There are 72 points to an inch"
   ]
  },
  {
   "cell_type": "markdown",
   "metadata": {},
   "source": [
    "### A Problem with `tight_layout`\n",
    "- `tight_layout` does not take into account a canvas title with the subplots.\n",
    "- Normally I just place the title in another cell and not worry about it.\n",
    "- You can create a subplot and make it invisble and then the `suptitle`<br>\n",
    "  overwrites this and it looks mostly ok.\n",
    "- the `y=0.85` places the title at .5 of the way up the canvas"
   ]
  },
  {
   "cell_type": "markdown",
   "metadata": {},
   "source": [
    "## Subplots Setup"
   ]
  },
  {
   "cell_type": "code",
   "execution_count": null,
   "metadata": {},
   "outputs": [],
   "source": [
    "ax0 = plt.subplot2grid((4, 3), (0, 0), colspan = 3)"
   ]
  },
  {
   "cell_type": "code",
   "execution_count": null,
   "metadata": {},
   "outputs": [],
   "source": [
    "ax0.set_visible(False)"
   ]
  },
  {
   "cell_type": "markdown",
   "metadata": {},
   "source": [
    "### Invisible subplot\n",
    "\n",
    "This subplot is there to hold space. It is written over."
   ]
  },
  {
   "cell_type": "code",
   "execution_count": null,
   "metadata": {},
   "outputs": [],
   "source": [
    "ax1 = plt.subplot2grid((4, 3), (1, 0), colspan = 3)\n",
    "\n",
    "ax1.text(0.5, 0.5, 'ax1', va = 'center', ha = 'center')\n",
    "\n",
    "ax1.set_xlabel('x1-label', fontsize = 8)\n",
    "ax1.set_ylabel('y1-label', fontsize = 8)\n",
    "ax1.set_title('Title 1', fontsize = 8)"
   ]
  },
  {
   "cell_type": "code",
   "execution_count": null,
   "metadata": {},
   "outputs": [],
   "source": [
    "ax2 = plt.subplot2grid((4, 3), (2, 0), colspan = 2)\n",
    "\n",
    "ax2.text(0.5, 0.5, 'ax2', va = 'center', ha = 'center')\n",
    "\n",
    "ax2.set_xlabel('x2-label', fontsize = 8)\n",
    "ax2.set_ylabel('y2-label', fontsize = 8)\n",
    "ax2.set_title('Title 2', fontsize = 8)"
   ]
  },
  {
   "cell_type": "code",
   "execution_count": null,
   "metadata": {},
   "outputs": [],
   "source": [
    "ax3 = plt.subplot2grid((4, 3), (2, 2), rowspan = 2)\n",
    "\n",
    "ax3.text(0.5, 0.5, 'ax3', va = 'center', ha = 'center')\n",
    "\n",
    "ax3.set_xlabel('x3-label', fontsize = 8)\n",
    "ax3.set_ylabel('y3-label', fontsize = 8)\n",
    "ax3.set_title('Title 3', fontsize = 8)"
   ]
  },
  {
   "cell_type": "code",
   "execution_count": null,
   "metadata": {},
   "outputs": [],
   "source": [
    "ax4 = plt.subplot2grid((4, 3), (3, 0))\n",
    "\n",
    "ax4.text(0.5, 0.5, 'ax4', va = 'center', ha = 'center')\n",
    "\n",
    "ax4.set_xlabel('x4-label', fontsize = 8)\n",
    "ax4.set_ylabel('y4-label', fontsize = 8)\n",
    "ax4.set_title('Title 4', fontsize = 8)"
   ]
  },
  {
   "cell_type": "code",
   "execution_count": null,
   "metadata": {},
   "outputs": [],
   "source": [
    "ax5 = plt.subplot2grid((4, 3), (3, 1))\n",
    "\n",
    "ax5.text(0.5, 0.5, 'ax5', va = 'center', ha = 'center')\n",
    "\n",
    "ax5.set_xlabel('x5-label', fontsize = 8)\n",
    "ax5.set_ylabel('y5-label', fontsize = 8)\n",
    "ax5.set_title('Title 5', fontsize = 8)"
   ]
  },
  {
   "cell_type": "code",
   "execution_count": null,
   "metadata": {},
   "outputs": [],
   "source": [
    "fig.tight_layout()"
   ]
  },
  {
   "cell_type": "markdown",
   "metadata": {},
   "source": [
    "# End of Notebook"
   ]
  }
 ],
 "metadata": {
  "kernelspec": {
   "display_name": "Python 3",
   "language": "python",
   "name": "python3"
  },
  "language_info": {
   "codemirror_mode": {
    "name": "ipython",
    "version": 3
   },
   "file_extension": ".py",
   "mimetype": "text/x-python",
   "name": "python",
   "nbconvert_exporter": "python",
   "pygments_lexer": "ipython3",
   "version": "3.7.4"
  },
  "toc": {
   "base_numbering": 1,
   "nav_menu": {},
   "number_sections": true,
   "sideBar": true,
   "skip_h1_title": true,
   "title_cell": "Table of Contents",
   "title_sidebar": "Contents",
   "toc_cell": false,
   "toc_position": {
    "height": "calc(100% - 180px)",
    "left": "10px",
    "top": "150px",
    "width": "326.594px"
   },
   "toc_section_display": true,
   "toc_window_display": true
  }
 },
 "nbformat": 4,
 "nbformat_minor": 2
}
