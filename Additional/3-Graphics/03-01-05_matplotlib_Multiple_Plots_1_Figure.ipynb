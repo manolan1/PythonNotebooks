{
 "cells": [
  {
   "cell_type": "markdown",
   "metadata": {},
   "source": [
    "# `matplotlib` Multiple Plots, One Figure\n",
    "\n",
    "* The trick is in step 5 adjusting the distance between the plots"
   ]
  },
  {
   "cell_type": "markdown",
   "metadata": {},
   "source": [
    "## Set Up Backend "
   ]
  },
  {
   "cell_type": "code",
   "execution_count": null,
   "metadata": {},
   "outputs": [],
   "source": [
    "%matplotlib notebook"
   ]
  },
  {
   "cell_type": "markdown",
   "metadata": {},
   "source": [
    "## The rest of the imports"
   ]
  },
  {
   "cell_type": "code",
   "execution_count": null,
   "metadata": {},
   "outputs": [],
   "source": [
    "from pandas import DataFrame\n",
    "from pandas import Series\n",
    "import matplotlib.pyplot as plt\n",
    "import pandas as pd\n",
    "import numpy as np\n",
    "import matplotlib as mpl"
   ]
  },
  {
   "cell_type": "markdown",
   "metadata": {},
   "source": [
    "## Get Some Data"
   ]
  },
  {
   "cell_type": "code",
   "execution_count": null,
   "metadata": {},
   "outputs": [],
   "source": [
    "stock = 'GOOGLE'\n",
    "\n",
    "df = pd.read_csv(stock + '_stock.csv')\n",
    "df.head()"
   ]
  },
  {
   "cell_type": "markdown",
   "metadata": {},
   "source": [
    "### Convert Index to Timestamp and Drop `date1` Column"
   ]
  },
  {
   "cell_type": "code",
   "execution_count": null,
   "metadata": {},
   "outputs": [],
   "source": [
    "df_date_index = df.rename(index = pd.to_datetime(df['date'], \n",
    "                          format = '%Y-%m-%d')).drop('date', axis = 1)"
   ]
  },
  {
   "cell_type": "code",
   "execution_count": null,
   "metadata": {},
   "outputs": [],
   "source": [
    "print(df_date_index.head())"
   ]
  },
  {
   "cell_type": "code",
   "execution_count": null,
   "metadata": {},
   "outputs": [],
   "source": [
    "print(type(df_date_index.index))"
   ]
  },
  {
   "cell_type": "markdown",
   "metadata": {},
   "source": [
    "### Resample to Day Period"
   ]
  },
  {
   "cell_type": "code",
   "execution_count": null,
   "metadata": {},
   "outputs": [],
   "source": [
    "df_day_index = df_date_index.resample('D', kind = 'period').mean()\n",
    "\n",
    "print(df_day_index.head())\n",
    "print(type(df_day_index.index))"
   ]
  },
  {
   "cell_type": "markdown",
   "metadata": {},
   "source": [
    "### Forward Fill"
   ]
  },
  {
   "cell_type": "code",
   "execution_count": null,
   "metadata": {},
   "outputs": [],
   "source": [
    "df_day_all_days = df_date_index.resample('D', kind = 'period').mean().fillna(method = 'ffill')"
   ]
  },
  {
   "cell_type": "code",
   "execution_count": null,
   "metadata": {},
   "outputs": [],
   "source": [
    "print(df_day_all_days.head())\n",
    "print(type(df_day_all_days.index))"
   ]
  },
  {
   "cell_type": "markdown",
   "metadata": {},
   "source": [
    "### Prepare dates for plotting"
   ]
  },
  {
   "cell_type": "code",
   "execution_count": null,
   "metadata": {},
   "outputs": [],
   "source": [
    "X_all_days = df_day_all_days.index.to_timestamp().values\n",
    "print(X_all_days[0:10])\n",
    "print(type(X_all_days))"
   ]
  },
  {
   "cell_type": "markdown",
   "metadata": {},
   "source": [
    "## Setting Up the Figure and  `ax1`"
   ]
  },
  {
   "cell_type": "code",
   "execution_count": null,
   "metadata": {},
   "outputs": [],
   "source": [
    "# Set up the figure \n",
    "# figsize=(width, height)\n",
    "figure = plt.figure('High Low Graphs', figsize = (8, 6), dpi = 100)"
   ]
  },
  {
   "cell_type": "code",
   "execution_count": null,
   "metadata": {},
   "outputs": [],
   "source": [
    "ax1 = plt.subplot2grid((2, 1), (0, 0), fig = figure)  "
   ]
  },
  {
   "cell_type": "code",
   "execution_count": null,
   "metadata": {},
   "outputs": [],
   "source": [
    "ax1.grid(True)"
   ]
  },
  {
   "cell_type": "markdown",
   "metadata": {},
   "source": [
    "## Adjust Distance Between Plot\n",
    "- Allows for axis labels and plot titles"
   ]
  },
  {
   "cell_type": "code",
   "execution_count": null,
   "metadata": {},
   "outputs": [],
   "source": [
    "#plt.tight_layout(pad = 0.4, w_pad = 0.5, h_pad = 1.0)\n",
    "plt.tight_layout(h_pad = 4.0, pad = 4.0)"
   ]
  },
  {
   "cell_type": "markdown",
   "metadata": {},
   "source": [
    "* `h_pad` or `w_pad` Adding (height/width) between edges of adjacent subplots, as a fraction of the font size. \n",
    "* `pad` Padding between the figure edge and the edges of subplots, as a fraction of the font size."
   ]
  },
  {
   "cell_type": "code",
   "execution_count": null,
   "metadata": {},
   "outputs": [],
   "source": [
    "ax1.set_title(\"High\", fontsize = 10)\n"
   ]
  },
  {
   "cell_type": "markdown",
   "metadata": {},
   "source": [
    "## Formatting Common to Both x Axises"
   ]
  },
  {
   "cell_type": "code",
   "execution_count": null,
   "metadata": {},
   "outputs": [],
   "source": [
    "years = mpl.dates.YearLocator()   # every year\n",
    "yearsFmt = mpl.dates.DateFormatter('%Y')\n",
    "\n",
    "months = mpl.dates.MonthLocator()  # every month\n",
    "monthsFmt = mpl.dates.DateFormatter('%Y-%m')\n"
   ]
  },
  {
   "cell_type": "markdown",
   "metadata": {},
   "source": [
    "## Setting Up the `xaxis` with Dates on `ax1`"
   ]
  },
  {
   "cell_type": "code",
   "execution_count": null,
   "metadata": {},
   "outputs": [],
   "source": [
    "# format the ticks\n",
    "ax1.xaxis.set_major_locator(years)\n",
    "ax1.xaxis.set_major_formatter(yearsFmt)\n",
    "ax1.xaxis.set_minor_locator(months)\n",
    "\n",
    "ax1.tick_params(axis = 'x', \n",
    "               which = 'major', \n",
    "               labelsize = 6,\n",
    "               labelrotation = 45)\n",
    "ax1.set_xlabel('Date', fontsize = 8, labelpad = 0)"
   ]
  },
  {
   "cell_type": "markdown",
   "metadata": {},
   "source": [
    "## Formatting Common to Both y Axises "
   ]
  },
  {
   "cell_type": "code",
   "execution_count": null,
   "metadata": {},
   "outputs": [],
   "source": [
    "max_high = df_day_all_days['high'].max()\n",
    "min_low = df_day_all_days['low'].min()\n",
    "top = (divmod(max_high + 100, 100)[0] * 100) + 50\n",
    "bottom = (divmod((min_low), 100)[0] * 100) +50\n",
    "print(top)\n",
    "print(bottom)"
   ]
  },
  {
   "cell_type": "markdown",
   "metadata": {},
   "source": [
    "## Setting Up the `yaxis` on `ax1`"
   ]
  },
  {
   "cell_type": "code",
   "execution_count": null,
   "metadata": {},
   "outputs": [],
   "source": [
    "ax1.set_ylim(bottom, top)\n",
    "ax1.set_yticks(np.arange(bottom, top + 50, 50))\n",
    "ax1.tick_params(axis = 'y', labelsize = 6)\n",
    "ax1.set_ylabel('Dollars', fontsize = 8, labelpad = 5)"
   ]
  },
  {
   "cell_type": "markdown",
   "metadata": {},
   "source": [
    "## Setting Up the Figure and  `ax2`"
   ]
  },
  {
   "cell_type": "code",
   "execution_count": null,
   "metadata": {},
   "outputs": [],
   "source": [
    "ax2 = figure.add_subplot(2, 1, 2, sharex = ax1, sharey = ax1 )\n",
    "\n",
    "ax2.grid(True)\n",
    "\n",
    "ax2.set_title(\"Low\", fontsize = 10)\n",
    "\n",
    "\n",
    "ax2.tick_params(axis = 'x', \n",
    "               which = 'major', \n",
    "               labelsize = 6,\n",
    "               labelrotation = 45)\n",
    "ax2.set_xlabel('Date', fontsize = 8, labelpad = 0)\n",
    "\n",
    "ax2.set_ylim(bottom, top)\n",
    "ax2.set_yticks(np.arange(bottom, top + 50, 50))\n",
    "ax2.tick_params(axis = 'y', labelsize = 6)\n",
    "ax2.set_ylabel('Dollars', fontsize = 8, labelpad = 5)"
   ]
  },
  {
   "cell_type": "markdown",
   "metadata": {},
   "source": [
    "## Plotting the Data"
   ]
  },
  {
   "cell_type": "code",
   "execution_count": null,
   "metadata": {},
   "outputs": [],
   "source": [
    "#added to prevent warning message\n",
    "from pandas.plotting import register_matplotlib_converters\n",
    "register_matplotlib_converters()"
   ]
  },
  {
   "cell_type": "code",
   "execution_count": null,
   "metadata": {
    "scrolled": true
   },
   "outputs": [],
   "source": [
    "ax1.plot(X_all_days, df_day_all_days['high'].values, \n",
    "        linestyle = '-', \n",
    "        linewidth = 0.5, \n",
    "        color = 'blue',\n",
    "        label = 'high')\n",
    "ax1.legend(loc = 'best')"
   ]
  },
  {
   "cell_type": "code",
   "execution_count": null,
   "metadata": {},
   "outputs": [],
   "source": [
    "ax2.plot(X_all_days, df_day_all_days['low'].values, \n",
    "        linestyle = '-', \n",
    "        linewidth = 0.5, \n",
    "        color = 'red',\n",
    "        label = 'low')\n",
    "ax2.legend(loc = 'best')"
   ]
  },
  {
   "cell_type": "markdown",
   "metadata": {},
   "source": [
    "## Saving the Graphic"
   ]
  },
  {
   "cell_type": "code",
   "execution_count": null,
   "metadata": {},
   "outputs": [],
   "source": [
    "figure.savefig('high_low_price_2_graphs.png')"
   ]
  },
  {
   "cell_type": "markdown",
   "metadata": {},
   "source": [
    "# End of Notebook"
   ]
  }
 ],
 "metadata": {
  "kernelspec": {
   "display_name": "Python 3",
   "language": "python",
   "name": "python3"
  },
  "language_info": {
   "codemirror_mode": {
    "name": "ipython",
    "version": 3
   },
   "file_extension": ".py",
   "mimetype": "text/x-python",
   "name": "python",
   "nbconvert_exporter": "python",
   "pygments_lexer": "ipython3",
   "version": "3.7.4"
  },
  "toc": {
   "base_numbering": 1,
   "nav_menu": {},
   "number_sections": true,
   "sideBar": false,
   "skip_h1_title": true,
   "title_cell": "Table of Contents",
   "title_sidebar": "Contents",
   "toc_cell": false,
   "toc_position": {
    "height": "724px",
    "left": "387px",
    "top": "110px",
    "width": "326.594px"
   },
   "toc_section_display": true,
   "toc_window_display": false
  }
 },
 "nbformat": 4,
 "nbformat_minor": 2
}
