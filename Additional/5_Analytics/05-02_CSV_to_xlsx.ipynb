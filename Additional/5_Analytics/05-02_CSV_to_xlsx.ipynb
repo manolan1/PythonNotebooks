{
 "cells": [
  {
   "cell_type": "markdown",
   "metadata": {},
   "source": [
    "# Programatically Bringing Data into Excel from Discrete Sources"
   ]
  },
  {
   "cell_type": "markdown",
   "metadata": {},
   "source": [
    "* The purpose of this notebook is to show how Python can programmatically bring data into Excel from a discrete source."
   ]
  },
  {
   "cell_type": "markdown",
   "metadata": {},
   "source": [
    "## Importing a Single Spreadsheet Individual Steps"
   ]
  },
  {
   "cell_type": "code",
   "execution_count": null,
   "metadata": {},
   "outputs": [],
   "source": [
    "from pandas import DataFrame, Series\n",
    "from datetime import datetime\n",
    "import pandas as pd"
   ]
  },
  {
   "cell_type": "markdown",
   "metadata": {},
   "source": [
    "### Template to Read a CSV File into `DataFrame`\n",
    "\n",
    "     dataframe = pd.read_csv(path_to_csv_file, options)"
   ]
  },
  {
   "cell_type": "markdown",
   "metadata": {},
   "source": [
    "### Option Decisions\n",
    "- A comma-separated value (CSV) file is not a standard format. There are a lot of options which need to be considered.\n",
    "- **Column name:** Some row of the file contains names for the columns\n",
    "  - If you want to use this first row as the column names, add `header=0`\n",
    "  - If you do not want to use this first row, add `skiprows=1`\n",
    "  - If there are not colummn names, there are two choices:\n",
    "      - Add option `header = None` and all rows will be treated as data\n",
    "      - Add option `names = [ 'List', 'of', 'column', 'names']`\n",
    "- **Separator** \n",
    "  - If different separator, add `sep=\"character used for separator\"`\n",
    "- **Row index:** Other than default\n",
    "  - Not covered in this course\n",
    "- **Not all columns wanted**\n",
    "  - Add `usecols = ['list', 'of', 'column', 'numbers', 'or', 'names']`"
   ]
  },
  {
   "cell_type": "markdown",
   "metadata": {},
   "source": [
    "#### Example: All Columns, Column Names Defined in Row 1"
   ]
  },
  {
   "cell_type": "code",
   "execution_count": null,
   "metadata": {},
   "outputs": [],
   "source": [
    "df1 = pd.read_csv('Source_files/google.csv', header=0)"
   ]
  },
  {
   "cell_type": "code",
   "execution_count": null,
   "metadata": {},
   "outputs": [],
   "source": [
    "df1.head()"
   ]
  },
  {
   "cell_type": "markdown",
   "metadata": {},
   "source": [
    "#### Example: All Columns, Skip Headers - Just Data"
   ]
  },
  {
   "cell_type": "code",
   "execution_count": null,
   "metadata": {},
   "outputs": [],
   "source": [
    "df2 = pd.read_csv('Source_files/google.csv', header = None, skiprows = 1)"
   ]
  },
  {
   "cell_type": "code",
   "execution_count": null,
   "metadata": {},
   "outputs": [],
   "source": [
    "df2.head()"
   ]
  },
  {
   "cell_type": "markdown",
   "metadata": {},
   "source": [
    "#### Example: All Columns, New Column Names"
   ]
  },
  {
   "cell_type": "code",
   "execution_count": null,
   "metadata": {},
   "outputs": [],
   "source": [
    "df3 = pd.read_csv('Source_files/google.csv', header = None, names = ['d', 'o', 'h', 'l', 'c', 'v'], skiprows = 1)"
   ]
  },
  {
   "cell_type": "code",
   "execution_count": null,
   "metadata": {},
   "outputs": [],
   "source": [
    "df3.head()"
   ]
  },
  {
   "cell_type": "markdown",
   "metadata": {},
   "source": [
    "#### Example: Selected Columns\n",
    "\n",
    "- **NOTE:** You can use integer for the columns with the first column being 0."
   ]
  },
  {
   "cell_type": "code",
   "execution_count": null,
   "metadata": {},
   "outputs": [],
   "source": [
    "df4 = pd.read_csv('Source_files/google.csv', header = 0, usecols = ['date', 'open', 'high', 'low'])"
   ]
  },
  {
   "cell_type": "code",
   "execution_count": null,
   "metadata": {},
   "outputs": [],
   "source": [
    "df4.head()"
   ]
  },
  {
   "cell_type": "markdown",
   "metadata": {},
   "source": [
    "## Writing pandas DataFrame to xlsx (Excel) Format "
   ]
  },
  {
   "cell_type": "code",
   "execution_count": null,
   "metadata": {},
   "outputs": [],
   "source": [
    "# Create an Excel writer to output file\n",
    "output_file_path = 'Destination_files/google_all_no_labels.xlsx'\n",
    "writer = pd.ExcelWriter(output_file_path)\n",
    "\n",
    "# Write file out\n",
    "# Sheet1 is the name of the sheet on the Excel book\n",
    "# Notice that the pandas DataFrame is used to specify which DataFrame to write out\n",
    "df2.to_excel(writer, sheet_name = 'google_no_labels', index = False, header = False, )\n",
    "\n",
    "# Close writer to make sure all data written to xlsx file\n",
    "writer.save() "
   ]
  },
  {
   "cell_type": "markdown",
   "metadata": {},
   "source": [
    "### Checking the Sheet\n",
    "\n",
    "1. Open the xlsx file `google_all_no_labels.xlsx` in Excel."
   ]
  },
  {
   "cell_type": "code",
   "execution_count": null,
   "metadata": {},
   "outputs": [],
   "source": [
    "# Create an Excel writer to output file\n",
    "output_file_path = 'Destination_files/google_all_labels.xlsx'\n",
    "writer = pd.ExcelWriter(output_file_path)\n",
    "\n",
    "# Write file out\n",
    "# Sheet1 is the name of the sheet on the Excel book\n",
    "# Notice that the pandas DataFrame is used to specify which DataFrame to write out\n",
    "df2.to_excel(writer, sheet_name = 'google_labels', index = False, header = True, )\n",
    "\n",
    "# Close writer to make sure all data written to xlsx file\n",
    "writer.save() "
   ]
  },
  {
   "cell_type": "markdown",
   "metadata": {},
   "source": [
    "### Checking the Sheet\n",
    "\n",
    "1. Open the xlsx file `google_all_labels.xlsx` in Excel."
   ]
  },
  {
   "cell_type": "markdown",
   "metadata": {},
   "source": [
    "## A Little Simpler with a Function"
   ]
  },
  {
   "cell_type": "markdown",
   "metadata": {},
   "source": [
    "### Creating Functions "
   ]
  },
  {
   "cell_type": "code",
   "execution_count": null,
   "metadata": {},
   "outputs": [],
   "source": [
    "def create_dataframe_file_from_csv(csv_file_path, **options):\n",
    "    import pandas as pd\n",
    "    \n",
    "    options_passed = dict(options)\n",
    "    \n",
    "    df = pd.read_csv(csv_file_path, **options_passed)\n",
    "    return df\n",
    "        \n",
    "def create_xlsx_file_from_df(dataframe, xlsx_file_path, sheet_name = None):\n",
    "    import pandas as pd\n",
    "    \n",
    "    writer = pd.ExcelWriter(xlsx_file_path)\n",
    "    \n",
    "    if not sheet_name:\n",
    "        dataframe.to_excel(writer)\n",
    "    else:\n",
    "        dataframe.to_excel(writer, sheet_name = sheet_name)\n",
    "    writer.save()\n",
    "    return\n",
    "\n",
    "def create_xlsx_file_from_csv(csv_file_path, xlsx_file_path, **options):\n",
    "    import pandas as pd\n",
    "    \n",
    "    options_passed = dict(options)\n",
    "    sheet_name = options.get('sheet_name')\n",
    "    if sheet_name:\n",
    "        options_passed.pop('sheet_name')\n",
    "    \n",
    "    df = create_dataframe_file_from_csv(csv_file_path, **options_passed)\n",
    "    \n",
    "    if not sheet_name:\n",
    "        create_xlsx_file_from_df(df, xlsx_file_path, sheet_name = sheet_name)\n",
    "    else:\n",
    "        create_xlsx_file_from_df(df, xlsx_file_path)\n",
    "    return\n",
    "    "
   ]
  },
  {
   "cell_type": "markdown",
   "metadata": {},
   "source": [
    "#### Using `create_xlsx_file`\n",
    "\n",
    "- **Calling** \n",
    "         create_xlsx_from_csv(cvs_file_path, xlsx_file_path, optional_parameters)\n",
    "         \n",
    "- **The optional parameters**\n",
    "  - **NOTE:** All optional parameters are `parameter_name=parameter_value`. There can be no spaces on either side of the equals sign (=).\n",
    "  - The parameters:\n",
    "    - `header`\n",
    "    - `skiprows`\n",
    "    - `sheet_name`\n",
    "    - `usecols`  **REMEMBER:** header must be `header=None`"
   ]
  },
  {
   "cell_type": "markdown",
   "metadata": {},
   "source": [
    "#### Example: No Column Name, `sheet_name` Is `\"wow\"`"
   ]
  },
  {
   "cell_type": "code",
   "execution_count": null,
   "metadata": {},
   "outputs": [],
   "source": [
    "create_xlsx_file_from_csv('Source_files/google.csv', 'Destination_files/google14.xlsx', \n",
    "                          header = None, skiprows = 1, sheet_name = 'wow')"
   ]
  },
  {
   "cell_type": "markdown",
   "metadata": {},
   "source": [
    "#### Checking the Output\n",
    "1. Open `Destination_files/google14.xlsx` in Excel and check the `sheet_name` and some of the data for accuracy."
   ]
  },
  {
   "cell_type": "markdown",
   "metadata": {},
   "source": [
    "# End of Notebook"
   ]
  }
 ],
 "metadata": {
  "kernelspec": {
   "display_name": "Python 3",
   "language": "python",
   "name": "python3"
  },
  "language_info": {
   "codemirror_mode": {
    "name": "ipython",
    "version": 3
   },
   "file_extension": ".py",
   "mimetype": "text/x-python",
   "name": "python",
   "nbconvert_exporter": "python",
   "pygments_lexer": "ipython3",
   "version": "3.7.4"
  },
  "toc": {
   "base_numbering": 1,
   "nav_menu": {},
   "number_sections": true,
   "sideBar": true,
   "skip_h1_title": true,
   "title_cell": "Table of Contents",
   "title_sidebar": "Contents",
   "toc_cell": false,
   "toc_position": {},
   "toc_section_display": true,
   "toc_window_display": true
  }
 },
 "nbformat": 4,
 "nbformat_minor": 2
}
