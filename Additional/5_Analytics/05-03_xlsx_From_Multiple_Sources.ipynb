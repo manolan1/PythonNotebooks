{
 "cells": [
  {
   "cell_type": "markdown",
   "metadata": {},
   "source": [
    "# Programmatically Bringing Data into Excel from Multiple Sources as One Excel Workbook"
   ]
  },
  {
   "cell_type": "markdown",
   "metadata": {},
   "source": [
    "* The purpose of this notebook is to show how Python can be used to programmatically bring CSV data into Excel."
   ]
  },
  {
   "cell_type": "markdown",
   "metadata": {},
   "source": [
    "## Setting Up the Notebook"
   ]
  },
  {
   "cell_type": "code",
   "execution_count": null,
   "metadata": {},
   "outputs": [],
   "source": [
    "from pandas import DataFrame, Series\n",
    "import pandas as pd\n",
    "import os\n",
    "import glob\n",
    "import csv"
   ]
  },
  {
   "cell_type": "markdown",
   "metadata": {},
   "source": [
    "### Previously Created Functions\n"
   ]
  },
  {
   "cell_type": "code",
   "execution_count": null,
   "metadata": {},
   "outputs": [],
   "source": [
    "def create_dataframe_file_from_csv(csv_file_path, **options):\n",
    "    import pandas as pd\n",
    "    \n",
    "    options_passed = dict(options)\n",
    "    \n",
    "    df = pd.read_csv(csv_file_path, **options_passed)\n",
    "    return df\n",
    "        \n",
    "def create_xlsx_file_from_df(dataframe, xlsx_file_path, sheet_name = None):\n",
    "    import pandas as pd\n",
    "    \n",
    "    writer = pd.ExcelWriter(xlsx_file_path)\n",
    "    \n",
    "    if not sheet_name:\n",
    "        dataframe.to_excel(writer)\n",
    "    else:\n",
    "        dataframe.to_excel(writer, sheet_name = sheet_name)\n",
    "    writer.save()\n",
    "    return\n",
    "\n",
    "def create_xlsx_file_from_csv(csv_file_path, xlsx_file_path, **options):\n",
    "    import pandas as pd\n",
    "    \n",
    "    options_passed = dict(options)\n",
    "    sheet_name = options.get('sheet_name')\n",
    "    if sheet_name:\n",
    "        options_passed.pop('sheet_name')\n",
    "    \n",
    "    df = create_dataframe_file_from_csv(csv_file_path, **options_passed)\n",
    "    \n",
    "    if not sheet_name:\n",
    "        create_xlsx_file_from_df(df, xlsx_file_path, sheet_name = sheet_name)\n",
    "    else:\n",
    "        create_xlsx_file_from_df(df, xlsx_file_path)\n",
    "    return"
   ]
  },
  {
   "cell_type": "markdown",
   "metadata": {},
   "source": [
    "### Concatenating the Files\n",
    "\n",
    "- Assumptions:\n",
    "  1. All CSV files are in the same directory.\n",
    "  2. All CSV files have the same column headers.\n",
    "- The procedure:\n",
    "  1. Read in all of the CSV files and concatenate them into one `DataFrame`.\n",
    "  2. Call `create_single_xlsx_from_csv` to create the xlsx file."
   ]
  },
  {
   "cell_type": "code",
   "execution_count": null,
   "metadata": {},
   "outputs": [],
   "source": [
    "def csv_concat(source_files, destination_file):\n",
    "    first = True\n",
    "    for csvfile in glob.glob(os.path.join('.', source_files)):\n",
    "        temp_df = pd.read_csv(csvfile, index_col = False)\n",
    "    \n",
    "        if first:\n",
    "            final_df = DataFrame(columns = temp_df.columns)\n",
    "            first = False\n",
    "        \n",
    "        final_df = pd.concat([final_df, temp_df], ignore_index = True, axis = 0)\n",
    "    \n",
    "    final_df.sort_values(by = ['date'], axis = 0, inplace = True)\n",
    "\n",
    "    create_xlsx_file_from_df(final_df, destination_file)\n",
    "    "
   ]
  },
  {
   "cell_type": "code",
   "execution_count": null,
   "metadata": {},
   "outputs": [],
   "source": [
    "csv_concat(r'Source_files/google_20*.csv', 'Destination_files/multiple_sources.xlsx')"
   ]
  },
  {
   "cell_type": "markdown",
   "metadata": {},
   "source": [
    "## To Different Sheets\n"
   ]
  },
  {
   "cell_type": "code",
   "execution_count": null,
   "metadata": {},
   "outputs": [],
   "source": [
    "def multiple_sheets(source_file, destination_file):\n",
    "    writer = pd.ExcelWriter(destination_file, engine = 'xlsxwriter')\n",
    "\n",
    "    with open(source_file, 'r') as fh:\n",
    "        for line in fh:\n",
    "            if 'quit' in line: break\n",
    "            csv_file, sheet_name = line.split()\n",
    "            df = create_dataframe_file_from_csv(csv_file)\n",
    "            df.to_excel(writer, sheet_name = sheet_name)\n",
    "\n",
    "    writer.save()"
   ]
  },
  {
   "cell_type": "code",
   "execution_count": null,
   "metadata": {},
   "outputs": [],
   "source": [
    "multiple_sheets('Source_files/csv_sheet.txt', 'Destination_files/pandas_multiple.xlsx')"
   ]
  },
  {
   "cell_type": "markdown",
   "metadata": {},
   "source": [
    "# End of Notebook"
   ]
  }
 ],
 "metadata": {
  "kernelspec": {
   "display_name": "Python 3",
   "language": "python",
   "name": "python3"
  },
  "language_info": {
   "codemirror_mode": {
    "name": "ipython",
    "version": 3
   },
   "file_extension": ".py",
   "mimetype": "text/x-python",
   "name": "python",
   "nbconvert_exporter": "python",
   "pygments_lexer": "ipython3",
   "version": "3.7.4"
  },
  "toc": {
   "base_numbering": 1,
   "nav_menu": {},
   "number_sections": true,
   "sideBar": true,
   "skip_h1_title": true,
   "title_cell": "Table of Contents",
   "title_sidebar": "Contents",
   "toc_cell": false,
   "toc_position": {},
   "toc_section_display": true,
   "toc_window_display": true
  }
 },
 "nbformat": 4,
 "nbformat_minor": 2
}
