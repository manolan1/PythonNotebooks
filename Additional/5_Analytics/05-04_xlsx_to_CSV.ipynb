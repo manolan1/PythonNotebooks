{
 "cells": [
  {
   "cell_type": "markdown",
   "metadata": {},
   "source": [
    "# Programmatically Converting Excel (xlsx) Data to CSV Files"
   ]
  },
  {
   "cell_type": "markdown",
   "metadata": {},
   "source": [
    "* The purpose of this notebook is to show how Python can be used to programmatically bring Excel (xlsx) data into CSV files."
   ]
  },
  {
   "cell_type": "markdown",
   "metadata": {},
   "source": [
    "## Notebook Setup"
   ]
  },
  {
   "cell_type": "code",
   "execution_count": null,
   "metadata": {},
   "outputs": [],
   "source": [
    "from pandas import DataFrame, Series\n",
    "from datetime import datetime\n",
    "import pandas as pd"
   ]
  },
  {
   "cell_type": "code",
   "execution_count": null,
   "metadata": {},
   "outputs": [],
   "source": [
    "def show_10(file_path):\n",
    "    count = 0\n",
    "\n",
    "    with open(file_path, 'r') as fh:\n",
    "        for line in fh:\n",
    "            if count > 10: break\n",
    "            print(line[:-1])\n",
    "            count = count + 1\n",
    "    return"
   ]
  },
  {
   "cell_type": "markdown",
   "metadata": {},
   "source": [
    "## Exporting a Single Spreadsheet Individual Steps"
   ]
  },
  {
   "cell_type": "markdown",
   "metadata": {},
   "source": [
    "### Template to Read an xlsx File into DataFrame\n",
    "\n",
    "    df = pd.read_excel(Path_to_xlsx_file, options)"
   ]
  },
  {
   "cell_type": "markdown",
   "metadata": {},
   "source": [
    "###  Option Decisions\n",
    "- A comma-separated value (CSV) file is not a standard format. There are a lot of options which need to be considered.\n",
    "- **Column name:** Some row of the file contains names for the columns\n",
    "  - If you want to use this first row as the column names, add `header=0`\n",
    "  - If you do not want to use this first row, add `skiprows=1`\n",
    "  - If there are not colummn names, there are two choices:\n",
    "      - Add option `header = None` and all rows will be treated as data\n",
    "      - Add option `names = [ 'List', 'of', 'column', 'names']`\n",
    "- **Separator** \n",
    "  - If different separator, add `sep=\"character used for separator\"`\n",
    "- **Row Index:** Other than default\n",
    "  - Not covered in this course\n",
    "- **Not all columns wanted**\n",
    "  - Add `usecols = ['list', 'of', 'column', 'numbers', 'or', 'names']`"
   ]
  },
  {
   "cell_type": "markdown",
   "metadata": {},
   "source": [
    "#### Example: All Columns, Column Names Defined in Row 1"
   ]
  },
  {
   "cell_type": "code",
   "execution_count": null,
   "metadata": {},
   "outputs": [],
   "source": [
    "df1 = pd.read_excel('./Source_files/google_all.xlsx', header = 0, index_col = 0)"
   ]
  },
  {
   "cell_type": "code",
   "execution_count": null,
   "metadata": {},
   "outputs": [],
   "source": [
    "df1.to_csv('./Destination_files/new_google_all.csv', index = False)"
   ]
  },
  {
   "cell_type": "code",
   "execution_count": null,
   "metadata": {},
   "outputs": [],
   "source": [
    "show_10('./Destination_files/new_google_all.csv')"
   ]
  },
  {
   "cell_type": "markdown",
   "metadata": {},
   "source": [
    "#### Example: All Columns, Skip Headers - Just Data"
   ]
  },
  {
   "cell_type": "code",
   "execution_count": null,
   "metadata": {},
   "outputs": [],
   "source": [
    "df2 = pd.read_excel('./Source_files/google_all.xlsx', header = None, skiprows = 1, index_col = 0)"
   ]
  },
  {
   "cell_type": "code",
   "execution_count": null,
   "metadata": {},
   "outputs": [],
   "source": [
    "df2.to_csv('./Destination_files/new_data_only.csv', header = False, index = False)"
   ]
  },
  {
   "cell_type": "code",
   "execution_count": null,
   "metadata": {},
   "outputs": [],
   "source": [
    "show_10('./Destination_files/new_data_only.csv')"
   ]
  },
  {
   "cell_type": "markdown",
   "metadata": {},
   "source": [
    "#### Example: All Columns, New Column Names"
   ]
  },
  {
   "cell_type": "code",
   "execution_count": null,
   "metadata": {},
   "outputs": [],
   "source": [
    "df3 = pd.read_excel('./Source_files/google_all.xlsx', header = None, index_col = 0, \n",
    "                    skiprows=1, names = ['d', 'o', 'h', 'l', 'c', 'v'])"
   ]
  },
  {
   "cell_type": "code",
   "execution_count": null,
   "metadata": {},
   "outputs": [],
   "source": [
    "df3.to_csv('./Destination_files/new_column_names.csv', index = False)"
   ]
  },
  {
   "cell_type": "code",
   "execution_count": null,
   "metadata": {},
   "outputs": [],
   "source": [
    "show_10('./Destination_files/new_column_names.csv')"
   ]
  },
  {
   "cell_type": "markdown",
   "metadata": {},
   "source": [
    "#### Example: Selected Columns\n",
    "\n",
    "- **NOTE:** You can use integer for the columns with the first column being 0\n",
    "- **NOTICE:** Since `usecols` specifies the columns, you have to turn off the index or `date` will be used for the index\n",
    "- **NOTICE:** Column specification is only a view on the underlying `DataFrame"
   ]
  },
  {
   "cell_type": "code",
   "execution_count": null,
   "metadata": {},
   "outputs": [],
   "source": [
    "df4 = pd.read_excel('./Source_files/google_all.xlsx', header = 0, index_col = None, usecols = ['date', 'high', 'low'])"
   ]
  },
  {
   "cell_type": "code",
   "execution_count": null,
   "metadata": {},
   "outputs": [],
   "source": [
    "df4.to_csv('./Destination_files/new_columns_date_high_low3.csv', index = False)"
   ]
  },
  {
   "cell_type": "code",
   "execution_count": null,
   "metadata": {},
   "outputs": [],
   "source": [
    "show_10('./Destination_files/new_columns_date_high_low3.csv')"
   ]
  },
  {
   "cell_type": "markdown",
   "metadata": {},
   "source": [
    "## A Little Simpler with a Function"
   ]
  },
  {
   "cell_type": "markdown",
   "metadata": {},
   "source": [
    "### Creating the Function"
   ]
  },
  {
   "cell_type": "code",
   "execution_count": null,
   "metadata": {},
   "outputs": [],
   "source": [
    "def create_csv_file_from_xlsx(xlsx_file_path, csv_file_path, csv_headers = True, **options):\n",
    "    from pandas import DataFrame, Series\n",
    "    import pandas as pd\n",
    "\n",
    "    options_passed = dict(options)\n",
    "    \n",
    "    df = pd.read_excel(xlsx_file_path, **options_passed)\n",
    "    \n",
    "    if csv_headers:\n",
    "        df.to_csv(csv_file_path, index = False)\n",
    "    else:\n",
    "        df.to_csv(csv_file_path, index = False, header = False)\n",
    "\n",
    "    return"
   ]
  },
  {
   "cell_type": "markdown",
   "metadata": {},
   "source": [
    "#### Using `create_csv_file`\n",
    "\n",
    "- **Calling** \n",
    "         create_csv_file_from_xlsx(xlsx_file_path, csv_file_path, csv_headers=True, optional_parameters)\n",
    "         \n",
    "   - **NOTE:** Row index is never included\n",
    "         \n",
    "- **`csv_headers`**\n",
    "  - This parameter must be set to `False` if no column headers are wanted\n",
    "- **The optional parameters**\n",
    "  - **NOTE:** All optional parameters are `parameter_name = parameter_value`. There can be no spaces on either side of the equals sign (=).\n",
    "  - Options: \n",
    "    - Column names and data: `header = 0, index_col = 0`\n",
    "    - Only data: `csv_headers = False, header = None, skiprows = 1, index_col = 0`\n",
    "    - New column names: `header = None, index_col = 0, skiprows = 1, names = [column_names]`\n",
    "    - Select columns: `header = 0, index_col = None, usecols = ['date', 'high', 'low']`"
   ]
  },
  {
   "cell_type": "markdown",
   "metadata": {},
   "source": [
    "#### Example: Just Data"
   ]
  },
  {
   "cell_type": "code",
   "execution_count": null,
   "metadata": {},
   "outputs": [],
   "source": [
    "create_csv_file_from_xlsx('./Source_files/google_all.xlsx', 'Destination_files/google_just_data.csv', \n",
    "                          csv_headers = False, header = None, skiprows = 1, index_col = 0)"
   ]
  },
  {
   "cell_type": "markdown",
   "metadata": {},
   "source": [
    "#### Checking the Output"
   ]
  },
  {
   "cell_type": "code",
   "execution_count": null,
   "metadata": {},
   "outputs": [],
   "source": [
    "show_10('./Destination_files/google_just_data.csv')"
   ]
  },
  {
   "cell_type": "markdown",
   "metadata": {},
   "source": [
    "#### Example: Selected Columns"
   ]
  },
  {
   "cell_type": "code",
   "execution_count": null,
   "metadata": {},
   "outputs": [],
   "source": [
    "create_csv_file_from_xlsx('./Source_files/google_all.xlsx', 'Destination_files/google_open_close.csv', \n",
    "                header = 0, index_col = None, usecols = ['date', 'open', 'close'])"
   ]
  },
  {
   "cell_type": "markdown",
   "metadata": {},
   "source": [
    "#### Checking the Output"
   ]
  },
  {
   "cell_type": "code",
   "execution_count": null,
   "metadata": {},
   "outputs": [],
   "source": [
    "show_10('./Destination_files/google_open_close.csv')"
   ]
  },
  {
   "cell_type": "markdown",
   "metadata": {},
   "source": [
    "# End of Notebook"
   ]
  }
 ],
 "metadata": {
  "kernelspec": {
   "display_name": "Python 3",
   "language": "python",
   "name": "python3"
  },
  "language_info": {
   "codemirror_mode": {
    "name": "ipython",
    "version": 3
   },
   "file_extension": ".py",
   "mimetype": "text/x-python",
   "name": "python",
   "nbconvert_exporter": "python",
   "pygments_lexer": "ipython3",
   "version": "3.7.4"
  },
  "toc": {
   "base_numbering": 1,
   "nav_menu": {},
   "number_sections": true,
   "sideBar": true,
   "skip_h1_title": true,
   "title_cell": "Table of Contents",
   "title_sidebar": "Contents",
   "toc_cell": false,
   "toc_position": {},
   "toc_section_display": true,
   "toc_window_display": true
  }
 },
 "nbformat": 4,
 "nbformat_minor": 2
}
