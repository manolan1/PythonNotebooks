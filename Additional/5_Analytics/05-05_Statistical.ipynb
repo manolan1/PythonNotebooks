{
 "cells": [
  {
   "cell_type": "markdown",
   "metadata": {},
   "source": [
    "# Python Data Statistics with pandas\n",
    "- Outside of Python this is rolling backup"
   ]
  },
  {
   "cell_type": "markdown",
   "metadata": {},
   "source": [
    "## Set Up Backend "
   ]
  },
  {
   "cell_type": "code",
   "execution_count": null,
   "metadata": {},
   "outputs": [],
   "source": [
    "# This must be done before any other imports for matplotlib\n",
    "# This sets up ipython to use the inline interpeter\n",
    "\n",
    "#%matplotlib inline\n",
    "%matplotlib notebook\n",
    "#%matplotlib qt"
   ]
  },
  {
   "cell_type": "code",
   "execution_count": null,
   "metadata": {},
   "outputs": [],
   "source": [
    "# The rest of the imports\n",
    "\n",
    "from pandas import DataFrame\n",
    "from pandas import Series\n",
    "from numpy.random import randint\n",
    "from numpy.random import randn\n",
    "import matplotlib.pyplot as plt\n",
    "import matplotlib.dates as mdates\n",
    "import pandas as pd\n",
    "import numpy as np\n",
    "import matplotlib as mpl"
   ]
  },
  {
   "cell_type": "markdown",
   "metadata": {},
   "source": [
    "## Data Preparation"
   ]
  },
  {
   "cell_type": "markdown",
   "metadata": {},
   "source": [
    "### Get Raw Data"
   ]
  },
  {
   "cell_type": "code",
   "execution_count": null,
   "metadata": {},
   "outputs": [],
   "source": [
    "stock = 'GOOGL'\n",
    "df = pd.read_csv('./Source_files/' + stock + '_stock.csv')\n",
    "print(df.head(10))\n",
    "print(df.count())"
   ]
  },
  {
   "cell_type": "markdown",
   "metadata": {},
   "source": [
    "### Convert Index to Timestamp and Drop `date1` Column"
   ]
  },
  {
   "cell_type": "code",
   "execution_count": null,
   "metadata": {},
   "outputs": [],
   "source": [
    "df_date_index = df.rename(index = pd.to_datetime(df['date'], \n",
    "                          format = '%Y-%m-%d')).drop('date', axis = 1)\n",
    "print(df_date_index.head())\n",
    "print(type(df_date_index.index))"
   ]
  },
  {
   "cell_type": "markdown",
   "metadata": {},
   "source": [
    "### Convert to Date Period with Period Being One Day\n",
    "- Assume that the mean of the one day is the value of the data\n",
    "- Data is not collected for weekend and would show up as `np.nan`, except use method `.fillna(method='ffill')` (forward fill) to fill Saturday and Sunday with value of Friday"
   ]
  },
  {
   "cell_type": "code",
   "execution_count": null,
   "metadata": {},
   "outputs": [],
   "source": [
    "df_day_all_days = df_date_index.resample('D', kind = 'period').mean().fillna(method = 'ffill')\n",
    "\n",
    "print(df_day_all_days.head())\n",
    "print(df_day_all_days.count())\n",
    "print(type(df_day_all_days.index))"
   ]
  },
  {
   "cell_type": "markdown",
   "metadata": {},
   "source": [
    "### Creating a Function"
   ]
  },
  {
   "cell_type": "code",
   "execution_count": null,
   "metadata": {},
   "outputs": [],
   "source": [
    "def convert_to_day_period(source_file, date_column_name, time_period):\n",
    "    import pandas as pd\n",
    "    \n",
    "    df = pd.read_csv(source_file)\n",
    "    \n",
    "    df_date_index = df.rename(index = pd.to_datetime(df[date_column_name], \n",
    "                            format = '%Y-%m-%d')).drop(date_column_name, axis = 1)\n",
    "    \n",
    "    df_day_all_days = df_date_index.resample(time_period, kind = 'period').mean().fillna(method = 'ffill')\n",
    "    \n",
    "    return df_day_all_days"
   ]
  },
  {
   "cell_type": "markdown",
   "metadata": {},
   "source": [
    "#### Testing Function"
   ]
  },
  {
   "cell_type": "code",
   "execution_count": null,
   "metadata": {},
   "outputs": [],
   "source": [
    "df_google_year = convert_to_day_period('./Source_files/GOOGLE_stock.csv', 'date', 'Y')"
   ]
  },
  {
   "cell_type": "code",
   "execution_count": null,
   "metadata": {},
   "outputs": [],
   "source": [
    "print(df_google_year.head())\n",
    "print(df_google_year.count())"
   ]
  },
  {
   "cell_type": "markdown",
   "metadata": {},
   "source": [
    "## Percent Change\n",
    "- Compute the percent change over a given number of periods"
   ]
  },
  {
   "cell_type": "code",
   "execution_count": null,
   "metadata": {},
   "outputs": [],
   "source": [
    "df_percent_change = df_day_all_days.pct_change(periods = 30)\n",
    "print(df_percent_change.count())\n",
    "print(df_percent_change.iloc[25:35, :])"
   ]
  },
  {
   "cell_type": "markdown",
   "metadata": {},
   "source": [
    "### Plotting the Data"
   ]
  },
  {
   "cell_type": "code",
   "execution_count": null,
   "metadata": {},
   "outputs": [],
   "source": [
    "ax = df_percent_change['volume'].plot(kind = 'line',\n",
    "                      figsize = (8, 4),\n",
    "                      title = 'Percent_change with period of 30 days', \n",
    "                      grid = True,\n",
    "                      legend = True)\n",
    "ax.set_xlabel('Date')\n",
    "ax.set_ylabel('Percent Change')"
   ]
  },
  {
   "cell_type": "markdown",
   "metadata": {},
   "source": [
    "### Saving the Graphic"
   ]
  },
  {
   "cell_type": "code",
   "execution_count": null,
   "metadata": {},
   "outputs": [],
   "source": [
    "plt.savefig('Destination_files/Volume_30_percent_change.png')"
   ]
  },
  {
   "cell_type": "markdown",
   "metadata": {},
   "source": [
    "## Correlation\n",
    "- Default is Pearson, Kendall and Spearman are available"
   ]
  },
  {
   "cell_type": "markdown",
   "metadata": {},
   "source": [
    "### Between Series in Same DataFrame"
   ]
  },
  {
   "cell_type": "code",
   "execution_count": null,
   "metadata": {},
   "outputs": [],
   "source": [
    "df_day_all_days['high'].corr(df_day_all_days['low'], method = 'pearson')"
   ]
  },
  {
   "cell_type": "code",
   "execution_count": null,
   "metadata": {},
   "outputs": [],
   "source": [
    "df_day_all_days['high'].corr(df_day_all_days['low'], method = 'spearman')"
   ]
  },
  {
   "cell_type": "code",
   "execution_count": null,
   "metadata": {},
   "outputs": [],
   "source": [
    "df_day_all_days['high'].corr(df_day_all_days['low'], method = 'kendall')"
   ]
  },
  {
   "cell_type": "markdown",
   "metadata": {},
   "source": [
    "### Pairwise Correlation in DataFrame"
   ]
  },
  {
   "cell_type": "code",
   "execution_count": null,
   "metadata": {},
   "outputs": [],
   "source": [
    "df_day_all_days.corr(method = 'pearson')"
   ]
  },
  {
   "cell_type": "markdown",
   "metadata": {},
   "source": [
    "## Correlation Between Different DataFrames"
   ]
  },
  {
   "cell_type": "code",
   "execution_count": null,
   "metadata": {},
   "outputs": [],
   "source": [
    "df_NKE_day = convert_to_day_period('./Source_files/NKE_stock.csv', 'date', 'D')\n",
    "df_NKE_day = df_NKE_day.drop(['adj_close'], axis = 1)"
   ]
  },
  {
   "cell_type": "code",
   "execution_count": null,
   "metadata": {},
   "outputs": [],
   "source": [
    "print(df_NKE_day.head())"
   ]
  },
  {
   "cell_type": "code",
   "execution_count": null,
   "metadata": {},
   "outputs": [],
   "source": [
    "df_day_all_days.corrwith(df_NKE_day, axis= 0, method = 'pearson')"
   ]
  },
  {
   "cell_type": "markdown",
   "metadata": {},
   "source": [
    "## Other Functions"
   ]
  },
  {
   "cell_type": "markdown",
   "metadata": {},
   "source": [
    "- Data ranking\n",
    "- Covariance\n",
    "  - Be sure you understand the math for pandas version of Covariance\n",
    "- Apply\n",
    "  - Allows you to change a column or DataFrame elements in arbitrary ways"
   ]
  },
  {
   "cell_type": "markdown",
   "metadata": {},
   "source": [
    "# End of Notebook"
   ]
  }
 ],
 "metadata": {
  "kernelspec": {
   "display_name": "Python 3",
   "language": "python",
   "name": "python3"
  },
  "language_info": {
   "codemirror_mode": {
    "name": "ipython",
    "version": 3
   },
   "file_extension": ".py",
   "mimetype": "text/x-python",
   "name": "python",
   "nbconvert_exporter": "python",
   "pygments_lexer": "ipython3",
   "version": "3.7.4"
  },
  "toc": {
   "base_numbering": 1,
   "nav_menu": {},
   "number_sections": true,
   "sideBar": true,
   "skip_h1_title": true,
   "title_cell": "Table of Contents",
   "title_sidebar": "Contents",
   "toc_cell": false,
   "toc_position": {},
   "toc_section_display": true,
   "toc_window_display": true
  }
 },
 "nbformat": 4,
 "nbformat_minor": 2
}
