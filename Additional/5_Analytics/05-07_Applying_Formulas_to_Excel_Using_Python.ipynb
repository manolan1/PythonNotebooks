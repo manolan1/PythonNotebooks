{
 "cells": [
  {
   "cell_type": "markdown",
   "metadata": {},
   "source": [
    "# Applying Formulas Using Python - And How to Programmatically Change Excel with Python"
   ]
  },
  {
   "cell_type": "markdown",
   "metadata": {},
   "source": [
    "* The previous notebook had us get data into Excel. Python can be used to add formulas that an analyst may need to add by hand.\n",
    "* In these examples, we will add relatively simple Excel formulas. Once you can add simple math, the complex calculations an analyst might use will be easy to add using Python.\n",
    "* Before we get to formulas, let's look at different ways Python can be used to manipulate and format Excel files programmatically."
   ]
  },
  {
   "cell_type": "markdown",
   "metadata": {},
   "source": [
    "## Creating a Brand New Excel File and Adding Values"
   ]
  },
  {
   "cell_type": "code",
   "execution_count": null,
   "metadata": {},
   "outputs": [],
   "source": [
    "# Writing to an Excel  \n",
    "# sheet using Python \n",
    "import xlwt \n",
    "from xlwt import Workbook \n",
    "  \n",
    "# Create an unnamed workbook\n",
    "wb = Workbook() \n",
    "  \n",
    "# Add sheet1 is used to create sheet. \n",
    "sheet1 = wb.add_sheet('Sheet1') \n",
    "  \n",
    "sheet1.write(1, 0, 'Haymarket') \n",
    "sheet1.write(2, 0, 'Crystal Lake') \n",
    "sheet1.write(3, 0, 'New York') \n",
    "sheet1.write(4, 0, 'London') \n",
    "sheet1.write(5, 0, 'Anaheim') \n",
    "sheet1.write(0, 1, 'Haymarket') \n",
    "sheet1.write(0, 2, 'Crystal Lake') \n",
    "sheet1.write(0, 3, 'New York') \n",
    "sheet1.write(0, 4, 'London') \n",
    "sheet1.write(0, 5, 'Anaheim') \n",
    "  \n",
    "wb.save('./Destination_files/CityList.xls') \n",
    "print('CityList Excel File created. Take a look')"
   ]
  },
  {
   "cell_type": "markdown",
   "metadata": {},
   "source": [
    "## Changing the Look of a Spreadsheet\n",
    "\n",
    "* Programmatically, you can change the look of a spreadsheet"
   ]
  },
  {
   "cell_type": "markdown",
   "metadata": {},
   "source": [
    "### How to Make Something Bold"
   ]
  },
  {
   "cell_type": "code",
   "execution_count": null,
   "metadata": {},
   "outputs": [],
   "source": [
    "import xlwt \n",
    "  \n",
    "workbook = xlwt.Workbook()  \n",
    "  \n",
    "sheet = workbook.add_sheet('Sheet can be most any name') \n",
    "  \n",
    "# Specifying style \n",
    "style = xlwt.easyxf('font: bold 1') \n",
    "  \n",
    "# Specifying column \n",
    "sheet.write(0, 0, 'Bold', style) \n",
    "workbook.save('./Destination_files/BoldExample.xls') \n",
    "print('Bold added and it is bold')"
   ]
  },
  {
   "cell_type": "markdown",
   "metadata": {},
   "source": [
    "### Another Example with xlwt"
   ]
  },
  {
   "cell_type": "code",
   "execution_count": null,
   "metadata": {},
   "outputs": [],
   "source": [
    "import xlwt \n",
    "  \n",
    "workbook = xlwt.Workbook()  \n",
    "  \n",
    "sheet = workbook.add_sheet('Sheet Make it Red') \n",
    "  \n",
    "# Applying multiple styles \n",
    "style = xlwt.easyxf('font: bold 1, color red;') \n",
    "  \n",
    "# Writting on specified sheet \n",
    "sheet.write(0, 0, 'SAMPLE', style) \n",
    "  \n",
    "workbook.save('./Destination_files/RedOutput.xls') \n",
    "print('Red Output xls file created')"
   ]
  },
  {
   "cell_type": "markdown",
   "metadata": {},
   "source": [
    "* You will note the examples above are xls files, not xlsx files. They work fine and are included to show how long Python has been used. You will see examples like the ones above. Now, take a look at the examples below."
   ]
  },
  {
   "cell_type": "markdown",
   "metadata": {},
   "source": [
    "## Using XlsxWriter"
   ]
  },
  {
   "cell_type": "markdown",
   "metadata": {},
   "source": [
    "* A more modern module to work with Excel is XlsxWriter: https://pypi.org/project/XlsxWriter/ \n",
    "    * Explore this website and Google for more formatting options\n",
    "* Here are some examples of what it can do"
   ]
  },
  {
   "cell_type": "code",
   "execution_count": null,
   "metadata": {},
   "outputs": [],
   "source": [
    "import xlsxwriter\n",
    "\n",
    "# Create a new Excel file and add a worksheet.\n",
    "workbook = xlsxwriter.Workbook('./Destination_files/NewDemo.xlsx')\n",
    "worksheet = workbook.add_worksheet()\n",
    "\n",
    "# Widen the first column to make the text clearer.\n",
    "worksheet.set_column('A:A', 20)\n",
    "\n",
    "# Add a bold format to use to highlight cells.\n",
    "bold = workbook.add_format({'bold': True})\n",
    "\n",
    "# Write some simple text.\n",
    "worksheet.write('A1', 'Hello')\n",
    "\n",
    "# Text with formatting.\n",
    "worksheet.write('A2', 'World', bold)\n",
    "\n",
    "# Text with color.\n",
    "colorFormat = workbook.add_format({'color': 'red'})\n",
    "worksheet.write('B2', 'More', colorFormat)\n",
    "\n",
    "colorFormat = workbook.add_format({'color': 'red','bold': True })\n",
    "worksheet.write('C2', 'Most', bold)\n",
    "\n",
    "\n",
    "# Write some numbers, with row/column notation.\n",
    "worksheet.write(2, 0, 123)\n",
    "worksheet.write(3, 0, 123.456)\n",
    "\n",
    "\n",
    "#Formatting can be done for numbers\n",
    "\n",
    "# Centered Integer\n",
    "integerCentered = workbook.add_format({'num_format': '0', 'align': 'center'})\n",
    "worksheet.write(4, 0, 321, integerCentered)\n",
    "\n",
    "# Money\n",
    "money = workbook.add_format({'num_format': '$#,##0'})\n",
    "worksheet.write(5, 0, 23456789.98 , money)\n",
    "\n",
    "\n",
    "# Insert an image.\n",
    "worksheet.insert_image('B5', './Source_files/ROI-logo.png')\n",
    "\n",
    "workbook.close()\n",
    "print('Done. Take a look at NewDemo.xlsx')"
   ]
  },
  {
   "cell_type": "markdown",
   "metadata": {},
   "source": [
    "## Adding Formulas"
   ]
  },
  {
   "cell_type": "markdown",
   "metadata": {},
   "source": [
    "### Example of Adding a Formula Using XlsxWriter"
   ]
  },
  {
   "cell_type": "code",
   "execution_count": null,
   "metadata": {},
   "outputs": [],
   "source": [
    "import xlsxwriter\n",
    "\n",
    "workbook = xlsxwriter.Workbook('./Destination_files/FormulaTest.xlsx')\n",
    "worksheet = workbook.add_worksheet()\n",
    "\n",
    "for row_num in range(1, 21):\n",
    "    worksheet.write_formula(row_num - 1, 0,\n",
    "                            '=10*$B%d + $C%d' % (row_num, row_num))\n",
    "\n",
    "    # Write some data for the formula.\n",
    "    worksheet.write(row_num - 1, 1, row_num)\n",
    "    worksheet.write(row_num - 1, 2, row_num)\n",
    "\n",
    "workbook.close()\n",
    "print('Open FormulaTest and figure out the formula')"
   ]
  },
  {
   "cell_type": "markdown",
   "metadata": {},
   "source": [
    "# End of Notebook"
   ]
  }
 ],
 "metadata": {
  "kernelspec": {
   "display_name": "Python 3",
   "language": "python",
   "name": "python3"
  },
  "language_info": {
   "codemirror_mode": {
    "name": "ipython",
    "version": 3
   },
   "file_extension": ".py",
   "mimetype": "text/x-python",
   "name": "python",
   "nbconvert_exporter": "python",
   "pygments_lexer": "ipython3",
   "version": "3.7.4"
  },
  "toc": {
   "base_numbering": 1,
   "nav_menu": {},
   "number_sections": true,
   "sideBar": true,
   "skip_h1_title": true,
   "title_cell": "Table of Contents",
   "title_sidebar": "Contents",
   "toc_cell": false,
   "toc_position": {},
   "toc_section_display": true,
   "toc_window_display": true
  }
 },
 "nbformat": 4,
 "nbformat_minor": 2
}
