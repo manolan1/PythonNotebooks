{
 "cells": [
  {
   "cell_type": "markdown",
   "metadata": {},
   "source": [
    "# Creating \"One Button\" to Do Analysis Tasks"
   ]
  },
  {
   "cell_type": "markdown",
   "metadata": {},
   "source": [
    "* Python can be run in many different ways\n",
    "* In an instructor demo, we will see how to take a Python script and have it run in a simple way\n",
    "* A Python program is a text file containing Python code with a `.py` extension\n",
    "    * From a command prompt, we can call the Python interpreter, then after a space, enter the full name of the Python program and it will run"
   ]
  },
  {
   "cell_type": "markdown",
   "metadata": {},
   "source": [
    "## Preliminary Work"
   ]
  },
  {
   "cell_type": "markdown",
   "metadata": {},
   "source": [
    "- All of the functions created today are in the directory `Functions` in a file called `Functions.py`. The directory `Functions` has been turned into a package to hold modules. In this case, the package `Functions` has only one module, `Functions`. \n",
    "- In the module `sys`, there is a variable called `path`. It contains a list of directories which hold modules (files) or sub-packages (directories).\n",
    "- To modify the `sys.path` variable, you need either system privileges or the Python package is just for one user.\n",
    "- There is an alternative. That is to modify `sys.path` in the script. This is what is done here."
   ]
  },
  {
   "cell_type": "code",
   "execution_count": null,
   "metadata": {},
   "outputs": [],
   "source": [
    "import sys\n",
    "import os\n",
    "print(sys.path)\n",
    "print(os.getcwd())"
   ]
  },
  {
   "cell_type": "markdown",
   "metadata": {},
   "source": [
    "- Here, we will need to add `Functions` to `os.path`"
   ]
  },
  {
   "cell_type": "markdown",
   "metadata": {},
   "source": [
    "## Review of the Functions"
   ]
  },
  {
   "cell_type": "code",
   "execution_count": null,
   "metadata": {},
   "outputs": [],
   "source": [
    "from Functions import Functions"
   ]
  },
  {
   "cell_type": "code",
   "execution_count": null,
   "metadata": {},
   "outputs": [],
   "source": [
    "help(Functions.csv_concat)"
   ]
  },
  {
   "cell_type": "markdown",
   "metadata": {},
   "source": [
    "### Example One"
   ]
  },
  {
   "cell_type": "markdown",
   "metadata": {},
   "source": [
    "#### Create the Command-Line Script"
   ]
  },
  {
   "cell_type": "code",
   "execution_count": null,
   "metadata": {
    "scrolled": true
   },
   "outputs": [],
   "source": [
    "%%writefile make_xlsx.py\n",
    "#! /usr/bin/env python\n",
    "\n",
    "\"\"\"\n",
    "     calling  \n",
    "         make_xlsx csv_files, xlsx_file\n",
    "     \n",
    "     Parameters:  \n",
    "         csv_files: either a path to 1 file or \n",
    "                    a regular expression to multiple files\n",
    "         xlsx_file: the destination for the xlsx file\n",
    "                  \n",
    "     example\n",
    "          python make_xlsx Source_files/google20\\*.csv  Destination_files/my_xlsx.xlsx\n",
    "\"\"\"\n",
    "\n",
    "import sys\n",
    "import os\n",
    "sys.path.append(os.getcwd() + '/Functions')\n",
    "\n",
    "from Functions import Functions\n",
    "\n",
    "csv_files = sys.argv[1]\n",
    "xlsx_file = sys.argv[2]\n",
    "\n",
    "Functions.csv_concat(csv_files, xlsx_file)\n",
    "\n",
    "sys.exit(0)\n"
   ]
  },
  {
   "cell_type": "markdown",
   "metadata": {},
   "source": [
    "#### Testing the Command `make_xlsx.py`"
   ]
  },
  {
   "cell_type": "markdown",
   "metadata": {},
   "source": [
    "1. Open a terminal window and go to `05_Analytics`.\n",
    "2. Execute: `python  make_xlsx.py Source_files/google_20*.csv  Destination_files/my_xlsx.xlsx`.\n",
    "3. Check to see that the file `my_xlsx.xlsx` was created.\n",
    "4. Open it in Excel to see that it is the correct kind of file."
   ]
  },
  {
   "cell_type": "markdown",
   "metadata": {},
   "source": [
    "### Example Two"
   ]
  },
  {
   "cell_type": "code",
   "execution_count": null,
   "metadata": {},
   "outputs": [],
   "source": [
    "%%writefile make_xlsx_file.py\n",
    "#! /usr/bin/env python\n",
    "\n",
    "\"\"\"\n",
    "     calling  \n",
    "         make_xlsx_file location.txt, xlsx_path\n",
    "     \n",
    "     Parameters:  \n",
    "         csv_list:  File containing path to csv files to use \n",
    "         xlsx_file: the destination for the xlsx file\n",
    "                  \n",
    "     example\n",
    "          python make_xlsx locations.txt  Destination_files/my_xlsx_file.xlsx\n",
    "\"\"\"\n",
    "\n",
    "import sys\n",
    "import os\n",
    "sys.path.append(os.getcwd() + '/Functions')\n",
    "\n",
    "from Functions import Functions\n",
    "\n",
    "csv_files = []\n",
    "fh = open(sys.argv[1], 'r')\n",
    "for line in fh:\n",
    "   csv_files.append(line[:-1])\n",
    "fh.close()\n",
    "\n",
    "xlsx_file = sys.argv[2]\n",
    "\n",
    "Functions.csv_concat_list(csv_files, xlsx_file)\n",
    "\n",
    "sys.exit(0)"
   ]
  },
  {
   "cell_type": "markdown",
   "metadata": {},
   "source": [
    "1. Open a terminal window and go to `05_Analytics`.\n",
    "2. Execute: `python  make_xlsx_file.py Source_files/locations.txt  Destination_files/my_xlsx_file.xlsx`.\n",
    "3. Check to see that the file `my_xlsx_file.xlsx` was created.\n",
    "4. Open it in Excel to see that it is the correct kind of file."
   ]
  },
  {
   "cell_type": "markdown",
   "metadata": {},
   "source": [
    "# End of Notebook"
   ]
  }
 ],
 "metadata": {
  "kernelspec": {
   "display_name": "Python 3",
   "language": "python",
   "name": "python3"
  },
  "language_info": {
   "codemirror_mode": {
    "name": "ipython",
    "version": 3
   },
   "file_extension": ".py",
   "mimetype": "text/x-python",
   "name": "python",
   "nbconvert_exporter": "python",
   "pygments_lexer": "ipython3",
   "version": "3.7.4"
  },
  "toc": {
   "base_numbering": 1,
   "nav_menu": {},
   "number_sections": true,
   "sideBar": true,
   "skip_h1_title": true,
   "title_cell": "Table of Contents",
   "title_sidebar": "Contents",
   "toc_cell": false,
   "toc_position": {},
   "toc_section_display": true,
   "toc_window_display": true
  }
 },
 "nbformat": 4,
 "nbformat_minor": 2
}
