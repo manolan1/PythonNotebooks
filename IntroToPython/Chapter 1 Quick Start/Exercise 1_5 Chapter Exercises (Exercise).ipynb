{
 "cells": [
  {
   "cell_type": "markdown",
   "metadata": {},
   "source": [
    "# Exercise 1.5: Chapter Exercises\n",
    "\n",
    "Write a script that asks for a person's favourite colour, waits 5 seconds and prints it out and says goodbye.\n",
    "\n",
    "There is a function in the `time` module called `sleep` that may help in writing this program."
   ]
  },
  {
   "cell_type": "code",
   "execution_count": null,
   "metadata": {},
   "outputs": [],
   "source": [
    "# write your code here"
   ]
  },
  {
   "cell_type": "markdown",
   "metadata": {},
   "source": [
    "The program `debug01.py` does not work: figure out what is wrong."
   ]
  },
  {
   "cell_type": "code",
   "execution_count": null,
   "metadata": {},
   "outputs": [],
   "source": [
    "\"\"\"\n",
    "    file: debug01.py\n",
    "\"\"\"\n",
    "\n",
    " print(\"I am not working\")"
   ]
  },
  {
   "cell_type": "markdown",
   "metadata": {},
   "source": [
    "The program `debug02.py` does not work: figure out what is wrong.\n",
    "\n",
    "A word of caution here, once you have it working, you will see an exception. Try to avoid using `exit` (without `sys.`) in a notebook. The solution notebook has a slightly longer explanation."
   ]
  },
  {
   "cell_type": "code",
   "execution_count": null,
   "metadata": {},
   "outputs": [],
   "source": [
    "\"\"\"\n",
    "    file: debug02.py\n",
    "\"\"\"\n",
    "\n",
    "print(\"I am not working\")\n",
    "\n",
    "sys.exit(0)"
   ]
  },
  {
   "cell_type": "markdown",
   "metadata": {},
   "source": [
    "In `debug03.py`, the problem is one that cannot be emulated in a notebook."
   ]
  },
  {
   "cell_type": "markdown",
   "metadata": {},
   "source": [
    "The program `debug04.py` does not work: figure out what is wrong."
   ]
  },
  {
   "cell_type": "code",
   "execution_count": null,
   "metadata": {},
   "outputs": [],
   "source": [
    "\"\"\"\n",
    "    file: debug04.py\n",
    "\"\"\"\n",
    "import sys\n",
    "\n",
    "print \"I am not working\"\n",
    "print(sys.version)\n"
   ]
  },
  {
   "cell_type": "markdown",
   "metadata": {},
   "source": [
    "# End of Notebook"
   ]
  }
 ],
 "metadata": {
  "kernelspec": {
   "display_name": "Python 3 (ipykernel)",
   "language": "python",
   "name": "python3"
  },
  "language_info": {
   "codemirror_mode": {
    "name": "ipython",
    "version": 3
   },
   "file_extension": ".py",
   "mimetype": "text/x-python",
   "name": "python",
   "nbconvert_exporter": "python",
   "pygments_lexer": "ipython3",
   "version": "3.8.11"
  }
 },
 "nbformat": 4,
 "nbformat_minor": 2
}
