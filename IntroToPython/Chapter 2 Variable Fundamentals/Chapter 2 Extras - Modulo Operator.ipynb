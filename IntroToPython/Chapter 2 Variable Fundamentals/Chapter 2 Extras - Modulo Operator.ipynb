{
 "cells": [
  {
   "cell_type": "markdown",
   "metadata": {},
   "source": [
    "<a href=\"https://colab.research.google.com/github/manolan1/PythonNotebooks/blob/main/IntroToPython\\Chapter%202%20Variable%20Fundamentals\\Chapter%202%20Extras%20-%20Modulo%20Operator.ipynb\" target=\"_parent\"><img src=\"https://colab.research.google.com/assets/colab-badge.svg\" alt=\"Open In Colab\"/></a>"
   ]
  },
  {
   "cell_type": "markdown",
   "metadata": {},
   "source": [
    "# Modulo in Python\n",
    "\n",
    "## Division\n",
    "\n",
    "Division using the `/` is floating point division:"
   ]
  },
  {
   "cell_type": "code",
   "execution_count": null,
   "metadata": {},
   "outputs": [],
   "source": [
    "10 / 3"
   ]
  },
  {
   "cell_type": "markdown",
   "metadata": {},
   "source": [
    "The `//` operator is often described as *integer division*, but it is important to understand that it applies a floor operation (returning the answer closest to minus infinity):"
   ]
  },
  {
   "cell_type": "code",
   "execution_count": null,
   "metadata": {},
   "outputs": [],
   "source": [
    "10 // 3"
   ]
  },
  {
   "cell_type": "code",
   "execution_count": null,
   "metadata": {},
   "outputs": [],
   "source": [
    "10 // -3"
   ]
  },
  {
   "cell_type": "markdown",
   "metadata": {},
   "source": [
    "## Modulo\n",
    "\n",
    "The `%` operator is variously desribed as a _remainder_ or _modulo_ operator, but when working with negative, or floating point, numbers, it may not always operate exactly as you expect."
   ]
  },
  {
   "cell_type": "code",
   "execution_count": null,
   "metadata": {},
   "outputs": [],
   "source": [
    "10 % 3"
   ]
  },
  {
   "cell_type": "code",
   "execution_count": null,
   "metadata": {},
   "outputs": [],
   "source": [
    "10 % -3"
   ]
  },
  {
   "cell_type": "code",
   "execution_count": null,
   "metadata": {},
   "outputs": [],
   "source": [
    "-10 % 3"
   ]
  },
  {
   "cell_type": "markdown",
   "metadata": {},
   "source": [
    "These are not the results you would get in C, Go, Rust, Java or Javascript.\n",
    "\n",
    "The result is guaranteed to be smaller than the second operand and to have the same sign. The following statement is true:\n",
    "\n",
    "`x == (x // y) * y + (x % y)`\n",
    "\n",
    "This is consistent with Donald Knuth's formulation: `mod(a, n) = a - n * floor(a / n)`. However, most languages use truncated division instead: `mod(a, n) = a - n * trunc(a / n)` (which means the result always shares the sign of the first operand). Other definitions are also possible. Mathematicians argue constantly about which is best, but computer scientists just need to know which one was implemented!\n",
    "\n",
    "For floating point numbers, use `math.fmod()`. \n",
    "\n",
    "Incidentally, if you want to know whether a number is divisible by two, boolean algebra gives the right answer on any platform and is usually faster (though only marginally so in Python):"
   ]
  },
  {
   "cell_type": "code",
   "execution_count": null,
   "metadata": {},
   "outputs": [],
   "source": [
    "print(10 % 2 != 0) # False, 10 is not odd\n",
    "print(11 % 2 != 0) # True, 11 is odd\n",
    "print(10 & 1 != 0) # False, equivalent to 10 % 2 != 0\n",
    "print(11 & 1 != 0) # True, equivalent to 11 % 2 != 0"
   ]
  },
  {
   "cell_type": "code",
   "execution_count": null,
   "metadata": {},
   "outputs": [],
   "source": []
  }
 ],
 "metadata": {
  "kernelspec": {
   "display_name": "Python 3 (ipykernel)",
   "language": "python",
   "name": "python3"
  },
  "language_info": {
   "codemirror_mode": {
    "name": "ipython",
    "version": 3
   },
   "file_extension": ".py",
   "mimetype": "text/x-python",
   "name": "python",
   "nbconvert_exporter": "python",
   "pygments_lexer": "ipython3",
   "version": "3.8.11"
  }
 },
 "nbformat": 4,
 "nbformat_minor": 2
}
