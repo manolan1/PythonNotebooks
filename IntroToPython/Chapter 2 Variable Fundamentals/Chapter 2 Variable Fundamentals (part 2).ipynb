{
 "cells": [
  {
   "cell_type": "markdown",
   "metadata": {},
   "source": [
    "<a href=\"https://colab.research.google.com/github/manolan1/PythonNotebooks/blob/main/IntroToPython\\Chapter%202%20Variable%20Fundamentals\\Chapter%202%20Variable%20Fundamentals%20(part%202).ipynb\" target=\"_parent\"><img src=\"https://colab.research.google.com/assets/colab-badge.svg\" alt=\"Open In Colab\"/></a>"
   ]
  },
  {
   "cell_type": "markdown",
   "metadata": {},
   "source": [
    "# Chapter 2: Variable Fundamentals\n",
    "\n",
    "## Numeric Data Types\n",
    "\n",
    "### `bool`\n",
    "\n",
    "- bool is a class for Boolean (true/false) calculations\n",
    "- bool has two constants; there are no other values\n",
    "  - `False` which is a Boolean false\n",
    "  - `True` which is a Boolean true\n",
    "- Definition of `False`\n",
    "  - `None` (keyword for nothing defined)\n",
    "  - Zero of any numeric type, for example, `0`, `0.0`, `0j`\n",
    "  - Any empty sequence, for example, `''`, `()`, `[]`\n",
    "  - Any empty dictionary, for example, `{}`.\n",
    "- `True` is anything not defined as `False`\n",
    "- `bool(x)` returns `True` or `False` for an object"
   ]
  },
  {
   "cell_type": "code",
   "execution_count": null,
   "metadata": {},
   "outputs": [],
   "source": [
    "true_value = True\n",
    "false_value = False"
   ]
  },
  {
   "cell_type": "code",
   "execution_count": null,
   "metadata": {},
   "outputs": [],
   "source": [
    "true_value"
   ]
  },
  {
   "cell_type": "code",
   "execution_count": null,
   "metadata": {},
   "outputs": [],
   "source": [
    "false_value"
   ]
  },
  {
   "cell_type": "code",
   "execution_count": null,
   "metadata": {},
   "outputs": [],
   "source": [
    "# All False\n",
    "print(bool(0.0))\n",
    "print(bool(''))\n",
    "print(bool({}))\n",
    "\n",
    "# All True\n",
    "print(bool(42.0))\n",
    "print(bool('a dragon'))\n",
    "print(bool({'name': \"value\"}))"
   ]
  },
  {
   "cell_type": "markdown",
   "metadata": {},
   "source": [
    "### Boolean Operators\n",
    "\n",
    "| Operation | Result |\n",
    "| :-------- | :----- |\n",
    "| x or y    | if _x_ is false, then _y_, else _x_ |\n",
    "| x and y   | if _x_ is false, then _x_, else _y_ |\n",
    "| not x     | if _x_ is false, then `True`, else `False` |\n",
    "\n",
    "- Important to understand that `and` and `or` are not _pure_ Boolean\n",
    "  - the results are not coerced to `bool`\n",
    "- `or` and `and` are short-circuit operators\n",
    "  - only evaluate the second argument if necessary\n",
    "- `not` binds lower than comparison operator\n",
    "  - `not a == b` is interpreted as `not (a == b)`\n",
    "  - `a == not b` is a syntax error \n",
    "  - `a == (not b)` is correct syntax"
   ]
  },
  {
   "cell_type": "code",
   "execution_count": null,
   "metadata": {},
   "outputs": [],
   "source": [
    "x = 5\n",
    "x == 5 and print(\"x is 5\")\n",
    "x == 6 and print(\"x is not 6\")\n",
    "y = 5\n",
    "y == 5 or print(\"y is 5\")\n",
    "y == 6 or print(\"y is not 6\")"
   ]
  },
  {
   "cell_type": "code",
   "execution_count": null,
   "metadata": {},
   "outputs": [],
   "source": [
    "a = 1\n",
    "b = 2\n",
    "print(a == b)       # False, since a does not equal b\n",
    "print(not a == b)   # True, since a does not equal b and that result is negated\n",
    "print(not (a == b)) # True, identical to previous line\n",
    "print(not a)        # False, since 1 evaluates to True\n",
    "print((not a) == b) # False, since False is not equal to 2"
   ]
  },
  {
   "cell_type": "markdown",
   "metadata": {},
   "source": [
    "### Numeric\n",
    "\n",
    "There are 5 core types of numeric objects in Python:\n",
    "\n",
    "- Integer (`int`)\n",
    "  - Unlimited precision\n",
    "- Float (`float`)\n",
    "  - Implemented as C doubles\n",
    "  - See `sys.float_info` for characteristic\n",
    "- Complex (`complex`)\n",
    "  - Numbers with a real and imaginary component\n",
    "  - `a + bj`\n",
    "  - Not talked about in course\n",
    "- Rational number\n",
    "  - `from fractions import Fraction`\n",
    "  - Not talked about in course\n",
    "- Arbitrary precision decimals\n",
    "  - `from decimal import Decimal`\n",
    "  - Number is represented precisely with user-defined precision\n",
    "  - A lot of setup\n",
    "  - Not talked about in course"
   ]
  },
  {
   "cell_type": "code",
   "execution_count": null,
   "metadata": {},
   "outputs": [],
   "source": [
    "import sys"
   ]
  },
  {
   "cell_type": "code",
   "execution_count": null,
   "metadata": {},
   "outputs": [],
   "source": [
    "sys.float_info"
   ]
  },
  {
   "cell_type": "code",
   "execution_count": null,
   "metadata": {},
   "outputs": [],
   "source": [
    "m = 0.1 + 0.1 + 0.1\n",
    "m"
   ]
  },
  {
   "cell_type": "code",
   "execution_count": null,
   "metadata": {},
   "outputs": [],
   "source": [
    "n = 0.3\n",
    "n"
   ]
  },
  {
   "cell_type": "code",
   "execution_count": null,
   "metadata": {},
   "outputs": [],
   "source": [
    "m == n"
   ]
  },
  {
   "cell_type": "markdown",
   "metadata": {},
   "source": [
    "The errors in Python float operations are inherited from the floating-point hardware, and on most machines are on the order of no more than 1 part in 2\\**53 per operation. \n",
    "\n",
    "For most uses of floating-point arithmetic, you'll see the result you expect in the end if you simply round the display of your final results to the number of decimal digits you expect.\n",
    "\n",
    "See https://docs.python.org/3/tutorial/floatingpoint.html for a simple explanation.\n",
    "\n",
    "Python included the modules `fractions` and `decimal` for those who need very precise numbers."
   ]
  },
  {
   "cell_type": "markdown",
   "metadata": {},
   "source": [
    "### Basic Mathematics\n",
    "\n",
    "| Operation | Result |\n",
    "| :-------- | :----- |\n",
    "| x + y     | sum of _x_ and _y_ |\n",
    "| x - y     | difference of _x_ and _y_ |\n",
    "| x * y     | product of _x_ and _y_ |\n",
    "| x / y     | quotient of _x_ and _y_ |\n",
    "| x // y    | floored quotient of _x_ and _y_ |\n",
    "| x % y     | remainder of `x // y`, *x mod y*; for details of how this is implemented, see the extra notebook |\n",
    "| -x        | _x_ negated |\n",
    "| +x        | _x_ unchanged |\n",
    "| abs(x)    | absolute value or magnitude _x_ |\n",
    "| int(x)    | _x_ converted to integer. The exact conversion mechanism is not defined; for well-defined conversions, see `floor` and `ceil` |\n",
    "| float(x)  | _x_ converted to floating point |\n",
    "| complex(re, im) | a complex number with real part _re_ and imaginary part _im_ |\n",
    "| c.conjugate()   | conjugate of the complex number _c_ |\n",
    "| divmod(x, y)    | the pair `(x // y, x % y)` |\n",
    "| pow(x, y)       | _x_ to the power _y_ |\n",
    "| x ** y          | _x_ to the power _y_, `pow(x, y)` |\n",
    "| math.trunc(x)   | _x_ truncated to an integer (technically an `Integral`) |\n",
    "| round(x\\[, n\\]) | _x_ rounded to _n_ digits after the decimal point, rounding half to even. If _n_ is omitted, it defaults to 0. |\n",
    "| math.floor(x)   | the greatest integer <= _x_ (again, technically an `Integral`) |\n",
    "| math.ceil(x)    | the least integer >= _x_ (an `Integral`) |\n",
    "\n",
    "Try some of these out below (remember to import `math` if needed)."
   ]
  },
  {
   "cell_type": "code",
   "execution_count": null,
   "metadata": {},
   "outputs": [],
   "source": []
  },
  {
   "cell_type": "markdown",
   "metadata": {},
   "source": [
    "# End of Notebook"
   ]
  }
 ],
 "metadata": {
  "kernelspec": {
   "display_name": "Python 3 (ipykernel)",
   "language": "python",
   "name": "python3"
  },
  "language_info": {
   "codemirror_mode": {
    "name": "ipython",
    "version": 3
   },
   "file_extension": ".py",
   "mimetype": "text/x-python",
   "name": "python",
   "nbconvert_exporter": "python",
   "pygments_lexer": "ipython3",
   "version": "3.8.11"
  }
 },
 "nbformat": 4,
 "nbformat_minor": 2
}
