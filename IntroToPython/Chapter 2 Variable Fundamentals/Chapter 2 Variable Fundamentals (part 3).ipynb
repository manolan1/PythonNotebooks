{
 "cells": [
  {
   "cell_type": "markdown",
   "metadata": {},
   "source": [
    "<a href=\"https://colab.research.google.com/github/manolan1/PythonNotebooks/blob/main/IntroToPython\\Chapter%202%20Variable%20Fundamentals\\Chapter%202%20Variable%20Fundamentals%20(part%203).ipynb\" target=\"_parent\"><img src=\"https://colab.research.google.com/assets/colab-badge.svg\" alt=\"Open In Colab\"/></a>"
   ]
  },
  {
   "cell_type": "markdown",
   "metadata": {},
   "source": [
    "# Variable Fundamentals (continued)\n",
    "\n",
    "## String Data Types\n",
    "\n",
    "- Strings are immutable sequences of Unicode code points (characters)\n",
    "- String constants\n",
    "  - Single quote \\\n",
    "    `'I am a string'`\n",
    "  - Double quote\\\n",
    "    `\"I am also a string\"`\n",
    "  - Triple quote\\\n",
    "    `\"\"\"I\n",
    "    am\n",
    "    a\n",
    "    string\"\"\"`\n",
    "- There is no character type – a character is a `str` of length one\n",
    "- There is a `byte` type for holding data in the range of 0 through 255\n",
    "  - Good introductory tutorial: https://www.w3resource.com/python/python-bytes.php\n",
    "  - Not covered in class"
   ]
  },
  {
   "cell_type": "code",
   "execution_count": null,
   "metadata": {},
   "outputs": [],
   "source": [
    "a = 'I am a string'\n",
    "b = \"I am also a string\"\n",
    "c = \"\"\"I\n",
    "am\n",
    "a\n",
    "string\"\"\""
   ]
  },
  {
   "cell_type": "code",
   "execution_count": null,
   "metadata": {},
   "outputs": [],
   "source": [
    "print(c)"
   ]
  },
  {
   "cell_type": "markdown",
   "metadata": {},
   "source": [
    "Strings may be delimited by single, double or triple quotes, which must be matched.\n",
    "\n",
    "Strings delimited with triple quotes may span multiple lines."
   ]
  },
  {
   "cell_type": "markdown",
   "metadata": {},
   "source": [
    "### Escape Sequences\n",
    "\n",
    "| Escape Sequence | Meaning |\n",
    "|:----------------|:--------|\n",
    "| \\\\newline (\\\\ at end of line) | ignore newline |\n",
    "| \\\\\\\\ | backslash |\n",
    "| \\\\'  | single quote, mainly used when single quotes are the delimiter |\n",
    "| \\\\\"  | double quote, mainly used when double quotes are the delimiter |\n",
    "| \\\\n  | newline |\n",
    "| \\\\t  | tab character |\n",
    "| \\\\ooo | character with octal value _ooo_ |\n",
    "| \\\\xhh | character with hex value _hh_. Unlike some languages, exactly 2 hex digits are required |\n",
    "| \\\\N{name} | character called _name_ in the Unicode database |\n",
    "| \\\\uxxxx | character with 16-bit hex value _xxxx_ |\n",
    "| \\\\Uxxxxxxxx | character with 32-bit hex value xxxxxxxx |\n",
    "\n",
    "All strings are made up of Unicode characters, but to retain compatibility with Python 2.x, the first quote delimiter may be preceded by `u` (or `U`), which has no effect (in Python 2.x, this denoted a Unicode string)."
   ]
  },
  {
   "cell_type": "code",
   "execution_count": null,
   "metadata": {},
   "outputs": [],
   "source": [
    "\"a\" == u\"a\""
   ]
  },
  {
   "cell_type": "markdown",
   "metadata": {},
   "source": [
    "Escape sequences may be ignored by making the string _raw_. Do this by preceding the first quote delimiter with `r` or `R`."
   ]
  },
  {
   "cell_type": "code",
   "execution_count": null,
   "metadata": {},
   "outputs": [],
   "source": [
    "print(\"This is on\\n2 lines!\")"
   ]
  },
  {
   "cell_type": "code",
   "execution_count": null,
   "metadata": {},
   "outputs": [],
   "source": [
    "print(r\"This is not on\\n2 lines!\")"
   ]
  },
  {
   "cell_type": "markdown",
   "metadata": {},
   "source": [
    "### Simple `in` and `not in`\n",
    "\n",
    "`x in y` is `True` if `x` is a substring of `y`."
   ]
  },
  {
   "cell_type": "code",
   "execution_count": null,
   "metadata": {},
   "outputs": [],
   "source": [
    "\"am a\" in b"
   ]
  },
  {
   "cell_type": "code",
   "execution_count": null,
   "metadata": {},
   "outputs": [],
   "source": [
    "\"am a\" in c"
   ]
  },
  {
   "cell_type": "markdown",
   "metadata": {},
   "source": [
    "## Exercise 2.1: String Methods\n",
    "\n",
    "Open the notebook and do this exercise"
   ]
  },
  {
   "cell_type": "markdown",
   "metadata": {},
   "source": [
    "## String Interpolation\n",
    "\n",
    "- Insert data values into a string literal, replacing placeholders\n",
    "\n",
    "- 4 ways in Python:\n",
    "  - `printf`-style formatting, aka %-formatting\n",
    "  - `str.format()`\n",
    "  - Literal string interpolation, aka f-strings\n",
    "  - Template Strings\n",
    "\n",
    "- Will not cover any of these in detail\n",
    "  - Principles are similar in each case\n",
    "  - There are crucial differences\n",
    "\n",
    "\n",
    "### `printf`-style Formatting\n",
    "\n",
    "Similar to `printf` in C. The earliest mechanism available."
   ]
  },
  {
   "cell_type": "code",
   "execution_count": null,
   "metadata": {},
   "outputs": [],
   "source": [
    "print(\"%s has %d quote types.\" % ('Python', 3))"
   ]
  },
  {
   "cell_type": "markdown",
   "metadata": {},
   "source": [
    "More generally, `string % values`\n",
    "\n",
    "- `string` contains *conversion specifiers*, each starting with `%`\n",
    "- `%` is the interpolation operator\n",
    "- `values` may be\n",
    "  - A single object, if there is a single specifier\n",
    "  - A tuple (comma-separated set of values in parentheses), as above\n",
    "  - A mapping object (such as a dictionary, we will see this shortly)\n",
    "\n",
    "### `printf` Conversion Specifier\n",
    "\n",
    "1. The '`%`' character, which marks the start of the specifier.\n",
    "2. Mapping key (optional), consisting of a parenthesised sequence of characters (for example, `(some_name)`).\n",
    "3. Conversion flags (optional), which affect the result of some conversion types.\n",
    "4. Minimum field width (optional). Includes any decimal places.\n",
    "   - If specified as '`*`' (an asterisk), the actual width is read from the next element of the tuple in values, and the object to convert comes after.\n",
    "5. Precision (optional), given as a '`.`' (dot) followed by the precision (number of digits after the decimal point)\n",
    "   - If specified as '`*`' (an asterisk), the actual precision is read from the next element of the tuple in values, and the value to convert comes after.\n",
    "6. Length modifier (optional). \n",
    "   - A length modifier (`h`, `l`, or `L`) is available for compatibility with C, but ignored by Python (`%ld` is identical to `%d`).\n",
    "7. Conversion type.\n"
   ]
  },
  {
   "cell_type": "code",
   "execution_count": null,
   "metadata": {},
   "outputs": [],
   "source": [
    "value = 12.345678"
   ]
  },
  {
   "cell_type": "code",
   "execution_count": null,
   "metadata": {},
   "outputs": [],
   "source": [
    "print('|result: %20.4f|' % value)"
   ]
  },
  {
   "cell_type": "markdown",
   "metadata": {},
   "source": [
    "The conversion specifier here is `%20.4f`, which is:\n",
    "1. `%`\n",
    "2. no mapping key\n",
    "3. no conversion flags\n",
    "4. minimum field width = `20`\n",
    "5. precision = `4`\n",
    "6. no length modifier\n",
    "7. conversion type is `f` for `floating point`"
   ]
  },
  {
   "cell_type": "markdown",
   "metadata": {},
   "source": [
    "### Conversion Flags\n",
    "\n",
    "| Flag | Meaning |\n",
    "|:-----|:--------|\n",
    "| `#`  | Alternate form <ul><li>`0o` before octal, `0x` or `0X` before hexadecimal, `0b` before binary</li><li>always include decimal point in floating point numbers (even if no decimals)</li></ul> |\n",
    "| `0`  | Zero fill numbers |\n",
    "| `-`  | Left justify |\n",
    "| `<space>` | Leave a space before positive numbers for a signed conversion |\n",
    "| `+`  | Always put a sign (`+` or `-`) for signed conversions |\n"
   ]
  },
  {
   "cell_type": "code",
   "execution_count": null,
   "metadata": {},
   "outputs": [],
   "source": [
    "print('|result: %020.4f|' % value)"
   ]
  },
  {
   "cell_type": "code",
   "execution_count": null,
   "metadata": {},
   "outputs": [],
   "source": [
    "print('|result: %-20.4f|' % value)"
   ]
  },
  {
   "cell_type": "markdown",
   "metadata": {},
   "source": [
    "### Conversion Types\n",
    "\n",
    "| Conversion | Meaning |\n",
    "|:-----------|:--------|\n",
    "| d<br>i     | Signed integer decimal |\n",
    "| o\t         | Signed octal value |\n",
    "| X<br>x     | Signed hexadecimal (upper or lower case), 2A or 2a |\n",
    "| E<br>e     | Floating point exponential format (upper or lower case) |\n",
    "| F<br>f     | Floating point decimal format (case is irrelevant) |\n",
    "| G<br>g     | Floating point format. Uses exponential if exponent is less than -4 or not less than precision, decimal format otherwise. (Case applies to exponential format) |\n",
    "| c          | Single character |\n",
    "| r          | String (converts using `repr()`, resulting in a visual representation of an object that can be passed to `eval()` – strings have quotes, for example) |\n",
    "| s          | String (converts using `str()`, resulting is a _friendly_ representation of the object – strings are the bare value) |\n",
    "| a          | String (converts using `ascii()`, as `r`, but escapes non-ASCII characters) |\n",
    "| %          | A percentage sign character, no value is converted |\n"
   ]
  },
  {
   "cell_type": "code",
   "execution_count": null,
   "metadata": {},
   "outputs": [],
   "source": [
    "s = \"Lúthien Tinúviel\""
   ]
  },
  {
   "cell_type": "code",
   "execution_count": null,
   "metadata": {},
   "outputs": [],
   "source": [
    "print(\"%s\" % s)\n",
    "print(\"%r\" % s)\n",
    "print(\"%a\" % s)"
   ]
  },
  {
   "cell_type": "code",
   "execution_count": null,
   "metadata": {},
   "outputs": [],
   "source": [
    "print(\"%g\" % 1000000)"
   ]
  },
  {
   "cell_type": "markdown",
   "metadata": {},
   "source": [
    "### Mapping Key\n",
    "\n",
    "- Allows values to be interpolated by name\n",
    "  - Instead of using positional specifiers"
   ]
  },
  {
   "cell_type": "code",
   "execution_count": null,
   "metadata": {},
   "outputs": [],
   "source": [
    "print('%(language)s has %(number)d quote types.' % { 'language': \"Python\", \"number\": 3 })"
   ]
  },
  {
   "cell_type": "markdown",
   "metadata": {},
   "source": [
    "`{ 'language': \"Python\", \"number\": 3 }` is a dictionary \n",
    "- A comma-separated set of name-value pairs\n",
    "- Order of the dictionary in not important\n",
    "- Will learn all about the dictionary data type later"
   ]
  },
  {
   "cell_type": "markdown",
   "metadata": {},
   "source": [
    "### `str.format()`\n",
    "\n",
    "- Provides a sophisticated mini-language to describe interpolations\n",
    "- Since v2.6\n",
    "\n",
    "The syntax appears fairly complex:\n",
    "\n",
    "```\n",
    "replacement_field ::=  \"{\" [field_name] [\"!\" conversion] [\":\" format_spec] \"}\"\n",
    "field_name        ::=  arg_name (\".\" attribute_name | \"[\" element_index \"]\")*\n",
    "arg_name          ::=  [identifier | digit+]\n",
    "attribute_name    ::=  identifier\n",
    "element_index     ::=  digit+ | index_string\n",
    "index_string      ::=  <any source character except \"]\"> +\n",
    "conversion        ::=  \"r\" | \"s\" | \"a\"\n",
    "format_spec       ::=  <described in the next section>\n",
    "```\n",
    "\n",
    "What's important?\n",
    "- Interpolation is described by _replacement fields_ that are surrounded by braces `{ }`\n",
    "- Inside the braces is a field name and an expression describing the conversion.\n",
    "- Field names may be either a numeric index into the arguments, or a named parameter\n",
    "  - You may mix them, but you cannot have numbered arguments after named parameter\n",
    "  - You can omit the numbers if they are used in sequence\n",
    "- The `conversion` has the same meaning as `r`, `s` and `a` in `printf` formatting\n",
    "- Insert braces by doubling: `{{` or `}}`"
   ]
  },
  {
   "cell_type": "code",
   "execution_count": null,
   "metadata": {},
   "outputs": [],
   "source": [
    "print('{0} and {1}'.format('ham', 'eggs'))"
   ]
  },
  {
   "cell_type": "code",
   "execution_count": null,
   "metadata": {},
   "outputs": [],
   "source": [
    "print('{} and {}'.format('ham', 'eggs'))"
   ]
  },
  {
   "cell_type": "code",
   "execution_count": null,
   "metadata": {},
   "outputs": [],
   "source": [
    "print('This {food} is {adjective}.'.format(food = 'spam', adjective = 'absolutely horrible'))"
   ]
  },
  {
   "cell_type": "code",
   "execution_count": null,
   "metadata": {},
   "outputs": [],
   "source": [
    "print('This {food} is {0}.'.format('absolutely horrible', food = 'spam'))"
   ]
  },
  {
   "cell_type": "code",
   "execution_count": null,
   "metadata": {},
   "outputs": [],
   "source": [
    "script = '''\n",
    "WAITRESS: Well, there's {0} and {1}; {0}, {2} and {1}; {0} and {3}; {0}, {1} and {3}; {0}, {1}, {2} and {3}; {3}, {1}, {2} and {3}; {3}, {0}, {3}, {3}, {1} and {3}; {3}, {2}, {3}, {3}, {1}, {3}, {4} and {3}; ...\n",
    "\n",
    "VIKINGS (starting to chant): {3} {3} {3} {3}...\n",
    "\n",
    "WAITRESS: ... {3}, {3}, {3}, {0} and {3}; {3}, {3}, {3}, {3}, {3}, {3}, {5}, {3}, {3}, {3}; ...\n",
    "\n",
    "VIKINGS (singing): {3}! Lovely {3}! Lovely {3}!\n",
    "\n",
    "WAITRESS: ... or Lobster Thermidor au Crevette with a Mornay sauce, served in a Provencale manner with shallots and aubergines, garnished with truffle pâté, brandy and with a fried {0} on top... and {3}.\n",
    "'''\n",
    "\n",
    "print(script.format('egg', 'bacon', 'sausage', 'spam', 'tomato', 'baked beans'))"
   ]
  },
  {
   "cell_type": "markdown",
   "metadata": {},
   "source": [
    "### Format Specifiers\n",
    "\n",
    "Again, the syntax appears complex at first:\n",
    "\n",
    "```\n",
    "format_spec     ::=  [[fill]align][sign][#][0][width][grouping_option][.precision][type]\n",
    "fill            ::=  <any character>\n",
    "align           ::=  \"<\" | \">\" | \"=\" | \"^\"\n",
    "sign            ::=  \"+\" | \"-\" | \" \"\n",
    "width           ::=  digit+\n",
    "grouping_option ::=  \"_\" | \",\"\n",
    "precision       ::=  digit+\n",
    "type            ::=  \"b\" | \"c\" | \"d\" | \"e\" | \"E\" | \"f\" | \"F\" | \"g\" | \"G\" | \"n\" | \"o\" | \"s\" | \"x\" | \"X\" | \"%\"\n",
    "```\n",
    "\n",
    "But this is actually very similar to the `printf`-style formatting we saw earlier.\n",
    "\n",
    "Rather than look at it exhaustively, here are some key differences:\n",
    "- You can use any `fill` character rather than just `0` or `<space>`\n",
    "- There is more alignment control (`=` aligns numbers separately from their sign, `^` centres)\n",
    "- `_` and `,` are new options (v3.6 & 3.1, respectively) that provide digit grouping\n",
    "  - Do not take account of national grouping conventions, use `type n` instead\n",
    "- `b` is binary\n",
    "- `n` is a number according to the current locale (with appropriate separators, decimal point etc.)"
   ]
  },
  {
   "cell_type": "code",
   "execution_count": null,
   "metadata": {},
   "outputs": [],
   "source": [
    "import math"
   ]
  },
  {
   "cell_type": "code",
   "execution_count": null,
   "metadata": {},
   "outputs": [],
   "source": [
    "print('The value of \\N{MATHEMATICAL ITALIC SMALL PI} is approximately {0:.3f}.'.format(math.pi))"
   ]
  },
  {
   "cell_type": "code",
   "execution_count": null,
   "metadata": {},
   "outputs": [],
   "source": [
    "value = 12.345678"
   ]
  },
  {
   "cell_type": "code",
   "execution_count": null,
   "metadata": {},
   "outputs": [],
   "source": [
    "print('|result: %20.4f|' % value)\n",
    "print('|result: {value:20.4f}|'.format(value = value))"
   ]
  },
  {
   "cell_type": "code",
   "execution_count": null,
   "metadata": {},
   "outputs": [],
   "source": [
    "print('|{0:10.2f}|'.format(value))\n",
    "print('|{0:<10.2f}|'.format(value))\n",
    "print('|{0:^10.2f}|'.format(value))\n",
    "print('|{0:*>10.2f}|'.format(value))\n",
    "print('|{0:!>10.2f}|'.format(value))"
   ]
  },
  {
   "cell_type": "markdown",
   "metadata": {},
   "source": [
    "### Literal String Interpolation\n",
    "\n",
    "Introduced in v3.6\n",
    "\n",
    "Very similar to `str.format()`\n",
    "- Literals are specified with the `f` modifier and are often known as f-strings (standing for *formatted strings*).\n",
    "- Allows for expressions to be used when specifying a placeholder\n",
    "- Expressions are evaluated in the current context, meaning they have access to all local and global variables\n",
    "- As of v3.8, including an `=` sign causes the name and value of a variable to appear\n",
    "- Otherwise uses the same grammar as `str.format()`"
   ]
  },
  {
   "cell_type": "code",
   "execution_count": null,
   "metadata": {},
   "outputs": [],
   "source": [
    "name = \"Dragon\""
   ]
  },
  {
   "cell_type": "code",
   "execution_count": null,
   "metadata": {},
   "outputs": [],
   "source": [
    "print(f'He said, \"I am a {name!s}.\"')"
   ]
  },
  {
   "cell_type": "code",
   "execution_count": null,
   "metadata": {},
   "outputs": [],
   "source": [
    "import sys\n",
    "sys.version"
   ]
  },
  {
   "cell_type": "code",
   "execution_count": null,
   "metadata": {},
   "outputs": [],
   "source": [
    "print(f'{name =}') # from v3.8 onwards, should result in name = Dragon"
   ]
  },
  {
   "cell_type": "code",
   "execution_count": null,
   "metadata": {},
   "outputs": [],
   "source": [
    "value = 12.123456"
   ]
  },
  {
   "cell_type": "code",
   "execution_count": null,
   "metadata": {},
   "outputs": [],
   "source": [
    "print('|result: %20.4f|' % value)\n",
    "print('|result: {value:20.4f}|'.format(value = value))\n",
    "print(f'|result: {value:20.4f}|') # more expressive than %, more concise than str.format"
   ]
  },
  {
   "cell_type": "code",
   "execution_count": null,
   "metadata": {},
   "outputs": [],
   "source": [
    "counter = 42"
   ]
  },
  {
   "cell_type": "code",
   "execution_count": null,
   "metadata": {},
   "outputs": [],
   "source": [
    "print(f'We should consider positions {counter} and {counter + 1}')"
   ]
  },
  {
   "cell_type": "markdown",
   "metadata": {},
   "source": [
    "### Template Strings\n",
    "\n",
    "Part of the `string` module since v2.4.\n",
    "\n",
    "A simpler substitution mechanism than the `%` operator.\n",
    "\n",
    "- `Template`s may contain simple placeholders introduced by `$`\n",
    "- Placeholders may be:\n",
    "  - `$identifier` and are terminated by the first character that is not a valid part of an identifier (typically `<space>` or some punctuation).\n",
    "  - `${identifier}` which is used when they are adjacent to characters that would form part of a valid identifier\n",
    "- The `substitute()` function provides values to replace the placeholders"
   ]
  },
  {
   "cell_type": "code",
   "execution_count": null,
   "metadata": {},
   "outputs": [],
   "source": [
    "from string import Template"
   ]
  },
  {
   "cell_type": "code",
   "execution_count": null,
   "metadata": {},
   "outputs": [],
   "source": [
    "t1 = Template('He said, \"I am a $name.\"')\n",
    "print(t1.substitute(name = 'Dragon'))"
   ]
  },
  {
   "cell_type": "code",
   "execution_count": null,
   "metadata": {},
   "outputs": [],
   "source": [
    "t2 = Template('\"Now we start the process of ${name}ification\"')\n",
    "print(t2.substitute(name = 'Dragon'))"
   ]
  },
  {
   "cell_type": "markdown",
   "metadata": {},
   "source": [
    "## Exercise 2.2: Chapter Exercise\n",
    "\n",
    "Open the notebook and do this exercise"
   ]
  },
  {
   "cell_type": "markdown",
   "metadata": {},
   "source": [
    "# End of Notebook"
   ]
  }
 ],
 "metadata": {
  "kernelspec": {
   "display_name": "Python 3 (ipykernel)",
   "language": "python",
   "name": "python3"
  },
  "language_info": {
   "codemirror_mode": {
    "name": "ipython",
    "version": 3
   },
   "file_extension": ".py",
   "mimetype": "text/x-python",
   "name": "python",
   "nbconvert_exporter": "python",
   "pygments_lexer": "ipython3",
   "version": "3.8.11"
  }
 },
 "nbformat": 4,
 "nbformat_minor": 2
}
