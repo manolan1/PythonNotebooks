{
 "cells": [
  {
   "cell_type": "markdown",
   "metadata": {},
   "source": [
    "<a href=\"https://colab.research.google.com/github/manolan1/PythonNotebooks/blob/main/IntroToPython\\Chapter%202%20Variable%20Fundamentals\\Exercise%202_1%20String%20Methods%20(Solution).ipynb\" target=\"_parent\"><img src=\"https://colab.research.google.com/assets/colab-badge.svg\" alt=\"Open In Colab\"/></a>"
   ]
  },
  {
   "cell_type": "markdown",
   "metadata": {},
   "source": [
    "# Exercise 2.1: String Methods\n",
    "\n",
    "## Questions"
   ]
  },
  {
   "cell_type": "markdown",
   "metadata": {},
   "source": [
    "## Question 1\n",
    "\n",
    "1. How would you do a case-insensitive comparison, given the methods of str, on the strings \"NICE dragons FINISH Last\" and 'Nice Dragons Finish Last'? This is tricky. If you do not see the answer in 2 minutes move on:\n",
    "\n",
    "This is suprisingly difficult to do really well!"
   ]
  },
  {
   "cell_type": "code",
   "execution_count": null,
   "metadata": {},
   "outputs": [],
   "source": [
    "s1 = \"NICE dragons FINISH Last\"\n",
    "s2 = 'Nice Dragons Finish Last'"
   ]
  },
  {
   "cell_type": "markdown",
   "metadata": {},
   "source": [
    "The simple solution, often given is:"
   ]
  },
  {
   "cell_type": "code",
   "execution_count": null,
   "metadata": {},
   "outputs": [],
   "source": [
    "s1.lower() == s2.lower()"
   ]
  },
  {
   "cell_type": "markdown",
   "metadata": {},
   "source": [
    "However, that will not work in all languages. Consider:"
   ]
  },
  {
   "cell_type": "code",
   "execution_count": null,
   "metadata": {},
   "outputs": [],
   "source": [
    "print(\"ß\".lower())\n",
    "print(\"ß\".upper().lower())\n",
    "print(\"ß\".upper().lower() == \"ß\".lower())"
   ]
  },
  {
   "cell_type": "markdown",
   "metadata": {},
   "source": [
    "It actually does pretty well because it recognises the difference between medial and final sigma:"
   ]
  },
  {
   "cell_type": "code",
   "execution_count": null,
   "metadata": {},
   "outputs": [],
   "source": [
    "print(\"Σίσυφος\".upper())\n",
    "print(\"Σίσυφος\".upper().lower())\n",
    "print(\"ΣΊΣΥΦΟΣ\".lower())"
   ]
  },
  {
   "cell_type": "markdown",
   "metadata": {},
   "source": [
    "But, it is not good enough as a general solution.\n",
    "\n",
    "For this reason, there is the `str.casefold` function:"
   ]
  },
  {
   "cell_type": "code",
   "execution_count": null,
   "metadata": {},
   "outputs": [],
   "source": [
    "\"ß\".lower().casefold() == \"ß\".upper().casefold()"
   ]
  },
  {
   "cell_type": "markdown",
   "metadata": {},
   "source": [
    "Or, for our question:"
   ]
  },
  {
   "cell_type": "code",
   "execution_count": null,
   "metadata": {},
   "outputs": [],
   "source": [
    "s1.casefold() == s2.casefold()"
   ]
  },
  {
   "cell_type": "markdown",
   "metadata": {},
   "source": [
    "In some cases, even `casefold()` may not be enough. If your text contains unicode characters with accents, those accents may be generated in two ways: either as dedicated letters (the most common accented letters in Western European languages all have their own character), or as combining glyphs (basically the unaccented character with an accent superimposed).\n",
    "\n",
    "In these cases, the `unicodedata` module contains the function `normalize` that takes care of these equivalents, but that is beyond the scope of this course."
   ]
  },
  {
   "cell_type": "markdown",
   "metadata": {},
   "source": [
    "## Question 2\n",
    "\n",
    "2. Given the string \"Nice Dragons Finish Last\", return the string split into a list of strings."
   ]
  },
  {
   "cell_type": "code",
   "execution_count": null,
   "metadata": {},
   "outputs": [],
   "source": [
    "\"Nice Dragons Finish Last\".split()"
   ]
  },
  {
   "cell_type": "markdown",
   "metadata": {},
   "source": [
    "## Question 3\n",
    "\n",
    "3. To check to see if a string can be converted to a base 10 int, which method should be used? Give an example:\n",
    "\n",
    "Again, this is suprisingly difficult to do really well (but not as difficult as the caseless comparison).\n",
    "\n",
    "If the number is a positive integer, then the following will work:"
   ]
  },
  {
   "cell_type": "code",
   "execution_count": null,
   "metadata": {},
   "outputs": [],
   "source": [
    "print(\"42\".isnumeric())\n",
    "print(\"42\".isdigit())\n",
    "print(\"42\".isdecimal())"
   ]
  },
  {
   "cell_type": "markdown",
   "metadata": {},
   "source": [
    "Except that `isnumeric()` probably isn't what we are looking for:"
   ]
  },
  {
   "cell_type": "code",
   "execution_count": null,
   "metadata": {},
   "outputs": [],
   "source": [
    "print(\"\\u2155\")\n",
    "print(\"\\u2155\".isnumeric())\n",
    "print(\"\\u2155\".isdigit())\n",
    "print(\"\\u2155\".isdecimal())"
   ]
  },
  {
   "cell_type": "markdown",
   "metadata": {},
   "source": [
    "And probably neither is `isdigit()`:"
   ]
  },
  {
   "cell_type": "code",
   "execution_count": null,
   "metadata": {},
   "outputs": [],
   "source": [
    "print(\"2\\u00b2\")\n",
    "print(\"2\\u00b2\".isdigit())\n",
    "print(\"2\\u00b2\".isdecimal())"
   ]
  },
  {
   "cell_type": "markdown",
   "metadata": {},
   "source": [
    "Fortunately, depite its name, `isdecimal()` doesn't check for decimal, aka floating point, numbers; it checks for numbers in the decimal base (base 10)."
   ]
  },
  {
   "cell_type": "code",
   "execution_count": null,
   "metadata": {},
   "outputs": [],
   "source": [
    "\"42.0\".isdecimal()"
   ]
  },
  {
   "cell_type": "markdown",
   "metadata": {},
   "source": [
    "Note that `\"42.0\"` is not an integer, even though it could be converted to one - by convention, adding `.0` to a number makes it a floating point number.\n",
    "\n",
    "Unfortunately, it doesn't work for negative integers (in fact none of these functions do):"
   ]
  },
  {
   "cell_type": "code",
   "execution_count": null,
   "metadata": {},
   "outputs": [],
   "source": [
    "\"-42\".isdecimal()"
   ]
  },
  {
   "cell_type": "markdown",
   "metadata": {},
   "source": [
    "You could try using a slice (we'll learn about them later):"
   ]
  },
  {
   "cell_type": "code",
   "execution_count": null,
   "metadata": {},
   "outputs": [],
   "source": [
    "s3 = \"-42\"\n",
    "s3.isdecimal() or (s3.startswith('-') and s3[1:].isdecimal())"
   ]
  },
  {
   "cell_type": "markdown",
   "metadata": {},
   "source": [
    "Basically, the `[1:]` says _all characters from 1 onwards_ (zero-based counting, so the `-` is character 0 in the string).\n",
    "\n",
    "This will still trip up over `+42`. You could obviously write increasingly complicated checks to take account of these situations, but many of them will have a problem with something. In the end, you may conclude that the best way is to try the conversion and intercept the error. We'll learn how to do that later, but here it is for completeness (all wrapped up in a function - we'll learn more about them soon, too):"
   ]
  },
  {
   "cell_type": "code",
   "execution_count": null,
   "metadata": {},
   "outputs": [],
   "source": [
    "def isinteger(value: str) -> bool:\n",
    "    try:\n",
    "        int(value)\n",
    "        return True\n",
    "    except ValueError:\n",
    "        return False"
   ]
  },
  {
   "cell_type": "code",
   "execution_count": null,
   "metadata": {},
   "outputs": [],
   "source": [
    "print(\"is 42 an integer?\", isinteger(\"42\"))\n",
    "print(\"is -42 an integer?\", isinteger(\"-42\"))\n",
    "print(\"is 42.0 an integer?\", isinteger(\"42.0\"))\n",
    "print(\"is +42 an integer?\", isinteger(\"+42\"))\n",
    "print(\"is 2\\u00b2 an integer?\", isinteger(\"2\\u00b2\"))"
   ]
  },
  {
   "cell_type": "markdown",
   "metadata": {},
   "source": [
    "# End of Notebook"
   ]
  }
 ],
 "metadata": {
  "kernelspec": {
   "display_name": "Python 3 (ipykernel)",
   "language": "python",
   "name": "python3"
  },
  "language_info": {
   "codemirror_mode": {
    "name": "ipython",
    "version": 3
   },
   "file_extension": ".py",
   "mimetype": "text/x-python",
   "name": "python",
   "nbconvert_exporter": "python",
   "pygments_lexer": "ipython3",
   "version": "3.8.11"
  }
 },
 "nbformat": 4,
 "nbformat_minor": 2
}
