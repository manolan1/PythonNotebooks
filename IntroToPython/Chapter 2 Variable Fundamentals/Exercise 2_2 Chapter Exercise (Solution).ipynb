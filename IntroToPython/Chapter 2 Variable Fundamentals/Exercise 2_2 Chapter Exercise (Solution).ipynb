{
 "cells": [
  {
   "cell_type": "markdown",
   "metadata": {},
   "source": [
    "# Exercise 2.2: Chapter Exercise\n",
    "\n",
    "## Question 1\n",
    "\n",
    "You are given three variables (`a`, `b`, `c`). How can you work out if any of them point to the same object?"
   ]
  },
  {
   "cell_type": "code",
   "execution_count": null,
   "metadata": {},
   "outputs": [],
   "source": [
    "a = 'Zaphod Beeblebrox'\n",
    "b = 'Hotblack Desiato'\n",
    "c = a"
   ]
  },
  {
   "cell_type": "code",
   "execution_count": null,
   "metadata": {},
   "outputs": [],
   "source": [
    "# write your answer here\n",
    "print('are a and b the same object?', a is b)\n",
    "print('are a and c the same object?', a is c)\n",
    "print('are b and c the same object?', b is c)"
   ]
  },
  {
   "cell_type": "markdown",
   "metadata": {},
   "source": [
    "You could also do this using `id()`, but `is` is considered neater."
   ]
  },
  {
   "cell_type": "markdown",
   "metadata": {},
   "source": [
    "## Question 2\n",
    "\n",
    "Marvin has a brain the size of a planet, but he is very depressed and cannot concentrate on his boolean algebra.\n",
    "\n",
    "Given three numeric variables, `x`, `y` & `z`, he wishes to add to `z` whichever of `x` and `y` is non-zero (or `y` if both are)."
   ]
  },
  {
   "cell_type": "code",
   "execution_count": null,
   "metadata": {},
   "outputs": [],
   "source": [
    "x = 0\n",
    "y = 1\n",
    "z = 41"
   ]
  },
  {
   "cell_type": "code",
   "execution_count": null,
   "metadata": {},
   "outputs": [],
   "source": [
    "# write your answer here\n",
    "z = z + (y or x)"
   ]
  },
  {
   "cell_type": "code",
   "execution_count": null,
   "metadata": {},
   "outputs": [],
   "source": [
    "print('The answer to the ultimate question of life, the universe and everything is', z)"
   ]
  },
  {
   "cell_type": "markdown",
   "metadata": {},
   "source": [
    "The `or` operator returns the first non-zero (not `False`) value."
   ]
  },
  {
   "cell_type": "markdown",
   "metadata": {},
   "source": [
    "## Question 3\n",
    "\n",
    "Given a floating point number `f`, how would you find its value rounded to 2 decimal places? How would you take the square root?"
   ]
  },
  {
   "cell_type": "code",
   "execution_count": null,
   "metadata": {},
   "outputs": [],
   "source": [
    "f = 42.042"
   ]
  },
  {
   "cell_type": "code",
   "execution_count": null,
   "metadata": {},
   "outputs": [],
   "source": [
    "# write your answer here\n",
    "import math\n",
    "print(f, 'rounded to 2dps is', round(f, 2))\n",
    "print('square root of', f, 'is', math.sqrt(f))\n",
    "print('square root of', f, 'is', pow(f, 0.5))"
   ]
  },
  {
   "cell_type": "markdown",
   "metadata": {},
   "source": [
    "## Question 4\n",
    "\n",
    "\"Brain the size of a planet and they want me to write out 𝜋 to _n_ decimal places! They will only tell me _n_ at the last minute.\""
   ]
  },
  {
   "cell_type": "code",
   "execution_count": null,
   "metadata": {},
   "outputs": [],
   "source": [
    "import math"
   ]
  },
  {
   "cell_type": "code",
   "execution_count": null,
   "metadata": {},
   "outputs": [],
   "source": [
    "n = 5"
   ]
  },
  {
   "cell_type": "code",
   "execution_count": null,
   "metadata": {},
   "outputs": [],
   "source": [
    "# write your answer here\n",
    "rounded_pi = round(math.pi, n)\n",
    "print('\\N{MATHEMATICAL ITALIC SMALL PI} to', n, 'decimal places is', rounded_pi)\n",
    "print('\\N{MATHEMATICAL ITALIC SMALL PI} to %d decimal places is %.*f' % (n, n, math.pi))\n",
    "print(f'\\N{MATHEMATICAL ITALIC SMALL PI} to {n} decimal places is {math.pi:.{n}f}')"
   ]
  },
  {
   "cell_type": "markdown",
   "metadata": {},
   "source": [
    "It is probably slightly more elegant to do it using an f-string, arguably more readable for novices using `round()`.\n",
    "\n",
    "There are other ways and variations."
   ]
  },
  {
   "cell_type": "markdown",
   "metadata": {},
   "source": [
    "# End of Notebook"
   ]
  }
 ],
 "metadata": {
  "kernelspec": {
   "display_name": "Python 3 (ipykernel)",
   "language": "python",
   "name": "python3"
  },
  "language_info": {
   "codemirror_mode": {
    "name": "ipython",
    "version": 3
   },
   "file_extension": ".py",
   "mimetype": "text/x-python",
   "name": "python",
   "nbconvert_exporter": "python",
   "pygments_lexer": "ipython3",
   "version": "3.8.11"
  }
 },
 "nbformat": 4,
 "nbformat_minor": 2
}
