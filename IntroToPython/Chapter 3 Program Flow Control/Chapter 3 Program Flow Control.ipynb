{
 "cells": [
  {
   "cell_type": "markdown",
   "metadata": {},
   "source": [
    "<a href=\"https://colab.research.google.com/github/manolan1/PythonNotebooks/blob/main/IntroToPython\\Chapter%203%20Program%20Flow%20Control\\Chapter%203%20Program%20Flow%20Control.ipynb\" target=\"_parent\"><img src=\"https://colab.research.google.com/assets/colab-badge.svg\" alt=\"Open In Colab\"/></a>"
   ]
  },
  {
   "cell_type": "markdown",
   "metadata": {},
   "source": [
    "# Chapter 3: Program Flow Control\n",
    "\n",
    "## Boolean Review\n",
    "\n",
    "### Truth Value Testing\n",
    "\n",
    "- The Boolean constants\n",
    "  - `True`\n",
    "  - `False`\n",
    "- The following are `False`:\n",
    "  - Zero of any numeric type\n",
    "  - Any empty sequence, `''`, `()`, `[]`\n",
    "  - Any empty mapping , `{}`\n",
    "  - The keyword `None`\n",
    "  - The Boolean constant `False`\n",
    "- Everything else is `True`\n",
    "- The built-in function `bool()` returns `True` or `False` for any object passed in\n",
    "- All Boolean expressions uses short-circuit evaluation\n",
    "  - starting from the left, when the answer is known, stop evaluating\n",
    "\n"
   ]
  },
  {
   "cell_type": "code",
   "execution_count": null,
   "metadata": {},
   "outputs": [],
   "source": [
    "# All False\n",
    "print(bool(0.0))\n",
    "print(bool(''))\n",
    "print(bool({}))\n",
    "\n",
    "# All True\n",
    "print(bool(42.0))\n",
    "print(bool('a dragon'))\n",
    "print(bool({'name': \"value\"}))"
   ]
  },
  {
   "cell_type": "markdown",
   "metadata": {},
   "source": [
    "## Comparator Operators\n",
    "\n",
    "| Symbol | Meaning |\n",
    "|:-------|:--------|\n",
    "| `<`    | Less than |\n",
    "| `>`    | Greater than |\n",
    "| `<=`   | Less than or equal |\n",
    "| `>=`   | Greater than or equal |\n",
    "| `==`   | Value equality (simple equality) |\n",
    "| `!=`   | Value inequality (`<>` is deprecated) |\n",
    "| `is`   | Object identity, `a is b` is `True` if `a` and `b` refer to the same object; otherwise `False` |\n",
    "| `is not` | Object non-identity, `a is not b` is `True` if `a` and `b` do not refer to the same object, otherwise `False` |\n",
    "| `in`   | `a in b` is `True` if `a` is contained in `b`, otherwise `False` |\n",
    "| `not in` | `a not in b` is `True` if `a` is not contained in `b`; otherwise `False` |\n"
   ]
  },
  {
   "cell_type": "code",
   "execution_count": null,
   "metadata": {},
   "outputs": [],
   "source": [
    "y = 4\n",
    "z = 7"
   ]
  },
  {
   "cell_type": "code",
   "execution_count": null,
   "metadata": {},
   "outputs": [],
   "source": [
    "y < z + 5 # True"
   ]
  },
  {
   "cell_type": "code",
   "execution_count": null,
   "metadata": {},
   "outputs": [],
   "source": [
    "3 < y # True"
   ]
  },
  {
   "cell_type": "code",
   "execution_count": null,
   "metadata": {},
   "outputs": [],
   "source": [
    "y is z # False"
   ]
  },
  {
   "cell_type": "code",
   "execution_count": null,
   "metadata": {},
   "outputs": [],
   "source": [
    "'am a' in 'I am a dragon' # True"
   ]
  },
  {
   "cell_type": "markdown",
   "metadata": {},
   "source": [
    "We have also met two other data types:\n",
    "- Tuple: `('Python', 3)`\n",
    "- Dictionary: `{ 'language': \"Python\", \"number\": 3 }`\n",
    "\n",
    "`in` works with both of these as well:\n",
    "- For a tuple, matches any value\n",
    "- For a dictionary, matches any key"
   ]
  },
  {
   "cell_type": "code",
   "execution_count": null,
   "metadata": {},
   "outputs": [],
   "source": [
    "a = ('Python', 3)\n",
    "b = { 'language': \"Python\", \"number\": 3 }"
   ]
  },
  {
   "cell_type": "code",
   "execution_count": null,
   "metadata": {},
   "outputs": [],
   "source": [
    "'Python' in a # True, one of the values"
   ]
  },
  {
   "cell_type": "code",
   "execution_count": null,
   "metadata": {},
   "outputs": [],
   "source": [
    "'Python' in b # False, not a key"
   ]
  },
  {
   "cell_type": "code",
   "execution_count": null,
   "metadata": {},
   "outputs": [],
   "source": [
    "'language' in b # True, one of the keys"
   ]
  },
  {
   "cell_type": "markdown",
   "metadata": {},
   "source": [
    "### A Word Of Caution Regarding `is`\n",
    "\n",
    "In our examples, we have used `is` with simple data types like `int` and `str`. While `is` will always return `False` when two objects are not identical, it may sometimes return `True` when objects are identical, but not the same object! "
   ]
  },
  {
   "cell_type": "code",
   "execution_count": null,
   "metadata": {},
   "outputs": [],
   "source": [
    "a1 = 'a'\n",
    "a2 = 'a'\n",
    "a1 is a2"
   ]
  },
  {
   "cell_type": "code",
   "execution_count": null,
   "metadata": {},
   "outputs": [],
   "source": [
    "b1 = 256\n",
    "b2 = 256\n",
    "b1 is b2"
   ]
  },
  {
   "cell_type": "code",
   "execution_count": null,
   "metadata": {},
   "outputs": [],
   "source": [
    "c1 = 257\n",
    "c2 = 257\n",
    "c1 is c2"
   ]
  },
  {
   "cell_type": "markdown",
   "metadata": {},
   "source": [
    "That's odd, right?\n",
    "\n",
    "What is happening here is that Python is applying some optimizations. There is a single instance of all integers between -5 and 256 and any variable that contains one of those values points to the same object as any other variable with the same value. This range was determined empirically and has changed over time.\n",
    "\n",
    "This process is known as `interning`.\n",
    "\n",
    "For `str`, the rules are more complex."
   ]
  },
  {
   "cell_type": "code",
   "execution_count": null,
   "metadata": {},
   "outputs": [],
   "source": [
    "d1 = 'Nowisthetime'\n",
    "d2 = 'Nowisthetime'\n",
    "d1 is d2"
   ]
  },
  {
   "cell_type": "code",
   "execution_count": null,
   "metadata": {},
   "outputs": [],
   "source": [
    "d3 = 'Now is the time'\n",
    "d4 = 'Now is the time'\n",
    "d3 is d4"
   ]
  },
  {
   "cell_type": "markdown",
   "metadata": {},
   "source": [
    "All these optimisations are implementation dependent: ***Do not rely on them***\n",
    "\n",
    "Fortunately, in real Python code, we rarely use `is` with these primitive data types."
   ]
  },
  {
   "cell_type": "markdown",
   "metadata": {},
   "source": [
    "### Boolean Operators\n",
    "\n",
    "| Operator | Meaning |\n",
    "|:---------|:--------|\n",
    "| `not`    | Boolean not; if `a` is `True`, `not a` is `False` |\n",
    "| `and`    | Boolean and; `True` if `a` and `b` are `True`; otherwise `False`; `b` is evaluated only if `a` is `True` |\n",
    "| `or`     | Boolean or; `True` if either `a` or  `b` are `True`; otherwise `False`; `b` is evaluated only if `a` is `False` |\n"
   ]
  },
  {
   "cell_type": "code",
   "execution_count": null,
   "metadata": {},
   "outputs": [],
   "source": [
    "3 < y and y < z + 5 # True since both conditions are True"
   ]
  },
  {
   "cell_type": "code",
   "execution_count": null,
   "metadata": {},
   "outputs": [],
   "source": [
    "3 < y < z + 5 # True, this time y is only evaluated once"
   ]
  },
  {
   "cell_type": "code",
   "execution_count": null,
   "metadata": {},
   "outputs": [],
   "source": [
    "not 3 < y < z + 5 # False, not covers the whole expression"
   ]
  },
  {
   "cell_type": "code",
   "execution_count": null,
   "metadata": {},
   "outputs": [],
   "source": [
    "not (3 < y < z + 5) "
   ]
  },
  {
   "cell_type": "markdown",
   "metadata": {},
   "source": [
    "`not` has lower precendence than the other operators (and `<` is lower precendence than `+`). Adding parentheses makes it clearer. Use parentheses in these confusing cases, since no one can remember the precedence rules."
   ]
  },
  {
   "cell_type": "markdown",
   "metadata": {},
   "source": [
    "## Control Structure `if`\n",
    "\n",
    "```\n",
    "if test-expression:\n",
    "    suite \n",
    "elif test-expression:\n",
    "    suite\n",
    "else:\n",
    "    suite\n",
    "```\n",
    "\n",
    "- The `if` clause must be followed by a `test-expression` that returns `True` or `False`\n",
    "- The `test-expression` must be followed by a colon (`:`)\n",
    "- `suite` is a block of statements to be executed if `test-expression` evaluates to `True`\n",
    "  - If there is just a single statement, it can be on the same line after the colon\n",
    "  - If there is more than one statement, the `suite` must start on the next line and must be indented\n",
    "    - The indentation can be done with tabs, spaces, or a combination of tabs and spaces\n",
    "    - It must be consistent for all statements in the `suite`\n",
    "    - Make indentation uniform throughout your program\n",
    "\n",
    "- `elif` means else if \n",
    "  - The same rules as for the `if` clause\n",
    "    - Must be followed by a Boolean expression and then a colon (`:`)\n",
    "  - The `elif` clause is optional\n",
    "  - May be repeated as many times as wanted \n",
    "- The `else` clause is executed if all other `test-expression`s return `False`\n",
    "  - Must be followed by a colon (`:`)\n",
    "  - The `suite` to be executed for the `else` clause must be indented \n"
   ]
  },
  {
   "cell_type": "code",
   "execution_count": null,
   "metadata": {},
   "outputs": [],
   "source": [
    "# program ch03_if_1.py\n",
    "\n",
    "a = int(input(\"First number: \"))\n",
    "b = int(input(\"Second number: \"))\n",
    "\n",
    "if a < b:\n",
    "    print(a, \"is less than\", b)\n",
    "elif a == b:\n",
    "    print(a, \"is equal to\", b)\n",
    "else:\n",
    "    print(a, \"is greater than\", b)\n",
    "\n",
    "print(\"And that's the Truth\")\n",
    "print(\"Good-bye\")"
   ]
  },
  {
   "cell_type": "code",
   "execution_count": null,
   "metadata": {},
   "outputs": [],
   "source": [
    "# program ch03_if_2.py\n",
    "\n",
    "a = int(input(\"First number: \"))\n",
    "b = int(input(\"Second number: \"))\n",
    "\n",
    "if    a < b: print( a, \"is less than\", b)\n",
    "elif a == b: print( a, \"is equal to\", b)\n",
    "else:        print( a, \"is greater than\", b)"
   ]
  },
  {
   "cell_type": "markdown",
   "metadata": {},
   "source": [
    "## Control Structure `while`\n",
    "\n",
    "### `while` Statement\n",
    "\n",
    "```\n",
    "while test-expression:\n",
    "    suite\n",
    "```\n",
    "\n",
    "While `test-expression` is `True`, execute `suite`"
   ]
  },
  {
   "cell_type": "code",
   "execution_count": null,
   "metadata": {},
   "outputs": [],
   "source": [
    "# ch03_while_1.py\n",
    "import sys\n",
    "\n",
    "input_value = input(\"Enter first number or quit for sum: \")\n",
    "\n",
    "sum = 0\n",
    "\n",
    "if input_value.lower() == \"quit\":\n",
    "    print(\"Sum = 0\")\n",
    "    sys.exit(0)\n",
    "\n",
    "while True:\n",
    "    number = int(input_value)\n",
    "    sum = sum + number\n",
    "    input_value = input(\"Enter next number or quit for sum: \")\n",
    "    if input_value.lower() == \"quit\":\n",
    "        print(\"Sum =\", sum)\n",
    "        sys.exit(0)"
   ]
  },
  {
   "cell_type": "markdown",
   "metadata": {},
   "source": [
    "Remember, `sys.exit()` is the normal way to exit a python program when run at the command line. It is suprisingly hard to exit a notebook cell prematurely. As you can see, calling `sys.exit()` raises an exception. This does no harm, but it isn't very attractive.\n",
    "\n",
    "Incidentally, don't follow the advice of calling `exit`. This is how you terminate an interactive Python session. In a notebook, it will stop the Python kernel, leaving the notebook unresponsive."
   ]
  },
  {
   "cell_type": "markdown",
   "metadata": {},
   "source": [
    "### `break`"
   ]
  },
  {
   "cell_type": "code",
   "execution_count": null,
   "metadata": {},
   "outputs": [],
   "source": [
    "# ch03_while_break.py\n",
    "\n",
    "sum = 0\n",
    "\n",
    "while True:\n",
    "    input_value = input( \"Enter next number for sum or quit to exit: \")\n",
    "    if input_value.lower() == \"quit\":\n",
    "        break\n",
    "    sum = sum + int(input_value)\n",
    "print(\"Sum =\", sum)"
   ]
  },
  {
   "cell_type": "markdown",
   "metadata": {},
   "source": [
    "The `break` command causes execution to continue with the first statement outside the `while` clause.\n",
    "\n",
    "In this case, reduces code duplication."
   ]
  },
  {
   "cell_type": "code",
   "execution_count": null,
   "metadata": {},
   "outputs": [],
   "source": [
    "# ch03_while_continue.py\n",
    "\"\"\"\n",
    "    Program ch03_while_continue.py\n",
    "    The program asks for a number and \n",
    "    prints it only if it is even\n",
    "\"\"\"\n",
    "while True:\n",
    "    candidate = input(\"Enter number to test or <cr> to exit:  \")\n",
    "    if not candidate or not candidate.isdigit():\n",
    "        break\n",
    "    if int(candidate) % 2 != 0:\n",
    "        continue\n",
    "    print(candidate, \"is even\")\n",
    "print(\"That's all folks!\")"
   ]
  },
  {
   "cell_type": "markdown",
   "metadata": {},
   "source": [
    "The command `continue` skips the rest of the loop statements, with execution resuming at the test of the next iteration."
   ]
  },
  {
   "cell_type": "markdown",
   "metadata": {},
   "source": [
    "# End of Notebook"
   ]
  }
 ],
 "metadata": {
  "kernelspec": {
   "display_name": "Python 3 (ipykernel)",
   "language": "python",
   "name": "python3"
  },
  "language_info": {
   "codemirror_mode": {
    "name": "ipython",
    "version": 3
   },
   "file_extension": ".py",
   "mimetype": "text/x-python",
   "name": "python",
   "nbconvert_exporter": "python",
   "pygments_lexer": "ipython3",
   "version": "3.8.11"
  }
 },
 "nbformat": 4,
 "nbformat_minor": 2
}
