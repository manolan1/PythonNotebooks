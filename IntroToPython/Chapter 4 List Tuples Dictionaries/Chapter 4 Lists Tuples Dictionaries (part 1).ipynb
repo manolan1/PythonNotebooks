{
 "cells": [
  {
   "cell_type": "markdown",
   "metadata": {},
   "source": [
    "<a href=\"https://colab.research.google.com/github/manolan1/PythonNotebooks/blob/main/IntroToPython\\Chapter%204%20List%20Tuples%20Dictionaries\\Chapter%204%20Lists%20Tuples%20Dictionaries%20(part%201).ipynb\" target=\"_parent\"><img src=\"https://colab.research.google.com/assets/colab-badge.svg\" alt=\"Open In Colab\"/></a>"
   ]
  },
  {
   "cell_type": "markdown",
   "metadata": {},
   "source": [
    "# Chapter 4: Lists, Tuples, and Dictionaries (part 1)\n",
    "\n",
    "## List\n",
    "\n",
    "### List Introduction\n",
    "\n",
    "- A list is a positionally ordered, mutable (modifiable) sequence of 0 or more references to other objects\n",
    "  - The order of elements in the list matters\n",
    "  - The list can be changed\n",
    "- A list literal is enclosed in square brackets `[ ]`"
   ]
  },
  {
   "cell_type": "code",
   "execution_count": null,
   "metadata": {},
   "outputs": [],
   "source": [
    "Q = [1, \"One for the Money\", 2, \"Two for the Dough\", 3]\n",
    "Q"
   ]
  },
  {
   "cell_type": "code",
   "execution_count": null,
   "metadata": {},
   "outputs": [],
   "source": [
    "a = [1, \"this\"]\n",
    "type(a)"
   ]
  },
  {
   "cell_type": "markdown",
   "metadata": {},
   "source": [
    "## Exercise 4.1: List Introduction"
   ]
  },
  {
   "cell_type": "code",
   "execution_count": null,
   "metadata": {},
   "outputs": [],
   "source": [
    "q = [1, \"Plum\", 3.14, 2, \"One\", 3]"
   ]
  },
  {
   "cell_type": "markdown",
   "metadata": {},
   "source": [
    "### Sequence Operators"
   ]
  },
  {
   "cell_type": "code",
   "execution_count": null,
   "metadata": {},
   "outputs": [],
   "source": [
    "q[1]"
   ]
  },
  {
   "cell_type": "markdown",
   "metadata": {},
   "source": [
    "The index starts at `0`, so element `1` is the second element."
   ]
  },
  {
   "cell_type": "code",
   "execution_count": null,
   "metadata": {},
   "outputs": [],
   "source": [
    "q[-1]"
   ]
  },
  {
   "cell_type": "markdown",
   "metadata": {},
   "source": [
    "Negative index values start from the end of the sequence."
   ]
  },
  {
   "cell_type": "code",
   "execution_count": null,
   "metadata": {},
   "outputs": [],
   "source": [
    "q[0:2]"
   ]
  },
  {
   "cell_type": "markdown",
   "metadata": {},
   "source": [
    "This creates a slice (a selection from the list).\n",
    "\n",
    "Slices are indicated as \"first, not last\", so in `[m:n]`\n",
    "- m is the starting element\n",
    "- n is the first element after the end of the slice"
   ]
  },
  {
   "cell_type": "code",
   "execution_count": null,
   "metadata": {},
   "outputs": [],
   "source": [
    "q[1:]"
   ]
  },
  {
   "cell_type": "markdown",
   "metadata": {},
   "source": [
    "If you omit the end of the slice, it will run to the end of the sequence (end of the list)"
   ]
  },
  {
   "cell_type": "code",
   "execution_count": null,
   "metadata": {},
   "outputs": [],
   "source": [
    "q[:3]"
   ]
  },
  {
   "cell_type": "markdown",
   "metadata": {},
   "source": [
    "Likewise, if you omit the start of the slice, it will start at the beginning of the sequence."
   ]
  },
  {
   "cell_type": "code",
   "execution_count": null,
   "metadata": {},
   "outputs": [],
   "source": [
    "q[-4:-2]"
   ]
  },
  {
   "cell_type": "markdown",
   "metadata": {},
   "source": [
    "Again, negative values count from the end of the sequence."
   ]
  },
  {
   "cell_type": "code",
   "execution_count": null,
   "metadata": {},
   "outputs": [],
   "source": [
    "q[1:4:2]"
   ]
  },
  {
   "cell_type": "markdown",
   "metadata": {},
   "source": [
    "Slices take an optional third argument that indicates the step size."
   ]
  },
  {
   "cell_type": "markdown",
   "metadata": {},
   "source": [
    "### Operators, Functions, and Slice Assignment"
   ]
  },
  {
   "cell_type": "code",
   "execution_count": null,
   "metadata": {},
   "outputs": [],
   "source": [
    "a = [1, 2, 3]\n",
    "b = [4, 5, 6]"
   ]
  },
  {
   "cell_type": "code",
   "execution_count": null,
   "metadata": {},
   "outputs": [],
   "source": [
    "a + b"
   ]
  },
  {
   "cell_type": "markdown",
   "metadata": {},
   "source": [
    "Sequence concatenation operator"
   ]
  },
  {
   "cell_type": "code",
   "execution_count": null,
   "metadata": {},
   "outputs": [],
   "source": [
    "a * 2"
   ]
  },
  {
   "cell_type": "markdown",
   "metadata": {},
   "source": [
    "Sequence multiplication is concatenating a sequence to itself the appropriate number of times."
   ]
  },
  {
   "cell_type": "code",
   "execution_count": null,
   "metadata": {},
   "outputs": [],
   "source": [
    "c = a + b\n",
    "c"
   ]
  },
  {
   "cell_type": "code",
   "execution_count": null,
   "metadata": {},
   "outputs": [],
   "source": [
    "del c[5]\n",
    "c"
   ]
  },
  {
   "cell_type": "markdown",
   "metadata": {},
   "source": [
    "A list is a mutable sequence. The del operator deletes the reference from the list `c`. It does not delete the object unless there are no other references to it."
   ]
  },
  {
   "cell_type": "code",
   "execution_count": null,
   "metadata": {},
   "outputs": [],
   "source": [
    "del c[1:3]\n",
    "c"
   ]
  },
  {
   "cell_type": "markdown",
   "metadata": {},
   "source": [
    "Deletes the objects at indexes `1` and `2`. Indexes are dynamically assigned, the index value for `4` is now `1`."
   ]
  },
  {
   "cell_type": "code",
   "execution_count": null,
   "metadata": {},
   "outputs": [],
   "source": [
    "d = [1, 2, 3, 4, 5, 6]\n",
    "d"
   ]
  },
  {
   "cell_type": "code",
   "execution_count": null,
   "metadata": {},
   "outputs": [],
   "source": [
    "d[1] = 'a'\n",
    "d"
   ]
  },
  {
   "cell_type": "markdown",
   "metadata": {},
   "source": [
    "`d[1]` is a reference to the object whose value is originally `2`. The reference is changed to refer to an object with a value of `'a'`.\n"
   ]
  },
  {
   "cell_type": "code",
   "execution_count": null,
   "metadata": {},
   "outputs": [],
   "source": [
    "d[2:4] = ['b', 'c']\n",
    "d"
   ]
  },
  {
   "cell_type": "markdown",
   "metadata": {},
   "source": [
    "This is done in two steps. First, the `[2:4]` references are removed. Second, starting at index `2`, references are inserted into the list."
   ]
  },
  {
   "cell_type": "code",
   "execution_count": null,
   "metadata": {},
   "outputs": [],
   "source": [
    "d[2:4] = [\"A\", \"B\", \"C\", \"D\"]\n",
    "d"
   ]
  },
  {
   "cell_type": "markdown",
   "metadata": {},
   "source": [
    "First, the references to `'b'` and `'c'` are deleted, and then new references are inserted starting at index `2`. Slice assignments do not have to match in size."
   ]
  },
  {
   "cell_type": "markdown",
   "metadata": {},
   "source": [
    "## List of Lists\n",
    "\n",
    "- Python does not have a native multi-dimensional array\n",
    "  - Later we will see how some modules implement one.\n",
    "  - Using native data types, the nearest equivalent is a list of lists"
   ]
  },
  {
   "cell_type": "code",
   "execution_count": null,
   "metadata": {},
   "outputs": [],
   "source": [
    "MQ = [[1, \"One for the Money\"], [2, \"Two for the Dough\"]]\n",
    "MQ"
   ]
  },
  {
   "cell_type": "code",
   "execution_count": null,
   "metadata": {},
   "outputs": [],
   "source": [
    "print(MQ[0])\n",
    "print(MQ[0][1])"
   ]
  },
  {
   "cell_type": "markdown",
   "metadata": {},
   "source": [
    "- `MQ[0]` accesses the first element of the outer list (another list)\n",
    "- `MQ[0][1]` accesses the second element of this list"
   ]
  },
  {
   "cell_type": "code",
   "execution_count": null,
   "metadata": {},
   "outputs": [],
   "source": [
    "type(MQ)"
   ]
  },
  {
   "cell_type": "code",
   "execution_count": null,
   "metadata": {},
   "outputs": [],
   "source": [
    "type(MQ[0])"
   ]
  },
  {
   "cell_type": "code",
   "execution_count": null,
   "metadata": {},
   "outputs": [],
   "source": [
    "type(MQ[0][1])"
   ]
  },
  {
   "cell_type": "markdown",
   "metadata": {},
   "source": [
    "## Exercise 4.2: List of Lists"
   ]
  },
  {
   "cell_type": "code",
   "execution_count": null,
   "metadata": {},
   "outputs": [],
   "source": [
    "e = [1, 2, 3, 4, 5, 6]\n",
    "e"
   ]
  },
  {
   "cell_type": "code",
   "execution_count": null,
   "metadata": {},
   "outputs": [],
   "source": [
    "e[1] = ['a', 'b']\n",
    "e"
   ]
  },
  {
   "cell_type": "markdown",
   "metadata": {},
   "source": [
    "This is not a slice assignment (no colon in `e[1]`). It is a simple assignment. The reference to `e[1]` is changed to the object `['a', 'b']`."
   ]
  },
  {
   "cell_type": "code",
   "execution_count": null,
   "metadata": {},
   "outputs": [],
   "source": [
    "e[1]"
   ]
  },
  {
   "cell_type": "markdown",
   "metadata": {},
   "source": [
    "Remember, `e[1]` is a reference. In this case, it references the list object with value `['a', 'b']`."
   ]
  },
  {
   "cell_type": "code",
   "execution_count": null,
   "metadata": {},
   "outputs": [],
   "source": [
    "e[1][1]"
   ]
  },
  {
   "cell_type": "markdown",
   "metadata": {},
   "source": [
    "The brackets are evaluated left to right: `e[1]` returns the list `['a', 'b']` and then the second bracket (`[1]`) returns the second element from that list (`'b'`)."
   ]
  },
  {
   "cell_type": "code",
   "execution_count": null,
   "metadata": {},
   "outputs": [],
   "source": [
    "e[0][0]"
   ]
  },
  {
   "cell_type": "markdown",
   "metadata": {},
   "source": [
    "This generates an error because although `e[0]` accesses the first element of the list `e`, that element is not a list."
   ]
  },
  {
   "cell_type": "code",
   "execution_count": null,
   "metadata": {},
   "outputs": [],
   "source": [
    "f = [[501, 502, 503],\n",
    "     [504, 505, 506],\n",
    "     [507, 508, 509]]\n",
    "f[1][2]"
   ]
  },
  {
   "cell_type": "code",
   "execution_count": null,
   "metadata": {},
   "outputs": [],
   "source": [
    "m = [\n",
    "    [\n",
    "        [501, 502],\n",
    "        ['c x', 504]\n",
    "    ], [\n",
    "        ['d y', 506],\n",
    "        [507, 508]\n",
    "    ]\n",
    "]\n",
    "m[0][1][1]"
   ]
  },
  {
   "cell_type": "markdown",
   "metadata": {},
   "source": [
    "You can have as many dimensions of list as you like"
   ]
  },
  {
   "cell_type": "markdown",
   "metadata": {},
   "source": [
    "### Shared References and Copying"
   ]
  },
  {
   "cell_type": "code",
   "execution_count": null,
   "metadata": {},
   "outputs": [],
   "source": [
    "g = [501, 502, 503, 504, 505, 506]\n",
    "g"
   ]
  },
  {
   "cell_type": "code",
   "execution_count": null,
   "metadata": {},
   "outputs": [],
   "source": [
    "h = g\n",
    "h"
   ]
  },
  {
   "cell_type": "code",
   "execution_count": null,
   "metadata": {},
   "outputs": [],
   "source": [
    "h is g"
   ]
  },
  {
   "cell_type": "code",
   "execution_count": null,
   "metadata": {},
   "outputs": [],
   "source": [
    "g[1] = \"Plum Lucky\"\n",
    "h[1]"
   ]
  },
  {
   "cell_type": "code",
   "execution_count": null,
   "metadata": {},
   "outputs": [],
   "source": [
    "j = [501, 502, 503, 504, 505, 506]\n",
    "j"
   ]
  },
  {
   "cell_type": "code",
   "execution_count": null,
   "metadata": {},
   "outputs": [],
   "source": [
    "k = list(j)\n",
    "k is j"
   ]
  },
  {
   "cell_type": "markdown",
   "metadata": {},
   "source": [
    "The `list` function returns a new list. It does a shallow copy, meaning it only copies the first level of items. This is an irrelevant distinction for 1 dimensional lists.\n",
    "\n",
    "`j[:]` also returns a new list, also a shallow copy."
   ]
  },
  {
   "cell_type": "code",
   "execution_count": null,
   "metadata": {},
   "outputs": [],
   "source": [
    "k[1] is j[1]"
   ]
  },
  {
   "cell_type": "markdown",
   "metadata": {},
   "source": [
    "Although `k is not j`, `k[1] is j[1]`. A shallow copy copies the top-level list, but all the references it contains are still references to the same underlying objects."
   ]
  },
  {
   "cell_type": "code",
   "execution_count": null,
   "metadata": {},
   "outputs": [],
   "source": [
    "k[1] = 'HAHA'\n",
    "j[1]"
   ]
  },
  {
   "cell_type": "markdown",
   "metadata": {},
   "source": [
    "When we change the contents of `k`, the contents of `j` do not change."
   ]
  },
  {
   "cell_type": "code",
   "execution_count": null,
   "metadata": {},
   "outputs": [],
   "source": [
    "k[2] is j[2]"
   ]
  },
  {
   "cell_type": "markdown",
   "metadata": {},
   "source": [
    "But where they are not changed, the elements of `k` still refer to the same objects as the elements of `j`."
   ]
  },
  {
   "cell_type": "markdown",
   "metadata": {},
   "source": [
    "Remember `m`?"
   ]
  },
  {
   "cell_type": "code",
   "execution_count": null,
   "metadata": {},
   "outputs": [],
   "source": [
    "m"
   ]
  },
  {
   "cell_type": "code",
   "execution_count": null,
   "metadata": {},
   "outputs": [],
   "source": [
    "n = m[1]\n",
    "n"
   ]
  },
  {
   "cell_type": "code",
   "execution_count": null,
   "metadata": {},
   "outputs": [],
   "source": [
    "p = n[1]\n",
    "p[0]"
   ]
  },
  {
   "cell_type": "markdown",
   "metadata": {},
   "source": [
    "You can assign just part of a list to another variable."
   ]
  },
  {
   "cell_type": "code",
   "execution_count": null,
   "metadata": {},
   "outputs": [],
   "source": [
    "m[1][1][0] = 99\n",
    "m"
   ]
  },
  {
   "cell_type": "code",
   "execution_count": null,
   "metadata": {},
   "outputs": [],
   "source": [
    "print(n)\n",
    "print(n[1])\n",
    "print(p)\n",
    "print(p[0])"
   ]
  },
  {
   "cell_type": "code",
   "execution_count": null,
   "metadata": {},
   "outputs": [],
   "source": [
    "m[1][1] = [42, 'blue']\n",
    "m"
   ]
  },
  {
   "cell_type": "code",
   "execution_count": null,
   "metadata": {},
   "outputs": [],
   "source": [
    "print(n)\n",
    "print(n[1])\n",
    "print(p)\n",
    "print(p[0])"
   ]
  },
  {
   "cell_type": "markdown",
   "metadata": {},
   "source": [
    "When you assign a new value to a list, references to the objects that are being overwritten are maintained if there is another variable pointing to them. But exactly which references are maintained depends on what you overwrote.\n",
    "\n",
    "In the first case, `m[1][1][0] = 99` overwrote a single item in the list `m[1][1]`, which was also pointed to by `n` and `p`, which also showed the new value.\n",
    "\n",
    "In the second case, `m[1][1] = [42, 'blue']` overwrote a single item in the list `m[1]`, which was also pointed to by `n`, so that also showed the new value. However, `p` pointed to an element in `m[1][1]` that was not changed, just removed from `m`."
   ]
  },
  {
   "cell_type": "code",
   "execution_count": null,
   "metadata": {},
   "outputs": [],
   "source": [
    "import copy"
   ]
  },
  {
   "cell_type": "code",
   "execution_count": null,
   "metadata": {},
   "outputs": [],
   "source": [
    "q = copy.deepcopy(m)"
   ]
  },
  {
   "cell_type": "code",
   "execution_count": null,
   "metadata": {},
   "outputs": [],
   "source": [
    "q is m"
   ]
  },
  {
   "cell_type": "code",
   "execution_count": null,
   "metadata": {},
   "outputs": [],
   "source": [
    "q[1] is m[1]"
   ]
  },
  {
   "cell_type": "code",
   "execution_count": null,
   "metadata": {},
   "outputs": [],
   "source": [
    "print(m)\n",
    "print(q)"
   ]
  },
  {
   "cell_type": "markdown",
   "metadata": {},
   "source": [
    "As the name suggests, this is a _deep_ copy (copies the elements and makes new references).\n",
    "\n",
    "In this case, none of the references in `q` are shared with `m`."
   ]
  },
  {
   "cell_type": "code",
   "execution_count": null,
   "metadata": {},
   "outputs": [],
   "source": [
    "m[1][1][0] = 99"
   ]
  },
  {
   "cell_type": "code",
   "execution_count": null,
   "metadata": {},
   "outputs": [],
   "source": [
    "print(m)\n",
    "print(q)"
   ]
  },
  {
   "cell_type": "markdown",
   "metadata": {},
   "source": [
    "### Deep Copy vs Shallow Copy\n",
    "\n",
    "An optional explanation for those who are interested.\n",
    "\n",
    "If `j` points to some location in memory, say 0x2a, then the list we think of as `j` is stored there. The list is a list of pointers to other objects, so memory might look like this:\n",
    "\n",
    "<pre>\n",
    "Symbol table\n",
    "j -> address of j (<b>0x2a</b>)\n",
    "End of symbol table\n",
    "\n",
    "Heap\n",
    "<b>0x2a</b> LIST <i># list indicator (start of object)</i>\n",
    "0x2b 6    <i># length of the list</i>\n",
    "0x2c 0x32 <i># pointer to first item of list</i>\n",
    "0x2d 0x33 <i># pointer to second item of list</i>\n",
    "0x2e 0x34 <i># pointer to third item of list</i>\n",
    "0x2f 0x35 <i># pointer to fourth item of list</i>\n",
    "0x30 0x36 <i># pointer to fifth item of list</i>\n",
    "0x31 0x37 <i># pointer to sixth (last) item of list</i>\n",
    "0x32 501\n",
    "0x33 502\n",
    "0x34 503\n",
    "0x35 504\n",
    "0x36 505\n",
    "0x37 506\n",
    "</pre>\n",
    "\n",
    "The command `k = j` would create a new entry in the symbol table showing that `k` has the same address as `j` (they point to the same object).\n",
    "\n",
    "<pre>\n",
    "Symbol table\n",
    "j -> address of j (<b>0x2a</b>)\n",
    "k -> address of k (<b>0x2a</b>)\n",
    "End of symbol table\n",
    "\n",
    "Heap is unchanged\n",
    "</pre>\n",
    "\n",
    "But, executing `k = list(j)` creates a new object that is an exact copy of the object pointed to by `j`:\n",
    "\n",
    "<pre>\n",
    "Symbol table\n",
    "j -> address of j (<b>0x2a</b>)\n",
    "k -> address of k (<b>0x38</b>)\n",
    "End of symbol table\n",
    "\n",
    "Heap\n",
    "<b>0x2a</b> LIST <i># list indicator (start of object)</i>\n",
    "0x2b 6    <i># length of the list</i>\n",
    "0x2c 0x32 <i># pointer to first item of list</i>\n",
    "0x2d 0x33 <i># pointer to second item of list</i>\n",
    "0x2e 0x34 <i># pointer to third item of list</i>\n",
    "0x2f 0x35 <i># pointer to fourth item of list</i>\n",
    "0x30 0x36 <i># pointer to fifth item of list</i>\n",
    "0x31 0x37 <i># pointer to sixth (last) item of list</i>\n",
    "0x32 501\n",
    "0x33 502\n",
    "0x34 503\n",
    "0x35 504\n",
    "0x36 505\n",
    "0x37 506\n",
    "<b>0x38</b> LIST <i># list indicator (start of object)</i>\n",
    "0x39 6    <i># length of the list</i>\n",
    "0x3a 0x32 <i># pointer to first item of list (note, same as for previous object)</i>\n",
    "0x3b 0x33 <i># pointer to second item of list</i>\n",
    "0x3c 0x34 <i># pointer to third item of list</i>\n",
    "0x3d 0x35 <i># pointer to fourth item of list</i>\n",
    "0x3e 0x36 <i># pointer to fifth item of list</i>\n",
    "0x3f 0x37 <i># pointer to sixth (last) item of list</i>\n",
    "</pre>\n",
    "\n",
    "So, `k` is a new list, but it points to the same objects as `j`. This is what we mean by a _shallow copy_.\n",
    "\n",
    "Now, if *instead*, we create a new list by `k = copy.deepcopy(j)`, memory might look like this:\n",
    "\n",
    "<pre>\n",
    "Symbol table\n",
    "j -> address of j (<b>0x2a</b>)\n",
    "k -> address of k (<b>0x38</b>)\n",
    "End of symbol table\n",
    "\n",
    "Heap\n",
    "<b>0x2a</b> LIST <i># list indicator (start of object)</i>\n",
    "0x2b 6    <i># length of the list</i>\n",
    "0x2c 0x32 <i># pointer to first item of list</i>\n",
    "0x2d 0x33 <i># pointer to second item of list</i>\n",
    "0x2e 0x34 <i># pointer to third item of list</i>\n",
    "0x2f 0x35 <i># pointer to fourth item of list</i>\n",
    "0x30 0x36 <i># pointer to fifth item of list</i>\n",
    "0x31 0x37 <i># pointer to sixth (last) item of list</i>\n",
    "0x32 501\n",
    "0x33 502\n",
    "0x34 503\n",
    "0x35 504\n",
    "0x36 505\n",
    "0x37 506\n",
    "<b>0x38</b> LIST <i># list indicator (start of object)</i>\n",
    "0x39 6    <i># length of the list</i>\n",
    "0x3a 0x40 <i># pointer to first item of list (note, <b>not</b> same as for previous object)</i>\n",
    "0x3b 0x41 <i># pointer to second item of list</i>\n",
    "0x3c 0x42 <i># pointer to third item of list</i>\n",
    "0x3d 0x43 <i># pointer to fourth item of list</i>\n",
    "0x3e 0x44 <i># pointer to fifth item of list</i>\n",
    "0x3f 0x45 <i># pointer to sixth (last) item of list</i>\n",
    "0x40 501\n",
    "0x41 502\n",
    "0x42 503\n",
    "0x43 504\n",
    "0x44 505\n",
    "0x45 506\n",
    "</pre>\n"
   ]
  },
  {
   "cell_type": "markdown",
   "metadata": {},
   "source": [
    "### List Methods\n",
    "\n",
    "| Method | Description |\n",
    "|:-------|:------------|\n",
    "|`.append(x)` | Add item to end of list; `a[len(a):] = [x]` |\n",
    "|`.extend(L)` | Extend list by appending items in list L; `a[len(a):] = L` |\n",
    "|`.insert(i,x)` | Insert item `x` at index `i` |\n",
    "|`.remove(x) ` | Remove the first item from list whose value is `x`. It is an error if there is no item with the value. |\n",
    "|`.pop([i])` | Remove item at index `i`. The `[]` are to show that `i` is optional; if not given, removes last item from list. |\n",
    "|`.index(x)` | Returns the index of the first item whose value is `x` |\n",
    "|`.count(x)` | Returns the number of times value `x` appears in list |\n",
    "|`.sort()` | In place sort the list; returns `None` |\n",
    "|`.reverse()` | In place reverses the list; returns `None` |\n",
    "\n"
   ]
  },
  {
   "cell_type": "markdown",
   "metadata": {},
   "source": [
    "### Exercise 4.3: List Methods"
   ]
  },
  {
   "cell_type": "code",
   "execution_count": null,
   "metadata": {},
   "outputs": [],
   "source": [
    "j = ['a', 'b']\n",
    "j"
   ]
  },
  {
   "cell_type": "code",
   "execution_count": null,
   "metadata": {},
   "outputs": [],
   "source": [
    "j.append('c')\n",
    "j"
   ]
  },
  {
   "cell_type": "code",
   "execution_count": null,
   "metadata": {},
   "outputs": [],
   "source": [
    "j.extend(['b', 'a'])\n",
    "j"
   ]
  },
  {
   "cell_type": "code",
   "execution_count": null,
   "metadata": {},
   "outputs": [],
   "source": [
    "j.insert(3, 'd')\n",
    "j"
   ]
  },
  {
   "cell_type": "markdown",
   "metadata": {},
   "source": [
    "Notice that the insert was done before the index, moving the variables starting at the index to the next larger index."
   ]
  },
  {
   "cell_type": "code",
   "execution_count": null,
   "metadata": {},
   "outputs": [],
   "source": [
    "j.remove('a')\n",
    "j"
   ]
  },
  {
   "cell_type": "markdown",
   "metadata": {},
   "source": [
    "Notice that is the first 'a' that was removed."
   ]
  },
  {
   "cell_type": "code",
   "execution_count": null,
   "metadata": {},
   "outputs": [],
   "source": [
    "j.index('d')"
   ]
  },
  {
   "cell_type": "code",
   "execution_count": null,
   "metadata": {},
   "outputs": [],
   "source": [
    "j.pop(j.index('d'))"
   ]
  },
  {
   "cell_type": "markdown",
   "metadata": {},
   "source": [
    "Remember that without a parameter `.pop()` removes and returns the last item."
   ]
  },
  {
   "cell_type": "code",
   "execution_count": null,
   "metadata": {},
   "outputs": [],
   "source": [
    "j.count('b')"
   ]
  },
  {
   "cell_type": "code",
   "execution_count": null,
   "metadata": {},
   "outputs": [],
   "source": [
    "j.sort()"
   ]
  },
  {
   "cell_type": "markdown",
   "metadata": {},
   "source": [
    "Remember that `.sort()` does an in place sort. The return is `None`, a built-in constant, meaning nothing was returned."
   ]
  },
  {
   "cell_type": "code",
   "execution_count": null,
   "metadata": {},
   "outputs": [],
   "source": [
    "j"
   ]
  },
  {
   "cell_type": "code",
   "execution_count": null,
   "metadata": {},
   "outputs": [],
   "source": [
    "help(sorted)"
   ]
  },
  {
   "cell_type": "markdown",
   "metadata": {},
   "source": [
    "What is the difference between `.sort()` and `sorted()`?"
   ]
  },
  {
   "cell_type": "code",
   "execution_count": null,
   "metadata": {},
   "outputs": [],
   "source": [
    "j.reverse()"
   ]
  },
  {
   "cell_type": "markdown",
   "metadata": {},
   "source": [
    "Again, the reversal happens in place and `None` is returned."
   ]
  },
  {
   "cell_type": "code",
   "execution_count": null,
   "metadata": {},
   "outputs": [],
   "source": [
    "j"
   ]
  },
  {
   "cell_type": "code",
   "execution_count": null,
   "metadata": {},
   "outputs": [],
   "source": [
    "sorted(j)"
   ]
  },
  {
   "cell_type": "markdown",
   "metadata": {},
   "source": [
    "# End of Notebook"
   ]
  }
 ],
 "metadata": {
  "kernelspec": {
   "display_name": "Python 3 (ipykernel)",
   "language": "python",
   "name": "python3"
  },
  "language_info": {
   "codemirror_mode": {
    "name": "ipython",
    "version": 3
   },
   "file_extension": ".py",
   "mimetype": "text/x-python",
   "name": "python",
   "nbconvert_exporter": "python",
   "pygments_lexer": "ipython3",
   "version": "3.8.11"
  }
 },
 "nbformat": 4,
 "nbformat_minor": 2
}
