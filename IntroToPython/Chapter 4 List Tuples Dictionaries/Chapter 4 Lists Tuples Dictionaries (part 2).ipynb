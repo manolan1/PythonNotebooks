{
 "cells": [
  {
   "cell_type": "markdown",
   "metadata": {},
   "source": [
    "# Chapter 4: Lists, Tuples, and Dictionaries (part 2)\n",
    "\n",
    "## The `for` Statement\n",
    "\n",
    "```\n",
    "for var in sequence:\n",
    "    suite\n",
    "```\n",
    "\n",
    "- `var` is assigned the first element in the `sequence`\n",
    "- The `suite` is executed\n",
    "- `var` takes on the next element in the `sequence`\n",
    "\n",
    "`sequence` is an iterable data type in which individual elements are served in ascending sequence each time the object is accessed and returns `StopIteration` error, a `False` value, when there are no more elements of the sequence"
   ]
  },
  {
   "cell_type": "code",
   "execution_count": null,
   "metadata": {},
   "outputs": [],
   "source": [
    "for a in ['a','b','c']:\n",
    "    print(a)"
   ]
  },
  {
   "cell_type": "markdown",
   "metadata": {},
   "source": [
    "Make the next one work"
   ]
  },
  {
   "cell_type": "code",
   "execution_count": null,
   "metadata": {},
   "outputs": [],
   "source": [
    "for b in \"abc\"\n",
    "print(b)"
   ]
  },
  {
   "cell_type": "markdown",
   "metadata": {},
   "source": [
    "### Exercise 4.4: `for` Compound Statement"
   ]
  },
  {
   "cell_type": "code",
   "execution_count": null,
   "metadata": {},
   "outputs": [],
   "source": [
    "\"\"\"\n",
    "    Program:   ch04_1_for_simple.py\n",
    "    Function:  Explore the for command\n",
    "\"\"\"\n",
    "\n",
    "p = \"Plum Lucky!\"\n",
    "\n",
    "for i in p:\n",
    "    print(i.upper())\n",
    "\n",
    "print(\"That's all folks!\")\n",
    "\n",
    "print(\"i = \", i)"
   ]
  },
  {
   "cell_type": "markdown",
   "metadata": {},
   "source": [
    "- `p` can be any _iterable_ data type, mutable or non-mutable.\n",
    "  - For now, an iterable is a string or a list or a tuple.\n",
    "- `i` is a new variable and the last value assigned in the for loop is preserved when the for loop terminates."
   ]
  },
  {
   "cell_type": "code",
   "execution_count": null,
   "metadata": {},
   "outputs": [],
   "source": [
    "\"\"\"\n",
    "    Program:   ch04_2_for_continue.py\n",
    "    Function:  Explore the for command\n",
    "\"\"\"\n",
    "\n",
    "p = \"Plum Lucky!\"\n",
    "\n",
    "for i in p:\n",
    "    if i in 'aieou': continue\n",
    "    print(i.upper())\n",
    "\n",
    "print(\"i = \", i)\n",
    "print(\"That's all folks!\")"
   ]
  },
  {
   "cell_type": "markdown",
   "metadata": {},
   "source": [
    "- `continue` causes execution to _continue_ at the next iteration of the loop"
   ]
  },
  {
   "cell_type": "code",
   "execution_count": null,
   "metadata": {},
   "outputs": [],
   "source": [
    "\"\"\"\n",
    "    Program:   ch04_5_for_break.py\n",
    "    Function:  Explore the for command\n",
    "\n",
    "\"\"\"\n",
    "\n",
    "p = \"Plum Lucky!\"\n",
    "#p = \"Plm Lcky!\"\n",
    "\n",
    "for i in p:\n",
    "    if i in 'aieou':\n",
    "        found = True\n",
    "        break\n",
    "else:\n",
    "    found = False\n",
    "\n",
    "if found:\n",
    "    print(\"Found: \", i)\n",
    "else:\n",
    "    print(\"did not find a vowel in string\")\n",
    "\n",
    "print(\"That's all folks!\")"
   ]
  },
  {
   "cell_type": "markdown",
   "metadata": {},
   "source": [
    "- Notice `i` still has the last value assigned to it after the `break`.\n",
    "- Change the value of `p` and run the code again.\n",
    "- Look at the `else`. This is a fairly unique Python feature: `for` loops may have an `else` that executes if they do _not_ encounter a `break`\n",
    "  - There is almost always a way to write the loop without the `else`, as you would in another language, but the `else` often makes the contents of the loop simpler and more concise."
   ]
  },
  {
   "cell_type": "code",
   "execution_count": null,
   "metadata": {},
   "outputs": [],
   "source": [
    "\"\"\"\n",
    "    Program:   ch04_4_assignment.py\n",
    "    Function:  Explore the for command\n",
    "\"\"\"\n",
    "\n",
    "j = list(range(5))\n",
    "print(\"j = \", j)\n",
    "\n",
    "for i in j:\n",
    "    i = i + 10\n",
    "    print(i)\n",
    "\n",
    "print(\"That's all folks!\")\n",
    "\n",
    "print(\"i =\", i)\n",
    "print(\"j =\", j)"
   ]
  },
  {
   "cell_type": "markdown",
   "metadata": {},
   "source": [
    "- Notice that assigning to `i` does not modify the list `j`.\n",
    "- The `range()` function is often used to create the Python equivalent of a counted `for` loop, which is common in many languages.\n",
    "  - Usually, the `range()` is directly in the `for` statement, but here we have separated it so we can print it out.\n",
    "- The complete syntax for `range()` is:\n",
    "```\n",
    "range([start_number,] stop_number[, increment_number])\n",
    "```\n",
    "  - The `range()` function returns an object that returns the value at `start_number` or `0`, and each time accessed returns the next number stopping at the `stop_number` (not included in the range), using an increment of `1` unless `increment_number` is specified.\n",
    "  - `range()` is a special type of function called an `iterator`. This returns the next object in the sequence (in the case of `range()`, this is the next number). The iterator was passed to `list()` which will create a list object from the objects returned by the iterator."
   ]
  },
  {
   "cell_type": "code",
   "execution_count": null,
   "metadata": {},
   "outputs": [],
   "source": [
    "print(range(5))\n",
    "print(list(range(5)))"
   ]
  },
  {
   "cell_type": "markdown",
   "metadata": {},
   "source": [
    "- This shows that `range()` does _not_ return a list of values, but an object that returns them."
   ]
  },
  {
   "cell_type": "code",
   "execution_count": null,
   "metadata": {},
   "outputs": [],
   "source": [
    "for i in range(5):\n",
    "    i = i + 10\n",
    "    print(i)\n",
    "\n",
    "print(\"That's all folks!\")\n",
    "\n",
    "print(\"i =\", i)"
   ]
  },
  {
   "cell_type": "markdown",
   "metadata": {},
   "source": [
    "- This is the more usual way to write the same loop (with `range()` in the `for` statement)."
   ]
  },
  {
   "cell_type": "markdown",
   "metadata": {},
   "source": [
    "## List Comprehensions\n",
    "\n",
    "- A list comprehension is an alternative construct for a `for` statement used when working with simple expressions and lists to process the items of the list\n",
    "- The syntax of a comprehension is:\n",
    "```\n",
    "[ expression_with_var for var in list ]\n",
    "```\n",
    "\n",
    "- which is the same as:\n",
    "\n",
    "```\n",
    "newlist = []\n",
    "for var in list:\n",
    "    newlist.append(expression_with_var)\n",
    "```\n",
    "\n",
    "Let's look at some examples:"
   ]
  },
  {
   "cell_type": "code",
   "execution_count": null,
   "metadata": {},
   "outputs": [],
   "source": [
    "\"\"\"\n",
    "    Program:  ch04_7_comprehension_for.py\n",
    "    Function: A comprehension written as a for loop\n",
    "\"\"\"\n",
    "\n",
    "a = [1, 2, 3, 4, 5, 6]\n",
    "print('a =', a)\n",
    "\n",
    "a_10 = []\n",
    "\n",
    "for x in a:\n",
    "    a_10.append(x + 10)\n",
    "\n",
    "print('a_10 =', a_10)\n",
    "\n",
    "print(\"That's all folks!\")"
   ]
  },
  {
   "cell_type": "markdown",
   "metadata": {},
   "source": [
    "- We might normally write `a = range(1,7)`, but this way illustrates the list comprehension better.\n",
    "\n",
    "Now let's see that as a list comprehension:"
   ]
  },
  {
   "cell_type": "code",
   "execution_count": null,
   "metadata": {},
   "outputs": [],
   "source": [
    "\"\"\"\n",
    "    Program:  ch04_8_comprehension.py\n",
    "    Function: The for loop as a comprehension\n",
    "\"\"\"\n",
    "\n",
    "a = [1, 2, 3, 4, 5, 6]\n",
    "print('a =', a)\n",
    "\n",
    "a_10 = [ x + 10 for x in a ]\n",
    "\n",
    "print('a_10 =', a_10)\n",
    "\n",
    "print(\"That's all folks!\")"
   ]
  },
  {
   "cell_type": "markdown",
   "metadata": {},
   "source": [
    "- It is a small difference, but the list comprehension expresses the intent more clearly.\n",
    "\n",
    "Here's another example:"
   ]
  },
  {
   "cell_type": "code",
   "execution_count": null,
   "metadata": {},
   "outputs": [],
   "source": [
    "\"\"\"\n",
    "    Program:  ch04_9_comprehension_for_if.py\n",
    "    Function: A comprehension written as a for loop\n",
    "\"\"\"\n",
    "\n",
    "a = range(1,7)\n",
    "print('a =', a)\n",
    "\n",
    "a_10 = []\n",
    "for x in a:\n",
    "    if x % 2 == 0:\n",
    "        a_10.append(x + 10)\n",
    "\n",
    "print('a_10 =', a_10)\n",
    "print(\"That's all folks!\")"
   ]
  },
  {
   "cell_type": "markdown",
   "metadata": {},
   "source": [
    "And, as a comprehension:"
   ]
  },
  {
   "cell_type": "code",
   "execution_count": null,
   "metadata": {},
   "outputs": [],
   "source": [
    "\"\"\"\n",
    "    Program:  ch04_10_comprehension_if.py\n",
    "    Function: A comprehension with if\n",
    "\"\"\"\n",
    "a = range(1,7)\n",
    "print('a =', a)\n",
    "\n",
    "a_10 = [ x + 10 for x in a if x % 2 == 0 ]\n",
    "\n",
    "print('a_10 =', a_10)\n",
    "print(\"That's all folks!\")"
   ]
  },
  {
   "cell_type": "markdown",
   "metadata": {},
   "source": [
    "Some people focus on the brevity, but that's not what's important here. What really matters is how clearly the programmer's intention is expressed in the code: \"make a new list from the old list according to this formula.\""
   ]
  },
  {
   "cell_type": "markdown",
   "metadata": {},
   "source": [
    "# End of Notebook"
   ]
  }
 ],
 "metadata": {
  "kernelspec": {
   "display_name": "Python 3 (ipykernel)",
   "language": "python",
   "name": "python3"
  },
  "language_info": {
   "codemirror_mode": {
    "name": "ipython",
    "version": 3
   },
   "file_extension": ".py",
   "mimetype": "text/x-python",
   "name": "python",
   "nbconvert_exporter": "python",
   "pygments_lexer": "ipython3",
   "version": "3.8.11"
  }
 },
 "nbformat": 4,
 "nbformat_minor": 2
}
