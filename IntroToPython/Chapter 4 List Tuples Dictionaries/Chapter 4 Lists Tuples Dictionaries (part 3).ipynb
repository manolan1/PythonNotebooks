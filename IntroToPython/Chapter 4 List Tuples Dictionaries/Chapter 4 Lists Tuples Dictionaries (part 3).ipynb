{
 "cells": [
  {
   "cell_type": "markdown",
   "metadata": {},
   "source": [
    "# Chapter 4: Lists, Tuples, and Dictionaries (part 3)\n",
    "\n",
    "## Tuples\n",
    "\n",
    "- A tuple is an immutable, left-to-right sequence of items\n",
    "  - Think of a list that cannot be modified"
   ]
  },
  {
   "cell_type": "code",
   "execution_count": null,
   "metadata": {},
   "outputs": [],
   "source": [
    "t1 = 1, \"One for the Money\", 14.95\n",
    "t1"
   ]
  },
  {
   "cell_type": "code",
   "execution_count": null,
   "metadata": {},
   "outputs": [],
   "source": [
    "type(t1)"
   ]
  },
  {
   "cell_type": "code",
   "execution_count": null,
   "metadata": {},
   "outputs": [],
   "source": [
    "t2 = (2, \"Two for the Dough\", 15.95)\n",
    "t2"
   ]
  },
  {
   "cell_type": "code",
   "execution_count": null,
   "metadata": {},
   "outputs": [],
   "source": [
    "type(t2)"
   ]
  },
  {
   "cell_type": "markdown",
   "metadata": {},
   "source": [
    "- A tuple can be a sequence of items either separated by commas or a sequence of items enclosed in parentheses and separated by commas\n",
    "- Better to use the parentheses every time\n",
    "  - Less chance of confusing the syntax\n",
    "  - This is what Python does when it uses `repr()` - that's what `print()` shows you."
   ]
  },
  {
   "cell_type": "code",
   "execution_count": null,
   "metadata": {},
   "outputs": [],
   "source": [
    "t_1 = (1,)\n",
    "t_1"
   ]
  },
  {
   "cell_type": "code",
   "execution_count": null,
   "metadata": {},
   "outputs": [],
   "source": [
    "type(t_1)"
   ]
  },
  {
   "cell_type": "markdown",
   "metadata": {},
   "source": [
    "- To create a tuple of one element, you must add a comma after the single element"
   ]
  },
  {
   "cell_type": "code",
   "execution_count": null,
   "metadata": {},
   "outputs": [],
   "source": [
    "t_empty = ()\n",
    "t_empty"
   ]
  },
  {
   "cell_type": "code",
   "execution_count": null,
   "metadata": {},
   "outputs": [],
   "source": [
    "type(t_empty)"
   ]
  },
  {
   "cell_type": "markdown",
   "metadata": {},
   "source": [
    "- Just the () creates an empty tuple"
   ]
  },
  {
   "cell_type": "code",
   "execution_count": null,
   "metadata": {},
   "outputs": [],
   "source": [
    "tlol = (t1, t2)\n",
    "tlol"
   ]
  },
  {
   "cell_type": "markdown",
   "metadata": {},
   "source": [
    "- This creates a tuple of tuples"
   ]
  },
  {
   "cell_type": "code",
   "execution_count": null,
   "metadata": {},
   "outputs": [],
   "source": [
    "tlol[1]"
   ]
  },
  {
   "cell_type": "code",
   "execution_count": null,
   "metadata": {},
   "outputs": [],
   "source": [
    "tlol[1][0]"
   ]
  },
  {
   "cell_type": "markdown",
   "metadata": {},
   "source": [
    "- These show you can reference individual elements of a tuple just like a list"
   ]
  },
  {
   "cell_type": "code",
   "execution_count": null,
   "metadata": {},
   "outputs": [],
   "source": [
    "tlol[1][2] = 17.95"
   ]
  },
  {
   "cell_type": "markdown",
   "metadata": {},
   "source": [
    "- Tuples are immutable"
   ]
  },
  {
   "cell_type": "markdown",
   "metadata": {},
   "source": [
    "### Optional Exercise 4.5: Assignment and References in Tuples\n",
    "\n",
    "This is a simple exercise for understanding assignment and references in tuples."
   ]
  },
  {
   "cell_type": "code",
   "execution_count": null,
   "metadata": {},
   "outputs": [],
   "source": [
    "t1 = (4, \"Four to Score\", 15.95)\n",
    "t2 = t1\n",
    "t2 is t1"
   ]
  },
  {
   "cell_type": "markdown",
   "metadata": {},
   "source": [
    "- This should return `True`.\n",
    "- `t1` is a list of constants and `t2` now points to the same list."
   ]
  },
  {
   "cell_type": "code",
   "execution_count": null,
   "metadata": {},
   "outputs": [],
   "source": [
    "L1 = [1, \"One\", 14.95]\n",
    "L2 = [2, \"Two\", 15.95]"
   ]
  },
  {
   "cell_type": "markdown",
   "metadata": {},
   "source": [
    "- Notice `L1` and `L2` are lists not tuples."
   ]
  },
  {
   "cell_type": "code",
   "execution_count": null,
   "metadata": {},
   "outputs": [],
   "source": [
    "t3 = (L1, L2)\n",
    "t3"
   ]
  },
  {
   "cell_type": "code",
   "execution_count": null,
   "metadata": {},
   "outputs": [],
   "source": [
    "t4 = t3\n",
    "t4 is t3"
   ]
  },
  {
   "cell_type": "code",
   "execution_count": null,
   "metadata": {},
   "outputs": [],
   "source": [
    "t3[1][2] = 20.95\n",
    "t3"
   ]
  },
  {
   "cell_type": "markdown",
   "metadata": {},
   "source": [
    "- This should _not_ have produced an error as `t3[1][2]` is a list item and is mutable."
   ]
  },
  {
   "cell_type": "code",
   "execution_count": null,
   "metadata": {},
   "outputs": [],
   "source": [
    "L2[2]"
   ]
  },
  {
   "cell_type": "markdown",
   "metadata": {},
   "source": [
    "- `L2`, `t3[1]`, and `t4[1]` are actually references to the same object."
   ]
  },
  {
   "cell_type": "code",
   "execution_count": null,
   "metadata": {},
   "outputs": [],
   "source": [
    "L2 is t3[1]"
   ]
  },
  {
   "cell_type": "code",
   "execution_count": null,
   "metadata": {},
   "outputs": [],
   "source": [
    "L2 is t4[1]"
   ]
  },
  {
   "cell_type": "code",
   "execution_count": null,
   "metadata": {},
   "outputs": [],
   "source": [
    "import copy"
   ]
  },
  {
   "cell_type": "code",
   "execution_count": null,
   "metadata": {},
   "outputs": [],
   "source": [
    "t3"
   ]
  },
  {
   "cell_type": "code",
   "execution_count": null,
   "metadata": {},
   "outputs": [],
   "source": [
    "t5 = copy.deepcopy(t3)\n",
    "t5"
   ]
  },
  {
   "cell_type": "code",
   "execution_count": null,
   "metadata": {},
   "outputs": [],
   "source": [
    "t5 == t3 # True"
   ]
  },
  {
   "cell_type": "code",
   "execution_count": null,
   "metadata": {},
   "outputs": [],
   "source": [
    "t5 is t3 # False"
   ]
  },
  {
   "cell_type": "markdown",
   "metadata": {},
   "source": [
    "## Dictionaries\n",
    "\n",
    "- A directory is a collection of key-value pairs \n",
    "  - The key is best made from an immutable object \n",
    "  - The value can be any object\n",
    "  - Similar to hashes, associative arrays or maps in other languages\n",
    "- As of Python 3.7, they are ordered in insertion order\n",
    "- Simple syntax:\n",
    "```\n",
    "dl = {\n",
    "    \"rabbit\": \"The Tale of Peter Rabbit\",\n",
    "    \"squirrel\": \"The Tale of Squirrel Nutkin\",\n",
    "    \"bunny\":  \"The Tale of Benjamin Bunny\"\n",
    "}\n",
    "```\n",
    "\n",
    "  - The `{}` define the dictionary\n",
    "  - The key is before the colon\n",
    "  - The value is after the colon\n",
    "  - Unlike with compound statements, Python is permissive over the exact layout between the `{}`"
   ]
  },
  {
   "cell_type": "code",
   "execution_count": null,
   "metadata": {},
   "outputs": [],
   "source": [
    "A = {'r': \"Peter\", 's': \"Nutkin\" }\n",
    "type(A)"
   ]
  },
  {
   "cell_type": "code",
   "execution_count": null,
   "metadata": {},
   "outputs": [],
   "source": [
    "A"
   ]
  },
  {
   "cell_type": "code",
   "execution_count": null,
   "metadata": {},
   "outputs": [],
   "source": [
    "B = {\n",
    "    'r': \"Peter\",\n",
    "    's': \"Nutkin\"\n",
    "}\n",
    "type(B)"
   ]
  },
  {
   "cell_type": "code",
   "execution_count": null,
   "metadata": {},
   "outputs": [],
   "source": [
    "B"
   ]
  },
  {
   "cell_type": "code",
   "execution_count": null,
   "metadata": {},
   "outputs": [],
   "source": [
    "A == B"
   ]
  },
  {
   "cell_type": "markdown",
   "metadata": {},
   "source": [
    "### Exercise 4.6: Dictionary Basics"
   ]
  },
  {
   "cell_type": "code",
   "execution_count": null,
   "metadata": {},
   "outputs": [],
   "source": [
    "d1 = { \"r\": \"Peter\", \n",
    "       \"s\": \"Nutkin\",\n",
    "       \"b\": \"Benjamin\"\n",
    "     }\n",
    "d1"
   ]
  },
  {
   "cell_type": "code",
   "execution_count": null,
   "metadata": {},
   "outputs": [],
   "source": [
    "d1b = { \"r\": \"Peter\", \n",
    "        \"b\": \"Benjamin\",\n",
    "        \"s\": \"Nutkin\"\n",
    "      }\n",
    "d1b"
   ]
  },
  {
   "cell_type": "code",
   "execution_count": null,
   "metadata": {},
   "outputs": [],
   "source": [
    "d1 == d1b"
   ]
  },
  {
   "cell_type": "code",
   "execution_count": null,
   "metadata": {},
   "outputs": [],
   "source": [
    "d1 is d1b"
   ]
  },
  {
   "cell_type": "markdown",
   "metadata": {},
   "source": [
    "- Two dictionaries with the same key-value pairs are equal. They are not (yet) considered identical. This may happen since the original intention behind moving to ordered dicts was to allow a memory saving when dicts share keys."
   ]
  },
  {
   "cell_type": "code",
   "execution_count": null,
   "metadata": {},
   "outputs": [],
   "source": [
    "d1[\"s\"]"
   ]
  },
  {
   "cell_type": "code",
   "execution_count": null,
   "metadata": {},
   "outputs": [],
   "source": [
    "d1[\"nokey\"]"
   ]
  },
  {
   "cell_type": "markdown",
   "metadata": {},
   "source": [
    "If the key does not exist, a `KeyError` exception is raised."
   ]
  },
  {
   "cell_type": "code",
   "execution_count": null,
   "metadata": {},
   "outputs": [],
   "source": [
    "d1[\"k\"] = \"Tom\"\n",
    "d1"
   ]
  },
  {
   "cell_type": "markdown",
   "metadata": {},
   "source": [
    "If the key `\"k\"` already exists, it is written over."
   ]
  },
  {
   "cell_type": "code",
   "execution_count": null,
   "metadata": {},
   "outputs": [],
   "source": [
    "del d1[\"r\"]\n",
    "d1"
   ]
  },
  {
   "cell_type": "markdown",
   "metadata": {},
   "source": [
    "- Removes the entry with the key of `\"r\"`."
   ]
  },
  {
   "cell_type": "code",
   "execution_count": null,
   "metadata": {},
   "outputs": [],
   "source": [
    "del d1[\"nokey\"]"
   ]
  },
  {
   "cell_type": "markdown",
   "metadata": {},
   "source": [
    "- If the key does not exist, a `KeyError` is raised."
   ]
  },
  {
   "cell_type": "code",
   "execution_count": null,
   "metadata": {},
   "outputs": [],
   "source": [
    "k1 = (\"f\", \"m\", \"d\")\n",
    "v1 = (\"Jeremy\", \"Moppet\", \"Jemima\")\n",
    "for x in zip(k1, v1):\n",
    "    print(x)"
   ]
  },
  {
   "cell_type": "markdown",
   "metadata": {},
   "source": [
    "- The function `zip()` takes a number of _iterables_ and returns an _iterator_. Each element from the iterator is a tuple containing the corresponding element from each iterable.\n",
    "- Because it is an iterable, we cannot simply print it (try it) and _must_ iterate through it or convert it by passing it through a function that consumes an iterator (like `list()`)."
   ]
  },
  {
   "cell_type": "code",
   "execution_count": null,
   "metadata": {},
   "outputs": [],
   "source": [
    "d2 = dict(zip(k1, v1))\n",
    "d2"
   ]
  },
  {
   "cell_type": "markdown",
   "metadata": {},
   "source": [
    "- The function `dict()` takes a sequence of tuples and returns a dictionary. The tuples are in (key, value) order."
   ]
  },
  {
   "cell_type": "code",
   "execution_count": null,
   "metadata": {},
   "outputs": [],
   "source": [
    "d3 = dict(r = \"Peter\", m = \"Johnny\")\n",
    "d3"
   ]
  },
  {
   "cell_type": "markdown",
   "metadata": {},
   "source": [
    "- Notice that `r` and `m` do not have quotes around them.\n",
    "- This form is called keyword and the key is given before the equal sign as an alphabetic string."
   ]
  },
  {
   "cell_type": "code",
   "execution_count": null,
   "metadata": {},
   "outputs": [],
   "source": [
    "len(d3)"
   ]
  },
  {
   "cell_type": "markdown",
   "metadata": {},
   "source": [
    "- the number of keys in the dictionary."
   ]
  },
  {
   "cell_type": "code",
   "execution_count": null,
   "metadata": {},
   "outputs": [],
   "source": [
    "\"r\" in d3 # True"
   ]
  },
  {
   "cell_type": "code",
   "execution_count": null,
   "metadata": {},
   "outputs": [],
   "source": [
    "\"b\" not in d3 # True"
   ]
  },
  {
   "cell_type": "code",
   "execution_count": null,
   "metadata": {},
   "outputs": [],
   "source": [
    "\"Peter\" in d3 # False"
   ]
  },
  {
   "cell_type": "markdown",
   "metadata": {},
   "source": [
    "- For a dictionary, `in` checks against keys."
   ]
  },
  {
   "cell_type": "markdown",
   "metadata": {},
   "source": [
    "### Dictionary Methods\n",
    "\n",
    "| Method | Action |\n",
    "|:-------|:-------|\n",
    "| `.clear()` | Removes all items from dictionary, dictionary still exists |\n",
    "| `.copy(D)`  | Does a shallow copy; use copy.deepcopy for deep copy |\n",
    "| `.get(k [, d])` | Returns value with key `k`, if there is one, `d` otherwise. `d` defaults to `None`, so this never errors |\n",
    "| `.keys()`     | Returns a view of the keys in dictionary |\n",
    "| `.pop(k [, d])` | Removes item with key `k`, and returns its value. If `k` does not exist and `d` is given, returns `d` else raises `KeyError`.<br>Compare this with `.get()` and notice the different treatment of `d`. |\n",
    "| `.update(D)` | Adds dictionary `D` to this dictionary. Overwrites keys that already exist. Returns `None`. |\n",
    "| `.values()`  | Returns view of values for dictionary |\n",
    "| `.items()` | Returns view of (`key`, `value`) tuples for all keys in dictionary |\n",
    "\n",
    "\n",
    "- The functions `keys()`, `values()` and `items()` return a _view object_. This provides a live view of the contents of the dictionary (changes as the contents change), but in most cases, you can treat it just like a list, or other iterable. In fact, the most common activity with such an object is to iterate over it.\n",
    "  - Since Python 3.7, these functions are guaranteed to return the contents in insertion order."
   ]
  },
  {
   "cell_type": "code",
   "execution_count": null,
   "metadata": {},
   "outputs": [],
   "source": [
    "for x in d3:\n",
    "    print(x)"
   ]
  },
  {
   "cell_type": "markdown",
   "metadata": {},
   "source": [
    "- Exactly the same as iterating over the keys."
   ]
  },
  {
   "cell_type": "code",
   "execution_count": null,
   "metadata": {},
   "outputs": [],
   "source": [
    "for x in d3.keys():\n",
    "    print(x)"
   ]
  },
  {
   "cell_type": "code",
   "execution_count": null,
   "metadata": {},
   "outputs": [],
   "source": [
    "for x in d3.values():\n",
    "    print(x)"
   ]
  },
  {
   "cell_type": "code",
   "execution_count": null,
   "metadata": {},
   "outputs": [],
   "source": [
    "for x in d3.items():\n",
    "    print(x)"
   ]
  },
  {
   "cell_type": "markdown",
   "metadata": {},
   "source": [
    "### Exercise 4.7: Dictionary Methods\n",
    "\n",
    "This is a continuation of Exercise 4.6. If necessary, you can check and re-create the starting values."
   ]
  },
  {
   "cell_type": "code",
   "execution_count": null,
   "metadata": {},
   "outputs": [],
   "source": [
    "print(d2)\n",
    "print(d3)"
   ]
  },
  {
   "cell_type": "markdown",
   "metadata": {},
   "source": [
    "You should see the following:\n",
    "```\n",
    "{'f': 'Jeremy', 'm': 'Moppet', 'd': 'Jemima'}\n",
    "{'r': 'Peter', 'm': 'Johnny'}\n",
    "```\n",
    "\n",
    "If you do not see these values, run the following (you can run it anyway, it does no harm):"
   ]
  },
  {
   "cell_type": "code",
   "execution_count": null,
   "metadata": {},
   "outputs": [],
   "source": [
    "d2 = {'f': 'Jeremy', 'm': 'Moppet', 'd': 'Jemima'}\n",
    "d3 = {'r': 'Peter', 'm': 'Johnny'}\n",
    "print(d2)\n",
    "print(d3)"
   ]
  },
  {
   "cell_type": "code",
   "execution_count": null,
   "metadata": {},
   "outputs": [],
   "source": [
    "d3.get(\"bear\")"
   ]
  },
  {
   "cell_type": "markdown",
   "metadata": {},
   "source": [
    "- Note that there is no output! You need to use `print()` or `repr()` to see a representation of `None`."
   ]
  },
  {
   "cell_type": "code",
   "execution_count": null,
   "metadata": {},
   "outputs": [],
   "source": [
    "print(d3.get(\"bear\"))"
   ]
  },
  {
   "cell_type": "code",
   "execution_count": null,
   "metadata": {},
   "outputs": [],
   "source": [
    "d3.get(\"bear\", \"Not Found\")"
   ]
  },
  {
   "cell_type": "code",
   "execution_count": null,
   "metadata": {},
   "outputs": [],
   "source": [
    "d2.update(d3)\n",
    "d2"
   ]
  },
  {
   "cell_type": "markdown",
   "metadata": {},
   "source": [
    "- `d2` now contains all the elements of both `d2` and `d3`. The value of key `m` has been updated to match `d3`. "
   ]
  },
  {
   "cell_type": "code",
   "execution_count": null,
   "metadata": {},
   "outputs": [],
   "source": [
    "sorted(d2)"
   ]
  },
  {
   "cell_type": "markdown",
   "metadata": {},
   "source": [
    " - `sorted()`, when passed a dictionary, returns a list of the dictionary's keys sorted."
   ]
  },
  {
   "cell_type": "code",
   "execution_count": null,
   "metadata": {},
   "outputs": [],
   "source": [
    "d4 = d3.copy()\n",
    "d4 is d3"
   ]
  },
  {
   "cell_type": "markdown",
   "metadata": {},
   "source": [
    "- This should return `False`. If the statement was `d4 == d3`, then it would return `True`.\n",
    "- Use `copy.deepcopy()` if the value is itself a data structure."
   ]
  },
  {
   "cell_type": "code",
   "execution_count": null,
   "metadata": {},
   "outputs": [],
   "source": [
    "\"\"\"\n",
    "    Program:   ch04_12_for_dictionary.py\n",
    "    Function:  Shows how a dictionary interacts with a for\n",
    "\"\"\"\n",
    "\n",
    "dx = {\n",
    "    \"rabbit\": \"Tale of Peter Rabbit\",\n",
    "    \"squirrel\": \"Tale of Squirrel Nutkin\",\n",
    "    \"kitten\": \"Tale of Tom Kitten\",\n",
    "    \"mouse\": \"Tale of Johnny Town-mouse\",\n",
    "    \"bunny\": \"Tale of Benjamin Bunny\"\n",
    "}\n",
    "\n",
    "for key in sorted(dx):\n",
    "    print(\"%12s\" % key, \"%-25s\" % dx[key])\n",
    "\n",
    "print(\"\\n\\nThat's all folks!\")"
   ]
  },
  {
   "cell_type": "code",
   "execution_count": null,
   "metadata": {},
   "outputs": [],
   "source": []
  }
 ],
 "metadata": {
  "kernelspec": {
   "display_name": "Python 3",
   "language": "python",
   "name": "python3"
  },
  "language_info": {
   "codemirror_mode": {
    "name": "ipython",
    "version": 3
   },
   "file_extension": ".py",
   "mimetype": "text/x-python",
   "name": "python",
   "nbconvert_exporter": "python",
   "pygments_lexer": "ipython3",
   "version": "3.7.4"
  }
 },
 "nbformat": 4,
 "nbformat_minor": 2
}
