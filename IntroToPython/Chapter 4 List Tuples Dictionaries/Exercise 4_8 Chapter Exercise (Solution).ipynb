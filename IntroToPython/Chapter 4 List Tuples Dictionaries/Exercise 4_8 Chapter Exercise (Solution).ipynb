{
 "cells": [
  {
   "cell_type": "markdown",
   "metadata": {},
   "source": [
    "# Exercise 4.8: Chapter Exercise\n",
    "\n",
    "## Part I: Programming Exercises\n",
    "\n",
    "Build a script that asks for a key. If the key is the word `\"exit\"`, stop the script. If not, check to see if the key is in the dictionary. If the key is in the dictionary, return `\"key\" → \"value\"` where `key` and `value` are replaced with key and value from the dictionary. If the key is not found in the dictionary, ask for the value associated with the key or tap the Enter key to not add the key value pair."
   ]
  },
  {
   "cell_type": "code",
   "execution_count": null,
   "metadata": {},
   "outputs": [],
   "source": [
    "d = {}\n",
    "\n",
    "while True:\n",
    "    new_key = input('Enter a key value: ')\n",
    "    if new_key == 'quit':\n",
    "        break\n",
    "    if new_key in d:\n",
    "        print('%s → %s' % (new_key, d[new_key]))\n",
    "    else:\n",
    "        new_value = input('Not in the dictionary, enter a value for \"%s\" (or Enter to ignore): ' % new_key)\n",
    "        if new_value == '':\n",
    "            continue\n",
    "        d[new_key] = new_value"
   ]
  },
  {
   "cell_type": "markdown",
   "metadata": {},
   "source": [
    "## Part II: Debugging\n",
    "\n",
    "Read the scripts and fix."
   ]
  },
  {
   "cell_type": "markdown",
   "metadata": {},
   "source": [
    "### debug4_1"
   ]
  },
  {
   "cell_type": "code",
   "execution_count": null,
   "metadata": {},
   "outputs": [],
   "source": [
    "\"\"\"\n",
    "    Program:   debug4_1.py\n",
    "    Function:  Add 10 to each element of the list [ 5, 6, 7, 8, 9 ]\n",
    "\"\"\"\n",
    "\n",
    "q = range(5,10)\n",
    "\n",
    "print(\"q =\", q)\n",
    "\n",
    "k = [ q[i] + 10 for i in range(len(q) + 1) ]\n",
    "\n",
    "print(\"q =\", q)\n",
    "print(\"k =\", k)\n",
    "\n",
    "print(\"That's all folks!\")"
   ]
  },
  {
   "cell_type": "markdown",
   "metadata": {},
   "source": [
    "### debug4_1 Solution:"
   ]
  },
  {
   "cell_type": "code",
   "execution_count": null,
   "metadata": {},
   "outputs": [],
   "source": [
    "\"\"\"\n",
    "    Program:   debug4_1.py\n",
    "    Function:  Add 10 to each element of the list [ 5, 6, 7, 8, 9 ]\n",
    "\"\"\"\n",
    "\n",
    "q = range(5,10)\n",
    "\n",
    "print(\"q =\", list(q))\n",
    "\n",
    "k = [ q[i] + 10 for i in range(len(q)) ]\n",
    "\n",
    "print(\"q =\", q)\n",
    "print(\"k =\", k)\n",
    "\n",
    "print(\"That's all folks!\")"
   ]
  },
  {
   "cell_type": "markdown",
   "metadata": {},
   "source": [
    "I don't know whether we are meant to see the contents of `q` or the fact that `q` is a `range` object. I decided it would be more helpful to show the contents. You could also change `q` into a list and it would work.\n",
    "\n",
    "But the main problem here is that `range()` is exclusive of its end value, so here we want `len(q)`, not `len(q) + 1`."
   ]
  },
  {
   "cell_type": "markdown",
   "metadata": {},
   "source": [
    "### debug4_2"
   ]
  },
  {
   "cell_type": "code",
   "execution_count": null,
   "metadata": {},
   "outputs": [],
   "source": [
    "\"\"\"\n",
    "    Program:   debug4_2.py\n",
    "    Function:  Sort the given array\n",
    "\"\"\"\n",
    "\n",
    "q = [ 'h', 'b', 'q', 'm', 'j' ]\n",
    "print(\"q =\", q)\n",
    "\n",
    "sorted(q)\n",
    "\n",
    "print(\"q =\", q)\n",
    "\n",
    "print(\"That's all folks!\")"
   ]
  },
  {
   "cell_type": "markdown",
   "metadata": {},
   "source": [
    "### debug4_2 Solution:\n",
    "    \n",
    "We have two options, depending on whether we want to sort in place. Assuming we do:"
   ]
  },
  {
   "cell_type": "code",
   "execution_count": null,
   "metadata": {},
   "outputs": [],
   "source": [
    "\"\"\"\n",
    "    Program:   debug4_2.py\n",
    "    Function:  Sort the given array\n",
    "\"\"\"\n",
    "\n",
    "q = [ 'h', 'b', 'q', 'm', 'j' ]\n",
    "print(\"q =\", q)\n",
    "\n",
    "q.sort()\n",
    "\n",
    "print(\"q =\", q)\n",
    "\n",
    "print(\"That's all folks!\")"
   ]
  },
  {
   "cell_type": "markdown",
   "metadata": {},
   "source": [
    "Or, if we do not:"
   ]
  },
  {
   "cell_type": "code",
   "execution_count": null,
   "metadata": {},
   "outputs": [],
   "source": [
    "\"\"\"\n",
    "    Program:   debug4_2.py\n",
    "    Function:  Sort the given array\n",
    "\"\"\"\n",
    "\n",
    "q = [ 'h', 'b', 'q', 'm', 'j' ]\n",
    "print(\"q =\", q)\n",
    "\n",
    "r = sorted(q)\n",
    "\n",
    "print(\"r =\", r)\n",
    "\n",
    "print(\"That's all folks!\")"
   ]
  },
  {
   "cell_type": "markdown",
   "metadata": {},
   "source": [
    "### debug4_3"
   ]
  },
  {
   "cell_type": "code",
   "execution_count": null,
   "metadata": {},
   "outputs": [],
   "source": [
    "\"\"\"\n",
    "    Program:   debug4_3.py\n",
    "    Function:  reverse the matrix\n",
    "\"\"\"\n",
    "\n",
    "q = [ [ 1, 2, 3],\n",
    "      [ 4, 5, 6],\n",
    "      [ 7, 8, 9] ]\n",
    "\n",
    "[ q[i].reverse() for i in range(len(q)).reverse() ]\n",
    "#k = [ q[i].reverse() for i in range(len(q)).reverse() ]\n",
    "\n",
    "print(\"q =\", q)\n",
    "#print(\"k =\", k)\n",
    "\n",
    "print(\"That's all folks!\")"
   ]
  },
  {
   "cell_type": "markdown",
   "metadata": {},
   "source": [
    "### debug4_3 Solution\n",
    "\n",
    "There are a number of ways to reverse a list, `l`:\n",
    "- reverse in place: `l.reverse()`\n",
    "- return new list by method: `reversed(l)` (actually returns an iterator, so need to construct a list from it)\n",
    "- return new list by slice: `l[::-1]` (slice over whole list, increment `-1`)\n",
    "\n",
    "When applied to a *list of list*, all of these will reverse the order of elements of the outer list."
   ]
  },
  {
   "cell_type": "code",
   "execution_count": null,
   "metadata": {},
   "outputs": [],
   "source": [
    "q = [ [ 1, 2, 3],\n",
    "      [ 4, 5, 6],\n",
    "      [ 7, 8, 9] ]\n",
    "q"
   ]
  },
  {
   "cell_type": "code",
   "execution_count": null,
   "metadata": {},
   "outputs": [],
   "source": [
    "q.reverse()\n",
    "q"
   ]
  },
  {
   "cell_type": "code",
   "execution_count": null,
   "metadata": {},
   "outputs": [],
   "source": [
    "q = [ [ 1, 2, 3],\n",
    "      [ 4, 5, 6],\n",
    "      [ 7, 8, 9] ]\n",
    "q"
   ]
  },
  {
   "cell_type": "code",
   "execution_count": null,
   "metadata": {},
   "outputs": [],
   "source": [
    "q[::-1]"
   ]
  },
  {
   "cell_type": "code",
   "execution_count": null,
   "metadata": {},
   "outputs": [],
   "source": [
    "list(reversed(q))"
   ]
  },
  {
   "cell_type": "markdown",
   "metadata": {},
   "source": [
    "Assuming that _reverse the matrix_ means the order of elements in the outer list _and_ their contents, then we need to think about what sort of expression we need.\n",
    "\n",
    "Ideally, what we will do is start by taking the last element of the outer list, reversing it and then adding that result to our new list. So we will start by looking at the `for` expression:\n",
    "- We know we want this to return the index values of the outer list in reverse order, `[2, 1, 0]`. \n",
    "- We already know it cannot be `range(len(q)).reverse()` because a range object has no `.reverse()` method. But a list does, so what happens if we turn the range into a list? "
   ]
  },
  {
   "cell_type": "code",
   "execution_count": null,
   "metadata": {},
   "outputs": [],
   "source": [
    "list(range(len(q))).reverse()"
   ]
  },
  {
   "cell_type": "markdown",
   "metadata": {},
   "source": [
    "And that should immediately give you a huge clue! To confirm what it is returning, try this:"
   ]
  },
  {
   "cell_type": "code",
   "execution_count": null,
   "metadata": {},
   "outputs": [],
   "source": [
    "print(list(range(len(q))).reverse())"
   ]
  },
  {
   "cell_type": "markdown",
   "metadata": {},
   "source": [
    "And that, in a nutshell, is the problem: `.reverse()` reverses the list in place, returning `None`. But the `for` expression needs something to operate on. This is an extremely common mistake. If we try `reversed()` instead (we need a `list` here to see the values since a range object is an iterator):"
   ]
  },
  {
   "cell_type": "code",
   "execution_count": null,
   "metadata": {},
   "outputs": [],
   "source": [
    "list(reversed(range(len(q))))"
   ]
  },
  {
   "cell_type": "markdown",
   "metadata": {},
   "source": [
    "So, that is the right sort of list to use in our `for` expression.\n",
    "\n",
    "It should also be obvious that `q[i].reverse()` is not what we want because it, too, will return `None`. Instead we use `reversed()` again:"
   ]
  },
  {
   "cell_type": "code",
   "execution_count": null,
   "metadata": {},
   "outputs": [],
   "source": [
    "[ list(reversed(q[i])) for i in reversed(range(len(q))) ]"
   ]
  },
  {
   "cell_type": "markdown",
   "metadata": {},
   "source": [
    "Or, using the slice operator rather than the list constructor with an iterator:"
   ]
  },
  {
   "cell_type": "code",
   "execution_count": null,
   "metadata": {},
   "outputs": [],
   "source": [
    "[ q[i][::-1] for i in range(len(q))[::-1] ]"
   ]
  },
  {
   "cell_type": "markdown",
   "metadata": {},
   "source": [
    "Putting it into the script:"
   ]
  },
  {
   "cell_type": "code",
   "execution_count": null,
   "metadata": {},
   "outputs": [],
   "source": [
    "\"\"\"\n",
    "    Program:   debug4_3.py\n",
    "    Function:  reverse the matrix\n",
    "\"\"\"\n",
    "\n",
    "\n",
    "q = [ [ 1, 2, 3],\n",
    "      [ 4, 5, 6],\n",
    "      [ 7, 8, 9] ]\n",
    "\n",
    "k = [ q[i][::-1] for i in range(len(q))[::-1] ]\n",
    "\n",
    "print(\"q =\", q)\n",
    "print(\"k =\", k)\n",
    "\n",
    "print(\"That's all folks!\")"
   ]
  },
  {
   "cell_type": "markdown",
   "metadata": {},
   "source": [
    "## Part III: If Time\n",
    "\n",
    "Extend the script in Part I to delete the key value if the key entered has an underscore as the first letter of the key. That is, if the key is `\"rabbit\"`, then `\"_rabbit\"` should delete the key or say that the key was not found.\n",
    "\n",
    "This is not the most elegant solution! You can also reverse the order of the nested `if`."
   ]
  },
  {
   "cell_type": "code",
   "execution_count": null,
   "metadata": {},
   "outputs": [],
   "source": [
    "d = {}\n",
    "\n",
    "while True:\n",
    "    delete = False\n",
    "    new_key = input('Enter a key value: ')\n",
    "    if new_key == 'quit':\n",
    "        break\n",
    "    if new_key[0] == '_':\n",
    "        new_key = new_key[1:]\n",
    "        delete = True\n",
    "    if new_key in d:\n",
    "        if delete:\n",
    "            del d[new_key]\n",
    "        else:\n",
    "            print('%s → %s' % (new_key, d[new_key]))\n",
    "    else:\n",
    "        if delete:\n",
    "            print('key \"%s\" is not in the dictionary, cannot be deleted' % new_key)\n",
    "        else:\n",
    "            new_value = input('Not in the dictionary, enter a value for \"%s\" (or Enter to ignore): ' % new_key)\n",
    "            if new_value == '':\n",
    "                continue\n",
    "            d[new_key] = new_value"
   ]
  },
  {
   "cell_type": "markdown",
   "metadata": {},
   "source": [
    "# End of Notebook"
   ]
  }
 ],
 "metadata": {
  "kernelspec": {
   "display_name": "Python 3 (ipykernel)",
   "language": "python",
   "name": "python3"
  },
  "language_info": {
   "codemirror_mode": {
    "name": "ipython",
    "version": 3
   },
   "file_extension": ".py",
   "mimetype": "text/x-python",
   "name": "python",
   "nbconvert_exporter": "python",
   "pygments_lexer": "ipython3",
   "version": "3.8.11"
  }
 },
 "nbformat": 4,
 "nbformat_minor": 2
}
