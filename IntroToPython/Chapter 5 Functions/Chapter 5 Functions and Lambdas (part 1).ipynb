{
 "cells": [
  {
   "cell_type": "markdown",
   "metadata": {},
   "source": [
    "<a href=\"https://colab.research.google.com/github/manolan1/PythonNotebooks/blob/main/IntroToPython\\Chapter%205%20Functions\\Chapter%205%20Functions%20and%20Lambdas%20(part%201).ipynb\" target=\"_parent\"><img src=\"https://colab.research.google.com/assets/colab-badge.svg\" alt=\"Open In Colab\"/></a>"
   ]
  },
  {
   "cell_type": "markdown",
   "metadata": {},
   "source": [
    "# Chapter 5: Functions and Lambdas (part 1)\n",
    "\n",
    "## Simple Function Definition\n",
    "\n",
    "- A function is a collection of statements treated as a whole\n",
    "  - Acts as a variable in the script\n",
    "- Syntax:\n",
    "```\n",
    "def function_name( parameter_list ):\n",
    "    statements\n",
    "```\n",
    "- The `parameter_list` is a comma-separated list of expressions\n",
    "- Note the colon at the end of the `def` line\n",
    "- All statements that belong to the function must be indented\n",
    "  - The same amount; with the same character sequence (tabs and/or spaces)\n",
    "- After the function object has been created, the `function_name` is placed in the symbol table associated with the function object\n",
    "- Functions must be defined before they are called"
   ]
  },
  {
   "cell_type": "code",
   "execution_count": null,
   "metadata": {},
   "outputs": [],
   "source": [
    "\"\"\"\n",
    "    Program: ch05_01_simple_function.py\n",
    "    Function: To work through a simple function and polymorphism\n",
    "\"\"\"\n",
    "def add(a, b):\n",
    "    return a + b\n",
    "\n",
    "def get_input():\n",
    "    in1 = input('Enter an item or nothing to exit: ')\n",
    "    return in1\n",
    "\n",
    "while True:\n",
    "    in1 = get_input()\n",
    "    if in1 == '':\n",
    "        break\n",
    "    in2 = get_input()\n",
    "    if in2 == '':\n",
    "        break\n",
    "    result = add(in1, in2)\n",
    "    print(in1, '+', in2, 'returns', result, '\\n')\n",
    "\n",
    "print(\"\\n\\nThat's all folks!\")"
   ]
  },
  {
   "cell_type": "markdown",
   "metadata": {},
   "source": [
    "Let's leave the obvious question for a moment, like an elephant in the room, and discuss `return`:\n",
    "- A function acts as variable always returning a single object\n",
    "- The `return` statement accepts an optional expression which is returned to the calling statement as an object\n",
    "- When there is no expression to return, the special identifier `None` is returned\n",
    "\n",
    "And so, that elephant...\n",
    "\n",
    "Did the program do what you expected it to do?\n",
    "\n",
    "Probably not. If you tried it by entering numbers, you probably expected it to add them up, whereas it actually concatenated them. Do you know why?\n",
    "\n",
    "### Polymorphism\n",
    "\n",
    "The `+` sign is polymorphic in Python. So the result of the action depends on the operands. We have already seen that:\n",
    "- With strings, `+` performs concatenation\n",
    "- With numbers, it is addition"
   ]
  },
  {
   "cell_type": "code",
   "execution_count": null,
   "metadata": {},
   "outputs": [],
   "source": [
    "3 + 43"
   ]
  },
  {
   "cell_type": "code",
   "execution_count": null,
   "metadata": {},
   "outputs": [],
   "source": [
    "3.0 + 7.0"
   ]
  },
  {
   "cell_type": "code",
   "execution_count": null,
   "metadata": {},
   "outputs": [],
   "source": [
    "'abc' + 'def'"
   ]
  },
  {
   "cell_type": "markdown",
   "metadata": {},
   "source": [
    "The culprit here is `input()`, which always returns a string."
   ]
  },
  {
   "cell_type": "code",
   "execution_count": null,
   "metadata": {},
   "outputs": [],
   "source": [
    "\"\"\"\n",
    "    Program:   ch05_02_simple_function_number.py\n",
    "    Function:  To work through a simple function and polymorphism\n",
    "               Added simple function to convert to number\n",
    "               \n",
    "\"\"\"\n",
    "\n",
    "def add(in1, in2):\n",
    "    return in1 + in2\n",
    "\n",
    "def get_input():\n",
    "    in1 = input('Enter an item or nothing to exit: ')\n",
    "    return in1\n",
    "\n",
    "def get_number(value):\n",
    "    if value.isdigit():\n",
    "        return int(value)\n",
    "    try:\n",
    "        value = float(value)\n",
    "    except:\n",
    "        return value\n",
    "    return value\n",
    "\n",
    "while True:\n",
    "    in1 = get_input()\n",
    "    if in1 == '':\n",
    "        break\n",
    "    in1 = get_number( in1 )\n",
    "    in2 = get_input()\n",
    "    if in2 == '':\n",
    "        break\n",
    "    in2 = get_number(in2)\n",
    "\n",
    "    result = add(in1, in2)\n",
    "    print(in1, '+', in2, 'returns', result, '\\n')\n",
    "\n",
    "print(\"\\n\\nThat's all folks!\")"
   ]
  },
  {
   "cell_type": "markdown",
   "metadata": {},
   "source": [
    "### `return`\n",
    "\n",
    "We have already covered the rules for `return`, but for recap:\n",
    "- The `return` statement creates an object and provides the calling program a reference to the object\n",
    "- Python does not require a return statement to exit from a function\n",
    "  - If there is no `return` statement, when the last executable statement of the function is executed, the function returns control to the calling program returning the special value `None` saying nothing to return.\n",
    "\n",
    "### Exercise 5.1: Exploring the `return` Statement"
   ]
  },
  {
   "cell_type": "code",
   "execution_count": null,
   "metadata": {},
   "outputs": [],
   "source": [
    "\"\"\"\n",
    "    Program:   ch05_06_function_no_return.py\n",
    "    Function:  Exploring what happens when the function does not end with a return\n",
    "\"\"\"\n",
    "\n",
    "def simple_function():\n",
    "    print(\"in simple_function()\")\n",
    "    c = 1 + 4\n",
    "    # return c\n",
    "    # return\n",
    "\n",
    "return_value = simple_function()\n",
    "\n",
    "type_return_value = type(return_value)\n",
    "\n",
    "print(\"The type of the return value: \", type_return_value)\n",
    "print(\"The value of the return value: \", return_value)"
   ]
  },
  {
   "cell_type": "code",
   "execution_count": null,
   "metadata": {},
   "outputs": [],
   "source": [
    "\"\"\"\n",
    "    Program:   ch05_06_function_no_return.py\n",
    "    Function:  Exploring what happens when the function does not end with a return\n",
    "\"\"\"\n",
    "\n",
    "def simple_function():\n",
    "    print(\"in simple_function()\")\n",
    "    c = 1 + 4\n",
    "    return c\n",
    "    # return\n",
    "\n",
    "return_value = simple_function()\n",
    "\n",
    "type_return_value = type(return_value)\n",
    "\n",
    "print(\"The type of the return value: \", type_return_value)\n",
    "print(\"The value of the return value: \", return_value)"
   ]
  },
  {
   "cell_type": "code",
   "execution_count": null,
   "metadata": {},
   "outputs": [],
   "source": [
    "\"\"\"\n",
    "    Program:   ch05_06_function_no_return.py\n",
    "    Function:  Exploring what happens when the function does not end with a return\n",
    "\"\"\"\n",
    "\n",
    "def simple_function():\n",
    "    print(\"in simple_function()\")\n",
    "    c = 1 + 4\n",
    "    # return c\n",
    "    return\n",
    "\n",
    "return_value = simple_function()\n",
    "\n",
    "type_return_value = type(return_value)\n",
    "\n",
    "print(\"The type of the return value: \", type_return_value)\n",
    "print(\"The value of the return value: \", return_value)"
   ]
  },
  {
   "cell_type": "markdown",
   "metadata": {},
   "source": [
    "### Returning Multiple Values\n",
    "\n",
    "The trick is to return a tuple and assign to multiple identifiers"
   ]
  },
  {
   "cell_type": "code",
   "execution_count": null,
   "metadata": {},
   "outputs": [],
   "source": [
    "\"\"\"\n",
    "    Program:   ch05_07_function_multiple_returns.py\n",
    "    Function:  Exploring how to return multiple items\n",
    "\"\"\"\n",
    "\n",
    "def simple_function():\n",
    "    print(\"I am from simple_function\")\n",
    "    a = 5\n",
    "    b = \"string\"\n",
    "    c = 3.14\n",
    "    d = [1, 2, 3]\n",
    "    return (a, b, c, d)\n",
    "\n",
    "ra, rb, rc, rd = simple_function()\n",
    "\n",
    "print(\"The value of ra: \", ra)\n",
    "print(\"The value of rb: \", rb)\n",
    "print(\"The value of rc: \", rc)\n",
    "print(\"The value of rd: \", rd)"
   ]
  },
  {
   "cell_type": "markdown",
   "metadata": {},
   "source": [
    "Is the left-hand side of the return from `simple_function()` a tuple?\n",
    "- Yes, it is!\n",
    "- A tuple does not need to be enclosed in parentheses if it is unambiguous\n",
    "\n",
    "This mechanism is known as a _destructuring assignment_. "
   ]
  },
  {
   "cell_type": "markdown",
   "metadata": {},
   "source": [
    "## Scope Rules and global\n",
    "\n",
    "### Scoping\n",
    "\n",
    "- The scope of an identifier is the code in which the identifier has existence\n",
    "- In Python, scope is lexical\n",
    "  - Scope is based upon the location of the identifier in the code\n",
    "  - In lexical scoping, you can draw a circle around the code where the identifier has meaning\n",
    "\n",
    "### Exercise 5.2: Scoping"
   ]
  },
  {
   "cell_type": "code",
   "execution_count": null,
   "metadata": {},
   "outputs": [],
   "source": [
    "\n",
    "\n",
    "\"\"\"\n",
    "    Program:   ch05_03_function_scope.py\n",
    "    Function:  Program for working through scope rules/ namespace\n",
    "               \n",
    "\"\"\"\n",
    "\n",
    "def outer_function():\n",
    "    oct = 10\n",
    "    print('oct in outer_function 1 =', oct)\n",
    "\n",
    "    def inner_function():\n",
    "        oct = 'ABC'\n",
    "        print('oct in inner_function =', oct)\n",
    "\n",
    "    inner_function()\n",
    "    print('oct in outer_function 2 =', oct)\n",
    "\n",
    "# start of main code\n",
    "oct = 0\n",
    "print('oct in module before =', oct)\n",
    "\n",
    "outer_function()\n",
    "\n",
    "print('oct in module after =', oct)\n",
    "\n",
    "print(\"That's all folks!\")"
   ]
  },
  {
   "cell_type": "markdown",
   "metadata": {},
   "source": [
    "When you execute this, it should show:\n",
    "```\n",
    "oct in module before = 0\n",
    "oct in outer_function 1 = 10\n",
    "oct in inner_function = ABC\n",
    "oct in outer_function 2 = 10\n",
    "oct in module after = 0\n",
    "That's all folks!\n",
    "```\n",
    "\n",
    "Let's examine the code for a moment:\n",
    "\n",
    "Lines 9 through 18 define a function `outer_function()`:\n",
    "- This function defines a variable `oct`, setting the value to `10`. The scope of this variable is the function `outer_function()`: it is not available outside that function.\n",
    "\n",
    "Lines 13 through 15 define a function `inner_function()`:\n",
    "- The function is defined within the scope of `outer_function()`, so all variables of `outer_function()` are also available to `inner_function()`.\n",
    "- However, `inner_function()` redefines `oct`, meaning that the value of `oct` available in the `inner_function()` is _not_ the same as the one in the `outer_function()`.\n",
    "- When `inner_function()` ends, the version of `oct` defined there ceases to exist (the value does _not_ affect the value of `oct` in `outer_function()`.\n",
    "- If `inner_function()` had not redefined `oct`, the value of `oct` from `outer_function()` would have been available as an immutable value.\n",
    "\n",
    "When the program executes, the following happens:\n",
    "- At line 21, the file defines `oct` in _module_, _file_ or _global_ scope (these are synonymous) - a _module_ is just a file that contains executable Python code.\n",
    "- Line 22 prints the value of `oct` defined in global scope.\n",
    "- Line 24 executes `outer_function()`, which redefines `oct`, as already described, so the version of `oct` seen by line 11 is the one defined in `outer_function()`.\n",
    "- Line 17 executes `inner_function()`, which also redefines `oct`, so the version seen by line 15 is the one defined by `inner_function()`.\n",
    "- When line 18 executes, the version of `oct` defined in `inner_function()` has ceased to exist, so the version seen is the one defined in `outer_function()`.\n",
    "- Likewise, when line 26 executes, the version of `oct` defined in `outer_function()` has ceased to exist, so the version seen is the one in global scope."
   ]
  },
  {
   "cell_type": "code",
   "execution_count": null,
   "metadata": {},
   "outputs": [],
   "source": [
    "\n",
    "\n",
    "\"\"\"\n",
    "    Program:   ch05_03_function_scope.py\n",
    "    Function:  Program for working through scope rules/ namespace\n",
    "               \n",
    "\"\"\"\n",
    "\n",
    "def outer_function():\n",
    "    oct = 10\n",
    "    print('oct in outer_function 1 =', oct)\n",
    "\n",
    "    def inner_function():\n",
    "#        oct = 'ABC'\n",
    "        print('oct in inner_function =', oct)\n",
    "\n",
    "    inner_function()\n",
    "    print('oct in outer_function 2 =', oct)\n",
    "\n",
    "# start of main code\n",
    "oct = 0\n",
    "print('oct in module before =', oct)\n",
    "\n",
    "outer_function()\n",
    "\n",
    "print('oct in module after =', oct)\n",
    "\n",
    "print(\"That's all folks!\")"
   ]
  },
  {
   "cell_type": "markdown",
   "metadata": {},
   "source": [
    "This is the same code, but with line 14 commented out.\n",
    "\n",
    "That means `inner_function()` no longer redefines `oct`, so the value seen there is the value from `outer_function()`."
   ]
  },
  {
   "cell_type": "code",
   "execution_count": null,
   "metadata": {},
   "outputs": [],
   "source": [
    "\n",
    "\n",
    "\"\"\"\n",
    "    Program:   ch05_03_function_scope.py\n",
    "    Function:  Program for working through scope rules/ namespace\n",
    "               \n",
    "\"\"\"\n",
    "\n",
    "def outer_function():\n",
    "#    oct = 10\n",
    "    print('oct in outer_function 1 =', oct)\n",
    "\n",
    "    def inner_function():\n",
    "#        oct = 'ABC'\n",
    "        print('oct in inner_function =', oct)\n",
    "\n",
    "    inner_function()\n",
    "    print('oct in outer_function 2 =', oct)\n",
    "\n",
    "# start of main code\n",
    "oct = 0\n",
    "print('oct in module before =', oct)\n",
    "\n",
    "outer_function()\n",
    "\n",
    "print('oct in module after =', oct)\n",
    "\n",
    "print(\"That's all folks!\")"
   ]
  },
  {
   "cell_type": "markdown",
   "metadata": {},
   "source": [
    "This time we have also commented out line 10, so `oct` is not defined in `outer_function()`. That means the global value is seen everywhere.\n",
    "\n",
    "And, finally, what happens if we don't define it at all? Because each command in a notebook runs in the same global scope, we have already defined `oct` in the global scope. Before we can find out what happens when we haven't, we need to delete the copy we created. You can either restart the kernel (from the menu), or execute the next command."
   ]
  },
  {
   "cell_type": "code",
   "execution_count": null,
   "metadata": {},
   "outputs": [],
   "source": [
    "del oct"
   ]
  },
  {
   "cell_type": "code",
   "execution_count": null,
   "metadata": {},
   "outputs": [],
   "source": [
    "\n",
    "\n",
    "\"\"\"\n",
    "    Program:   ch05_03_function_scope.py\n",
    "    Function:  Program for working through scope rules/ namespace\n",
    "               \n",
    "\"\"\"\n",
    "\n",
    "def outer_function():\n",
    "#    oct = 10\n",
    "    print('oct in outer_function 1 =', oct)\n",
    "\n",
    "    def inner_function():\n",
    "#        oct = 'ABC'\n",
    "        print('oct in inner_function =', oct)\n",
    "\n",
    "    inner_function()\n",
    "    print('oct in outer_function 2 =', oct)\n",
    "\n",
    "# start of main code\n",
    "#oct = 0\n",
    "print('oct in module before =', oct)\n",
    "\n",
    "outer_function()\n",
    "\n",
    "print('oct in module after =', oct)\n",
    "\n",
    "print(\"That's all folks!\")"
   ]
  },
  {
   "cell_type": "code",
   "execution_count": null,
   "metadata": {},
   "outputs": [],
   "source": [
    "oct"
   ]
  },
  {
   "cell_type": "markdown",
   "metadata": {},
   "source": [
    "### Scope Rules Summary (LEGBE)\n",
    "\n",
    "For an identifier in a function:\n",
    "\n",
    "1. <b>L</b>ocal scope searched.\n",
    "2. <b>E</b>nclosing functions searched.\n",
    "3. <b>G</b>lobal (module, file) containing the functions searched.\n",
    "4. <b>B</b>uilt-in identifier searched.\n",
    "5. <b>E</b>xception raised.\n",
    "\n",
    "Sometimes just written LEGB instead.\n",
    "\n",
    "### `global`\n",
    "\n",
    "- Identifiers can be modified within their scope\n",
    "- In an inner scope, you can declare a variable to be of global scope\n",
    "  - Syntax: `global identifier, identifier...`\n",
    "  - An identifier marked this way is placed in the global scope\n",
    "    - Modification of the identifier in the inner scope modifies the variable at the global scope\n",
    "  - You can use this mechanism both to create new variables and to modify ones already defined"
   ]
  },
  {
   "cell_type": "code",
   "execution_count": null,
   "metadata": {},
   "outputs": [],
   "source": [
    "\"\"\"\n",
    "    Program:   ch05_04_function_global.py\n",
    "    Function:  Program for working through global\n",
    "\"\"\"\n",
    "\n",
    "def outer_function():\n",
    "    def inner_function():\n",
    "#        global oct\n",
    "        oct = 100\n",
    "        print(\"after oct in inner_function =\", oct)\n",
    "        \n",
    "    oct = 10\n",
    "    print(\"oct in outer_function =\", oct)\n",
    "\n",
    "    inner_function()\n",
    "\n",
    "outer_function()\n",
    "\n",
    "print(\"  After oct in module =\", oct)\n",
    "\n",
    "print(\"That's all folks!\")"
   ]
  },
  {
   "cell_type": "code",
   "execution_count": null,
   "metadata": {},
   "outputs": [],
   "source": [
    "\"\"\"\n",
    "    Program:   ch05_04_function_global.py\n",
    "    Function:  Program for working through global\n",
    "\"\"\"\n",
    "\n",
    "def outer_function():\n",
    "    def inner_function():\n",
    "        global oct\n",
    "        oct = 100\n",
    "        print(\"after oct in inner_function =\", oct)\n",
    "        \n",
    "    oct = 10\n",
    "    print(\"oct in outer_function =\", oct)\n",
    "\n",
    "    inner_function()\n",
    "\n",
    "outer_function()\n",
    "\n",
    "print(\"  After oct in module =\", oct)\n",
    "\n",
    "print(\"That's all folks!\")"
   ]
  },
  {
   "cell_type": "markdown",
   "metadata": {},
   "source": [
    "Here we have used `global` to allow `inner_function()` to modify `oct` in the global scope."
   ]
  },
  {
   "cell_type": "code",
   "execution_count": null,
   "metadata": {},
   "outputs": [],
   "source": [
    "del oct\n",
    "\n",
    "def outer_function():\n",
    "    def inner_function():\n",
    "        global oct\n",
    "        oct = 100\n",
    "        print(\"after oct in inner_function =\", oct)\n",
    "\n",
    "    print(\"oct in outer_function =\", oct)\n",
    "\n",
    "    inner_function()\n",
    "\n",
    "outer_function()\n",
    "\n",
    "print(\"  After oct in module =\", oct)\n",
    "\n",
    "print(\"That's all folks!\")"
   ]
  },
  {
   "cell_type": "markdown",
   "metadata": {},
   "source": [
    "And this time we defined a global variable inside the `inner_function()`"
   ]
  },
  {
   "cell_type": "markdown",
   "metadata": {},
   "source": [
    "# End of Notebook"
   ]
  }
 ],
 "metadata": {
  "kernelspec": {
   "display_name": "Python 3 (ipykernel)",
   "language": "python",
   "name": "python3"
  },
  "language_info": {
   "codemirror_mode": {
    "name": "ipython",
    "version": 3
   },
   "file_extension": ".py",
   "mimetype": "text/x-python",
   "name": "python",
   "nbconvert_exporter": "python",
   "pygments_lexer": "ipython3",
   "version": "3.8.11"
  }
 },
 "nbformat": 4,
 "nbformat_minor": 2
}
