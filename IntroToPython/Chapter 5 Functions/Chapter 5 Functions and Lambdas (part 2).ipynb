{
 "cells": [
  {
   "cell_type": "markdown",
   "metadata": {},
   "source": [
    "<a href=\"https://colab.research.google.com/github/manolan1/PythonNotebooks/blob/main/IntroToPython\\Chapter%205%20Functions\\Chapter%205%20Functions%20and%20Lambdas%20(part%202).ipynb\" target=\"_parent\"><img src=\"https://colab.research.google.com/assets/colab-badge.svg\" alt=\"Open In Colab\"/></a>"
   ]
  },
  {
   "cell_type": "markdown",
   "metadata": {},
   "source": [
    "# Chapter 5: Functions and Lambdas (part 2)\n",
    "\n",
    "## Functions and Share Objects\n",
    "\n",
    "- The identifiers inside the parenthesis on the `def` line of a function definition are in the local scope of the function\n",
    "  - The objects passed to the function are assigned to these identifiers \n",
    "  - The same rules for mutable and immutable hold when parameters are passed to a function"
   ]
  },
  {
   "cell_type": "code",
   "execution_count": null,
   "metadata": {},
   "outputs": [],
   "source": [
    "\"\"\"\n",
    "    Program:   ch05_08_functions_shared_objects.py\n",
    "    Function:  This is a contrived function but does show how mutable and immutable object passing work\n",
    "\"\"\"\n",
    "\n",
    "def add_10(add_10_immutable, add_10_mutable):\n",
    "    add_10_immutable += 10\n",
    "    print(\"Inside add_10\")\n",
    "    print(\"          immutable object   =\", add_10_immutable)\n",
    "\n",
    "    #add_10_mutable = [x + 10 for x in add_10_mutable]\n",
    "    for i in range(len(add_10_mutable)):\n",
    "        add_10_mutable[i] += 10\n",
    "\n",
    "    print(\"      Local mutable object   =\", add_10_mutable)\n",
    "    print(\"   Caller's mutable object   =\", mutable)\n",
    "\n",
    "immutable = 10\n",
    "mutable = [ 1, 2, 3]\n",
    "\n",
    "print(\"Outside add_10\")\n",
    "print(\"      immutable object value =\", immutable)\n",
    "print(\"        mutable object value =\", mutable)\n",
    "\n",
    "add_10( immutable, mutable )\n",
    "\n",
    "print(\"Outside add_10\")\n",
    "print(\"      immutable object value =\", immutable)\n",
    "print(\"        mutable object value =\", mutable)"
   ]
  },
  {
   "cell_type": "markdown",
   "metadata": {},
   "source": [
    "What we see here is that if we modify the values of the elements of the list passed in, then we are really updating the same objects as in the enclosing scope. This is because the variable inside the function points to the same list.\n",
    "\n",
    "Now see what happens when we create a new list inside the function and assign it to the variable:"
   ]
  },
  {
   "cell_type": "code",
   "execution_count": null,
   "metadata": {},
   "outputs": [],
   "source": [
    "\"\"\"\n",
    "    Program:   ch05_08_functions_shared_objects.py\n",
    "    Function:  This is a contrived function but does show how mutable and immutable object passing work\n",
    "\"\"\"\n",
    "\n",
    "def add_10(add_10_immutable, add_10_mutable):\n",
    "    add_10_immutable += 10\n",
    "    print(\"Inside add_10\")\n",
    "    print(\"          immutable object   =\", add_10_immutable)\n",
    "\n",
    "    add_10_mutable = [x + 10 for x in add_10_mutable]\n",
    "    #for i in range(len(add_10_mutable)):\n",
    "    #    add_10_mutable[i] += 10\n",
    "\n",
    "    print(\"      Local mutable object   =\", add_10_mutable)\n",
    "    print(\"   Caller's mutable object   =\", mutable)\n",
    "\n",
    "immutable = 10\n",
    "mutable = [ 1, 2, 3]\n",
    "\n",
    "print(\"Outside add_10\")\n",
    "print(\"      immutable object value =\", immutable)\n",
    "print(\"        mutable object value =\", mutable)\n",
    "\n",
    "add_10( immutable, mutable )\n",
    "\n",
    "print(\"Outside add_10\")\n",
    "print(\"      immutable object value =\", immutable)\n",
    "print(\"        mutable object value =\", mutable)"
   ]
  },
  {
   "cell_type": "markdown",
   "metadata": {},
   "source": [
    "In this case, what happened was that we assigned a new object to the local variable, but the variable in the enclosing scope still pointed to the old object.\n",
    "\n",
    "And, in fact, that's what is happening to the immutable object. It isn't really immutable, it is just that making any sort of assignment to it changes it to refer to a new object.\n",
    "\n",
    "What can we deduce from this?\n",
    "\n",
    "When we pass a variable into a function, the variable in the parameter definition is set to point to the same object as the variable in the enclosing scope. If we change the contents of that object, the contents are also changed in the enclosing scope (because it is the same object). However, if we assign a new object (or a new value) to the local variable, it will point to a new object. But the variable in the enclosing scope will still point to the old object."
   ]
  },
  {
   "cell_type": "markdown",
   "metadata": {},
   "source": [
    "### Workaround for Passing Mutable Objects\n",
    "\n",
    "- Solution 1: Pass a tuple\n",
    "  - Function cannot modify tuples as they are immutable\n",
    "  - Cannot use any of the list methods\n",
    "- Solution 2: Copy the mutable objects \n",
    "\n",
    "Let's create a simpler example that focuses on the mutable object:"
   ]
  },
  {
   "cell_type": "code",
   "execution_count": null,
   "metadata": {},
   "outputs": [],
   "source": [
    "# file ch05_09_passing_mutable.py\n",
    "\n",
    "def add_10(add_10):\n",
    "    for i in range(len(add_10)):\n",
    "        add_10[i] += 10\n",
    "\n",
    "    print(\"Inside add_10\")\n",
    "    print(\"     Local object = \", add_10)\n",
    "\n",
    "mutable = [ 1, 2, 3 ]\n",
    "\n",
    "print(\"Outside before call\")\n",
    "print(\"      mutable object value = \", mutable)\n",
    "\n",
    "add_10(mutable)\n",
    "#add_10(tuple(mutable))\n",
    "#add_10(mutable[:])\n",
    "#add_10(list(mutable))\n",
    "\n",
    "print(\"Outside after call\")\n",
    "print(\"      mutable object value = \", mutable)"
   ]
  },
  {
   "cell_type": "markdown",
   "metadata": {},
   "source": [
    "We can see that the contents of the list are being modified, as expected.\n",
    "\n",
    "Now let's try a tuple:"
   ]
  },
  {
   "cell_type": "code",
   "execution_count": null,
   "metadata": {},
   "outputs": [],
   "source": [
    "# file ch05_09_passing_mutable.py\n",
    "\n",
    "def add_10(add_10):\n",
    "    for i in range(len(add_10)):\n",
    "        add_10[i] += 10\n",
    "\n",
    "    print(\"Inside add_10\")\n",
    "    print(\"     Local object = \", add_10)\n",
    "\n",
    "mutable = [ 1, 2, 3 ]\n",
    "\n",
    "print(\"Outside before call\")\n",
    "print(\"      mutable object value = \", mutable)\n",
    "\n",
    "#add_10(mutable)\n",
    "add_10(tuple(mutable))\n",
    "#add_10(mutable[:])\n",
    "#add_10(list(mutable))\n",
    "\n",
    "print(\"Outside after call\")\n",
    "print(\"      mutable object value = \", mutable) "
   ]
  },
  {
   "cell_type": "markdown",
   "metadata": {},
   "source": [
    "We have successfully prevented the function from modifying the contents of the list, but at the expense of having turned them into a different type of sequence, which may not be what we want. Plus, we have now prevented the function from using the parameter on the left hand side of any assignment, which may not be convenient.\n",
    "\n",
    "Let's look at two ways of copying the list."
   ]
  },
  {
   "cell_type": "code",
   "execution_count": null,
   "metadata": {},
   "outputs": [],
   "source": [
    "# file ch05_09_passing_mutable.py\n",
    "\n",
    "def add_10(add_10):\n",
    "    for i in range(len(add_10)):\n",
    "        add_10[i] += 10\n",
    "\n",
    "    print(\"Inside add_10\")\n",
    "    print(\"     Local object = \", add_10)\n",
    "\n",
    "mutable = [ 1, 2, 3 ]\n",
    "\n",
    "print(\"Outside before call\")\n",
    "print(\"      mutable object value = \", mutable)\n",
    "\n",
    "#add_10(mutable)\n",
    "#add_10(tuple(mutable))\n",
    "add_10(mutable[:])\n",
    "#add_10(list(mutable))\n",
    "\n",
    "print(\"Outside after call\")\n",
    "print(\"      mutable object value = \", mutable) "
   ]
  },
  {
   "cell_type": "code",
   "execution_count": null,
   "metadata": {},
   "outputs": [],
   "source": [
    "# file ch05_09_passing_mutable.py\n",
    "\n",
    "def add_10(add_10):\n",
    "    for i in range(len(add_10)):\n",
    "        add_10[i] += 10\n",
    "\n",
    "    print(\"Inside add_10\")\n",
    "    print(\"     Local object = \", add_10)\n",
    "\n",
    "mutable = [ 1, 2, 3 ]\n",
    "\n",
    "print(\"Outside before call\")\n",
    "print(\"      mutable object value = \", mutable)\n",
    "\n",
    "#add_10(mutable)\n",
    "#add_10(tuple(mutable))\n",
    "#add_10(mutable[:])\n",
    "add_10(list(mutable))\n",
    "\n",
    "print(\"Outside after call\")\n",
    "print(\"      mutable object value = \", mutable) "
   ]
  },
  {
   "cell_type": "markdown",
   "metadata": {},
   "source": [
    "But remember that all of these (including the tuple mechanism) are just doing a shallow copy. If the list passed in contains lists, you can still modify the contents of the inner list!"
   ]
  },
  {
   "cell_type": "markdown",
   "metadata": {},
   "source": [
    "## Details of Argument Definition and Passing\n",
    "\n",
    "### Declaring Parameters\n",
    "\n",
    "| Syntax | Description |\n",
    "|:-------|:------------|\n",
    "| `def sf(p)` | Normal positional parameter passing |\n",
    "| `def sf(p = default)` | Assign default to `p` if `p` not specified when the `sf` is called.<br>Cannot have non-default parameters after default parameters. |\n",
    "| `def sf(*p)` | If any parameters passed in are not assigned to individual variables, they are placed in the tuple `p`. |\n",
    "| `def sf(**p)` | Any keyword arguments not assigned to a named parameter are collected in `p` as a dictionary.<br>The keyword becomes the key and the value assigned to the keyword becomes the associated value. |\n",
    "\n",
    "\n",
    "### Passing Parameters\n",
    "\n",
    "| Syntax | Description |\n",
    "|:-------|:------------|\n",
    "| `sf(a)` | Normal positional argument passing (number of parameters must match declaration) |\n",
    "| `sf(a = v)` | Keyword argument. Assign to parameter `a` the value `v` if the parameter `a` exists;<br>otherwise collect into dictionary if definition contains `**p`; otherwise raise exception |\n",
    "| `sf(*a)` | If `a` is a sequence pass each element of the sequence as an individual parameter. |\n",
    "| `sf(**a)` | Pass in a dictionary as keyword argument. `ra: value` is passed as `ra = value` |\n"
   ]
  },
  {
   "cell_type": "markdown",
   "metadata": {},
   "source": [
    "### Optional Exercise 5.4: Parameter Passing\n",
    "\n",
    "#### Positional Parameters"
   ]
  },
  {
   "cell_type": "code",
   "execution_count": null,
   "metadata": {},
   "outputs": [],
   "source": [
    "\"\"\"\n",
    "    Program:   ch05_11_function_positional.py\n",
    "    Function:  Exploring default values\n",
    "\"\"\"\n",
    "\n",
    "def simple_function(a, b, c):\n",
    "    print(\"I am from simple_function\")\n",
    "    print(\"The value of a: \", a)\n",
    "    print(\"The value of b: \", b)\n",
    "    print(\"The value of c: \", c)\n",
    "    return \n",
    "\n",
    "print(\"\\nCalled as simple_function(10, 'my string', 344.1)\")\n",
    "simple_function(10, 'my string', 344.1)\n",
    "\n",
    "print(\"\\nThat's all folks!\")"
   ]
  },
  {
   "cell_type": "markdown",
   "metadata": {},
   "source": [
    "- The parameters `a`, `b`, `c` take on the value passed into the function.\n",
    "\n",
    "#### Default Parameters"
   ]
  },
  {
   "cell_type": "code",
   "execution_count": null,
   "metadata": {},
   "outputs": [],
   "source": [
    "\"\"\"\n",
    "    Program:   ch05_12_function_default_argument.py\n",
    "    Function:  Exploring default values\n",
    "\"\"\"\n",
    "\n",
    "def simple_function(a, b = \"A string\", c = 3.14):\n",
    "    print(\"I am from simple_function\")\n",
    "    print(\"The value of a: \", a)\n",
    "    print(\"The value of b: \", b)\n",
    "    print(\"The value of c: \", c)\n",
    "    return \n",
    "\n",
    "print(\"\\nCalled as simple_function(10, 'my string', 344.1)\")\n",
    "simple_function(10, 'my string', 344.1)\n",
    "\n",
    "print(\"\\nCalled as simple_function(10, 'my string')\")\n",
    "simple_function(10, 'my string')\n",
    "\n",
    "print(\"\\nThat's all folks!\")"
   ]
  },
  {
   "cell_type": "markdown",
   "metadata": {},
   "source": [
    "- The first time the function is called with all parameters, overriding defaults.\n",
    "- The second time, only two parameters are passed, accepting the default for `c`\n",
    "\n",
    "Remember that after the first default parameter, all parameters must have defaults.\n",
    "\n",
    "#### Tuple Gather"
   ]
  },
  {
   "cell_type": "code",
   "execution_count": null,
   "metadata": {},
   "outputs": [],
   "source": [
    "\"\"\"\n",
    "    Program:   ch05_13_function_tuple_gather.py\n",
    "    Function:  Exploring tuple gathering\n",
    "\"\"\"\n",
    "\n",
    "def simple_function(a, b = \"string\", *c):\n",
    "    print(\"I am from simple_function\")\n",
    "    print(\"The value of a: \", a)\n",
    "    print(\"The value of b: \", b)\n",
    "    print(\"The value of c: \", c)\n",
    "    return \n",
    "\n",
    "print(\"\\nCalled as simple_function(10, 'my string', 1, 'a string', 3, 4)\")\n",
    "simple_function(10, 'my string', 1, 'a string', 3, 4)\n",
    "\n",
    "print(\"\\nCalled as simple_function( 10, 1, 'a string', 3, 4)\")\n",
    "simple_function(10, 1, 'a string', 3, 4)\n",
    "\n",
    "print(\"\\nCalled as simple_function( 10 )\")\n",
    "simple_function(10)\n",
    "\n",
    "#print(\"\\nCalled as simple_function(10, b = 'new value', 1, 'a string', 3, 4)\")\n",
    "#simple_function(10, b = 'new value', 1, 'a string', 3, 4)\n",
    "\n",
    "print(\"\\nThat's all folks!\")\n"
   ]
  },
  {
   "cell_type": "markdown",
   "metadata": {},
   "source": [
    "- The first time, the function is called with a bunch of arguments. `10` is assigned to `a`; `'my string'` is assigned to `b`; the rest are placed in a tuple and assigned to `c`.\n",
    "- The second time, `'my string'` assigned to b is left out. What this means is that `b` is assigned the value `1` and the tuple assigned to c is one item less.\n",
    "- The third time, it is called with only one parameter which is assigned to `a`, `b` takes its default, and `c` has no items assigned to it.\n",
    "- The last call is commented out as it raises an exception. The b = 'new value' cannot be followed by positional variables which must precede it even if they are to be collected in a tuple.\n",
    "\n",
    "#### Dictionary Gather"
   ]
  },
  {
   "cell_type": "code",
   "execution_count": null,
   "metadata": {},
   "outputs": [],
   "source": [
    "\"\"\"\n",
    "    Program:   ch05_14_function_dictionary.py\n",
    "    Function:  Exploring default values\n",
    "\"\"\"\n",
    "\n",
    "def simple_function(a, b = \"string\", **c):\n",
    "    print(\"I am from simple_function\")\n",
    "    print(\"The value of a: \", a)\n",
    "    print(\"The value of b: \", b)\n",
    "    print(\"The value of c: \", c)\n",
    "    return \n",
    "\n",
    "print(\"\\nCalled as simple_function(10, 'my string', d1 = 5, d2 = 3, d3 = 8)\")\n",
    "simple_function(10, 'my string', d1 = 5, d2 = 3, d3 = 8)\n",
    "\n",
    "print(\"\\nCalled as simple_function(10)\")\n",
    "simple_function(10)\n",
    "\n",
    "print(\"\\nCalled as simple_function(10, b = 'new value', d1 = 5, d2 = 3, d3 = 8)\")\n",
    "simple_function(10, b = 'new value', d1 = 5, d2 = 3,d3 = 8)\n",
    "\n",
    "print(\"\\nThat's all folks!\")"
   ]
  },
  {
   "cell_type": "markdown",
   "metadata": {},
   "source": [
    "- The first time, two positional parameters for `a` and `b` are followed by the keyword parameters which are gathered into a dictionary.\n",
    "- The second time, just the required positional parameter is given. `b` takes the default and `c` has no items assigned to it.\n",
    "- The third time, `b` is given a keyword value followed by many keyword values. Since `b` is a named parameter of the function, the `b` keyword is assigned to `b`, and `c` gathers the rest of the keyword parameters into a dictionary.\n",
    "\n",
    "#### Pass by Keyword"
   ]
  },
  {
   "cell_type": "code",
   "execution_count": null,
   "metadata": {},
   "outputs": [],
   "source": [
    "\"\"\"\n",
    "    Program:   ch05_15_function_pass_by_keyword.py\n",
    "    Function:  Exploring simple pass by position\n",
    "\"\"\"\n",
    "\n",
    "def simple_function(a, b, c):\n",
    "    print( \"I am from simple_function\")\n",
    "    print( \"The value of a: \", a)\n",
    "    print( \"The value of b: \", b)\n",
    "    print( \"The value of c: \", c)\n",
    "    return \n",
    "\n",
    "print( \"\\nCalled as simple_function(c = 10, b = 'my string', a = 5)\")\n",
    "simple_function(c = 10, b = 'my string', a = 5)\n",
    "\n",
    "print( \"\\nThat's all folks!\")"
   ]
  },
  {
   "cell_type": "markdown",
   "metadata": {},
   "source": [
    "- Notice that the order of the keyword values does not have to be in the order of the parameter in the function definition.\n",
    "\n",
    "#### Function Pass Sequence"
   ]
  },
  {
   "cell_type": "code",
   "execution_count": null,
   "metadata": {},
   "outputs": [],
   "source": [
    "\"\"\"\n",
    "    Program:   ch05_17_function_pass_sequence.py\n",
    "    Function:  Exploring key value pairs\n",
    "\"\"\"\n",
    "\n",
    "def simple_function(a, b):\n",
    "    print(\"I am from simple_function\")\n",
    "    print(\"The value of a: \", a)\n",
    "    print(\"The value of b: \", b)\n",
    "    return \n",
    "\n",
    "s1 = ('a', 'b')\n",
    "print(\"\\nCalled as simple_function(*s1)\")\n",
    "simple_function(*s1)\n",
    "\n",
    "s2 = ['a', 'b']\n",
    "print(\"\\nCalled as simple_function(*s2)\")\n",
    "simple_function(*s2)\n",
    "\n",
    "print(\"\\nThat's all folks!\")"
   ]
  },
  {
   "cell_type": "markdown",
   "metadata": {},
   "source": [
    "- Notice that the function works when called with a list or a tuple.\n",
    "- Using `*s` expands the tuple or list and assigns the result to the parameters.\n",
    " \n",
    "#### Function Pass Directory"
   ]
  },
  {
   "cell_type": "code",
   "execution_count": null,
   "metadata": {},
   "outputs": [],
   "source": [
    "\"\"\"\n",
    "    Program:   ch05_18_function_pass_dictionary.py\n",
    "    Function:  Exploring key value pairs\n",
    "\"\"\"\n",
    "\n",
    "def simple_function(a, b):\n",
    "    print(\"I am from simple_function\")\n",
    "    print(\"The value of a: \", a)\n",
    "    print(\"The value of b: \", b)\n",
    "    return \n",
    "\n",
    "d1 = {'a': 1, 'b': 3}\n",
    "print(\"\\nCalled as simple_function(**d1)\")\n",
    "simple_function(**d1)\n",
    "\n",
    "print(\"\\nThat's all folks!\")"
   ]
  },
  {
   "cell_type": "markdown",
   "metadata": {},
   "source": [
    "- Note the `**d` breaks the dictionary apart and passes each dictionary element as a keyword parameter."
   ]
  },
  {
   "cell_type": "markdown",
   "metadata": {},
   "source": [
    "## Functions as Objects\n",
    "\n",
    "- A function name is an identifier associated with the reference to the function\n",
    "  - The `()` after the function name causes Python to execute the function\n",
    "  - The reference to the function can be assigned to another variable by assigning the function name without the `()` to another identifier\n",
    "    - This means a function can be passed into a function and used inside of the function\n",
    "- Functions that accept other functions as parameters are called _higher order functions_\n",
    "  - Such functions are a key component of _functional programming_"
   ]
  },
  {
   "cell_type": "markdown",
   "metadata": {},
   "source": [
    "### Exercise 5.5: Functions as Object\n",
    "\n",
    "Read through the following script.\n",
    "- The function `simple_sort` is a bubble sort.\n",
    "  - What is interesting is that it accepts a function as the second parameter.\n",
    "  - The requirement for this function is that it should compare two elements of the list (`a` & `b`):\n",
    "    - return `True` if `a > b`\n",
    "    - return `False` otherwise\n",
    "- The function `string_length_compare(a, b)` implements such a _comparator_ using the string lengths"
   ]
  },
  {
   "cell_type": "code",
   "execution_count": null,
   "metadata": {},
   "outputs": [],
   "source": [
    "\"\"\"\n",
    "    Program:   ch05_20_function_passing.py\n",
    "    Function:  Exploring the names of functions\n",
    "\"\"\"\n",
    "\n",
    "def simple_sort(list_sort, cmp_function):\n",
    "    new_list_sort = list_sort[:]\n",
    "\n",
    "    def swap(list_in, a, b):\n",
    "        temp = list_in[a]\n",
    "        list_in[a] = list_in[b]\n",
    "        list_in[b] = temp\n",
    "        return\n",
    "\n",
    "    again = True\n",
    "    while again:\n",
    "        again = False\n",
    "        for i in range(0, len(new_list_sort) - 1):\n",
    "            value = cmp_function(new_list_sort[i], new_list_sort[i + 1])\n",
    "            if value:\n",
    "                swap(new_list_sort, i, i + 1)\n",
    "                again = True\n",
    "    return new_list_sort\n",
    "                \n",
    "def string_length_compare(a, b):\n",
    "    return len(a) > len(b)"
   ]
  },
  {
   "cell_type": "markdown",
   "metadata": {},
   "source": [
    "Let's see what it does with an odd list:"
   ]
  },
  {
   "cell_type": "code",
   "execution_count": null,
   "metadata": {},
   "outputs": [],
   "source": [
    "list1 = ['abcde', 'xy', 'm', 'rqc', 'jwif']\n",
    "\n",
    "print(\"  Variable list1 to be sorted: \", list1)\n",
    "sorted_list1 = simple_sort(list1, string_length_compare)\n",
    "print(\"Variable list1 after the sort: \", list1)\n",
    "print(\"     Sorted list sorted_list1: \", sorted_list1)\n",
    "\n",
    "print(\"\\nThat's all folks!\")"
   ]
  },
  {
   "cell_type": "markdown",
   "metadata": {},
   "source": [
    "- Notice that the strings are sorted in order of length.\n",
    "- We left the original list unchanged and returned a new one.\n",
    "- If we change the comparator function, we can change the sort order:"
   ]
  },
  {
   "cell_type": "code",
   "execution_count": null,
   "metadata": {},
   "outputs": [],
   "source": [
    "def string_length_compare_reverse(a, b):\n",
    "    return len(a) < len(b)"
   ]
  },
  {
   "cell_type": "code",
   "execution_count": null,
   "metadata": {},
   "outputs": [],
   "source": [
    "print(\"  Variable list1 to be sorted: \", list1)\n",
    "sorted_list2 = simple_sort(list1, string_length_compare_reverse)\n",
    "print(\"Variable list1 after the sort: \", list1)\n",
    "print(\"     Sorted list sorted_list2: \", sorted_list2)\n",
    "\n",
    "print(\"\\nThat's all folks!\")"
   ]
  },
  {
   "cell_type": "markdown",
   "metadata": {},
   "source": [
    "Now define your own comparator for the strings and use it to sort the list.\n",
    "\n",
    "(If you need inspiration, you could sort alphabetically, reverse alphabetically, by count of vowels)"
   ]
  },
  {
   "cell_type": "code",
   "execution_count": null,
   "metadata": {},
   "outputs": [],
   "source": [
    "# write it here"
   ]
  },
  {
   "cell_type": "markdown",
   "metadata": {},
   "source": [
    "## Type Hints\n",
    "\n",
    "- Since v3.6, you can add type hints to function definitions:\n",
    "```\n",
    "def function_name(parameter1: type1, parameter2: type2) -> return_type:\n",
    "```\n",
    "- Type hints are only *hints*:\n",
    "  - Code will still run if the types do not match\n",
    "    - Will not even receive a warning\n",
    "- Type checking requires a separate checker\n",
    "  - Built into most IDEs\n",
    "  - Mypy is popular as a standalone utility\n",
    "  - Not integrated into Jupyter yet\n",
    "    - Convert notebook to Python script (nbconvert)\n",
    "    - Or use special utility to run tools against a notebook (e.g. nbqa)\n",
    "    \n",
    "- Can also apply hints to variables"
   ]
  },
  {
   "cell_type": "code",
   "execution_count": null,
   "metadata": {},
   "outputs": [],
   "source": [
    "\"\"\"\n",
    "    Program:   ch05_type_hints.py\n",
    "    Function:  Exploring type hints\n",
    "\"\"\"\n",
    "\n",
    "from typing import List, Callable\n",
    "\n",
    "def simple_sort(list_sort: List[str], cmp_function: Callable[[str, str], bool]) -> List[str]:\n",
    "    new_list_sort = list_sort[:]\n",
    "\n",
    "    def swap(list_in, a, b):\n",
    "        temp = list_in[a]\n",
    "        list_in[a] = list_in[b]\n",
    "        list_in[b] = temp\n",
    "        return\n",
    "\n",
    "    again = True\n",
    "    while again:\n",
    "        again = False\n",
    "        for i in range(0, len(new_list_sort) - 1):\n",
    "            value = cmp_function(new_list_sort[i], new_list_sort[i + 1])\n",
    "            if value:\n",
    "                swap(new_list_sort, i, i + 1)\n",
    "                again = True\n",
    "    return new_list_sort\n",
    "                \n",
    "def string_length_compare(a: str, b: str) -> bool:\n",
    "    return len(a) > len(b)"
   ]
  },
  {
   "cell_type": "markdown",
   "metadata": {},
   "source": [
    "- The comparator is quite simple:\n",
    "```\n",
    "def string_length_compare(a: str, b: str) -> bool:\n",
    "    return len(a) > len(b)\n",
    "```\n",
    "  - Parameters are annotated `parameter: type`\n",
    "  - Simple types are just the name of the type\n",
    "  - Return type is `-> type`\n",
    "  - Default parameter is `parameter: type = default_value`\n",
    "- The sort function is more complex:\n",
    "```\n",
    "def simple_sort(list_sort: List[str], cmp_function: Callable[[str, str], bool]) -> List[str]:\n",
    "```\n",
    "  - `List[str]` indicates a list of string, note the capital on `List`\n",
    "  - `Callable[[str, str], bool]` indicates a function that accepts two string parameters and returns boolean\n",
    "  - Use `Union` when there can be more than one type:\n",
    "    - `List[Union[int, str]]` is a `list` that can hold `int` and `str`\n",
    "- All these complex types must be imported\n",
    "```\n",
    "from typing import List, Callable\n",
    "```"
   ]
  },
  {
   "cell_type": "code",
   "execution_count": null,
   "metadata": {},
   "outputs": [],
   "source": [
    "list1 = ['abcde', 'xy', 'm', 'rqc', 'jwif']\n",
    "\n",
    "print(\"  Variable list1 to be sorted: \", list1)\n",
    "sorted_list1 = simple_sort(list1, string_length_compare)\n",
    "print(\"Variable list1 after the sort: \", list1)\n",
    "print(\"     Sorted list sorted_list1: \", sorted_list1)\n",
    "\n",
    "print(\"\\nThat's all folks!\")"
   ]
  },
  {
   "cell_type": "code",
   "execution_count": null,
   "metadata": {},
   "outputs": [],
   "source": [
    "list2 = [99, 22, 42, 101, 1]\n",
    "\n",
    "print(\"  Variable list1 to be sorted: \", list2)\n",
    "sorted_list2 = simple_sort(list2, string_length_compare)\n",
    "print(\"Variable list1 after the sort: \", list2)\n",
    "print(\"     Sorted list sorted_list2: \", sorted_list2)\n",
    "\n",
    "print(\"\\nThat's all folks!\")"
   ]
  },
  {
   "cell_type": "markdown",
   "metadata": {},
   "source": [
    "It fails, but not directly because we didn't match the types! Instead this is exactly the type of failure that type checking could be used to protect against.\n",
    "\n",
    "We can easily create a function for `int`, or even a polymorphic one. But the point here is that type checking is something you have to opt into."
   ]
  },
  {
   "cell_type": "code",
   "execution_count": null,
   "metadata": {},
   "outputs": [],
   "source": [
    "def int_length_compare(a: int, b: int) -> bool:\n",
    "    return len(str(a)) > len(str(b))"
   ]
  },
  {
   "cell_type": "code",
   "execution_count": null,
   "metadata": {},
   "outputs": [],
   "source": [
    "list2 = [99, 22, 42, 101, 1]\n",
    "\n",
    "print(\"  Variable list1 to be sorted: \", list2)\n",
    "sorted_list2 = simple_sort(list2, int_length_compare)\n",
    "print(\"Variable list1 after the sort: \", list2)\n",
    "print(\"     Sorted list sorted_list2: \", sorted_list2)\n",
    "\n",
    "print(\"\\nThat's all folks!\")"
   ]
  },
  {
   "cell_type": "markdown",
   "metadata": {},
   "source": [
    "### When To Use Type Hints\n",
    "\n",
    "- Type hints are completely optional\n",
    "  - Annotating variables is a matter of personal preference\n",
    "  - Concentrate on the interface to your code (the functions)\n",
    "- For simple scripts or notebooks, there is not much point\n",
    "  - Rarely very long, rarely create re-usable code\n",
    "  - Total control over the data\n",
    "  - If you are in the habit of using hints, do so, otherwise don’t bother\n",
    "- For complex scripts or notebooks\n",
    "  - Many functions\n",
    "  - Not easy to keep all the code on a single page\n",
    "  - Hints can help to check that you are using a function correctly\n",
    "- For library code:\n",
    "  - Annotate\n",
    "  - In addition to type safety, most IDEs can use type hints to offer autocompletion and other helpful features"
   ]
  },
  {
   "cell_type": "markdown",
   "metadata": {},
   "source": [
    "## Lambda Functions\n",
    "\n",
    "- As function:\n",
    "```\n",
    "def sum(x, y):\n",
    "    return x + y\n",
    "```\n",
    "\n",
    "- As lambda:\n",
    "```\n",
    "sum = lambda x, y : x + y\n",
    "```\n",
    "  - Input parameters before the colon\n",
    "  - Expression value to be returned after the colon\n",
    "\n",
    "- Use case\n",
    "  - Create a simple function to pass to another function\n",
    "  - Gives a more concise representation"
   ]
  },
  {
   "cell_type": "code",
   "execution_count": null,
   "metadata": {},
   "outputs": [],
   "source": [
    "def sum(x, y):\n",
    "    return x + y\n",
    "\n",
    "sum_l = lambda x, y: x + y"
   ]
  },
  {
   "cell_type": "code",
   "execution_count": null,
   "metadata": {},
   "outputs": [],
   "source": [
    "sum(1, 2)"
   ]
  },
  {
   "cell_type": "code",
   "execution_count": null,
   "metadata": {},
   "outputs": [],
   "source": [
    "sum_l(1, 2)"
   ]
  },
  {
   "cell_type": "markdown",
   "metadata": {},
   "source": [
    "### Differences Between Functions and Lambdas\n",
    "\n",
    "The most significant differences between functions and lambdas are:\n",
    "- While you can name them using `name = lambda ...`, the lambda itself is anonymous\n",
    "  - Most Python style checkers will complain if you name a lambda like this\n",
    "  - In this case, a function defined with `def` is strongly preferred\n",
    "- A lambda can only contain an expression, no statements\n",
    "  - The expression must be a single line of code (it can span lines as long as it is syntactically a single line)\n",
    "- Lambdas do not support type annotations\n",
    "\n",
    "### Do _not_ use lambdas:\n",
    "- When you need a name for something\n",
    "  - This might be to test it, to help with debugging, or some other reason\n",
    "- In class definitions (we will cover these later)\n",
    "  - Perfectly valid syntax, but confusing and not considered \"Pythonic\"\n",
    "- When they make the code harder to read\n",
    "  - Because they are concise, they may make code hard to understand\n",
    "\n",
    "### _Do_ use lambdas:\n",
    "- When they make the code more readable\n",
    "  - E.g., by putting the definition of single-use, anonymous functions \"right there\", often when using higher-order functions.\n",
    "\n",
    "Two examples of cases for using lambdas are:\n",
    "- `map(fun, iter)` - returns an iterator that applies `fun()` to each entry in the iterator `iter`\n",
    "- `sorted(seq, key)` - `sorted()` takes an optional second parameter that is a function that indicates how to extract the key from each item in the sequence"
   ]
  },
  {
   "cell_type": "code",
   "execution_count": null,
   "metadata": {},
   "outputs": [],
   "source": [
    "nums = [10, 11, 12]\n",
    "nums"
   ]
  },
  {
   "cell_type": "code",
   "execution_count": null,
   "metadata": {},
   "outputs": [],
   "source": [
    "def add_one(x):\n",
    "    return x + 1\n",
    "\n",
    "list(map(add_one, nums))"
   ]
  },
  {
   "cell_type": "code",
   "execution_count": null,
   "metadata": {},
   "outputs": [],
   "source": [
    "list(map(lambda x: x + 1, nums))"
   ]
  },
  {
   "cell_type": "code",
   "execution_count": null,
   "metadata": {},
   "outputs": [],
   "source": [
    "ids = ['id1', 'id2', 'id42', 'id4', 'id24', 'id100']\n",
    "ids"
   ]
  },
  {
   "cell_type": "code",
   "execution_count": null,
   "metadata": {},
   "outputs": [],
   "source": [
    "sorted(ids)"
   ]
  },
  {
   "cell_type": "markdown",
   "metadata": {},
   "source": [
    "As you can see, `sorted()` performs a lexicographic sort, what if we want a numerical sort?"
   ]
  },
  {
   "cell_type": "code",
   "execution_count": null,
   "metadata": {},
   "outputs": [],
   "source": [
    "def extract_key(id):\n",
    "    return int(id[2:])\n",
    "\n",
    "sorted(ids, key = extract_key)"
   ]
  },
  {
   "cell_type": "code",
   "execution_count": null,
   "metadata": {},
   "outputs": [],
   "source": [
    "sorted(ids, key = lambda x: int(x[2:]))"
   ]
  },
  {
   "cell_type": "markdown",
   "metadata": {},
   "source": [
    "Clearly, this also applies to our sort program above:"
   ]
  },
  {
   "cell_type": "code",
   "execution_count": null,
   "metadata": {},
   "outputs": [],
   "source": [
    "list1 = ['abcde', 'xy', 'm', 'rqc', 'jwif']\n",
    "\n",
    "print(\"  Variable list1 to be sorted: \", list1)\n",
    "sorted_list1 = simple_sort(list1, lambda a, b: len(a) > len(b))\n",
    "print(\"Variable list1 after the sort: \", list1)\n",
    "print(\"     Sorted list sorted_list1: \", sorted_list1)\n",
    "\n",
    "print(\"\\nThat's all folks!\")"
   ]
  },
  {
   "cell_type": "markdown",
   "metadata": {},
   "source": [
    "# End of Notebook"
   ]
  }
 ],
 "metadata": {
  "kernelspec": {
   "display_name": "Python 3 (ipykernel)",
   "language": "python",
   "name": "python3"
  },
  "language_info": {
   "codemirror_mode": {
    "name": "ipython",
    "version": 3
   },
   "file_extension": ".py",
   "mimetype": "text/x-python",
   "name": "python",
   "nbconvert_exporter": "python",
   "pygments_lexer": "ipython3",
   "version": "3.8.11"
  }
 },
 "nbformat": 4,
 "nbformat_minor": 2
}
