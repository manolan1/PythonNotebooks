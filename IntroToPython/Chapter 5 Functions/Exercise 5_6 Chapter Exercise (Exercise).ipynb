{
 "cells": [
  {
   "cell_type": "markdown",
   "metadata": {},
   "source": [
    "# Exercise 5.6: Chapter Exercise\n",
    "\n",
    "The program in the cells below is only partially completed.\n",
    "\n",
    "Complete as many of the functions as you feel necessary to understand creating functions.\n",
    "\n",
    "The functionality of the program should be that it should accept a single line of input:\n",
    " - The first character of the input is the action, the rest is the key\n",
    " - If the action is `+`, it should ask for a value and add the key-value pair to the dictionary\n",
    " - If the action is `-`, it should remove that key from the dictionary\n",
    " - If the action is `=`, it should report the value for the key\n",
    " - If the action is `!`, it should print the whole dictionary\n",
    " - You may decide on any sensible way to handle key clashes (on input), missing keys (delete, report) and any other error condition"
   ]
  },
  {
   "cell_type": "code",
   "execution_count": null,
   "metadata": {},
   "outputs": [],
   "source": [
    "def add_key(key, dictionary):\n",
    "    print(\"Place holder for add_key\")"
   ]
  },
  {
   "cell_type": "code",
   "execution_count": null,
   "metadata": {},
   "outputs": [],
   "source": [
    "def remove_key(key, dictionary):\n",
    "    print(\"Place holder for remove_key\")"
   ]
  },
  {
   "cell_type": "code",
   "execution_count": null,
   "metadata": {},
   "outputs": [],
   "source": [
    "def lookup_key(key, dictionary):\n",
    "    print(\"Place holder for lookup_key\")"
   ]
  },
  {
   "cell_type": "code",
   "execution_count": null,
   "metadata": {},
   "outputs": [],
   "source": [
    "def print_dictionary():\n",
    "    print(\"Place holder for print_dictionary\")"
   ]
  },
  {
   "cell_type": "code",
   "execution_count": null,
   "metadata": {},
   "outputs": [],
   "source": [
    "dictionary = {}\n",
    "\n",
    "while True:\n",
    "    input_key = input( \"Enter code key or tap <Enter Key> to quit:  \" )\n",
    "    if input_key == \"\":\n",
    "        break\n",
    "\n",
    "    action = input_key[0]\n",
    "    key = input_key[1:]\n",
    "\n",
    "    if action == '+':\n",
    "        add_key(key, dictionary)\n",
    "    elif  action == '-':\n",
    "        remove_key(key, dictionary)\n",
    "    elif action == '=':\n",
    "        lookup_key(key, dictionary)\n",
    "    elif action == '!':\n",
    "        print_dictionary()\n",
    "    else:\n",
    "        print(\"Action, %s, not understood\" % action)\n",
    "\n",
    "print(\"\\nThat's all folks!\")"
   ]
  },
  {
   "cell_type": "markdown",
   "metadata": {},
   "source": [
    "# End of Notebook"
   ]
  }
 ],
 "metadata": {
  "kernelspec": {
   "display_name": "Python 3 (ipykernel)",
   "language": "python",
   "name": "python3"
  },
  "language_info": {
   "codemirror_mode": {
    "name": "ipython",
    "version": 3
   },
   "file_extension": ".py",
   "mimetype": "text/x-python",
   "name": "python",
   "nbconvert_exporter": "python",
   "pygments_lexer": "ipython3",
   "version": "3.8.11"
  }
 },
 "nbformat": 4,
 "nbformat_minor": 2
}
