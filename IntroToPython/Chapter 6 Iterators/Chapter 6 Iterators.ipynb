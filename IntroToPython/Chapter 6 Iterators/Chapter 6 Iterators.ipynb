{
 "cells": [
  {
   "cell_type": "markdown",
   "metadata": {},
   "source": [
    "# Chapter 6: Iterators\n",
    "\n",
    "## What Is Iteration?\n",
    "\n",
    "- In Python, a _sequence_ is an ordered collection\n",
    "  - We have seen some already: `str`, `list`\n",
    "- An _iterator_ gives access to the elements of a sequence in order\n",
    "- An _iterable_ is something that can produce an iterator\n",
    "  - Sequences are iterables\n",
    "  - Other objects may be iterable if they implement iterators\n",
    "- _Iteration_ is the act of repeating a series of operations over an iterable\n",
    "  - _External iteration_ is where a language construct, like a `for` loop, manages iteration\n",
    "  - _Internal iteration_ (or *implicit iteration*) is where the object itself controls iteration\n",
    "- Confusingly, _internal iterator_ and _iterator function_ are often used to describe a higher order function that takes an iterable as a parameter\n",
    "  - The confusion arises because the iterator and iterable are often the same object in this situation\n",
    "- Python has many functions that accept an iterable\n",
    "\n",
    "## Internal Iteration"
   ]
  },
  {
   "cell_type": "code",
   "execution_count": null,
   "metadata": {},
   "outputs": [],
   "source": [
    "x = [ 1, 2, 3, 4, 5 ]\n",
    "x"
   ]
  },
  {
   "cell_type": "code",
   "execution_count": null,
   "metadata": {},
   "outputs": [],
   "source": [
    "sum(x)"
   ]
  },
  {
   "cell_type": "code",
   "execution_count": null,
   "metadata": {},
   "outputs": [],
   "source": [
    "y = [ 'a', 'b', 'c' ]\n",
    "y"
   ]
  },
  {
   "cell_type": "code",
   "execution_count": null,
   "metadata": {},
   "outputs": [],
   "source": [
    "sum(y)"
   ]
  },
  {
   "cell_type": "code",
   "execution_count": null,
   "metadata": {},
   "outputs": [],
   "source": [
    "''.join(y)"
   ]
  },
  {
   "cell_type": "markdown",
   "metadata": {},
   "source": [
    "`str.join(iterable)` joins all the elements of the iterable separating them with `str`."
   ]
  },
  {
   "cell_type": "code",
   "execution_count": null,
   "metadata": {},
   "outputs": [],
   "source": [
    "all(x)"
   ]
  },
  {
   "cell_type": "markdown",
   "metadata": {},
   "source": [
    "Returns `True` if all elements of iterable are `True`"
   ]
  },
  {
   "cell_type": "code",
   "execution_count": null,
   "metadata": {},
   "outputs": [],
   "source": [
    "x[3] = 0\n",
    "all(x)"
   ]
  },
  {
   "cell_type": "code",
   "execution_count": null,
   "metadata": {},
   "outputs": [],
   "source": [
    "any(x)"
   ]
  },
  {
   "cell_type": "markdown",
   "metadata": {},
   "source": [
    "Returns `True` is at least one element of iterable is `True`"
   ]
  },
  {
   "cell_type": "code",
   "execution_count": null,
   "metadata": {},
   "outputs": [],
   "source": [
    "list(enumerate(y))"
   ]
  },
  {
   "cell_type": "markdown",
   "metadata": {},
   "source": [
    "Returns an iterator that creates tuples from an iterable, where the first item in the tuple is a counter and the second is the element from the iterable."
   ]
  },
  {
   "cell_type": "code",
   "execution_count": null,
   "metadata": {},
   "outputs": [],
   "source": [
    "list(filter(lambda a: a % 2, x))"
   ]
  },
  {
   "cell_type": "markdown",
   "metadata": {},
   "source": [
    "`filter(fun, iter)` returns an iterator made up of elements from `iter` where applying `fun` to the element returns `True`. "
   ]
  },
  {
   "cell_type": "code",
   "execution_count": null,
   "metadata": {},
   "outputs": [],
   "source": [
    "list(map(lambda a: a * 3, x))"
   ]
  },
  {
   "cell_type": "code",
   "execution_count": null,
   "metadata": {},
   "outputs": [],
   "source": [
    "list(map(lambda a: a * 3, y))"
   ]
  },
  {
   "cell_type": "markdown",
   "metadata": {},
   "source": [
    "`map(fun, iter)` returns an iterator by applying `fun` to each element of `iter`."
   ]
  },
  {
   "cell_type": "code",
   "execution_count": null,
   "metadata": {},
   "outputs": [],
   "source": [
    "print(max(x))\n",
    "print(min(x))"
   ]
  },
  {
   "cell_type": "markdown",
   "metadata": {},
   "source": [
    "These functions also accept a key function to indicate how to extract a value from complex objects.\n",
    "\n",
    "The `itertools` module provides many similar functions and other utility functions to help in creating iterators and iterator functions."
   ]
  },
  {
   "cell_type": "markdown",
   "metadata": {},
   "source": [
    "## Built-In Iterators\n",
    "\n",
    "This is a list of global functions that take an iterable as a parameter. There are other functions (like `join`) that are part of other classes.\n",
    "\n",
    "| Function | Action |\n",
    "|:---------|:-------|\n",
    "| `all()` | Returns `True` if all the elements of the iterable are `True` or the iterable is empty |\n",
    "| `any()` | Returns `True` if any element of the iterable is `True` |\n",
    "| `dict()` | Returns dictionary from the iterable of tuples |\n",
    "| `filter()` | Apply a function to elements of an iterable, creating a new iterable from those that return `True` |\n",
    "| `list()` | Returns list from an iterable |\n",
    "| `map()` | Transform elements of an iterable by applying a function |\n",
    "| `max()` | Return the largest element from an iterable |\n",
    "| `min()` | Return the smallest element from an iterable |\n",
    "| `sum()` | Returns the sum of an iterable returning a sequence of integers |\n",
    "| `tuple()` | Returns a tuple from an iterable |\n"
   ]
  },
  {
   "cell_type": "markdown",
   "metadata": {},
   "source": [
    "## Explicit Iteration\n",
    "\n",
    "### `for` Iteration Recap\n",
    "\n",
    "- Reminder of the syntax:\n",
    "```\n",
    "    for variable in iterable:\n",
    "        statements\n",
    "```"
   ]
  },
  {
   "cell_type": "code",
   "execution_count": null,
   "metadata": {},
   "outputs": [],
   "source": [
    "for q in 'abcd':\n",
    "    print(q)"
   ]
  },
  {
   "cell_type": "code",
   "execution_count": null,
   "metadata": {},
   "outputs": [],
   "source": [
    "for q in [1, 2, 3, 4]:\n",
    "    print(q)"
   ]
  },
  {
   "cell_type": "code",
   "execution_count": null,
   "metadata": {},
   "outputs": [],
   "source": [
    "r = {'a': 1, 'b': 2, 'c': 3}\n",
    "for q in r:\n",
    "    print(\"key:\", q, \"value\", r[q])"
   ]
  },
  {
   "cell_type": "markdown",
   "metadata": {},
   "source": [
    "In a `for` statement, the `open` command is an iterator. That is as in:\n",
    "```\n",
    "\tfor line in open( \"SomeFile\", 'r' ):\n",
    "```\n",
    "`line` is iterated over the lines of `SomeFile`.\n",
    "\n",
    "The file `Beatrix_Potter_Tales.txt` is in the current directory. Write a short script to print out the lines of the script to standard out."
   ]
  },
  {
   "cell_type": "code",
   "execution_count": null,
   "metadata": {},
   "outputs": [],
   "source": [
    "# write your answer here"
   ]
  },
  {
   "cell_type": "markdown",
   "metadata": {},
   "source": [
    "### `while` Iteration\n",
    "\n",
    "- Reminder of the syntax:\n",
    "```\n",
    "    while test-expression:\n",
    "        statements\n",
    "```"
   ]
  },
  {
   "cell_type": "code",
   "execution_count": null,
   "metadata": {},
   "outputs": [],
   "source": [
    "i = iter([1, 2, 3, 4])\n",
    "while True:\n",
    "    print(next(i))"
   ]
  },
  {
   "cell_type": "markdown",
   "metadata": {},
   "source": [
    "Not very elegant since the end of the iterator is indicated by an exception. There are ways to handle that as we shall see in the next chapter."
   ]
  },
  {
   "cell_type": "markdown",
   "metadata": {},
   "source": [
    "### Comprehensions\n",
    "\n",
    "- A comprehension generates a new sequence from an iterable\n",
    "- General form:<br>\n",
    "  `output_expression for variable in iterator [if predicate]`\n",
    "  - `if predicate` is optional\n",
    "- Comprehension is wrapped according to type:\n",
    "  - To create a list `[comprehension]`\n",
    "  - To create a set `{comprehension}`\n",
    "  - To create a dictionary `{key_expression: comprehension}`"
   ]
  },
  {
   "cell_type": "code",
   "execution_count": null,
   "metadata": {},
   "outputs": [],
   "source": [
    "comp_in = range(5)\n",
    "list(comp_in)"
   ]
  },
  {
   "cell_type": "code",
   "execution_count": null,
   "metadata": {},
   "outputs": [],
   "source": [
    "[ in_var * 3 for in_var in comp_in if in_var != 3 ] # list"
   ]
  },
  {
   "cell_type": "code",
   "execution_count": null,
   "metadata": {},
   "outputs": [],
   "source": [
    "{ in_var * 6 for in_var in comp_in if in_var != 2 } # set"
   ]
  },
  {
   "cell_type": "code",
   "execution_count": null,
   "metadata": {},
   "outputs": [],
   "source": [
    "{ in_var: in_var * 2 for in_var in comp_in if in_var != 0 } # dict"
   ]
  },
  {
   "cell_type": "code",
   "execution_count": null,
   "metadata": {},
   "outputs": [],
   "source": [
    "# empty"
   ]
  },
  {
   "cell_type": "code",
   "execution_count": null,
   "metadata": {},
   "outputs": [],
   "source": [
    "# Solution to for loop exercise\n",
    "for line in open( \"Beatrix_Potter_Tales.txt\", 'r' ):\n",
    "    print(line)"
   ]
  },
  {
   "cell_type": "markdown",
   "metadata": {},
   "source": [
    "# End of Notebook"
   ]
  }
 ],
 "metadata": {
  "kernelspec": {
   "display_name": "Python 3 (ipykernel)",
   "language": "python",
   "name": "python3"
  },
  "language_info": {
   "codemirror_mode": {
    "name": "ipython",
    "version": 3
   },
   "file_extension": ".py",
   "mimetype": "text/x-python",
   "name": "python",
   "nbconvert_exporter": "python",
   "pygments_lexer": "ipython3",
   "version": "3.8.11"
  }
 },
 "nbformat": 4,
 "nbformat_minor": 2
}
