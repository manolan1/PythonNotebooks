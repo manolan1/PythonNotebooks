{
 "cells": [
  {
   "cell_type": "markdown",
   "metadata": {},
   "source": [
    "# Chapter 7: Exception Handling\n",
    "\n",
    "## What Is an Exception?\n",
    "\n",
    "- An action that should not happen\n",
    "- An action that occurs very, very seldom\n",
    "- Program design considerations – old version, Python 2.7\n",
    "  - If you can think of the exception, it may be better to write code to prevent the exception than to process it as an exception\n",
    "  - Example: if 0 is a possible divisor, then check divisor for 0 and processing from there will be faster than the overhead of an exception\n",
    "- Program design considerations – new version Python 3\n",
    "  - Just use them as needed to make program easier to understand"
   ]
  },
  {
   "cell_type": "markdown",
   "metadata": {},
   "source": [
    "## `try`, `except`, `else`\n",
    "\n",
    "- Syntax:\n",
    "```\n",
    "try:\n",
    "    statements\n",
    "except ExceptionType [as variable]:\n",
    "    handler_statements\n",
    "else:\n",
    "    else_statements\n",
    "```\n",
    "  - `statements` are the code likely to generate an exception\n",
    "  - `ExceptionType` indicates which exceptions should be captured\n",
    "  - `variable` is assigned the value of the exception\n",
    "  - `handler_statements` are executed if the exception is thrown\n",
    "  - `else_statements` are executed if no exception is thrown"
   ]
  },
  {
   "cell_type": "markdown",
   "metadata": {},
   "source": [
    "### Exercise 7.1: Exception Introduction\n",
    "\n",
    "#### Simple `try`-`except`-`else`-`finally`\n",
    "\n",
    "Run the program below. It will run until you enter an integer.\n",
    "\n",
    "Note that the programs here are slightly different from those in the command line version of the course because the browser intercepts commands like `Ctrl-C`, so we cannot simulate a `KeyboardInterrupt`. Instead, this version allows for an additional exception condition through divide by zero.\n",
    "\n",
    "Try running with `3`, `4`, `abc` and `0`."
   ]
  },
  {
   "cell_type": "code",
   "execution_count": null,
   "metadata": {
    "scrolled": false
   },
   "outputs": [],
   "source": [
    "\"\"\"\n",
    "    File:     ch07_01-simple.py\n",
    "    Function: first pass try-except-else\n",
    "\"\"\"\n",
    "\n",
    "product = 42\n",
    "while True:\n",
    "    try:\n",
    "        n = input('Please enter an integer: ')\n",
    "        n = int(n)\n",
    "        r = product % n == 0\n",
    "    except ValueError as error:\n",
    "        print(error.args[0])\n",
    "    else:\n",
    "        print(f'An integer, {n}, has been entered; it is{(\" not\", \"\")[r]} a factor of {product}')\n",
    "        break\n",
    "    finally:\n",
    "        print('This is the finally')"
   ]
  },
  {
   "cell_type": "markdown",
   "metadata": {},
   "source": [
    "- The program structure is:\n",
    "  - The main loop continues until a `break` is encountered\n",
    "  - Lines 9 & 10 get a value from standard in and try to convert it to an `int`\n",
    "    - Any error while executing these two lines will be passed to the `except`\n",
    "  - Line 11 uses this number in a modulo, any error in this line will also be passed to the `except`\n",
    "  - The `except` only processes exceptions of type `ValueError`\n",
    "  - On line 12, the variable `error` is a reference to the exception\n",
    "    - The exception has a property `args`, a tuple that holds information about the error.\n",
    "  - After executing the exception handler, execution continues with the next statement, which is the `finally` block\n",
    "  - If there is no exception, the code in the `else` branch is executed\n",
    "    - This contains a `break`, ending the loop\n",
    "  - The `finally` block always executes\n",
    "\n",
    "- When you enter `abc`, the `except` will capture the `ValueError` from trying to convert `abc` to an integer.\n",
    "- But when you enter `0`, the modulo generates a `ZeroDivisionError` that is not captured.\n",
    "\n",
    "Incidentally, the final `print` line includes this expression: `{(\" not\", \"\")[r]}`. Since `r` is a boolean, it has the values `0` (for `False`) or `1` (for `True`) and can be used as an index to a tuple. You can achieve the same result with the more conventional `{\"\" if r else \" not\"}`; this is the Python ternary operator.\n",
    "\n",
    "#### Catching More Than One Exception Type"
   ]
  },
  {
   "cell_type": "code",
   "execution_count": null,
   "metadata": {},
   "outputs": [],
   "source": [
    "\"\"\"\n",
    "    File:     ch07_02-multiple-except.py\n",
    "    Function: multiple except\n",
    "\"\"\"\n",
    "import sys\n",
    "\n",
    "product = 42\n",
    "while True:\n",
    "    try:\n",
    "        n = input('Please enter an integer: ')\n",
    "        n = int(n)\n",
    "        r = product % n == 0\n",
    "    except ValueError as error:\n",
    "        print(error.args[0], file=sys.stderr)\n",
    "    except ZeroDivisionError as error:\n",
    "        print(error.args[0], file=sys.stderr)\n",
    "    else:\n",
    "        print(f'An integer, {n}, has been entered; it is{\"\" if r else \" not\"} a factor of {product}')\n",
    "        break"
   ]
  },
  {
   "cell_type": "markdown",
   "metadata": {},
   "source": [
    "- You can have multiple `except` clauses.\n",
    "- Here we have introduced writing to standard error. In a notebook, it highlights the text with a red background."
   ]
  },
  {
   "cell_type": "code",
   "execution_count": null,
   "metadata": {},
   "outputs": [],
   "source": [
    "\"\"\"\n",
    "    File:     ch07_03-except-tuple.py\n",
    "    Function: except tuple\n",
    "\"\"\"\n",
    "import sys\n",
    "\n",
    "product = 42\n",
    "while True:\n",
    "    try:\n",
    "        n = input('Please enter an integer: ')\n",
    "        n = int(n)\n",
    "        r = product % n == 0\n",
    "    except (ValueError, ZeroDivisionError):\n",
    "        print('Please enter a non-zero integer to continue', file=sys.stderr)\n",
    "    else:\n",
    "        print(f'An integer, {n}, has been entered; it is{\"\" if r else \" not\"} a factor of {product}')\n",
    "        break"
   ]
  },
  {
   "cell_type": "markdown",
   "metadata": {},
   "source": [
    "- You can catch multiple exception types in a single `except` clause by using a tuple. You cannot get an exception object in this case."
   ]
  },
  {
   "cell_type": "code",
   "execution_count": null,
   "metadata": {},
   "outputs": [],
   "source": [
    "\"\"\"\n",
    "    File:     ch07_04-catch-all.py\n",
    "    Function: except catch all\n",
    "\"\"\"\n",
    "\n",
    "product = 42\n",
    "while True:\n",
    "    try:\n",
    "        n = input('Please enter an integer: ')\n",
    "        n = int(n)\n",
    "        r = product % n == 0\n",
    "    except ValueError as error:\n",
    "        print(error.args[0], file=sys.stderr)\n",
    "    except:\n",
    "        print('Please enter a non-zero integer to continue', file=sys.stderr)\n",
    "    else:\n",
    "        print(f'An integer, {n}, has been entered; it is{\"\" if r else \" not\"} a factor of {product}')\n",
    "        break"
   ]
  },
  {
   "cell_type": "markdown",
   "metadata": {},
   "source": [
    "- An `except` clause with no exception types is a \"catch all\", catching any exception that has not already been caught. It must be the last `except`. And, again, you cannot access the exception object."
   ]
  },
  {
   "cell_type": "code",
   "execution_count": null,
   "metadata": {},
   "outputs": [],
   "source": [
    "\"\"\"\n",
    "    File:     ch07_04-exc_info.py\n",
    "    Function: check exception info\n",
    "\"\"\"\n",
    "\n",
    "product = 42\n",
    "while True:\n",
    "    try:\n",
    "        n = input('Please enter an integer: ')\n",
    "        n = int(n)\n",
    "        r = product % n == 0\n",
    "    except ValueError as error:\n",
    "        print(error.args[0], file=sys.stderr)\n",
    "    except:\n",
    "        (exception_class, exception_string, traceback) = sys.exc_info()\n",
    "        print(\"exception_class:  \", exception_class)\n",
    "        print(\"exception_string: \", exception_string)\n",
    "        print(\"traceback:        \", traceback)\n",
    "        print('Please enter a non-zero integer to continue', file=sys.stderr)\n",
    "    else:\n",
    "        print(f'An integer, {n}, has been entered; it is{\"\" if r else \" not\"} a factor of {product}')\n",
    "        break"
   ]
  },
  {
   "cell_type": "markdown",
   "metadata": {},
   "source": [
    "- In any situation where the exception object is not available, you can access it from `sys.exc_info()`. This returns a 3-tuple, as shown, and you can read more about `traceback` here https://docs.python.org/3/reference/datamodel.html#traceback-objects\n",
    "\n",
    "#### Uncaught Exceptions\n",
    "\n",
    "You can handle exceptions inside a function:"
   ]
  },
  {
   "cell_type": "code",
   "execution_count": null,
   "metadata": {},
   "outputs": [],
   "source": [
    "\"\"\"\n",
    "    File:     ch07_04-function.py\n",
    "    Function: check exception info\n",
    "\"\"\"\n",
    "\n",
    "def is_factor(product):\n",
    "    while True:\n",
    "        try:\n",
    "            n = input('Please enter an integer: ')\n",
    "            n = int(n)\n",
    "            return (n, product % n == 0)\n",
    "        except ValueError as error:\n",
    "            print(error.args[0], file=sys.stderr)\n",
    "        except:\n",
    "            (exception_class, exception_string, traceback) = sys.exc_info()\n",
    "            print(\"exception_class:  \", exception_class)\n",
    "            print(\"exception_string: \", exception_string)\n",
    "            print(\"traceback:        \", traceback)\n",
    "            print('Please enter a non-zero integer to continue', file=sys.stderr)\n",
    "\n",
    "product = 42\n",
    "(n, r) = is_factor(product)\n",
    "print(f'An integer, {n}, has been entered; it is{\"\" if r else \" not\"} a factor of {product}')"
   ]
  },
  {
   "cell_type": "markdown",
   "metadata": {},
   "source": [
    "But you do not have to:"
   ]
  },
  {
   "cell_type": "code",
   "execution_count": null,
   "metadata": {},
   "outputs": [],
   "source": [
    "\"\"\"\n",
    "    File:     ch07_05-function-unhandled.py\n",
    "    Function: check exception info\n",
    "\"\"\"\n",
    "\n",
    "def is_factor(product):\n",
    "    while True:\n",
    "        try:\n",
    "            n = input('Please enter an integer: ')\n",
    "            n = int(n)\n",
    "            return (n, product % n == 0)\n",
    "        except ValueError as error:\n",
    "            print(error.args[0], file=sys.stderr)\n",
    "\n",
    "product = 42\n",
    "while True:\n",
    "    try:\n",
    "        (n, r) = is_factor(product)\n",
    "    except:\n",
    "        print('Please enter a non-zero integer to continue', file=sys.stderr)\n",
    "    else:\n",
    "        print(f'An integer, {n}, has been entered; it is{\"\" if r else \" not\"} a factor of {product}')\n",
    "        break"
   ]
  },
  {
   "cell_type": "markdown",
   "metadata": {},
   "source": [
    "Any unhandled exceptions are passed back up the invocation stack looking for a handler. If there is no handler, program execution will end."
   ]
  },
  {
   "cell_type": "code",
   "execution_count": null,
   "metadata": {},
   "outputs": [],
   "source": [
    "\"\"\"\n",
    "    File:     ch07_06-raise.py\n",
    "    Function: check exception info\n",
    "\"\"\"\n",
    "\n",
    "def is_factor(product):\n",
    "    while True:\n",
    "        try:\n",
    "            n = input('Please enter an integer: ')\n",
    "            n = int(n)\n",
    "            return (n, product % n == 0)\n",
    "        except ValueError as error:\n",
    "            print(error.args[0], file=sys.stderr)\n",
    "        except:\n",
    "            (exception_class, exception_string, traceback) = sys.exc_info()\n",
    "            print(\"exception_class:  \", exception_class)\n",
    "            print(\"exception_string: \", exception_string)\n",
    "            print(\"traceback:        \", traceback)\n",
    "            raise\n",
    "\n",
    "product = 42\n",
    "while True:\n",
    "    try:\n",
    "        (n, r) = is_factor(product)\n",
    "    except:\n",
    "        print('Please enter a non-zero integer to continue', file=sys.stderr)\n",
    "    else:\n",
    "        print(f'An integer, {n}, has been entered; it is{\"\" if r else \" not\"} a factor of {product}')\n",
    "        break"
   ]
  },
  {
   "cell_type": "markdown",
   "metadata": {},
   "source": [
    "- The `raise` statement can be used to re-raise the most recent exception in the current scope.\n",
    "  - Generally used when you need to do some processing before passing the exception back to the caller"
   ]
  },
  {
   "cell_type": "markdown",
   "metadata": {},
   "source": [
    "## Exits\n",
    "\n",
    "### The Three `exit`s and `quit`\n",
    "\n",
    "- `exit()` and `quit()`\n",
    "  - Added by the site module automatically\n",
    "  - Designed to be used and should only be used when working in Python as an interactive shell (ipython, python)\n",
    "- `sys.exit(<return_code>)`\n",
    "  - Should be used when exiting from a Python script\n",
    "  - Raises a `SystemExit` exception\n",
    "    - Automatically handled to cause Python to terminate\n",
    "- `os._exit()`\n",
    "  - Used when working with processes\n",
    "    - Not covered in this class\n",
    "\n",
    "### `atexit`\n",
    "\n",
    "- Syntax:\n",
    "  - `import atexit`\n",
    "  - `atexit.register(<function>, <list of parameters>)`\n",
    "- Using `atexit.register` registers a program to be executed just before the Python interpreter terminates\n",
    "  - The functions to be executed are appended to a list and executed in reverse order\n",
    "- If you want, you can do Exercise 7.2 in the Exercise Manual\n",
    "  - This functionality doesn't work in notebooks"
   ]
  },
  {
   "cell_type": "markdown",
   "metadata": {},
   "source": [
    "### Creating Exceptions\n",
    "\n",
    "- Setup:\n",
    "```\n",
    "    class <name_of_error>(Exception):\n",
    "           pass\n",
    "```\n",
    "  - `<name_of_error>` is the identifier for a user-defined error\n",
    "  - `(Exception)` is required — allows access to all of the internal error handling\n",
    "  - `pass` is a _no op_\n",
    "  - This syntax will make more sense when we introduce classes in chapter 9\n",
    "- Using:\n",
    "```\n",
    "\traise <name_of_error>(<String to use as exc_string>)\n",
    "```\n",
    "\n",
    "### Optional Exercise 7.3: User-Defined Exceptions"
   ]
  },
  {
   "cell_type": "code",
   "execution_count": null,
   "metadata": {},
   "outputs": [],
   "source": [
    "\"\"\"\n",
    "    File:     ch07_07-user-defined.py\n",
    "    Function: user defined exception\n",
    "\"\"\"\n",
    "import sys\n",
    "\n",
    "class MyError(Exception):\n",
    "    pass\n",
    "\n",
    "def is_factor(product):\n",
    "    while True:\n",
    "        try:\n",
    "            n = input('Please enter an integer: ')\n",
    "            n = int(n)\n",
    "            return (n, product % n == 0)\n",
    "        except ValueError as error:\n",
    "            raise MyError('was a ValueError')\n",
    "        except:\n",
    "            raise MyError('was another Exception class')\n",
    "\n",
    "product = 42\n",
    "while True:\n",
    "    try:\n",
    "        (n, r) = is_factor(product)\n",
    "    except MyError as error:\n",
    "        (exception_class, exception_string, traceback) = sys.exc_info()\n",
    "        print(\"exception_class:  \", exception_class)\n",
    "        print(\"exception_string: \", exception_string)\n",
    "        print(\"traceback:        \", traceback)\n",
    "        print('Please enter a non-zero integer to continue', file=sys.stderr)\n",
    "    else:\n",
    "        print(f'An integer, {n}, has been entered; it is{\"\" if r else \" not\"} a factor of {product}')\n",
    "        break"
   ]
  },
  {
   "cell_type": "markdown",
   "metadata": {},
   "source": [
    "# End of Notebook"
   ]
  }
 ],
 "metadata": {
  "kernelspec": {
   "display_name": "Python 3 (ipykernel)",
   "language": "python",
   "name": "python3"
  },
  "language_info": {
   "codemirror_mode": {
    "name": "ipython",
    "version": 3
   },
   "file_extension": ".py",
   "mimetype": "text/x-python",
   "name": "python",
   "nbconvert_exporter": "python",
   "pygments_lexer": "ipython3",
   "version": "3.8.11"
  }
 },
 "nbformat": 4,
 "nbformat_minor": 2
}
