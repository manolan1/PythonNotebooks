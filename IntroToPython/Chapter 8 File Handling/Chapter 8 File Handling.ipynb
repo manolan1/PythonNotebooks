{
 "cells": [
  {
   "cell_type": "markdown",
   "metadata": {},
   "source": [
    "# File Handling\n",
    "\n",
    "## File I/O\n",
    "\n",
    "### Reading a File\n",
    "\n",
    "Run the program below. When asked for a filename, use the following values:\n",
    "- `<Enter>` (leave the input field empty)\n",
    "- `file1.txt`\n",
    "- `ugabuga`\n",
    "\n",
    "Remember that `sys.exit()` will cause a `SystemExit` exception that is visible in a notebook."
   ]
  },
  {
   "cell_type": "code",
   "execution_count": null,
   "metadata": {},
   "outputs": [],
   "source": [
    "\"\"\"\n",
    "    Program:  ch08_01_file_read.py\n",
    "    Function: First of several script to explore \n",
    "              opening and reading from a file.\n",
    "\"\"\"\n",
    "import sys\n",
    "\n",
    "work_file = input('Enter file to read: ')\n",
    "if work_file == '':\n",
    "    print('No file name entered', file=sys.stderr)\n",
    "    sys.exit(1)\n",
    "\n",
    "file_read = open(work_file, 'r')\n",
    "\n",
    "for line in file_read:\n",
    "    line = line[:-1]\n",
    "    print(line)\n",
    "\n",
    "file_read.close()\n",
    "\n",
    "print(\"That's all folks!\") "
   ]
  },
  {
   "cell_type": "markdown",
   "metadata": {},
   "source": [
    "- Why line 16?\n",
    "  - Try the script without it and see what happens\n",
    "- When you entered `ugabuga`, there was an exception\n",
    "  - An `open` statement should always be wrapped in a `try except` block\n",
    "  - Wrap the `open` line in `try except`\n",
    "\n",
    "### Detail of Open\n",
    "\n",
    "`open(file_to_open [, mode]...)`\n",
    "- `File_to_open` is the absolute or relative path to the file to be accessed\n",
    "- `mode` is how the file is to be accessed `[rwa][bt][+]`\n",
    "  - `r` is the default\n",
    "\n",
    "| Char. | Action |\n",
    "|:------|:-------|\n",
    "| `'r'` | Open file for reading |\n",
    "| `'w'` | Create a new file; if file exists truncate to 0 bytes |\n",
    "| `'x'` | Create a new file; fail if file already exists |\n",
    "| `'a'` | Open file to be appended (usually at end) |\n",
    "| `'b'` | Given after `[rwxa]` for example as `'rb'` to read in binary mode |\n",
    "| `'t'` | Given after `[rwxa]` for example as `'rt'` to read in text mode (default) |\n",
    "| `'+'` | Given after `[rwxa[bt]]` for example as `'rb+'` <br>On `'r'` it means open the file for reading and writing<br>On `'w'` it means create a new file and then allow writing and reading<br>On `'a'` it means reading and writing but writing at the end of the file |\n",
    "\n",
    "- other parameters cover whether to buffer, text encoding, how to handle errors and how to interact with the underlying operating system file\n",
    "  - by default, when using text files, operating specific line endings are converted to `\\n`.\n",
    "\n",
    "### Writing Text Files"
   ]
  },
  {
   "cell_type": "code",
   "execution_count": null,
   "metadata": {},
   "outputs": [],
   "source": [
    "\"\"\"\n",
    "    Program:  ch08_02_file_write.py\n",
    "    Function: Something on write to a file\n",
    "\"\"\"\n",
    "\n",
    "import sys\n",
    "\n",
    "work_file = input('Enter file to write to: ')\n",
    "if work_file == '':\n",
    "    print('No file entered', file=sys.stderr)\n",
    "    sys.exit(1)\n",
    "\n",
    "try: \n",
    "    file_write = open(work_file, 'w')\n",
    "except IOError as err:\n",
    "    print('Error: ', err, file=sys.stderr)\n",
    "    sys.exit(1)\n",
    "except:\n",
    "    print('Unknown error with file', work_file, file=sys.stderr)\n",
    "    sys.exit(1)\n",
    "\n",
    "while True:\n",
    "    try: \n",
    "        line = input('Enter line, or <Enter> to end: ')\n",
    "        if line == '':\n",
    "            break\n",
    "    except:\n",
    "        print('Unknown error with input:', file=sys.stderr)\n",
    "        file_write.close()\n",
    "        sys.exit(1)\n",
    "    else:\n",
    "        file_write.write(line + '\\n')\n",
    "\n",
    "file_write.close()\n",
    "print(\"\\nThat's all folks!\")"
   ]
  },
  {
   "cell_type": "markdown",
   "metadata": {},
   "source": [
    "- Why add the new line when writing a line?\n",
    " - Would a new line have to be added if print was used?\n",
    " - Rework with print to test."
   ]
  },
  {
   "cell_type": "markdown",
   "metadata": {},
   "source": [
    "### File Object Methods\n",
    "\n",
    "| Method | Action |\n",
    "|:-------|:-------|\n",
    "| `.close()` | Close the file. |\n",
    "| `.flush()` | Flush all internal buffers to file object. Want data to go but not a full buffer. |\n",
    "| `.isatty()` | File object is a tty (terminal window) or tty-like device. |\n",
    "| `.next()`   | When using a file as an iterator (e.g. in a `for` loop). Do not try to combine with other methods like `readline()`. |\n",
    "| `.read([size])` | Read size bytes from file or entire file if size not specified. |\n",
    "| `.readline([size])` | Read through to the next newline and include that newline character. Returns with reaching newline or reaching `size`, whichever comes first. |\n",
    "| `.readlines([size_hint])` | Read all the lines of the file and return them as a list. (A line is 0 or more characters terminated by a new line).<br>Newline is returned as part of the line. `size_hint` is the maximum to read if given. |\n",
    "| `.seek(offset [, whence])` | Set next read or write action to take place starting at offset.`whence` specifies where offset counting starts (default is `os.SEEK_SET`):<ul><li>`0` (`os.SEEK_SET`) beginning of file</li><li>`1` (`os.SEEK_CUR`) current position in file</li><li>`2` (`os.SEEK_END`) from end of file</li></ul> |\n",
    "| `.tell()` | Return offset from beginning of file where next action will take place. |\n",
    "| `.write(string)` | Writes string to file object. |\n",
    "| `.writelines(sequence)` | Write a sequence of lines to the file object. |\n"
   ]
  },
  {
   "cell_type": "markdown",
   "metadata": {},
   "source": [
    "### Writing Python Data\n",
    "\n",
    "- Can write simple data types as string\n",
    "  - perform basic conversions\n",
    "  - not sustainable for more complex data types\n",
    "- Use Python module `pickle` \n",
    "  - serialises Python objects in a proprietary binary format\n",
    "- Use Python module `json`\n",
    "  - converts Python objects into text-based JSON"
   ]
  },
  {
   "cell_type": "markdown",
   "metadata": {},
   "source": [
    "## `with`\n",
    "\n",
    "- The `with` statement guarantees the file is closed no matter how the program exits from the block it controls\n",
    "- Can use for reading or writing"
   ]
  },
  {
   "cell_type": "code",
   "execution_count": null,
   "metadata": {},
   "outputs": [],
   "source": [
    "\"\"\" Program:  ch08_04_with_read.py\n",
    "    Function: show the with statement\n",
    "\"\"\"\n",
    "\n",
    "with open('file1.txt', 'r') as f:\n",
    "    for line in f:\n",
    "        line = line[:-1]\n",
    "        print(line)\n",
    "\n",
    "print(\"\\n\\nThat's all folks!\")"
   ]
  },
  {
   "cell_type": "markdown",
   "metadata": {},
   "source": [
    "# End of Notebook"
   ]
  }
 ],
 "metadata": {
  "kernelspec": {
   "display_name": "Python 3 (ipykernel)",
   "language": "python",
   "name": "python3"
  },
  "language_info": {
   "codemirror_mode": {
    "name": "ipython",
    "version": 3
   },
   "file_extension": ".py",
   "mimetype": "text/x-python",
   "name": "python",
   "nbconvert_exporter": "python",
   "pygments_lexer": "ipython3",
   "version": "3.8.11"
  }
 },
 "nbformat": 4,
 "nbformat_minor": 2
}
