{
 "cells": [
  {
   "cell_type": "markdown",
   "metadata": {},
   "source": [
    "<a href=\"https://colab.research.google.com/github/manolan1/PythonNotebooks/blob/main/IntroToPython\\Chapter%209%20Classes\\Chapter%209%20Classes%20(part%202).ipynb\" target=\"_parent\"><img src=\"https://colab.research.google.com/assets/colab-badge.svg\" alt=\"Open In Colab\"/></a>"
   ]
  },
  {
   "cell_type": "markdown",
   "metadata": {},
   "source": [
    "# Chapter 9: Classes (part 2)\n",
    "\n",
    "## Adding Attributes"
   ]
  },
  {
   "cell_type": "code",
   "execution_count": null,
   "metadata": {},
   "outputs": [],
   "source": [
    "class Robot:\n",
    "    \"\"\"\n",
    "       This is the second class\n",
    "    \"\"\"\n",
    "    count = 0\n",
    "    def __init__(self, name = None):\n",
    "        self.name = name\n",
    "        type(self).count += 1\n",
    "\n",
    "# or\n",
    "# from Robot_II import Robot"
   ]
  },
  {
   "cell_type": "markdown",
   "metadata": {},
   "source": [
    "- Line 5\n",
    "  - Defines a class variable `count`. The data here is about the class number of Robots created, not anything about the instance.\n",
    "- Lines 6-8\n",
    "  - Define a function `__init__`.\n",
    "  - Because it is defined inside a class definition, it is called a _method_.\n",
    "  - `__init__` is a special method.\n",
    "    - It is called by the class function, in this case `Robot()`.\n",
    "    - Parameters passed to `Robot()` are passed to `__init__`.\n",
    "    - `self` is a reference to the instance being made. It is always the first parameter of `__init__`. \n",
    "- Line 7\n",
    "  - `self.name` is initialized with the value passed in.\n",
    "  - It is stored in the instance object.\n",
    "- Line 8\n",
    "  - This increases the class variable by `1` because 1 new Robot has been created.\n",
    "  - Notice that the access is `Robot.count`. If just `count` was used, a local variable would have been created, which is not what was wanted.\n",
    "  - `type(self)` evaluates to `Robot`. Could have used `Robot.count += 1`, but `type(self)` works better with inheritance which we will see a little later.\n"
   ]
  },
  {
   "cell_type": "code",
   "execution_count": null,
   "metadata": {},
   "outputs": [],
   "source": [
    "print(Robot.count)"
   ]
  },
  {
   "cell_type": "code",
   "execution_count": null,
   "metadata": {},
   "outputs": [],
   "source": [
    "r2 = Robot('Robbie2')"
   ]
  },
  {
   "cell_type": "code",
   "execution_count": null,
   "metadata": {},
   "outputs": [],
   "source": [
    "r2.name"
   ]
  },
  {
   "cell_type": "code",
   "execution_count": null,
   "metadata": {},
   "outputs": [],
   "source": [
    "r2.count"
   ]
  },
  {
   "cell_type": "code",
   "execution_count": null,
   "metadata": {},
   "outputs": [],
   "source": [
    "Robot.count"
   ]
  },
  {
   "cell_type": "markdown",
   "metadata": {},
   "source": [
    "## Deleting an Instance"
   ]
  },
  {
   "cell_type": "code",
   "execution_count": null,
   "metadata": {},
   "outputs": [],
   "source": [
    "del r2"
   ]
  },
  {
   "cell_type": "code",
   "execution_count": null,
   "metadata": {},
   "outputs": [],
   "source": [
    "r2.name"
   ]
  },
  {
   "cell_type": "code",
   "execution_count": null,
   "metadata": {},
   "outputs": [],
   "source": [
    "Robot.count"
   ]
  },
  {
   "cell_type": "markdown",
   "metadata": {},
   "source": [
    "- If `count` is to be the number of instances, need a way to subtract `1` from `count` when object is deleted.\n",
    "\n",
    "## `__del__` for Deleted Objects\n",
    "\n",
    "- You do not have to worry about memory clean-up, automatic garbage collection will take care of it.\n",
    "- You do have to worry about class variables or perhaps connections."
   ]
  },
  {
   "cell_type": "code",
   "execution_count": null,
   "metadata": {},
   "outputs": [],
   "source": [
    "class Robot:\n",
    "    \"\"\"\n",
    "       This is the third class\n",
    "    \"\"\"\n",
    "    count = 0\n",
    "\n",
    "    def __init__(self, name = None):\n",
    "        self.name = name\n",
    "        type(self).count += 1\n",
    "    def __del__(self):\n",
    "        type(self).count -= 1\n",
    "\n",
    "# or\n",
    "# from Robot_III import Robot"
   ]
  },
  {
   "cell_type": "markdown",
   "metadata": {},
   "source": [
    "- Lines 10 and 11\n",
    "  - Define the method `__del__` which is called each time an instance is deleted."
   ]
  },
  {
   "cell_type": "code",
   "execution_count": null,
   "metadata": {},
   "outputs": [],
   "source": [
    "r3= Robot('Robbie3')"
   ]
  },
  {
   "cell_type": "code",
   "execution_count": null,
   "metadata": {},
   "outputs": [],
   "source": [
    "r3.count"
   ]
  },
  {
   "cell_type": "code",
   "execution_count": null,
   "metadata": {},
   "outputs": [],
   "source": [
    "del r3"
   ]
  },
  {
   "cell_type": "code",
   "execution_count": null,
   "metadata": {},
   "outputs": [],
   "source": [
    "Robot.count"
   ]
  },
  {
   "cell_type": "markdown",
   "metadata": {},
   "source": [
    "# End of Notebook"
   ]
  }
 ],
 "metadata": {
  "kernelspec": {
   "display_name": "Python 3 (ipykernel)",
   "language": "python",
   "name": "python3"
  },
  "language_info": {
   "codemirror_mode": {
    "name": "ipython",
    "version": 3
   },
   "file_extension": ".py",
   "mimetype": "text/x-python",
   "name": "python",
   "nbconvert_exporter": "python",
   "pygments_lexer": "ipython3",
   "version": "3.8.11"
  }
 },
 "nbformat": 4,
 "nbformat_minor": 2
}
