{
 "cells": [
  {
   "cell_type": "markdown",
   "metadata": {},
   "source": [
    "<a href=\"https://colab.research.google.com/github/manolan1/PythonNotebooks/blob/main/IntroToPython\\Chapter%209%20Classes\\Chapter%209%20Classes%20(part%204).ipynb\" target=\"_parent\"><img src=\"https://colab.research.google.com/assets/colab-badge.svg\" alt=\"Open In Colab\"/></a>"
   ]
  },
  {
   "cell_type": "markdown",
   "metadata": {},
   "source": [
    "# Chapter 9: Classes (part 4)\n",
    "\n",
    "## Getters and Setters\n",
    "\n",
    "### The Problem\n",
    "\n",
    "So far, we have just saved the attribute of a robot. What happens if we have to do some checking or conversion before saving the retrieving the value of the attribute?"
   ]
  },
  {
   "cell_type": "code",
   "execution_count": null,
   "metadata": {},
   "outputs": [],
   "source": [
    "class Robot:\n",
    "    \"\"\"\n",
    "       This is the fifth class\n",
    "    \"\"\"\n",
    "    count = 0\n",
    "\n",
    "    def __init__(self, name = None):\n",
    "        self.set_name(name)\n",
    "        type(self).count += 1\n",
    "\n",
    "    def __del__(self):\n",
    "        type(self).count -= 1\n",
    "\n",
    "    def say_hi(self):\n",
    "        print(self.__name, 'says \"hi!\"')\n",
    "\n",
    "    def set_name(self, name):\n",
    "        if name:\n",
    "            self.__name = name\n",
    "        else:\n",
    "            self.__name = 'Name not Given'\n",
    "\n",
    "    def get_name(self):\n",
    "        return self.__name\n",
    "\n",
    "# or\n",
    "# from Robot_V import Robot"
   ]
  },
  {
   "cell_type": "markdown",
   "metadata": {},
   "source": [
    "- Line 8\n",
    "  - The attribute is not directly set. `set_name` is called to store the name in the instance object.\n",
    "  - Note: Do not pass `self` in. This is done by Python as this is a method call.\n",
    "- Lines 15, 19, 21 & 23 \n",
    "  - `__name` is a private variable. This means it is not accessible except by code in the class."
   ]
  },
  {
   "cell_type": "code",
   "execution_count": null,
   "metadata": {},
   "outputs": [],
   "source": [
    "r5 = Robot()"
   ]
  },
  {
   "cell_type": "code",
   "execution_count": null,
   "metadata": {},
   "outputs": [],
   "source": [
    "r5.__name"
   ]
  },
  {
   "cell_type": "markdown",
   "metadata": {},
   "source": [
    "- This raises an error because `__name` is private"
   ]
  },
  {
   "cell_type": "code",
   "execution_count": null,
   "metadata": {},
   "outputs": [],
   "source": [
    "r5.get_name()"
   ]
  },
  {
   "cell_type": "code",
   "execution_count": null,
   "metadata": {},
   "outputs": [],
   "source": [
    "r5.say_hi()"
   ]
  },
  {
   "cell_type": "markdown",
   "metadata": {},
   "source": [
    "- This protects access to the name and ensures we can perform processing when updating or reading it, but it is not convenient."
   ]
  },
  {
   "cell_type": "markdown",
   "metadata": {},
   "source": [
    "## Properties"
   ]
  },
  {
   "cell_type": "code",
   "execution_count": null,
   "metadata": {},
   "outputs": [],
   "source": [
    "class Robot:\n",
    "    \"\"\"\n",
    "       This is the sixth class\n",
    "    \"\"\"\n",
    "    count = 0\n",
    "    def __init__(self, name = None):\n",
    "        self.__set_name(name)\n",
    "        type(self).count += 1\n",
    "\n",
    "    def __del__(self):\n",
    "        type(self).count -= 1\n",
    "\n",
    "    def say_hi(self):\n",
    "        print(self.name, 'says \"hi!\"')\n",
    "\n",
    "    def __set_name(self, name):\n",
    "        if name:\n",
    "            self.__name = name\n",
    "        else:\n",
    "            self.__name = 'Name not Given'\n",
    "\n",
    "    def __get_name(self):\n",
    "        return self.__name\n",
    "\n",
    "    name = property(__get_name, __set_name)\n",
    "\n",
    "# or\n",
    "# from Robot_VI import Robot"
   ]
  },
  {
   "cell_type": "markdown",
   "metadata": {},
   "source": [
    "- Line 25\n",
    "  - This sets `name` up as a _property_. When `name` is to be read, Python will use `__get_name`. When `name` is to be written, `__set_name` will be used."
   ]
  },
  {
   "cell_type": "code",
   "execution_count": null,
   "metadata": {},
   "outputs": [],
   "source": [
    "r6 = Robot()"
   ]
  },
  {
   "cell_type": "code",
   "execution_count": null,
   "metadata": {},
   "outputs": [],
   "source": [
    "r6.name"
   ]
  },
  {
   "cell_type": "code",
   "execution_count": null,
   "metadata": {},
   "outputs": [],
   "source": [
    "r6.name = 'Robbie6'"
   ]
  },
  {
   "cell_type": "code",
   "execution_count": null,
   "metadata": {},
   "outputs": [],
   "source": [
    "r6.__get_name()"
   ]
  },
  {
   "cell_type": "markdown",
   "metadata": {},
   "source": [
    "- Gives an error because the double underscore makes the method hidden, just as it did with the identifier `__name`"
   ]
  },
  {
   "cell_type": "code",
   "execution_count": null,
   "metadata": {},
   "outputs": [],
   "source": [
    "r6.name"
   ]
  },
  {
   "cell_type": "markdown",
   "metadata": {},
   "source": [
    "# End of Notebook"
   ]
  }
 ],
 "metadata": {
  "kernelspec": {
   "display_name": "Python 3 (ipykernel)",
   "language": "python",
   "name": "python3"
  },
  "language_info": {
   "codemirror_mode": {
    "name": "ipython",
    "version": 3
   },
   "file_extension": ".py",
   "mimetype": "text/x-python",
   "name": "python",
   "nbconvert_exporter": "python",
   "pygments_lexer": "ipython3",
   "version": "3.8.11"
  }
 },
 "nbformat": 4,
 "nbformat_minor": 2
}
