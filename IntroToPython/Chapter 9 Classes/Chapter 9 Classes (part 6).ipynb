{
 "cells": [
  {
   "cell_type": "markdown",
   "metadata": {},
   "source": [
    "# Chapter 9: Classes (part 6)\n",
    "\n",
    "## Special Methods\n",
    "\n",
    "- When you write `str(r9)`, what gets executed is `r9.__str__()`\n",
    "  - For example:\n",
    "  ```\n",
    "     def __str__(self):        \n",
    "         return \"Robot with name  \" + self.__get_name()\n",
    "  ```\n",
    "- When you write `a > b`, what gets executed is: `a.__gt__(self, b)`\n",
    "  - The class implementer decides how to determine `>`\n",
    "- You can see all of the magic commands by typing `dir(<object>)`\n"
   ]
  },
  {
   "cell_type": "code",
   "execution_count": null,
   "metadata": {},
   "outputs": [],
   "source": [
    "class Robot:\n",
    "    \"\"\"\n",
    "       This is the nineth class\n",
    "    \"\"\"\n",
    "\n",
    "    __count = 0\n",
    "\n",
    "    def __init__(self, name = None):\n",
    "        self.__set_name(name)\n",
    "        type(self).__count += 1\n",
    "\n",
    "    def __del__(self):\n",
    "        type(self).__count -= 1\n",
    "\n",
    "    def say_hi(self):\n",
    "        print(self.name, ', says \"hi!\"')\n",
    "\n",
    "    def __set_name(self, name):\n",
    "        if name:\n",
    "            self.__name = name\n",
    "        else:\n",
    "            self.__name = \"Name not Given\"\n",
    "\n",
    "    def __get_name(self):\n",
    "        return self.__name\n",
    "\n",
    "    @staticmethod\n",
    "    def robot_count():\n",
    "        return Robot.__count\n",
    "\n",
    "    @classmethod\n",
    "    def class_count(cls):\n",
    "        return cls.__count\n",
    "\n",
    "    def __str__(self):        \n",
    "        return 'Robot with name ' + self.__get_name()\n",
    "\n",
    "    def __gt__(self, other):\n",
    "        return self.name > other.name\n",
    "\n",
    "    name = property(__get_name, __set_name)\n",
    "\n",
    "# or\n",
    "# from Robot_IX import Robot"
   ]
  },
  {
   "cell_type": "code",
   "execution_count": null,
   "metadata": {},
   "outputs": [],
   "source": [
    "r9 = Robot('R2D2')\n",
    "dir(r9)"
   ]
  },
  {
   "cell_type": "markdown",
   "metadata": {},
   "source": [
    "- See how this includes the identifiers we have created (`count_robots`, `name` etc), a number of special identifiers that we implemented (`__init__`, `__del__`) and also many that we have not (e.g. `__class__`, `__dict__`).\n",
    "- How can there be special methods that we have not implemented?\n",
    "  - Python provides default implementations of them as we shall see in the next section."
   ]
  },
  {
   "cell_type": "code",
   "execution_count": null,
   "metadata": {},
   "outputs": [],
   "source": [
    "r9.__class__"
   ]
  },
  {
   "cell_type": "code",
   "execution_count": null,
   "metadata": {},
   "outputs": [],
   "source": [
    "type(r9)"
   ]
  },
  {
   "cell_type": "code",
   "execution_count": null,
   "metadata": {},
   "outputs": [],
   "source": [
    "r9.__str__()"
   ]
  },
  {
   "cell_type": "code",
   "execution_count": null,
   "metadata": {},
   "outputs": [],
   "source": [
    "str(r9)"
   ]
  },
  {
   "cell_type": "code",
   "execution_count": null,
   "metadata": {},
   "outputs": [],
   "source": [
    "r9x = Robot('C3PO')\n",
    "str(r9x)"
   ]
  },
  {
   "cell_type": "code",
   "execution_count": null,
   "metadata": {},
   "outputs": [],
   "source": [
    "r9x > r9"
   ]
  },
  {
   "cell_type": "markdown",
   "metadata": {},
   "source": [
    "Now re-open Exercise 9_2 and add `__gt__` and `__str__` for your `Animal` class"
   ]
  },
  {
   "cell_type": "markdown",
   "metadata": {},
   "source": [
    "# End of Notebook"
   ]
  }
 ],
 "metadata": {
  "kernelspec": {
   "display_name": "Python 3 (ipykernel)",
   "language": "python",
   "name": "python3"
  },
  "language_info": {
   "codemirror_mode": {
    "name": "ipython",
    "version": 3
   },
   "file_extension": ".py",
   "mimetype": "text/x-python",
   "name": "python",
   "nbconvert_exporter": "python",
   "pygments_lexer": "ipython3",
   "version": "3.8.11"
  }
 },
 "nbformat": 4,
 "nbformat_minor": 2
}
