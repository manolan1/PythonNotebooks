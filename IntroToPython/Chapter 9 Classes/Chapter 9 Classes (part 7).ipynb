{
 "cells": [
  {
   "cell_type": "markdown",
   "metadata": {},
   "source": [
    "<a href=\"https://colab.research.google.com/github/manolan1/PythonNotebooks/blob/main/IntroToPython\\Chapter%209%20Classes\\Chapter%209%20Classes%20(part%207).ipynb\" target=\"_parent\"><img src=\"https://colab.research.google.com/assets/colab-badge.svg\" alt=\"Open In Colab\"/></a>"
   ]
  },
  {
   "cell_type": "markdown",
   "metadata": {},
   "source": [
    "# Chapter 9: Classes (part 7)\n",
    "\n",
    "## Single Inheritance\n",
    "\n",
    "- This is the last version of `Robot` from the previous section.\n",
    "- There is a problem with this class that will not be apparent until we create subclasses."
   ]
  },
  {
   "cell_type": "code",
   "execution_count": null,
   "metadata": {},
   "outputs": [],
   "source": [
    "class Robot:\n",
    "    \"\"\"\n",
    "       This is the base class\n",
    "    \"\"\"\n",
    "\n",
    "    __count = 0\n",
    "\n",
    "    def __init__(self, name = None):\n",
    "        self.__set_name(name)\n",
    "        type(self).__count += 1\n",
    "\n",
    "    def __del__(self):\n",
    "        type(self).__count -= 1\n",
    "\n",
    "    def say_hi(self):\n",
    "        print(self.name, ', says \"hi!\"')\n",
    "\n",
    "    def __set_name(self, name):\n",
    "        if name:\n",
    "            self.__name = name\n",
    "        else:\n",
    "            self.__name = \"Name not Given\"\n",
    "\n",
    "    def __get_name(self):\n",
    "        return self.__name\n",
    "\n",
    "    @staticmethod\n",
    "    def robot_count():\n",
    "        return Robot.__count\n",
    "\n",
    "    @classmethod\n",
    "    def class_count(cls):\n",
    "        return cls.__count\n",
    "\n",
    "    def __str__(self):        \n",
    "        return 'Robot with name ' + self.__get_name()\n",
    "\n",
    "    def __gt__(self, other):\n",
    "        return self.name > other.name\n",
    "\n",
    "    name = property(__get_name, __set_name)\n",
    "\n",
    "# or\n",
    "# from Robot_IX import Robot"
   ]
  },
  {
   "cell_type": "markdown",
   "metadata": {},
   "source": [
    "### Subclasses\n",
    "\n",
    "- A subclass shares all the attributes and methods of the superclass, but can choose to override behaviour.\n",
    "  - Subclasses are also known as child classes or subtypes.\n",
    "- In Python, a subclass is defined by putting the superclass name in parentheses:\n",
    "```\n",
    "class Child(Parent):\n",
    "    def ...\n",
    "```\n"
   ]
  },
  {
   "cell_type": "code",
   "execution_count": null,
   "metadata": {},
   "outputs": [],
   "source": [
    "# Would need the next line in a file-based script\n",
    "# from Robot_IX import Robot\n",
    "\n",
    "class HesitantRobot(Robot):\n",
    "    def __init__(self, name = None, times = 1):\n",
    "        super().__init__(name = name)\n",
    "        self.__times = times\n",
    "\n",
    "    def say_hi(self):\n",
    "        print('\"', 'um ...' * self.__times, 'hi!\", said', super().name)\n",
    "\n",
    "    def say_goodbye(self):\n",
    "        print('\"', 'um ...' * self.__times, 'goodbye!\", said', super().name)"
   ]
  },
  {
   "cell_type": "markdown",
   "metadata": {},
   "source": [
    "- This is a subclass of `Robot`.\n",
    "  - Look at line 4, where it says `class HesitantRobot(Robot)`.\n",
    "- Subclasses can choose to access members of the superclass using `super().`.\n",
    "  - Can also access them using `ClassName.`, in which case they must pass `self` explicitly:\n",
    "    - E.g. `Robot.__init__(self, name = name)`\n",
    "    - This mechanism is less flexible if the class structure might change"
   ]
  },
  {
   "cell_type": "code",
   "execution_count": null,
   "metadata": {},
   "outputs": [],
   "source": [
    "r10 = HesitantRobot('Marvin')"
   ]
  },
  {
   "cell_type": "code",
   "execution_count": null,
   "metadata": {},
   "outputs": [],
   "source": [
    "r10.say_hi()"
   ]
  },
  {
   "cell_type": "code",
   "execution_count": null,
   "metadata": {},
   "outputs": [],
   "source": [
    "r10.say_goodbye()"
   ]
  },
  {
   "cell_type": "markdown",
   "metadata": {},
   "source": [
    "- `say_hi()` is overridden in `HesitantRobot`\n",
    "- When searching for methods (and attributes), Python uses the MRO (Method Resolution Order)."
   ]
  },
  {
   "cell_type": "code",
   "execution_count": null,
   "metadata": {},
   "outputs": [],
   "source": [
    "HesitantRobot.__mro__"
   ]
  },
  {
   "cell_type": "markdown",
   "metadata": {},
   "source": [
    "- This shows that Python searches classes in the order `HesitantRobot`, `Robot` and then `object`.\n",
    "- `object` is a special built-in class.\n",
    "  - All classes inherit from `object` implicitly if there is no explicit superclass.\n",
    "  - `object` implements the default methods that we saw earlier."
   ]
  },
  {
   "cell_type": "code",
   "execution_count": null,
   "metadata": {},
   "outputs": [],
   "source": [
    "HesitantRobot.robot_count()"
   ]
  },
  {
   "cell_type": "code",
   "execution_count": null,
   "metadata": {},
   "outputs": [],
   "source": [
    "HesitantRobot.class_count()"
   ]
  },
  {
   "cell_type": "code",
   "execution_count": null,
   "metadata": {},
   "outputs": [],
   "source": [
    "Robot.robot_count()"
   ]
  },
  {
   "cell_type": "code",
   "execution_count": null,
   "metadata": {},
   "outputs": [],
   "source": [
    "Robot.class_count()"
   ]
  },
  {
   "cell_type": "markdown",
   "metadata": {},
   "source": [
    "- Can you see why `robot_count()` returned `0` whereas `class_count()` returned `1`?\n",
    "  - To make it clearer, you can follow through in the debugger, or add an extra line to the definition of `Robot.__init__()`."
   ]
  },
  {
   "cell_type": "code",
   "execution_count": null,
   "metadata": {},
   "outputs": [],
   "source": [
    "class Robot:\n",
    "    \"\"\"\n",
    "       This is the base class\n",
    "    \"\"\"\n",
    "\n",
    "    __count = 0\n",
    "\n",
    "    def __init__(self, name = None):\n",
    "        self.__set_name(name)\n",
    "        print(type(self))            # Extra line\n",
    "        type(self).__count += 1\n",
    "\n",
    "    def __del__(self):\n",
    "        type(self).__count -= 1\n",
    "\n",
    "    def say_hi(self):\n",
    "        print(self.name, ', says \"hi!\"')\n",
    "\n",
    "    def __set_name(self, name):\n",
    "        if name:\n",
    "            self.__name = name\n",
    "        else:\n",
    "            self.__name = \"Name not Given\"\n",
    "\n",
    "    def __get_name(self):\n",
    "        return self.__name\n",
    "\n",
    "    @staticmethod\n",
    "    def robot_count():\n",
    "        return Robot.__count\n",
    "\n",
    "    @classmethod\n",
    "    def class_count(cls):\n",
    "        return cls.__count\n",
    "\n",
    "    def __str__(self):        \n",
    "        return 'Robot with name ' + self.__get_name()\n",
    "\n",
    "    def __gt__(self, other):\n",
    "        return self.name > other.name\n",
    "\n",
    "    name = property(__get_name, __set_name)\n",
    "\n",
    "\n",
    "class HesitantRobot(Robot):\n",
    "    def __init__(self, name = None, times = 1):\n",
    "        super().__init__(name = name)\n",
    "        self.__times = times\n",
    "\n",
    "    def say_hi(self):\n",
    "        print('\"', 'um ...' * self.__times, 'hi!\", said', super().name)\n",
    "\n",
    "    def say_goodbye(self):\n",
    "        print('\"', 'um ...' * self.__times, 'goodbye!\", said', super().name)"
   ]
  },
  {
   "cell_type": "code",
   "execution_count": null,
   "metadata": {},
   "outputs": [],
   "source": [
    "r10 = HesitantRobot('Marvin')"
   ]
  },
  {
   "cell_type": "markdown",
   "metadata": {},
   "source": [
    "- Even though we added that `print` call to the parent class (`Robot`), when it was executed, `self` was of type `HesitantRobot`. That means the count that was updated in the `__init__()` was associated with `HesitantRobot` since it was written `type(self).__count += 1`.\n",
    "- When we execute `robot_count()`, we get the count associated with the superclass, `Robot`, not the subclass (hardcoded in the method).\n",
    "- When we execute `class_count()`, we access the count through the class variable passed in, which will be `HesitantRobot`.\n",
    "\n",
    "This is the essential difference between `@staticmethod` and `@classmethod`, except it is a little simplistic, as we shall see."
   ]
  },
  {
   "cell_type": "markdown",
   "metadata": {},
   "source": [
    "### Subclassing Further\n",
    "\n",
    "Let's create a subclass of `HesitantRobot`.\n",
    "\n",
    "If you created the diagnostic classes above, go back to the start of the notebook and re-define `Robot` and `HesitantRobot` without the additional diagnostic `print()`.\n",
    "- It is not enough to recreate just `Robot`. Can you see why not?"
   ]
  },
  {
   "cell_type": "code",
   "execution_count": null,
   "metadata": {},
   "outputs": [],
   "source": [
    "# from HesitantRobot import HesitantRobot\n",
    "\n",
    "class HeavyRobot(HesitantRobot):\n",
    "    def __init__(self, name = None, times = 3, weight = 0):\n",
    "        super().__init__(name = name, times = times)\n",
    "        self.__set_weight(weight)\n",
    "\n",
    "    def __set_weight(self, weight):\n",
    "        if weight > 300:\n",
    "            self.__weight = 300\n",
    "        else:\n",
    "            self.__weight = weight\n",
    "\n",
    "    def __get_weight(self):\n",
    "        return self.__weight\n",
    "\n",
    "    weight = property(__get_weight, __set_weight)\n",
    "\n",
    "# or\n",
    "# from HeavyRobot import HeavyRobot"
   ]
  },
  {
   "cell_type": "code",
   "execution_count": null,
   "metadata": {},
   "outputs": [],
   "source": [
    "HeavyRobot.__mro__"
   ]
  },
  {
   "cell_type": "code",
   "execution_count": null,
   "metadata": {},
   "outputs": [],
   "source": [
    "h1 = HeavyRobot(name = 'The Iron Giant', times = 2, weight = 400)"
   ]
  },
  {
   "cell_type": "code",
   "execution_count": null,
   "metadata": {},
   "outputs": [],
   "source": [
    "h1.name"
   ]
  },
  {
   "cell_type": "code",
   "execution_count": null,
   "metadata": {},
   "outputs": [],
   "source": [
    "h1.weight"
   ]
  },
  {
   "cell_type": "code",
   "execution_count": null,
   "metadata": {},
   "outputs": [],
   "source": [
    "h1.say_hi()"
   ]
  },
  {
   "cell_type": "code",
   "execution_count": null,
   "metadata": {},
   "outputs": [],
   "source": [
    "HeavyRobot.robot_count()"
   ]
  },
  {
   "cell_type": "code",
   "execution_count": null,
   "metadata": {},
   "outputs": [],
   "source": [
    "HeavyRobot.class_count()"
   ]
  },
  {
   "cell_type": "markdown",
   "metadata": {},
   "source": [
    "Well, that was a little surprising!\n",
    "\n",
    "There is only one `HeavyRobot`, but the count is `2`. Can you work out why?\n",
    "\n",
    "The following commands may help you to formulate an opinion."
   ]
  },
  {
   "cell_type": "code",
   "execution_count": null,
   "metadata": {},
   "outputs": [],
   "source": [
    "HeavyRobot.__dict__"
   ]
  },
  {
   "cell_type": "code",
   "execution_count": null,
   "metadata": {},
   "outputs": [],
   "source": [
    "HesitantRobot.__dict__"
   ]
  },
  {
   "cell_type": "markdown",
   "metadata": {},
   "source": [
    "- `__count` is defined in the scope of `Robot`.\n",
    "  - Python represents this by giving all subclasses a member called `_Robot__count`.\n",
    "  - This is not the same variable (hopefully that much is obvious, because they don't have the same value, but if you want, you can execute `id(HeavyRobot._Robot__count)` etc to have a look).\n",
    "- What do you think happens when `HeavyRobot` is defined as a subclass of `HesitantRobot`? Remember that a class is really just a dictionary.\n",
    "  - The dictionary of the parent is copied and new members are added and old members are overridden.\n",
    "  - It does _not_ refer to the same variables as the superclass, but it _does_ get initialised with the same values.\n",
    "- So, when `HeavyRobot` is defined, the value of `HesitantRobot._Robot__count` was already set to 1.\n",
    "  - This is not an issue with instance variables\n",
    "  - And not an issue with class hierarchies that are defined before any instances are created, or where no superclass instances are ever created.\n",
    "\n",
    "If you are still uncertain, take a look at the following example (if you need to, vary the commands to illustrate all situations):"
   ]
  },
  {
   "cell_type": "code",
   "execution_count": null,
   "metadata": {},
   "outputs": [],
   "source": [
    "class Grandparent():\n",
    "    __count = 0\n",
    "\n",
    "    def __init__(self):\n",
    "        type(self).__count += 1\n",
    "\n",
    "    def __del__(self):\n",
    "        type(self).__count -= 1\n",
    "\n",
    "    def __str__(self):\n",
    "        return '%s: %s' % (type(self), type(self).__count)\n",
    "\n",
    "class Parent(Grandparent):\n",
    "    def __init__(self):\n",
    "        super().__init__()\n",
    "\n",
    "class Child1(Parent):\n",
    "    def __init__(self):\n",
    "        super().__init__()\n",
    "\n",
    "class Child2(Parent):\n",
    "    def __init__(self):\n",
    "        super().__init__()"
   ]
  },
  {
   "cell_type": "code",
   "execution_count": null,
   "metadata": {},
   "outputs": [],
   "source": [
    "c1 = Child1()\n",
    "p = Parent()\n",
    "g = Grandparent()"
   ]
  },
  {
   "cell_type": "code",
   "execution_count": null,
   "metadata": {},
   "outputs": [],
   "source": [
    "print(c1)\n",
    "print(p)\n",
    "print(g)"
   ]
  },
  {
   "cell_type": "code",
   "execution_count": null,
   "metadata": {},
   "outputs": [],
   "source": [
    "c2 = Child2()\n",
    "print(c2)"
   ]
  },
  {
   "cell_type": "markdown",
   "metadata": {},
   "source": [
    "`c1` is created before any instance of the `Parent` or `Grandparent` is created. `Parent._Grandparent__count` has the value `0`. But, by the time `c2` is created, it has the value `1`."
   ]
  },
  {
   "cell_type": "code",
   "execution_count": null,
   "metadata": {},
   "outputs": [],
   "source": [
    "c1x = Child1()\n",
    "px = Parent()\n",
    "gx = Grandparent()\n",
    "c2x = Child2()\n",
    "print(c1x)\n",
    "print(px)\n",
    "print(gx)\n",
    "print(c2x)"
   ]
  },
  {
   "cell_type": "markdown",
   "metadata": {},
   "source": [
    "Once the class object has been created, it counts as you would expect."
   ]
  },
  {
   "cell_type": "markdown",
   "metadata": {},
   "source": [
    "### Common Patterns in Inheritance\n",
    "\n",
    "There is one very common pattern in inheritance. That is to have the class `__init__()` functions defined to accept keyword parameters. The parameters that will be bound in that class are named keywords, and the rest are covered by a `**kwds` parameter to be passed on to the parent.\n",
    "\n",
    "If we apply this pattern to our classes, we might end up with this:"
   ]
  },
  {
   "cell_type": "code",
   "execution_count": null,
   "metadata": {},
   "outputs": [],
   "source": [
    "class Robot:\n",
    "    \"\"\"\n",
    "       This is the base class\n",
    "    \"\"\"\n",
    "\n",
    "    __count = 0\n",
    "\n",
    "    def __init__(self, name = None):\n",
    "        self.__set_name(name)\n",
    "        type(self).__count += 1\n",
    "\n",
    "    def __del__(self):\n",
    "        type(self).__count -= 1\n",
    "\n",
    "    def say_hi(self):\n",
    "        print(self.name, ', says \"hi!\"')\n",
    "\n",
    "    def __set_name(self, name):\n",
    "        if name:\n",
    "            self.__name = name\n",
    "        else:\n",
    "            self.__name = \"Name not Given\"\n",
    "\n",
    "    def __get_name(self):\n",
    "        return self.__name\n",
    "\n",
    "    @staticmethod\n",
    "    def robot_count():\n",
    "        return Robot.__count\n",
    "\n",
    "    @classmethod\n",
    "    def class_count(cls):\n",
    "        return cls.__count\n",
    "\n",
    "    def __str__(self):        \n",
    "        return 'Robot with name ' + self.__get_name()\n",
    "\n",
    "    def __gt__(self, other):\n",
    "        return self.name > other.name\n",
    "\n",
    "    name = property(__get_name, __set_name)\n",
    "\n",
    "class HesitantRobot(Robot):\n",
    "    def __init__(self, times = 1, **kwds):\n",
    "        super().__init__(**kwds)\n",
    "        self.__times = times\n",
    "\n",
    "    def say_hi(self):\n",
    "        print('\"', 'um ...' * self.__times, 'hi!\", said', super().name)\n",
    "\n",
    "    def say_goodbye(self):\n",
    "        print('\"', 'um ...' * self.__times, 'goodbye!\", said', super().name)\n",
    "\n",
    "class HeavyRobot(HesitantRobot):\n",
    "    def __init__(self, weight = 0, **kwds):\n",
    "        super().__init__(**kwds)\n",
    "        self.__set_weight(weight)\n",
    "\n",
    "    def __set_weight(self, weight):\n",
    "        if weight > 300:\n",
    "            self.__weight = 300\n",
    "        else:\n",
    "            self.__weight = weight\n",
    "\n",
    "    def __get_weight(self):\n",
    "        return self.__weight\n",
    "\n",
    "    weight = property(__get_weight, __set_weight)\n"
   ]
  },
  {
   "cell_type": "markdown",
   "metadata": {},
   "source": [
    "There are some limitations:\n",
    "- All parameters to the constructors of subclasses must be named\n",
    "  - Can no longer write `r10 = HesitantRobot('Marvin')`\n",
    "- It is not easy to redefine default values in the subclasses\n",
    "  - We used to do that in `HeavyRobot`, but no longer do\n",
    "    - It is not impossible, but a little less convenient"
   ]
  },
  {
   "cell_type": "code",
   "execution_count": null,
   "metadata": {},
   "outputs": [],
   "source": [
    "marvin = HesitantRobot(name = 'Marvin')\n",
    "irongiant = HeavyRobot(name = 'The Iron Giant', times = 2, weight = 400)\n",
    "print(marvin)\n",
    "print(irongiant)"
   ]
  },
  {
   "cell_type": "markdown",
   "metadata": {},
   "source": [
    "## Multiple Inheritance\n",
    "\n",
    "Python supports multiple inheritance using the following syntax:\n",
    "```\n",
    "class SubClassName(Parent1, Parent2):\n",
    "```\n",
    "The MRO checks `Parent1` first and then `Parent2`.\n",
    "\n",
    "This is beyond the scope of this course."
   ]
  },
  {
   "cell_type": "markdown",
   "metadata": {},
   "source": [
    "# End of Notebook"
   ]
  }
 ],
 "metadata": {
  "kernelspec": {
   "display_name": "Python 3 (ipykernel)",
   "language": "python",
   "name": "python3"
  },
  "language_info": {
   "codemirror_mode": {
    "name": "ipython",
    "version": 3
   },
   "file_extension": ".py",
   "mimetype": "text/x-python",
   "name": "python",
   "nbconvert_exporter": "python",
   "pygments_lexer": "ipython3",
   "version": "3.8.11"
  }
 },
 "nbformat": 4,
 "nbformat_minor": 2
}
