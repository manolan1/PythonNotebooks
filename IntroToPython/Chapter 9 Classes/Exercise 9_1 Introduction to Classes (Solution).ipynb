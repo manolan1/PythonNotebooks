{
 "cells": [
  {
   "cell_type": "markdown",
   "metadata": {},
   "source": [
    "<a href=\"https://colab.research.google.com/github/manolan1/PythonNotebooks/blob/main/IntroToPython\\Chapter%209%20Classes\\Exercise%209_1%20Introduction%20to%20Classes%20(Solution).ipynb\" target=\"_parent\"><img src=\"https://colab.research.google.com/assets/colab-badge.svg\" alt=\"Open In Colab\"/></a>"
   ]
  },
  {
   "cell_type": "markdown",
   "metadata": {},
   "source": [
    "# Exercise 9.1: Introduction to Classes\n",
    "\n",
    "Create and test a class with the following characteristics:\n",
    "\n",
    "1.\tName of class should be `Animal`.\n",
    "2.\tAn accurate count of the animals should be available.\n",
    "3.\tEach animal should have a name.\n",
    "4.\tEach animal should make a noise (generic animal sound for now)."
   ]
  },
  {
   "cell_type": "code",
   "execution_count": null,
   "metadata": {},
   "outputs": [],
   "source": [
    "# Write your code here\n",
    "class Animal:\n",
    "    \"\"\"\n",
    "       Represents an animal\n",
    "    \"\"\"\n",
    "    count = 0\n",
    "    def __init__(self, name = None):\n",
    "        self.name = name\n",
    "        type(self).count += 1\n",
    "    def __del__(self):\n",
    "        type(self).count -= 1\n",
    "    def make_noise(self):\n",
    "        print(self.name, 'says \"woof!\"')"
   ]
  },
  {
   "cell_type": "code",
   "execution_count": null,
   "metadata": {},
   "outputs": [],
   "source": [
    "d = Animal('fido')\n",
    "d.make_noise()"
   ]
  },
  {
   "cell_type": "code",
   "execution_count": null,
   "metadata": {},
   "outputs": [],
   "source": [
    "c = Animal('tom')\n",
    "c.make_noise()"
   ]
  },
  {
   "cell_type": "code",
   "execution_count": null,
   "metadata": {},
   "outputs": [],
   "source": [
    "Animal.count"
   ]
  },
  {
   "cell_type": "code",
   "execution_count": null,
   "metadata": {},
   "outputs": [],
   "source": [
    "del c"
   ]
  },
  {
   "cell_type": "code",
   "execution_count": null,
   "metadata": {},
   "outputs": [],
   "source": [
    "Animal.count"
   ]
  },
  {
   "cell_type": "markdown",
   "metadata": {},
   "source": [
    "# End of Notebook"
   ]
  }
 ],
 "metadata": {
  "kernelspec": {
   "display_name": "Python 3 (ipykernel)",
   "language": "python",
   "name": "python3"
  },
  "language_info": {
   "codemirror_mode": {
    "name": "ipython",
    "version": 3
   },
   "file_extension": ".py",
   "mimetype": "text/x-python",
   "name": "python",
   "nbconvert_exporter": "python",
   "pygments_lexer": "ipython3",
   "version": "3.8.11"
  }
 },
 "nbformat": 4,
 "nbformat_minor": 2
}
