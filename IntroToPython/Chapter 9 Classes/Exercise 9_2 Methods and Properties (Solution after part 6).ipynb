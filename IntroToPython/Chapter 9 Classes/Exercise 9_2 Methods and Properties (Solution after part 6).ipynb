{
 "cells": [
  {
   "cell_type": "markdown",
   "metadata": {},
   "source": [
    "## Exercise 9.2: Methods and Properties\n",
    "\n",
    "1.\tAdd a `weight` attribute to your `Animal` class.\n",
    "2.\tUse properties to make sure the `weight` is greater than `10` and less than `100`. \n"
   ]
  },
  {
   "cell_type": "code",
   "execution_count": null,
   "metadata": {},
   "outputs": [],
   "source": [
    "# Write your code here\n",
    "class Animal:\n",
    "    \"\"\"\n",
    "       Represents an animal\n",
    "    \"\"\"\n",
    "    count = 0\n",
    "    def __init__(self, name = None, weight = 0):\n",
    "        self.name = name\n",
    "        self.__set_weight(weight)\n",
    "        type(self).count += 1\n",
    "    def __del__(self):\n",
    "        type(self).count -= 1\n",
    "    def make_noise(self):\n",
    "        print(self.name, 'says \"woof!\"')\n",
    "\n",
    "    def __set_weight(self, weight):\n",
    "        if 100 > weight > 10:\n",
    "            self.__weight = weight\n",
    "        else:\n",
    "            raise TypeError('weight must be between 10 and 100')\n",
    "\n",
    "    def __get_weight(self):\n",
    "        return self.__weight\n",
    "\n",
    "    def __str__(self):        \n",
    "        return 'Animal with name ' + self.name + ' and weight ' + str(self.__get_weight())\n",
    "\n",
    "    def __gt__(self, other):\n",
    "        return self.weight > other.weight\n",
    "\n",
    "    weight = property(__get_weight, __set_weight)\n"
   ]
  },
  {
   "cell_type": "code",
   "execution_count": null,
   "metadata": {},
   "outputs": [],
   "source": [
    "d = Animal('fido', 99) # modified to match new signature\n",
    "d.make_noise()"
   ]
  },
  {
   "cell_type": "code",
   "execution_count": null,
   "metadata": {},
   "outputs": [],
   "source": [
    "c = Animal('tom', 11)\n",
    "c.make_noise()"
   ]
  },
  {
   "cell_type": "code",
   "execution_count": null,
   "metadata": {},
   "outputs": [],
   "source": [
    "print(str(d))\n",
    "print(str(c))"
   ]
  },
  {
   "cell_type": "code",
   "execution_count": null,
   "metadata": {},
   "outputs": [],
   "source": [
    "d > c"
   ]
  },
  {
   "cell_type": "code",
   "execution_count": null,
   "metadata": {},
   "outputs": [],
   "source": [
    "Animal.count"
   ]
  },
  {
   "cell_type": "code",
   "execution_count": null,
   "metadata": {},
   "outputs": [],
   "source": [
    "del c"
   ]
  },
  {
   "cell_type": "code",
   "execution_count": null,
   "metadata": {},
   "outputs": [],
   "source": [
    "Animal.count"
   ]
  },
  {
   "cell_type": "code",
   "execution_count": null,
   "metadata": {},
   "outputs": [],
   "source": [
    "x = Animal('nemo', 10)"
   ]
  },
  {
   "cell_type": "code",
   "execution_count": null,
   "metadata": {},
   "outputs": [],
   "source": [
    "Animal.count"
   ]
  },
  {
   "cell_type": "markdown",
   "metadata": {},
   "source": [
    "There are two ways to approach the second requirement:\n",
    "1. As here, raise an exception if the value is out of range. The object is not created (as we can see from the count). This is the better solution.\n",
    "2. Set the weight to `11` if `<= 10` and `99` if `>= 100`. This is a simpler option if you are still not comfortable with exceptions."
   ]
  },
  {
   "cell_type": "code",
   "execution_count": null,
   "metadata": {},
   "outputs": [],
   "source": [
    "y = Animal('bambi', 100)"
   ]
  },
  {
   "cell_type": "markdown",
   "metadata": {},
   "source": [
    "# End of Notebook"
   ]
  }
 ],
 "metadata": {
  "kernelspec": {
   "display_name": "Python 3 (ipykernel)",
   "language": "python",
   "name": "python3"
  },
  "language_info": {
   "codemirror_mode": {
    "name": "ipython",
    "version": 3
   },
   "file_extension": ".py",
   "mimetype": "text/x-python",
   "name": "python",
   "nbconvert_exporter": "python",
   "pygments_lexer": "ipython3",
   "version": "3.8.11"
  }
 },
 "nbformat": 4,
 "nbformat_minor": 2
}
