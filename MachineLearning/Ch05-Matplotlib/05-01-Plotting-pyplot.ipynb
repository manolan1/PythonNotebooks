{
 "cells": [
  {
   "cell_type": "code",
   "execution_count": null,
   "metadata": {
    "colab": {},
    "colab_type": "code",
    "id": "UEQycUX0YSpK"
   },
   "outputs": [],
   "source": [
    "%matplotlib notebook\n",
    "import numpy as np\n",
    "import matplotlib.pyplot as plt"
   ]
  },
  {
   "cell_type": "markdown",
   "metadata": {
    "colab_type": "text",
    "id": "udrKEO31YSpQ"
   },
   "source": [
    "* As we go through, notice that the plotting is interactive and the plot is inside the notebook\n",
    "* The `%matplotlib` magic command enables a *matplotlib back-end* that controls how plots are displayed:\n",
    "\n",
    "  `%matplotlib` or `%matplotlib inline` render plots within the normal output (here that means in the notebook)  \n",
    "  `%matplotlib notebook` renders plots within the notebook as interactive elements  \n",
    "  `%matplotlib qt5` launches interactive plots in a separate window  \n",
    "  `%matplotlib -l` lists the available back-ends  \n",
    "  \n",
    "  Once you have started a notebook with a given back-end, you cannot change it. To change back-end, you need to stop and restart the kernel.\n",
    "\n",
    "\n",
    "* You will sometimes see notebooks with the older `%pylab` magic command. This sets up a *qt* back-end similar to `qt5` above. It also sets up a large number of imports. The creators of jupyter have not deprecated `%pylab`, but would prefer people to stop using it. The principle reason is that it imports a large number of functions into the global namespace.\n"
   ]
  },
  {
   "cell_type": "markdown",
   "metadata": {
    "colab_type": "text",
    "id": "mMi4v5KHYSpR"
   },
   "source": [
    "## Simple Plot - All Defaults"
   ]
  },
  {
   "cell_type": "markdown",
   "metadata": {
    "colab_type": "text",
    "id": "Y88c9J3PYSpS"
   },
   "source": [
    "### Creating the X and Y points"
   ]
  },
  {
   "cell_type": "code",
   "execution_count": null,
   "metadata": {
    "colab": {},
    "colab_type": "code",
    "id": "5S_EQ0ruYSpT"
   },
   "outputs": [],
   "source": [
    "X = np.linspace(-np.pi, np.pi, 256, endpoint = True)\n",
    "S = np.sin(X)\n",
    "C = np.cos(X)"
   ]
  },
  {
   "cell_type": "markdown",
   "metadata": {
    "colab_type": "text",
    "id": "oVKKFr55YSpZ"
   },
   "source": [
    "### Creating the plot"
   ]
  },
  {
   "cell_type": "code",
   "execution_count": null,
   "metadata": {
    "colab": {},
    "colab_type": "code",
    "id": "WBRvqI4QYSpb"
   },
   "outputs": [],
   "source": [
    "plt.plot(X, S)"
   ]
  },
  {
   "cell_type": "markdown",
   "metadata": {
    "colab_type": "text",
    "id": "JQOW7iWHYSpe"
   },
   "source": [
    "* Technically, you should use `plt.show()` to display the plot, but jupyter takes care of that for you and we will not include this command in any of our code.\n",
    "\n",
    "\n",
    "* If you didn't change the `%matplotlib` magic command, you should see that the plot appears in the notebook. Together with a toolbar. Run your mouse pointer over the toolbar options.\n",
    "\n",
    "  *  The download plot button does not work in Chrome for security reasons. At time of writing, it *does* work in Firefox.\n",
    "\n",
    "\n",
    "* If you changed to `qt5`, you will need the plt.show() command and see the plot in a separate window. The toolbar options are slightly different and allow you to alter the base layout."
   ]
  },
  {
   "cell_type": "markdown",
   "metadata": {
    "colab_type": "text",
    "id": "s0TaKymYYSpf"
   },
   "source": [
    "### Adding a second plot"
   ]
  },
  {
   "cell_type": "code",
   "execution_count": null,
   "metadata": {
    "colab": {},
    "colab_type": "code",
    "id": "1Zn-_ToOYSpg"
   },
   "outputs": [],
   "source": [
    "plt.plot(X, C)"
   ]
  },
  {
   "cell_type": "markdown",
   "metadata": {
    "colab_type": "text",
    "id": "OIq07GaSYSpk"
   },
   "source": [
    "* If you closed the plot, the second graph will appear in a separate plot, if you did not, the two will be superimposed."
   ]
  },
  {
   "cell_type": "markdown",
   "metadata": {
    "colab_type": "text",
    "id": "x7120Rc9YSpl"
   },
   "source": [
    "### Close the plot \n",
    "* This will destroy the graph and leave the X, C, and S arrays"
   ]
  },
  {
   "cell_type": "markdown",
   "metadata": {
    "colab_type": "text",
    "id": "4fQ1U_gQYSpm"
   },
   "source": [
    "## Same Graph with All Defaults Specified"
   ]
  },
  {
   "cell_type": "code",
   "execution_count": null,
   "metadata": {},
   "outputs": [],
   "source": [
    "fig = plt.figure(figsize = (4, 3), dpi = 100)"
   ]
  },
  {
   "cell_type": "markdown",
   "metadata": {
    "colab_type": "text",
    "id": "KfSqyshNYSps"
   },
   "source": [
    "* `figsize` is measure in inches\n",
    "* `dpi` is dots per inch\n",
    "* A feature of jupyter is that it always displays the output of the last command. Since `plt.figure` returns the figure it has just created, if you do not *consume* that figure by assigning it to a variable, it will be displayed twice! You can also terminate the command with a `;`\n",
    "\n",
    "*__Leave the plot open until told to close it__*"
   ]
  },
  {
   "cell_type": "code",
   "execution_count": null,
   "metadata": {
    "colab": {},
    "colab_type": "code",
    "id": "QSP0ZeKtYSpt"
   },
   "outputs": [],
   "source": [
    "plt.subplot(1, 1, 1)"
   ]
  },
  {
   "cell_type": "markdown",
   "metadata": {
    "colab_type": "text",
    "id": "n1QFbmxqYSpy"
   },
   "source": [
    "* `(1, 1, 1)` means 1 row, 1 column, first plot "
   ]
  },
  {
   "cell_type": "code",
   "execution_count": null,
   "metadata": {
    "colab": {},
    "colab_type": "code",
    "id": "9vdeL6o9YSpz"
   },
   "outputs": [],
   "source": [
    "plt.plot(X, C, color = 'blue', linewidth=2.0, linestyle='-')"
   ]
  },
  {
   "cell_type": "markdown",
   "metadata": {
    "colab_type": "text",
    "id": "5qDgCWjVYSqA"
   },
   "source": [
    "* Look at the plot just created\n",
    "    * The linewidth is different\n",
    "    * The size is different"
   ]
  },
  {
   "cell_type": "code",
   "execution_count": null,
   "metadata": {
    "colab": {},
    "colab_type": "code",
    "id": "QEZYEmEeYSqB"
   },
   "outputs": [],
   "source": [
    "plt.plot(X, S, color = 'red', linewidth = 4.0, linestyle = '--')"
   ]
  },
  {
   "cell_type": "markdown",
   "metadata": {
    "colab_type": "text",
    "id": "Ypm2FqU4YSqE"
   },
   "source": [
    "* Look at the plot just created\n",
    "    * The linewidth is different\n",
    "    * The linestyle is different"
   ]
  },
  {
   "cell_type": "code",
   "execution_count": null,
   "metadata": {
    "colab": {},
    "colab_type": "code",
    "id": "F7v2yk2BYSqF"
   },
   "outputs": [],
   "source": [
    "plt.xlim(-4.0, 4.0)"
   ]
  },
  {
   "cell_type": "markdown",
   "metadata": {
    "colab_type": "text",
    "id": "ufF-PY1BYSqJ"
   },
   "source": [
    "* The range of the X-axis"
   ]
  },
  {
   "cell_type": "code",
   "execution_count": null,
   "metadata": {
    "colab": {},
    "colab_type": "code",
    "id": "X18ez1XRYSqL"
   },
   "outputs": [],
   "source": [
    "plt.xticks(np.linspace(-4, 4, 9, endpoint = True))"
   ]
  },
  {
   "cell_type": "markdown",
   "metadata": {
    "colab_type": "text",
    "id": "us-gVIwzYSqO"
   },
   "source": [
    "* Addition of tick marks on the X-axis"
   ]
  },
  {
   "cell_type": "code",
   "execution_count": null,
   "metadata": {
    "colab": {},
    "colab_type": "code",
    "id": "IiMaqOdPYSqP"
   },
   "outputs": [],
   "source": [
    "plt.ylim(-1.0, 1.0)"
   ]
  },
  {
   "cell_type": "markdown",
   "metadata": {
    "colab_type": "text",
    "id": "0aOYq-AsYSqR"
   },
   "source": [
    "* The range on the Y-axis"
   ]
  },
  {
   "cell_type": "code",
   "execution_count": null,
   "metadata": {
    "colab": {},
    "colab_type": "code",
    "id": "6SuK82ZwYSqS"
   },
   "outputs": [],
   "source": [
    "plt.yticks(np.linspace(-1, 1, 5, endpoint = True))"
   ]
  },
  {
   "cell_type": "markdown",
   "metadata": {
    "colab_type": "text",
    "id": "rA5nk__7YSqW"
   },
   "source": [
    "* The ticks on the Y-axis"
   ]
  },
  {
   "cell_type": "code",
   "execution_count": null,
   "metadata": {
    "colab": {},
    "colab_type": "code",
    "id": "Y0hGGWLSYSqX"
   },
   "outputs": [],
   "source": [
    "plt.title('Plot of sine and cosine')"
   ]
  },
  {
   "cell_type": "code",
   "execution_count": null,
   "metadata": {
    "colab": {},
    "colab_type": "code",
    "id": "xZbWmAuCYSqc"
   },
   "outputs": [],
   "source": [
    "plt.savefig('./sine_and_cosine.png', dpi = 100)"
   ]
  },
  {
   "cell_type": "code",
   "execution_count": null,
   "metadata": {
    "colab": {},
    "colab_type": "code",
    "id": "hWfRi7FpYSqf"
   },
   "outputs": [],
   "source": [
    "%ls"
   ]
  },
  {
   "cell_type": "markdown",
   "metadata": {},
   "source": [
    "* The `%ls` magic command lists the contents of the current directory in a way that is platform independent."
   ]
  },
  {
   "cell_type": "markdown",
   "metadata": {
    "colab_type": "text",
    "id": "N_k0kzqpYSqj"
   },
   "source": [
    "### Close the Plot"
   ]
  },
  {
   "cell_type": "markdown",
   "metadata": {
    "colab_type": "text",
    "id": "rSShDa6-YSqm"
   },
   "source": [
    "## Second Plot All at Once\n",
    "Keep the same X, S (sine), C (cosine) values for plotting"
   ]
  },
  {
   "cell_type": "code",
   "execution_count": null,
   "metadata": {
    "colab": {},
    "colab_type": "code",
    "id": "0D1v8_SUYSqw"
   },
   "outputs": [],
   "source": [
    "fig = plt.figure(figsize = (10, 6), dpi = 100)"
   ]
  },
  {
   "cell_type": "code",
   "execution_count": null,
   "metadata": {
    "colab": {},
    "colab_type": "code",
    "id": "4rujPY55YSq3"
   },
   "outputs": [],
   "source": [
    "plt.plot(X, C, color = 'blue', linewidth = 1.0, linestyle = '-', label = 'Cosine')\n",
    "plt.plot(X, S, color = 'red', linewidth = 1.0, linestyle = '-', label = 'Sine')"
   ]
  },
  {
   "cell_type": "code",
   "execution_count": null,
   "metadata": {
    "colab": {},
    "colab_type": "code",
    "id": "aZcWVMJNYSrA"
   },
   "outputs": [],
   "source": [
    "plt.xlim(X.min() * 1.1, X.max() * 1.1)\n",
    "plt.ylim(C.min() * 1.1, C.max() * 1.1)"
   ]
  },
  {
   "cell_type": "code",
   "execution_count": null,
   "metadata": {
    "colab": {},
    "colab_type": "code",
    "id": "OU-Pf3afYSrE"
   },
   "outputs": [],
   "source": [
    "plt.xticks( [-np.pi, -np.pi/2, 0, np.pi/2, np.pi])\n",
    "plt.yticks( [-1, 0, +1])"
   ]
  },
  {
   "cell_type": "code",
   "execution_count": null,
   "metadata": {
    "colab": {},
    "colab_type": "code",
    "id": "bZHiJk2cYSrJ"
   },
   "outputs": [],
   "source": [
    "plt.xticks([-np.pi, -np.pi/2, 0, np.pi/2, np.pi],\n",
    "          [r'$-\\pi$', r'$-\\pi/2$', r'$0$', r'$+\\pi/2$', r'$+\\pi$'])\n",
    "plt.yticks([-1, 0, +1], [r'$-1$', r'$0$', r'$+1$'])"
   ]
  },
  {
   "cell_type": "markdown",
   "metadata": {},
   "source": [
    "* Notice the use of Mathtext to render the $\\pi$ symbol. Matplotlib supports a subset of the TeX markup language directly in raw strings (`r'...'`). TeX expressions should be enclose in dollar signs `$...$`. It can also support the use of an external renderer like LaTeX."
   ]
  },
  {
   "cell_type": "code",
   "execution_count": null,
   "metadata": {
    "colab": {},
    "colab_type": "code",
    "id": "KYUhrFKqYSrO",
    "scrolled": false
   },
   "outputs": [],
   "source": [
    "plt.legend(loc = 'upper left', frameon = False)"
   ]
  },
  {
   "cell_type": "markdown",
   "metadata": {
    "colab_type": "text",
    "id": "vK0_y1xVYSrR"
   },
   "source": [
    "###  Close the Plot"
   ]
  },
  {
   "cell_type": "markdown",
   "metadata": {
    "colab_type": "text",
    "id": "BzAFRFpRYSrS"
   },
   "source": [
    "## Figures and Subplots\n",
    "Again, X, S, and C will be reused."
   ]
  },
  {
   "cell_type": "markdown",
   "metadata": {
    "colab_type": "text",
    "id": "tTr6qxUXYSrT"
   },
   "source": [
    "### Figure\n",
    "The figure is the canvas the plots are drawn on.\n",
    "\n",
    "```python\n",
    "  plt.figure(num = 1, figsize = (width, height), dpi = 100, frameon = True)\n",
    "```\n",
    "`facecolor` and `edgecolor` can also be specified."
   ]
  },
  {
   "cell_type": "markdown",
   "metadata": {
    "colab_type": "text",
    "id": "SeJsO7BVYSrU"
   },
   "source": [
    "### Subplot\n",
    "With subplot you can specify plots in a regular grid.\n",
    "```python\n",
    "  plt.subplot(row_count, column_count, plot_number)\n",
    "```\n",
    "or\n",
    "```python\n",
    "  plt.subplot(rcp)\n",
    "```\n",
    "where `rcp` is a three-digit number having digits corresponding to `row_count`, `column_count` and `plot_number`.\n",
    "\n",
    "See below:"
   ]
  },
  {
   "cell_type": "markdown",
   "metadata": {
    "colab_type": "text",
    "id": "Iy6E_WOAYSrU"
   },
   "source": [
    "<img src=\"https://github.com/roitraining/PythonML/blob/master/Ch05-Matplotlib/Images/211.png?raw=1\">\n",
    "\n",
    "<img src=\"https://github.com/roitraining/PythonML/blob/master/Ch05-Matplotlib/Images/121.png?raw=1\">"
   ]
  },
  {
   "cell_type": "markdown",
   "metadata": {
    "colab_type": "text",
    "id": "8WJYU3u_YSrV"
   },
   "source": [
    "### Two subplots"
   ]
  },
  {
   "cell_type": "code",
   "execution_count": null,
   "metadata": {
    "colab": {},
    "colab_type": "code",
    "id": "bbp34BTBYSrW"
   },
   "outputs": [],
   "source": [
    "plt.figure(figsize = (5, 10), dpi = 100)\n",
    "plt.subplot(2, 1, 1)\n",
    "plt.plot(X, S, color = 'red', linewidth = 1.0, linestyle = '-', label = 'Sine')\n",
    "plt.xlim(X.min() * 1.1, X.max() * 1.1)\n",
    "plt.ylim(C.min() * 1.1, C.max() * 1.1)\n",
    "plt.xticks([-np.pi, -np.pi/2, 0, np.pi/2, np.pi],\n",
    "          [r'$-\\pi$', r'$-\\pi/2$', r'$0$', r'$+\\pi/2$', r'$+\\pi$'])\n",
    "plt.yticks([-1, 0, +1], [r'$-1$', r'$0$', r'$+1$'])\n",
    "plt.legend(loc = 'upper left', frameon = False)\n",
    "plt.title('Sine Plot')"
   ]
  },
  {
   "cell_type": "code",
   "execution_count": null,
   "metadata": {
    "colab": {},
    "colab_type": "code",
    "id": "YocbZBKCYSrY"
   },
   "outputs": [],
   "source": [
    "plt.subplot(2, 1, 2)\n",
    "plt.plot(X, C, color = 'blue', linewidth = 1.0, linestyle = '-', label = 'Cosine')\n",
    "plt.xlim(X.min() * 1.1, X.max() * 1.1)\n",
    "plt.ylim(C.min() * 1.1, C.max() * 1.1)\n",
    "plt.xticks([-np.pi, -np.pi/2, 0, np.pi/2, np.pi],\n",
    "          [r'$-\\pi$', r'$-\\pi/2$', r'$0$', r'$+\\pi/2$', r'$+\\pi$'])\n",
    "plt.yticks([-1, 0, +1], [r'$-1$', r'$0$', r'$+1$'])\n",
    "plt.legend(loc = 'upper left', frameon = False)\n",
    "plt.title('Cosine Plot')\n",
    "plt.subplots_adjust(hspace = 0.3)"
   ]
  },
  {
   "cell_type": "markdown",
   "metadata": {
    "colab_type": "text",
    "id": "RiCvkPtPYSrb"
   },
   "source": [
    "# End of notebook"
   ]
  }
 ],
 "metadata": {
  "colab": {
   "include_colab_link": true,
   "name": "05-01-Plotting-pyplot.ipynb",
   "provenance": []
  },
  "kernelspec": {
   "display_name": "Python 3 (ipykernel)",
   "language": "python",
   "name": "python3"
  },
  "language_info": {
   "codemirror_mode": {
    "name": "ipython",
    "version": 3
   },
   "file_extension": ".py",
   "mimetype": "text/x-python",
   "name": "python",
   "nbconvert_exporter": "python",
   "pygments_lexer": "ipython3",
   "version": "3.8.11"
  }
 },
 "nbformat": 4,
 "nbformat_minor": 1
}
