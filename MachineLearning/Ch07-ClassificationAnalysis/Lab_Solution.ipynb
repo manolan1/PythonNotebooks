{
 "cells": [
  {
   "cell_type": "markdown",
   "metadata": {},
   "source": [
    "<a href=\"https://colab.research.google.com/github/manolan1/PythonNotebooks/blob/main/MachineLearning\\Ch07-ClassificationAnalysis\\Lab_Solution.ipynb\" target=\"_parent\"><img src=\"https://colab.research.google.com/assets/colab-badge.svg\" alt=\"Open In Colab\"/></a>"
   ]
  },
  {
   "cell_type": "markdown",
   "metadata": {
    "colab_type": "text",
    "id": "SedU4KsYeWS-"
   },
   "source": [
    "Import the packages we will need."
   ]
  },
  {
   "cell_type": "code",
   "execution_count": null,
   "metadata": {
    "colab": {},
    "colab_type": "code",
    "id": "kcyghLvUeWTB"
   },
   "outputs": [],
   "source": [
    "import pandas as pd\n",
    "import numpy as np\n",
    "from pandas import DataFrame, Series\n",
    "import sklearn\n",
    "import sklearn.datasets\n",
    "from matplotlib import pyplot as plt"
   ]
  },
  {
   "cell_type": "markdown",
   "metadata": {
    "colab_type": "text",
    "id": "MLP06h0ieWTJ"
   },
   "source": [
    "* Load and explore the cancer dataset\n",
    "* Take a look at the cancer dataset, and you'll see it's a dictionary\n",
    "* Get a list of the keys and you'll see one has the independent variables, the other has the dependent value you want to predict, yet another has the feature names\n",
    "* Extract the independent features and turn it into a DataFrame with properly named columns\n",
    "* Extract the dependent target and turn it into a Series"
   ]
  },
  {
   "cell_type": "code",
   "execution_count": null,
   "metadata": {
    "colab": {},
    "colab_type": "code",
    "id": "9srI8NRseWTK",
    "outputId": "796d2e59-9e8a-4456-bb13-ec9708fbedf6"
   },
   "outputs": [],
   "source": [
    "cancer= sklearn.datasets.load_breast_cancer()\n",
    "print (cancer)\n",
    "print (cancer.keys())\n",
    "print (cancer.feature_names)\n",
    "\n",
    "#grab the data and target and turn them into a DataFrame and Series\n",
    "cancerX = DataFrame(cancer.data, columns = cancer.feature_names)\n",
    "cancerY = Series(cancer.target)"
   ]
  },
  {
   "cell_type": "markdown",
   "metadata": {
    "colab": {},
    "colab_type": "code",
    "id": "YUuOU2YkeWTQ"
   },
   "source": [
    "Explore the descriptive statistics on the features DataFrame by using the describe method, \n",
    "it has a parameter to describe all the columns at once"
   ]
  },
  {
   "cell_type": "code",
   "execution_count": null,
   "metadata": {
    "colab": {},
    "colab_type": "code",
    "id": "7jGfTEQveWTV",
    "outputId": "683305c8-d57e-4477-d6de-ae707ceea15d"
   },
   "outputs": [],
   "source": [
    "desc = cancerX.describe(include = 'all')\n",
    "print (desc)\n",
    "columns = cancerX.columns"
   ]
  },
  {
   "cell_type": "markdown",
   "metadata": {
    "colab": {},
    "colab_type": "code",
    "id": "sllAnp6JeWTY"
   },
   "source": [
    "Import the sklearn function to separate the datasets into training and testing sets for the X & Y values"
   ]
  },
  {
   "cell_type": "code",
   "execution_count": null,
   "metadata": {
    "colab": {},
    "colab_type": "code",
    "id": "9qLva_TLeWTc"
   },
   "outputs": [],
   "source": [
    "# set up a classification model\n",
    "from sklearn.model_selection import train_test_split\n",
    "trainX, testX, trainY, testY = train_test_split(cancerX, cancerY, train_size = .8)"
   ]
  },
  {
   "cell_type": "markdown",
   "metadata": {
    "colab_type": "text",
    "id": "mCUHDKYgeWTg"
   },
   "source": [
    "* Import the naive bayes classifier from sklearn and \n",
    "train it using the training X & Y sets\n",
    "* Then generate the predictions and compare them to the actual targets by generating a confusion matrix"
   ]
  },
  {
   "cell_type": "code",
   "execution_count": null,
   "metadata": {
    "colab": {},
    "colab_type": "code",
    "id": "H9qY6n-meWTh",
    "outputId": "fabd98b3-323c-44a4-e951-457e5baac5f2"
   },
   "outputs": [],
   "source": [
    "from sklearn.naive_bayes import GaussianNB\n",
    "modelNB = GaussianNB()\n",
    "modelNB.fit(trainX, trainY)\n",
    "predY = modelNB.predict(testX)\n",
    "from sklearn.metrics import confusion_matrix\n",
    "cm = confusion_matrix(testY, predY)\n",
    "print (cm)"
   ]
  },
  {
   "cell_type": "markdown",
   "metadata": {
    "colab": {},
    "colab_type": "code",
    "id": "SzMsWLpfeWTl"
   },
   "source": [
    "# End of notebook"
   ]
  }
 ],
 "metadata": {
  "colab": {
   "include_colab_link": true,
   "name": "Lab_Solution.ipynb",
   "provenance": []
  },
  "kernelspec": {
   "display_name": "Python 3 (ipykernel)",
   "language": "python",
   "name": "python3"
  },
  "language_info": {
   "codemirror_mode": {
    "name": "ipython",
    "version": 3
   },
   "file_extension": ".py",
   "mimetype": "text/x-python",
   "name": "python",
   "nbconvert_exporter": "python",
   "pygments_lexer": "ipython3",
   "version": "3.8.11"
  }
 },
 "nbformat": 4,
 "nbformat_minor": 1
}
